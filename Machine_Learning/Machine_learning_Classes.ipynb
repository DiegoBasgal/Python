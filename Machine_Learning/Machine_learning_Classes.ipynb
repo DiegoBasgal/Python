{
  "nbformat": 4,
  "nbformat_minor": 0,
  "metadata": {
    "colab": {
      "name": "Aulas_Aprendizagem_Maquina.ipynb",
      "provenance": [],
      "collapsed_sections": [
        "IPkkhMi17280",
        "vRvUUMwbfULy",
        "4tBwWullAWRI",
        "egOtDJo4AbuB"
      ]
    },
    "kernelspec": {
      "name": "python3",
      "display_name": "Python 3"
    },
    "language_info": {
      "name": "python"
    }
  },
  "cells": [
    {
      "cell_type": "markdown",
      "source": [
        "# **Aprendizagem de Máquina**"
      ],
      "metadata": {
        "id": "0vXKkM4-7tbx"
      }
    },
    {
      "cell_type": "markdown",
      "source": [
        "## **IMPORTS**"
      ],
      "metadata": {
        "id": "Aw4Su53dnYhw"
      }
    },
    {
      "cell_type": "code",
      "source": [
        "# Imports\n",
        "import numpy as np\n",
        "import pandas as pd\n",
        "import seaborn as sns\n",
        "import matplotlib.pyplot as plt\n",
        "from sklearn import model_selection\n",
        "from sklearn.datasets import load_digits\n",
        "from sklearn.datasets import load_breast_cancer\n",
        "from sklearn.tree import DecisionTreeClassifier\n",
        "from sklearn.neighbors import KNeighborsClassifier\n",
        "from sklearn.model_selection import cross_val_score\n",
        "from sklearn.model_selection import train_test_split\n",
        "from sklearn.metrics import confusion_matrix, precision_score, recall_score, f1_score"
      ],
      "metadata": {
        "id": "TOfWU_8onVev"
      },
      "execution_count": 12,
      "outputs": []
    },
    {
      "cell_type": "markdown",
      "source": [
        "## **Aula 1:** Introdução"
      ],
      "metadata": {
        "id": "IPkkhMi17280"
      }
    },
    {
      "cell_type": "code",
      "source": [
        "# Carregando a base de dados\n",
        "X, y = load_digits(return_X_y=True)\n",
        "\n",
        "print(X.shape)\n",
        "print(y.shape)"
      ],
      "metadata": {
        "colab": {
          "base_uri": "https://localhost:8080/"
        },
        "id": "1Ph_3-1K9xs9",
        "outputId": "9ba316c0-885a-48f7-8b90-1db87f652560"
      },
      "execution_count": null,
      "outputs": [
        {
          "output_type": "stream",
          "name": "stdout",
          "text": [
            "(1797, 64)\n",
            "(1797,)\n"
          ]
        }
      ]
    },
    {
      "cell_type": "code",
      "source": [
        "# Treinamento de avaliação via Holdout\n",
        "X_train, X_test, y_train, y_test = train_test_split(X, y, test_size=.3, random_state=42, stratify=y) # stratify serve para respeitar a ordem de classes\n",
        "\n",
        "# Declarando o modelo (classificador)\n",
        "clf = KNeighborsClassifier(n_neighbors=3)\n",
        "\n",
        "# Treinamento do modelo\n",
        "clf = clf.fit(X_train, y_train) # Entrar apenas com parametros de treinamento\n",
        "\n",
        "# Avaliação usando a base de teste\n",
        "score = clf.score(X_test, y_test) # Entrar apenas com parametros de teste\n",
        "\n",
        "# Predição de modelos\n",
        "predicted = clf.predict(X_test) # Entrar apenas com parametros de teste\n",
        "\n",
        "# Calcula a matriz de confusão\n",
        "matrix = confusion_matrix(y_test, predicted)\n",
        "\n",
        "print(\"Accuracy = %.5f\" %score)"
      ],
      "metadata": {
        "colab": {
          "base_uri": "https://localhost:8080/"
        },
        "id": "2Y79YkZz_nX3",
        "outputId": "c0e3c989-cf7c-455d-af26-ea90bc7e4e89"
      },
      "execution_count": null,
      "outputs": [
        {
          "output_type": "stream",
          "name": "stdout",
          "text": [
            "Accuracy = 0.98704\n"
          ]
        }
      ]
    },
    {
      "cell_type": "code",
      "source": [
        "ax = sns.heatmap(matrix, annot=True, cmap='Blues')\n",
        "\n",
        "ax.set_title('Matriz de confusão\\n');\n",
        "ax.set_xlabel('\\nCategoria Predicted')\n",
        "ax.set_ylabel('Categoria Atual');\n",
        "\n",
        "plt.show()"
      ],
      "metadata": {
        "colab": {
          "base_uri": "https://localhost:8080/",
          "height": 322
        },
        "id": "L2qMgS9FBBw2",
        "outputId": "20f54d3f-8b7d-4d3a-aea8-e29517354faf"
      },
      "execution_count": null,
      "outputs": [
        {
          "output_type": "display_data",
          "data": {
            "text/plain": [
              "<Figure size 432x288 with 2 Axes>"
            ],
            "image/png": "[encoded data removed]"
          },
          "metadata": {
            "needs_background": "light"
          }
        }
      ]
    },
    {
      "cell_type": "markdown",
      "source": [
        "## **Aula 2:** KNN (K-Nearest Neighbors)\n"
      ],
      "metadata": {
        "id": "vRvUUMwbfULy"
      }
    },
    {
      "cell_type": "markdown",
      "source": [
        "### Holdout"
      ],
      "metadata": {
        "id": "4tBwWullAWRI"
      }
    },
    {
      "cell_type": "code",
      "source": [
        "X, y = load_digits(return_X_y=True)\n",
        "print(\"Formato de X: \", X.shape)\n",
        "print(\"Formato de y: \", y.shape)"
      ],
      "metadata": {
        "colab": {
          "base_uri": "https://localhost:8080/"
        },
        "id": "fFi10pWAfWDG",
        "outputId": "7f9218d3-70fc-46a8-e562-40a7330c6a54"
      },
      "execution_count": null,
      "outputs": [
        {
          "output_type": "stream",
          "name": "stdout",
          "text": [
            "Formato de X:  (1797, 64)\n",
            "Formato de y:  (1797,)\n"
          ]
        }
      ]
    },
    {
      "cell_type": "code",
      "source": [
        "X_train, X_test, y_train, y_test = train_test_split(X, y, test_size=0.3, random_state=42, stratify=y)\n",
        "\n",
        "print(\"Formato de X_train: \", X_train.shape)\n",
        "print(\"Formato de y_train: \", y_train.shape)\n",
        "print(\"Formato de X_test: \", X_test.shape)\n",
        "print(\"Formato de y_test: \", y_test.shape)"
      ],
      "metadata": {
        "colab": {
          "base_uri": "https://localhost:8080/"
        },
        "id": "Aq6jLUq99wfX",
        "outputId": "932c5c1c-1cbf-4640-c659-62cf984e6ae3"
      },
      "execution_count": null,
      "outputs": [
        {
          "output_type": "stream",
          "name": "stdout",
          "text": [
            "Formato de X_train:  (1257, 64)\n",
            "Formato de y_train:  (1257,)\n",
            "Formato de X_test:  (540, 64)\n",
            "Formato de y_test:  (540,)\n"
          ]
        }
      ]
    },
    {
      "cell_type": "code",
      "source": [
        "knn_hold = KNeighborsClassifier(n_neighbors=3, weights='uniform', \n",
        "                           algorithm='ball_tree', leaf_size=30, metric_params=None, n_jobs=None)\n",
        "\n",
        "knn_hold = knn_hold.fit(X_train, y_train)"
      ],
      "metadata": {
        "id": "VsygVq23-QE5"
      },
      "execution_count": null,
      "outputs": []
    },
    {
      "cell_type": "code",
      "source": [
        "y_pred=knn_hold.predict(X_test)\n",
        "\n",
        "predicted_proba=knn_hold.predict_proba(X_test)\n",
        "\n",
        "score=knn_hold.score(X_test, y_test)\n",
        "print(\"Accuracy = %.3f \" % (score*100))\n",
        "\n",
        "precision=precision_score(y_test, y_pred, average='weighted')\n",
        "print(\"Precision = %.3f \" % precision)\n",
        "\n",
        "recall=recall_score(y_test, y_pred, average='weighted')\n",
        "print(\"Recall = %.3f \" % recall)\n",
        "\n",
        "f1=f1_score(y_test, y_pred, average='weighted')\n",
        "print(\"F1 = %.3f \" % f1)\n",
        "\n",
        "print(\"Primeira instância na base de teste foi considerada como da classe: %d\" % y_pred[0])\n",
        "\n",
        "print(\"Probabilidade de cada classe para a primeira instância: \", predicted_proba[0])\n",
        "\n",
        "knn_hold_matrix = confusion_matrix(y_test, y_pred)\n",
        "\n",
        "ax = sns.heatmap(knn_hold_matrix, annot=True, cmap='Blues')\n",
        "\n",
        "ax.set_title('Matriz de confusão\\n');\n",
        "ax.set_xlabel('\\nCategoria Predicted')\n",
        "ax.set_ylabel('Categoria Atual');\n",
        "\n",
        "plt.show()"
      ],
      "metadata": {
        "colab": {
          "base_uri": "https://localhost:8080/",
          "height": 426
        },
        "id": "NGrgs0fF-4Ff",
        "outputId": "457fedf1-f8d9-4f90-86d7-90548ede57e1"
      },
      "execution_count": null,
      "outputs": [
        {
          "output_type": "stream",
          "name": "stdout",
          "text": [
            "Accuracy = 98.704 \n",
            "Precision = 0.987 \n",
            "Recall = 0.987 \n",
            "F1 = 0.987 \n",
            "Primeira instância na base de teste foi considerada como da classe: 1\n",
            "Probabilidade de cada classe para a primeira instância:  [0. 1. 0. 0. 0. 0. 0. 0. 0. 0.]\n"
          ]
        },
        {
          "output_type": "display_data",
          "data": {
            "text/plain": [
              "<Figure size 432x288 with 2 Axes>"
            ],
            "image/png": "[encoded data removed]"
          },
          "metadata": {
            "needs_background": "light"
          }
        }
      ]
    },
    {
      "cell_type": "markdown",
      "source": [
        "### T-Fold Cross Validation"
      ],
      "metadata": {
        "id": "egOtDJo4AbuB"
      }
    },
    {
      "cell_type": "code",
      "source": [
        "X, y = load_digits(return_X_y=True)\n",
        "print(\"Formato de X: \", X.shape)\n",
        "print(\"Formato de y: \", y.shape)"
      ],
      "metadata": {
        "colab": {
          "base_uri": "https://localhost:8080/"
        },
        "id": "ZQt7JHd1Afx7",
        "outputId": "a1817f0a-4cd7-4d80-bf66-7c028f3325f9"
      },
      "execution_count": null,
      "outputs": [
        {
          "output_type": "stream",
          "name": "stdout",
          "text": [
            "Formato de X:  (1797, 64)\n",
            "Formato de y:  (1797,)\n"
          ]
        }
      ]
    },
    {
      "cell_type": "code",
      "source": [
        "knn_tfold = KNeighborsClassifier(n_neighbors=5, weights='uniform', \n",
        "                           algorithm='ball_tree', leaf_size=30, metric_params=None, n_jobs=None)\n",
        "\n",
        "T=10 # número de pastas ou folds\n",
        "result = model_selection.cross_val_score(knn_tfold, X, y, cv=T)"
      ],
      "metadata": {
        "id": "BDDkUfmdAtNT"
      },
      "execution_count": null,
      "outputs": []
    },
    {
      "cell_type": "code",
      "source": [
        "print(\"\\nCross Validation Results %d folds:\" % T)\n",
        "print(\"Mean Accuracy: %.5f\" % result.mean())\n",
        "print(\"Mean Std: %.5f\" % result.std())\n",
        "\n",
        "y_pred = model_selection.cross_val_predict(knn_tfold, X, y, cv=T)\n",
        "\n",
        "predicted_proba=model_selection.cross_val_predict(knn_tfold, X, y, cv=T, method='predict_proba')\n",
        "\n",
        "precision=precision_score(y, y_pred, average='weighted')\n",
        "print(\"Precision = %.3f \" % precision)\n",
        "\n",
        "recall=recall_score(y, y_pred, average='weighted')\n",
        "print(\"Recall = %.3f \" % recall)\n",
        "\n",
        "f1=f1_score(y, y_pred, average='weighted')\n",
        "print(\"F1 = %.3f \" % f1)\n",
        "\n",
        "print(\"Primeira instância na base de teste foi considerada como da classe: %d\" % y_pred[0])\n",
        "\n",
        "print(\"Probabilidade de cada classe para a primeira instância: \", predicted_proba[0])\n",
        "\n",
        "knn_tfold_matrix = confusion_matrix(y, y_pred)\n",
        "\n",
        "ax = sns.heatmap(knn_tfold_matrix, annot=True, cmap='Blues')\n",
        "\n",
        "ax.set_title('Matriz de confusão\\n');\n",
        "ax.set_xlabel('\\nCategoria Predicted')\n",
        "ax.set_ylabel('Categoria Atual');\n",
        "\n",
        "from joblib import dump, load\n",
        "with open(\"KNN.mod\", 'wb') as fo:  \n",
        "    dump(knn_tfold, fo)"
      ],
      "metadata": {
        "colab": {
          "base_uri": "https://localhost:8080/",
          "height": 478
        },
        "id": "62USSqtdA_9P",
        "outputId": "0b82345d-512f-4cb0-8f9a-e59f15bd897d"
      },
      "execution_count": null,
      "outputs": [
        {
          "output_type": "stream",
          "name": "stdout",
          "text": [
            "\n",
            "Cross Validation Results 10 folds:\n",
            "Mean Accuracy: 0.97107\n",
            "Mean Std: 0.01717\n",
            "Precision = 0.972 \n",
            "Recall = 0.971 \n",
            "F1 = 0.971 \n",
            "Primeira instância na base de teste foi considerada como da classe: 0\n",
            "Probabilidade de cada classe para a primeira instância:  [1. 0. 0. 0. 0. 0. 0. 0. 0. 0.]\n"
          ]
        },
        {
          "output_type": "display_data",
          "data": {
            "text/plain": [
              "<Figure size 432x288 with 2 Axes>"
            ],
            "image/png": "[encoded data removed]"
          },
          "metadata": {
            "needs_background": "light"
          }
        }
      ]
    },
    {
      "cell_type": "markdown",
      "source": [
        "## **Aula 3:** Naive Bayes"
      ],
      "metadata": {
        "id": "8njiUT6tlyNc"
      }
    },
    {
      "cell_type": "markdown",
      "source": [
        "## **Aula 4:** Aprendizagem Supervisionada"
      ],
      "metadata": {
        "id": "9-kH3I-9lfuq"
      }
    },
    {
      "cell_type": "markdown",
      "source": [
        "### **Avaliação Formativa**"
      ],
      "metadata": {
        "id": "zF8hQeLgm_tI"
      }
    },
    {
      "cell_type": "markdown",
      "source": [
        "#### Questão 1"
      ],
      "metadata": {
        "id": "C4sxk1z8sIIL"
      }
    },
    {
      "cell_type": "code",
      "source": [
        "# import breast cancer database"
      ],
      "metadata": {
        "id": "CFt6oIlpnDR9"
      },
      "execution_count": 5,
      "outputs": []
    },
    {
      "cell_type": "code",
      "source": [
        "X, y = load_breast_cancer(return_X_y=True)\n",
        "print(\"Formato de X: \", X.shape)\n",
        "print(\"Formato de y: \", y.shape)"
      ],
      "metadata": {
        "colab": {
          "base_uri": "https://localhost:8080/"
        },
        "id": "RLWFBJjJnSAa",
        "outputId": "342c120d-81b2-485e-9ccc-dd2f2d7f36cf"
      },
      "execution_count": 13,
      "outputs": [
        {
          "output_type": "stream",
          "name": "stdout",
          "text": [
            "Formato de X:  (569, 30)\n",
            "Formato de y:  (569,)\n"
          ]
        }
      ]
    },
    {
      "cell_type": "code",
      "source": [
        "# Decision Tree Classifier\n",
        "clf = DecisionTreeClassifier(criterion='gini', splitter='best', \n",
        "                             max_depth=None, min_samples_split=2, \n",
        "                             min_samples_leaf=1, min_weight_fraction_leaf=0.0,\n",
        "                             max_features=None, random_state=None, \n",
        "                             max_leaf_nodes=None, min_impurity_decrease=0.0, \n",
        "                             class_weight=None, ccp_alpha=0.0)\n",
        "\n",
        "t = 10\n",
        "result = model_selection.cross_val_score(clf, X, y, cv=T)"
      ],
      "metadata": {
        "id": "15ARbAFArDed"
      },
      "execution_count": null,
      "outputs": []
    },
    {
      "cell_type": "code",
      "source": [
        "print(\"\\nCross Validation Results %d folds:\" % T)\n",
        "print(\"Mean Accuracy: %.5f\" % result.mean())\n",
        "print(\"Mean Std: %.5f\" % result.std())\n",
        "\n",
        "y_pred = model_selection.cross_val_predict(clf, X, y, cv=T)\n",
        "\n",
        "predicted_proba=model_selection.cross_val_predict(clf, X, y, cv=T, method='predict_proba')\n",
        "\n",
        "precision=precision_score(y, y_pred, average='weighted')\n",
        "print(\"Precision = %.3f \" % precision)\n",
        "\n",
        "recall=recall_score(y, y_pred, average='weighted')\n",
        "print(\"Recall = %.3f \" % recall)\n",
        "\n",
        "f1=f1_score(y, y_pred, average='weighted')\n",
        "print(\"F1 = %.3f \" % f1)\n",
        "\n",
        "print(\"Primeira instância na base de teste foi considerada como da classe: %d\" % y_pred[0])\n",
        "\n",
        "print(\"Probabilidade de cada classe para a primeira instância: \", predicted_proba[0])\n",
        "\n",
        "print(\"Matriz de Confusão:\")\n",
        "matrix = confusion_matrix(y, y_pred)\n",
        "print(matrix)\n",
        "\n",
        "from joblib import dump, load\n",
        "with open(\"KNN.mod\", 'wb') as fo:  \n",
        "    dump(clf, fo)"
      ],
      "metadata": {
        "id": "igwP4cwJrJYH"
      },
      "execution_count": null,
      "outputs": []
    }
  ]
}