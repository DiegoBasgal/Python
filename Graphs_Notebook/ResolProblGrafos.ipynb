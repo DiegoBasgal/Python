{
 "cells": [
  {
   "cell_type": "markdown",
   "metadata": {
    "toc": true
   },
   "source": [
    "<h1>Table of Contents<span class=\"tocSkip\"></span></h1>\n",
    "<div class=\"toc\"><ul class=\"toc-item\"><li><span><a href=\"#Representação-por-Matriz-de-Adjacências\" data-toc-modified-id=\"Representação-por-Matriz-de-Adjacências-1\"><span class=\"toc-item-num\">1&nbsp;&nbsp;</span>Representação por Matriz de Adjacências</a></span></li><li><span><a href=\"#Representação-por-Matriz-Esparsa\" data-toc-modified-id=\"Representação-por-Matriz-Esparsa-2\"><span class=\"toc-item-num\">2&nbsp;&nbsp;</span>Representação por Matriz Esparsa</a></span></li><li><span><a href=\"#Minitrabalho-1\" data-toc-modified-id=\"Minitrabalho-1-3\"><span class=\"toc-item-num\">3&nbsp;&nbsp;</span>Minitrabalho 1</a></span></li><li><span><a href=\"#Isomorfismo-de-Grafos\" data-toc-modified-id=\"Isomorfismo-de-Grafos-4\"><span class=\"toc-item-num\">4&nbsp;&nbsp;</span>Isomorfismo de Grafos</a></span></li><li><span><a href=\"#Multiplicação-de-Matrizes\" data-toc-modified-id=\"Multiplicação-de-Matrizes-5\"><span class=\"toc-item-num\">5&nbsp;&nbsp;</span>Multiplicação de Matrizes</a></span></li><li><span><a href=\"#Alcançabilidade\" data-toc-modified-id=\"Alcançabilidade-6\"><span class=\"toc-item-num\">6&nbsp;&nbsp;</span>Alcançabilidade</a></span></li><li><span><a href=\"#Matrizes-Adjacência-e-Alcançabilidade-em-um-Grafo\" data-toc-modified-id=\"Matrizes-Adjacência-e-Alcançabilidade-em-um-Grafo-7\"><span class=\"toc-item-num\">7&nbsp;&nbsp;</span>Matrizes Adjacência e Alcançabilidade em um Grafo</a></span></li><li><span><a href=\"#Teorema\" data-toc-modified-id=\"Teorema-8\"><span class=\"toc-item-num\">8&nbsp;&nbsp;</span>Teorema</a></span></li><li><span><a href=\"#Matriz-de-Alcançabilidade-de-um-Grafo\" data-toc-modified-id=\"Matriz-de-Alcançabilidade-de-um-Grafo-9\"><span class=\"toc-item-num\">9&nbsp;&nbsp;</span>Matriz de Alcançabilidade de um Grafo</a></span></li><li><span><a href=\"#Algoritmo-de-Warshall\" data-toc-modified-id=\"Algoritmo-de-Warshall-10\"><span class=\"toc-item-num\">10&nbsp;&nbsp;</span>Algoritmo de Warshall</a></span></li></ul></div>"
   ]
  },
  {
   "cell_type": "markdown",
   "metadata": {},
   "source": [
    "# Resolução de Problemas com Grafos"
   ]
  },
  {
   "cell_type": "markdown",
   "metadata": {},
   "source": [
    "# Aula 1"
   ]
  },
  {
   "cell_type": "markdown",
   "metadata": {},
   "source": [
    "1. Apresentação da disciplina\n",
    "  - Ideia da disciplina\n",
    "  - Linguagens: Python, Java\n",
    "1. Apresentação do Plano de Ensino\n",
    "1. Conceito de Grafo: ideia, exemplos\n"
   ]
  },
  {
   "cell_type": "markdown",
   "metadata": {},
   "source": [
    "1. Conceito de Grafo\n",
    "  - $G = \\langle V, A \\rangle $\n",
    "  - Representação como diagrama\n",
    "  - Representação como par ordenado de conjuntos\n",
    "  - Arestas e vértices rotulados\n",
    "    - Arestas e vértices têm um rótulo único que os identifica\n",
    "  - Representação funcional\n",
    "  - Grafo, Árvore\n",
    "  - Grafo ponderado\n",
    "  - Grafo direcionado ou Digrafo\n",
    "    - As arestas de um *grafo direcionado* possuem uma *direção*\n",
    "    - O conjunto das arestas de um grafo direcionado correspondem ao conceito matemático de *relação*\n",
    "  - Vértices adjacentes\n",
    "    - Os vértices $u$ e $v$ são adjacentes se a aresta $\\langle u, v \\rangle$\n",
    "    - Antecessor e sucessor\n",
    "  - Vértice: Incidência\n",
    "      - Grau de entrada: número de arestas incidentes a um vértice\n",
    "      - Grau de um vértice: número de arestas incidentes a um vértice\n",
    "      - Grau de saída: número de arestas que partem de um vértice\n",
    "      - Laço, *loop*\n",
    "      - Sumidouro: o grau de saída do vértice é zero\n",
    "  - Caminho em um grafo\n",
    "    - Caminho de comprimento $k$\n",
    "      - Sequência de vértices $v_1, v_2, v_3, \\cdots, v_{k+1}$, tal que $v_i$ é adjacente a $v_{i+1}$, para $1 \\leq i < k$\n",
    "      - Ciclo: caminho de um vértice até ele mesmo.\n",
    "      - Grafo cíclico, grafo acíclico\n",
    "  - Representação de Grafo\n",
    "    - Matriz de Adjacência\n",
    "\n",
    "1. Trabalho em grupo para pesquisar conceitos acima:\n",
    "  - Conceito de grafo\n",
    "  - Grafo direcionado, ponderado, rotulado\n",
    "  - Vértices\n",
    "    - Grau de vértice, grau de entrada, grau de saída\n",
    "    - Sumidouro\n",
    "    - Laço/loop\n",
    "  - Caminho em grafo\n",
    "    - Conceito\n",
    "    - Definição de caminho, comprimento de caminho\n",
    "    - Grafo cíclico, acíclico\n",
    "    - Grafos e árvores"
   ]
  },
  {
   "cell_type": "markdown",
   "metadata": {},
   "source": [
    "# Aula 2"
   ]
  },
  {
   "cell_type": "markdown",
   "metadata": {},
   "source": [
    "**Definição de Grafo**\n",
    "\n",
    "Um grafo é uma tripla $(V, A, g)$ em que\n",
    "\n",
    "  - $V : $ um conjunto não vazio de vértices (nódulos)\n",
    "  - $A : $ um conjunto de arestas\n",
    "  - $g : $ uma função $g : A \\rightarrow V \\times V $, tal que\n",
    "    - $\\hspace{4.5em}$$g(a) \\mapsto \\langle v_{1}, v_{2} \\rangle$"
   ]
  },
  {
   "cell_type": "markdown",
   "metadata": {},
   "source": [
    "1. Exemplo: **Figura 5.3**, [JG] p 218.\n",
    "1. Exemplo: Propôr uma versão direcionada do grafo acima."
   ]
  },
  {
   "cell_type": "markdown",
   "metadata": {},
   "source": [
    "Segundo a definição acima, grafos podem ser representados computacionalmente por objetos da classe:\n",
    "\n",
    "`Classe Grafo`\n",
    "\n",
    "  $\\quad$ `vertices`: [Vertice]\n",
    "  \n",
    "  $\\quad$ `arestas`: [Aresta]"
   ]
  },
  {
   "cell_type": "markdown",
   "metadata": {},
   "source": [
    "Exercício:\n",
    "\n",
    "1. Representar o grafo direcionado da figura 5.26, [JG] p 232."
   ]
  },
  {
   "cell_type": "markdown",
   "metadata": {},
   "source": [
    "# Aula 3"
   ]
  },
  {
   "cell_type": "markdown",
   "metadata": {},
   "source": [
    "## Representação por Matriz de Adjacências"
   ]
  },
  {
   "cell_type": "markdown",
   "metadata": {},
   "source": [
    "Um grafo pode ser computacionalmente representado por meio de uma **matriz de adjacências**:\n",
    "\n",
    "1. Ordene os $n$ nódulos do grafo, segundo uma ordenação arbitrária: $v_1, v_2, v_3, \\cdots, v_n$;\n",
    "1. Crie uma matriz $A$ de dimensões $n \\times n$ em que a entrada $i$, $j$ contém o número de arestas existentes entre os vértices $v_i$ e $v_j$.\n",
    "\n",
    "Assim:\n",
    "$$A[i, j] = a_{i, j} = na$$\n",
    "em que $na$ é o número de arestas entre $v_i$ e $v_j$."
   ]
  },
  {
   "cell_type": "markdown",
   "metadata": {},
   "source": [
    "A representação por *matriz de adjacências* pode ser adaptada para representar a estrutura de um *grafo ponderado*, em que cada entrada $a_{i, j}$ da matriz contém o peso $p$ da aresta. \n",
    "\n",
    "Assim:\n",
    "$$A[i, j] = a_{i, j} = p$$\n",
    "em que $p$ é o peso da aresta entre $v_i$ e $v_j$."
   ]
  },
  {
   "cell_type": "markdown",
   "metadata": {},
   "source": [
    "**Exercícios**\n",
    "\n",
    "1. Represente, por escrito, o grafo da figura `Exercício 4`, [JG] p 236, por meio de uma **matriz de adjacências**.\n",
    "\n",
    "1. Represente computacionalmente, em linguagem de programação, o grafo do exercício anterior por meio de uma matriz de adjacências **contendo os pesos das arestas**."
   ]
  },
  {
   "cell_type": "markdown",
   "metadata": {},
   "source": [
    "## Representação por Matriz Esparsa"
   ]
  },
  {
   "cell_type": "markdown",
   "metadata": {},
   "source": [
    "A representação por *matriz de adjacências* aloca uma grande quantidade de memória no caso de grafos com grande quantidade de vértices e arestas. Para solucionar o problema, costuma-se utilizar *matrizes esparsas*, em que as arestas com origem em determinado vértice são implementadas por meio de listas encadeadas.\n",
    "\n",
    "A implementação da *matriz esparsa* é feita por meio de (a) um *array* de vértices e de (b) um array de *listas encadeadas* contendo as arestas de um vértice.\n",
    "\n",
    "Para a implementar matrizes esparsas, utilizaremos as classes a seguir:"
   ]
  },
  {
   "cell_type": "markdown",
   "metadata": {},
   "source": [
    "`class Vertice {`\n",
    "\n",
    "  $\\quad$ `info`: `String` `}` $\\quad$ # informação contida em um vértice, ex. `label`"
   ]
  },
  {
   "cell_type": "markdown",
   "metadata": {},
   "source": [
    "`class Aresta {`\n",
    "  $\\quad$ `peso`: `Int` `}` $\\quad$ # informação contida em uma aresta, ex. `peso`"
   ]
  },
  {
   "cell_type": "markdown",
   "metadata": {},
   "source": [
    "`class Grafo {`\n",
    "  \n",
    "  $\\quad$ `vertices`: `[Vertice]` $\\quad$ # array de vértices\n",
    "\n",
    "  $\\quad$ `arestas`: `[][]`  `}` $\\quad\\quad$ # matriz de adjacências: array de listas encadeadas de arestas"
   ]
  },
  {
   "cell_type": "markdown",
   "metadata": {},
   "source": [
    "## Minitrabalho 1"
   ]
  },
  {
   "cell_type": "markdown",
   "metadata": {},
   "source": [
    "Entrega: 20/08, pelo *Blackboard*.\n",
    "\n",
    "Equipe: Duplas\n",
    "\n",
    "**Implementação de Grafo**\n",
    "\n",
    "Crie uma representação computacional por **matriz esparsa** para grafos *direcionados*, *ponderados* e *rotulados*.\n",
    "\n",
    "A implementação deve criar uma classe `Grafo` segundo o paradigma da Orientação a objetos.\n",
    "\n",
    "Implemente as seguintes operações como métodos da classe `Grafo`:\n",
    "\n",
    "- cria_adjacencia(i, j, p)  $\\quad\\quad$ // cria uma adjacência (i, j) com peso p\n",
    "\n",
    "- remove_adjacencia(i, j)  $\\quad\\quad$ // remove a adjacência (i, j)\n",
    "\n",
    "- set_informacao(i, V: String)  $\\quad\\quad$ // atualiza a informação do vértice i com o valor V: String\n",
    "\n",
    "- adjacentes(i): [adj]  $\\quad\\quad$ // retorna o array de adjacentes do vértice i\n",
    "\n",
    "- imprime_grafo  $\\quad\\quad$ // imprime a matriz de adjacências do grafo"
   ]
  },
  {
   "cell_type": "markdown",
   "metadata": {},
   "source": [
    "# Aula 4"
   ]
  },
  {
   "cell_type": "markdown",
   "metadata": {},
   "source": [
    "## Isomorfismo de Grafos"
   ]
  },
  {
   "cell_type": "markdown",
   "metadata": {},
   "source": [
    "Recapitulando a definição de grafo como tripla:\n",
    "\n",
    "    Um grafo é uma tripla $(V, A, g)$ em que\n",
    "\n",
    "  - $V : $ um conjunto não vazio de vértices (nódulos)\n",
    "  - $A : $ um conjunto de arestas\n",
    "  - $g : $ uma função $g : A \\rightarrow V \\times V $, tal que\n",
    "    - $\\hspace{4.5em} $$g(a) \\mapsto \\langle v_{1}, v_{2} \\rangle $"
   ]
  },
  {
   "cell_type": "markdown",
   "metadata": {},
   "source": [
    "# Aula 5"
   ]
  },
  {
   "cell_type": "markdown",
   "metadata": {},
   "source": [
    "## Multiplicação de Matrizes"
   ]
  },
  {
   "cell_type": "markdown",
   "metadata": {},
   "source": [
    "1. Multiplicação de matrizes numéricas\n",
    "1. Multiplicação de matrizes boolenas"
   ]
  },
  {
   "cell_type": "markdown",
   "metadata": {},
   "source": [
    "## Alcançabilidade"
   ]
  },
  {
   "cell_type": "markdown",
   "metadata": {},
   "source": [
    "1. Vértice alcançável\n",
    "  - A relação de alcançabilidade é transitiva\n",
    "1. Fecho transitivo de um vértice $v$\n",
    "  - Conjunto de vértices alcançáveis a partir de $v$\n",
    "  - Pode-se definir por meio de um conjunto de pares $\\langle v_1, v_2 \\rangle$\n",
    "1. Fecho transitivo de um grafo\n",
    "  - Conjunto dos fechos transitivos de todos os vértices de um grafo"
   ]
  },
  {
   "cell_type": "markdown",
   "metadata": {},
   "source": [
    "## Matrizes Adjacência e Alcançabilidade em um Grafo"
   ]
  },
  {
   "cell_type": "markdown",
   "metadata": {},
   "source": [
    "Multiplicação de matrizes de adjacência e existência de caminhos entre vértices\n",
    "\n",
    "$$ A^{(m)}[i, j] = 1 $$\n",
    "\n",
    "existe um caminho de comprimento $m$ entre os vértices $v_i$ e $v_j$."
   ]
  },
  {
   "cell_type": "markdown",
   "metadata": {},
   "source": [
    "## Teorema"
   ]
  },
  {
   "cell_type": "markdown",
   "metadata": {},
   "source": [
    "Se $A$ é a matriz booleana de adjacências para um grafo direcionado $G$ com $n$ vértices e sem arestas paralelas,\n",
    "então $A^{(m)}[i, j] = 1 $ se, e somente se, houver um caminho de comprimento $m$ do vértice $v_i$ ao vértice $v_j$."
   ]
  },
  {
   "cell_type": "markdown",
   "metadata": {},
   "source": [
    "1. Exercício: caminhos de comprimento $n$ em um grafo."
   ]
  },
  {
   "cell_type": "markdown",
   "metadata": {},
   "source": [
    "## Matriz de Alcançabilidade de um Grafo"
   ]
  },
  {
   "cell_type": "markdown",
   "metadata": {},
   "source": [
    "Para um grafo de $n$ vértices\n",
    "$$ R = A \\lor A^{(2)} \\lor \\cdots \\lor A^{(n)} $$"
   ]
  },
  {
   "cell_type": "markdown",
   "metadata": {},
   "source": [
    "1. Exercício: matriz de alcançabilidade de um grafo"
   ]
  },
  {
   "cell_type": "markdown",
   "metadata": {},
   "source": [
    "## Algoritmo de Warshall"
   ]
  },
  {
   "cell_type": "markdown",
   "metadata": {},
   "source": [
    "O algoritmo está na p. 259 do livro texto."
   ]
  }
 ],
 "metadata": {
  "hide_input": false,
  "kernelspec": {
   "display_name": "Python 3",
   "language": "python",
   "name": "python3"
  },
  "language_info": {
   "codemirror_mode": {
    "name": "ipython",
    "version": 3
   },
   "file_extension": ".py",
   "mimetype": "text/x-python",
   "name": "python",
   "nbconvert_exporter": "python",
   "pygments_lexer": "ipython3",
   "version": "3.7.3"
  },
  "toc": {
   "base_numbering": 1,
   "nav_menu": {},
   "number_sections": true,
   "sideBar": true,
   "skip_h1_title": true,
   "title_cell": "Table of Contents",
   "title_sidebar": "Contents",
   "toc_cell": true,
   "toc_position": {
    "height": "calc(100% - 180px)",
    "left": "10px",
    "top": "150px",
    "width": "165px"
   },
   "toc_section_display": true,
   "toc_window_display": true
  }
 },
 "nbformat": 4,
 "nbformat_minor": 2
}
