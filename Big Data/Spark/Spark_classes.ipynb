{
  "nbformat": 4,
  "nbformat_minor": 0,
  "metadata": {
    "colab": {
      "provenance": [],
      "collapsed_sections": []
    },
    "kernelspec": {
      "name": "python3",
      "display_name": "Python 3"
    },
    "language_info": {
      "name": "python"
    }
  },
  "cells": [
    {
      "cell_type": "code",
      "execution_count": null,
      "metadata": {
        "colab": {
          "base_uri": "https://localhost:8080/"
        },
        "id": "RXHAtUNlVDr5",
        "outputId": "c7a787aa-ec0d-41f4-c67d-8c0cad2b714b"
      },
      "outputs": [
        {
          "output_type": "stream",
          "name": "stdout",
          "text": [
            "Looking in indexes: https://pypi.org/simple, https://us-python.pkg.dev/colab-wheels/public/simple/\n",
            "Collecting pyspark\n",
            "  Downloading pyspark-3.2.1.tar.gz (281.4 MB)\n",
            "\u001b[K     |████████████████████████████████| 281.4 MB 33 kB/s \n",
            "\u001b[?25hCollecting py4j==0.10.9.3\n",
            "  Downloading py4j-0.10.9.3-py2.py3-none-any.whl (198 kB)\n",
            "\u001b[K     |████████████████████████████████| 198 kB 52.7 MB/s \n",
            "\u001b[?25hBuilding wheels for collected packages: pyspark\n",
            "  Building wheel for pyspark (setup.py) ... \u001b[?25l\u001b[?25hdone\n",
            "  Created wheel for pyspark: filename=pyspark-3.2.1-py2.py3-none-any.whl size=281853642 sha256=2bb9aee4b9cc2cfbb6d345d79f97c0d8ce5cc1fbcdd1e995bf8910cdbd5adc24\n",
            "  Stored in directory: /root/.cache/pip/wheels/9f/f5/07/7cd8017084dce4e93e84e92efd1e1d5334db05f2e83bcef74f\n",
            "Successfully built pyspark\n",
            "Installing collected packages: py4j, pyspark\n",
            "Successfully installed py4j-0.10.9.3 pyspark-3.2.1\n"
          ]
        }
      ],
      "source": [
        "!pip install pyspark"
      ]
    },
    {
      "cell_type": "code",
      "source": [
        "import pyspark\n",
        "from pyspark.sql import SparkSession\n",
        "from pyspark import SparkFiles\n",
        "\n",
        "spark = SparkSession.builder.master('local[*]').appName('jean').getOrCreate()\n",
        "# spark = SparkSession.builder.master('spark://127.0.0.1:7077').appName('jean').getOrCreate()\n",
        "sc = spark.sparkContext"
      ],
      "metadata": {
        "id": "_F-jvEJuVkZe"
      },
      "execution_count": null,
      "outputs": []
    },
    {
      "cell_type": "code",
      "source": [
        "sc.addFile('https://www.dropbox.com/s/yviaftku1t09ejx/bible.txt?dl=1')"
      ],
      "metadata": {
        "id": "_C07FM1AWqZ2"
      },
      "execution_count": null,
      "outputs": []
    },
    {
      "cell_type": "code",
      "source": [
        "# carregando o arquivo\n",
        "rdd = sc.textFile('file://' + SparkFiles.get('bible.txt'))"
      ],
      "metadata": {
        "id": "cq2li4KIXiC1"
      },
      "execution_count": null,
      "outputs": []
    },
    {
      "cell_type": "code",
      "source": [
        "rdd.take(5)"
      ],
      "metadata": {
        "colab": {
          "base_uri": "https://localhost:8080/"
        },
        "id": "hSXQk_O0YEyF",
        "outputId": "df987b09-889c-4e8b-8154-af4b8137d1f9"
      },
      "execution_count": null,
      "outputs": [
        {
          "output_type": "execute_result",
          "data": {
            "text/plain": [
              "['1:1 In the beginning God created the heaven and the earth.',\n",
              " '',\n",
              " '1:2 And the earth was without form, and void; and darkness was upon',\n",
              " 'the face of the deep. And the Spirit of God moved upon the face of the',\n",
              " 'waters.']"
            ]
          },
          "metadata": {},
          "execution_count": 7
        }
      ]
    },
    {
      "cell_type": "code",
      "source": [
        "# fazendo split de sentenças em palavras\n",
        "palavras = rdd.flatMap(lambda frase: frase.split(' '))"
      ],
      "metadata": {
        "id": "Yh9TEiStYg5D"
      },
      "execution_count": null,
      "outputs": []
    },
    {
      "cell_type": "code",
      "source": [
        "type(palavras)"
      ],
      "metadata": {
        "id": "VZ4sXOwkdk0M",
        "outputId": "490110e0-44a6-498a-e19a-e5642fea8359",
        "colab": {
          "base_uri": "https://localhost:8080/"
        }
      },
      "execution_count": null,
      "outputs": [
        {
          "output_type": "execute_result",
          "data": {
            "text/plain": [
              "pyspark.rdd.PipelinedRDD"
            ]
          },
          "metadata": {},
          "execution_count": 9
        }
      ]
    },
    {
      "cell_type": "code",
      "source": [
        "palavras.take(10)"
      ],
      "metadata": {
        "colab": {
          "base_uri": "https://localhost:8080/"
        },
        "id": "fFEZ9hOpZd7z",
        "outputId": "3f3f967f-d5f0-4cd4-dc52-ad76876f0c7e"
      },
      "execution_count": null,
      "outputs": [
        {
          "output_type": "execute_result",
          "data": {
            "text/plain": [
              "['1:1',\n",
              " 'In',\n",
              " 'the',\n",
              " 'beginning',\n",
              " 'God',\n",
              " 'created',\n",
              " 'the',\n",
              " 'heaven',\n",
              " 'and',\n",
              " 'the']"
            ]
          },
          "metadata": {},
          "execution_count": 10
        }
      ]
    },
    {
      "cell_type": "code",
      "source": [
        "palavras.count()"
      ],
      "metadata": {
        "colab": {
          "base_uri": "https://localhost:8080/"
        },
        "id": "u_K2xR-EZfVC",
        "outputId": "16e72939-e907-4ce9-b2ce-756231de5e43"
      },
      "execution_count": null,
      "outputs": [
        {
          "output_type": "execute_result",
          "data": {
            "text/plain": [
              "851195"
            ]
          },
          "metadata": {},
          "execution_count": 11
        }
      ]
    },
    {
      "cell_type": "code",
      "source": [
        "palavras.countByValue()"
      ],
      "metadata": {
        "id": "_RXW2BS5Z0CY"
      },
      "execution_count": null,
      "outputs": []
    },
    {
      "cell_type": "markdown",
      "source": [
        "### Aeroportos"
      ],
      "metadata": {
        "id": "37qbOerzoArE"
      }
    },
    {
      "cell_type": "code",
      "source": [
        "sc.addFile('https://www.dropbox.com/s/3k3v5tol6mypy35/airports.text?dl=1')"
      ],
      "metadata": {
        "id": "wVYQ-gv4Z8TI"
      },
      "execution_count": null,
      "outputs": []
    },
    {
      "cell_type": "code",
      "source": [
        "# carregando o arquivo\n",
        "rdd = sc.textFile('file://' + SparkFiles.get('airports.text'))"
      ],
      "metadata": {
        "id": "bzmH8p0woMwh"
      },
      "execution_count": null,
      "outputs": []
    },
    {
      "cell_type": "code",
      "source": [
        "rdd.take(5)"
      ],
      "metadata": {
        "colab": {
          "base_uri": "https://localhost:8080/"
        },
        "id": "NLuQZuENoPzb",
        "outputId": "3fded8e9-e08f-459a-d2e7-2d06efe61858"
      },
      "execution_count": null,
      "outputs": [
        {
          "output_type": "execute_result",
          "data": {
            "text/plain": [
              "['1,\"Goroka\",\"Goroka\",\"Papua New Guinea\",\"GKA\",\"AYGA\",-6.081689,145.391881,5282,10,\"U\",\"Pacific/Port_Moresby\"',\n",
              " '2,\"Madang\",\"Madang\",\"Papua New Guinea\",\"MAG\",\"AYMD\",-5.207083,145.7887,20,10,\"U\",\"Pacific/Port_Moresby\"',\n",
              " '3,\"Mount Hagen\",\"Mount Hagen\",\"Papua New Guinea\",\"HGU\",\"AYMH\",-5.826789,144.295861,5388,10,\"U\",\"Pacific/Port_Moresby\"',\n",
              " '4,\"Nadzab\",\"Nadzab\",\"Papua New Guinea\",\"LAE\",\"AYNZ\",-6.569828,146.726242,239,10,\"U\",\"Pacific/Port_Moresby\"',\n",
              " '5,\"Port Moresby Jacksons Intl\",\"Port Moresby\",\"Papua New Guinea\",\"POM\",\"AYPY\",-9.443383,147.22005,146,10,\"U\",\"Pacific/Port_Moresby\"']"
            ]
          },
          "metadata": {},
          "execution_count": 15
        }
      ]
    },
    {
      "cell_type": "code",
      "source": [
        "# filtrando linhas dos USA\n",
        "rdd_usa = rdd.filter(lambda l: l.split(',')[3] == '\\\"United States\\\"')"
      ],
      "metadata": {
        "id": "QaYrHDB7oSEl"
      },
      "execution_count": null,
      "outputs": []
    },
    {
      "cell_type": "code",
      "source": [
        "# rdd_usa.collect()"
      ],
      "metadata": {
        "id": "QL4xB1Kep3VR"
      },
      "execution_count": null,
      "outputs": []
    },
    {
      "cell_type": "code",
      "source": [
        "rdd = sc.parallelize([1,2,3,4,5,6,7,8,9,10])"
      ],
      "metadata": {
        "id": "XJqPnUUTqNXh"
      },
      "execution_count": null,
      "outputs": []
    },
    {
      "cell_type": "code",
      "source": [
        "# rdd_amostra = rdd.sample(False, 0.1)"
      ],
      "metadata": {
        "id": "y_EBXhkftjhp"
      },
      "execution_count": null,
      "outputs": []
    },
    {
      "cell_type": "code",
      "source": [
        "# rdd_amostra.collect()"
      ],
      "metadata": {
        "id": "HYKxGbemt4vq"
      },
      "execution_count": null,
      "outputs": []
    },
    {
      "cell_type": "code",
      "source": [
        "# calculando a media (reduce -> soma / count)\n",
        "soma = rdd.reduce(lambda x, y: x + y)"
      ],
      "metadata": {
        "id": "K4e0n84ot581"
      },
      "execution_count": null,
      "outputs": []
    },
    {
      "cell_type": "code",
      "source": [
        "qtd = rdd.count()"
      ],
      "metadata": {
        "id": "w7KcbBMh0jzC"
      },
      "execution_count": null,
      "outputs": []
    },
    {
      "cell_type": "code",
      "source": [
        "media = soma / qtd\n",
        "media"
      ],
      "metadata": {
        "colab": {
          "base_uri": "https://localhost:8080/"
        },
        "id": "5XpED80c1AMF",
        "outputId": "e0aa0284-44fe-47fc-c164-250d39a69fd5"
      },
      "execution_count": null,
      "outputs": [
        {
          "output_type": "execute_result",
          "data": {
            "text/plain": [
              "5.5"
            ]
          },
          "metadata": {},
          "execution_count": 23
        }
      ]
    },
    {
      "cell_type": "code",
      "source": [
        "# Somando apenas os valores pares\n",
        "soma = rdd.filter(lambda x: x % 2 == 0).reduce(lambda x, y: x + y)"
      ],
      "metadata": {
        "id": "qGEt8Udh1BuH"
      },
      "execution_count": null,
      "outputs": []
    },
    {
      "cell_type": "code",
      "source": [
        "soma"
      ],
      "metadata": {
        "colab": {
          "base_uri": "https://localhost:8080/"
        },
        "id": "AXlIvfjG2HbA",
        "outputId": "c95b77c8-9e0a-44eb-80ba-ba94e2235899"
      },
      "execution_count": null,
      "outputs": [
        {
          "output_type": "execute_result",
          "data": {
            "text/plain": [
              "30"
            ]
          },
          "metadata": {},
          "execution_count": 25
        }
      ]
    },
    {
      "cell_type": "code",
      "source": [
        "2+4+6+8+10"
      ],
      "metadata": {
        "id": "JTcx1GYU2IDF",
        "outputId": "9bfc57fe-c7b7-4420-afe2-4fb2406f00ab",
        "colab": {
          "base_uri": "https://localhost:8080/"
        }
      },
      "execution_count": null,
      "outputs": [
        {
          "output_type": "execute_result",
          "data": {
            "text/plain": [
              "30"
            ]
          },
          "metadata": {},
          "execution_count": 26
        }
      ]
    },
    {
      "cell_type": "markdown",
      "source": [
        "# Exercício 1"
      ],
      "metadata": {
        "id": "faEi-OgK1-Oj"
      }
    },
    {
      "cell_type": "code",
      "source": [
        "rdd = sc.textFile('file://' + SparkFiles.get('airports.text'))"
      ],
      "metadata": {
        "id": "57aX3ibo2A8-"
      },
      "execution_count": null,
      "outputs": []
    },
    {
      "cell_type": "code",
      "source": [
        "# 1- filtrar aeroportos nos USA\n",
        "rdd_usa = rdd.filter(lambda x: \\\n",
        "                     x.split(',')[3] == '\"United States\"')\n",
        "# 2 - calcular a latitude media destes aeroportos\n",
        "rdd_latitudes = rdd_usa.map(lambda x: float(x.split(',')[6]))\n",
        "\n",
        "# somar todas as latitudes\n",
        "soma_latitudes = rdd_latitudes.reduce(lambda x, y: x + y)\n",
        "qtd_elementos = rdd_latitudes.count()\n",
        "\n",
        "# media\n",
        "media = soma_latitudes / qtd_elementos\n",
        "media"
      ],
      "metadata": {
        "colab": {
          "base_uri": "https://localhost:8080/"
        },
        "id": "9sIRcQ5qn18S",
        "outputId": "0dfbe291-ec13-41a2-a60f-8df075ede38c"
      },
      "execution_count": null,
      "outputs": [
        {
          "output_type": "execute_result",
          "data": {
            "text/plain": [
              "41.44429158866408"
            ]
          },
          "metadata": {},
          "execution_count": 28
        }
      ]
    },
    {
      "cell_type": "markdown",
      "source": [
        "# Exercicio 2"
      ],
      "metadata": {
        "id": "ePTKydzX_jp5"
      }
    },
    {
      "cell_type": "code",
      "source": [
        "rdd = sc.textFile('file://' + SparkFiles.get('bible.txt'))"
      ],
      "metadata": {
        "id": "Rn4YZy0D2Nrl"
      },
      "execution_count": null,
      "outputs": []
    },
    {
      "cell_type": "code",
      "source": [
        "# 1) contar a frequencia de palavras que se iniciam com vogais\n",
        "rdd_palavras = rdd.flatMap(lambda x: x.split(' '))\n",
        "\n",
        "rdd_palavras_sem_vazio = rdd_palavras.filter(lambda x: len(x) > 0)\n",
        "rdd_comeca_vogal = rdd_palavras_sem_vazio.filter(lambda x: x[0].lower() in 'aeiou')\n",
        "rdd_comeca_vogal.count()"
      ],
      "metadata": {
        "colab": {
          "base_uri": "https://localhost:8080/"
        },
        "id": "LsT_nrJ6wKpT",
        "outputId": "53c09681-2bfd-4325-fed8-0d723b49661f"
      },
      "execution_count": null,
      "outputs": [
        {
          "output_type": "execute_result",
          "data": {
            "text/plain": [
              "226451"
            ]
          },
          "metadata": {},
          "execution_count": 30
        }
      ]
    },
    {
      "cell_type": "code",
      "source": [
        "# 2) Quantas palavras se iniciam com cada vogal\n",
        "rdd_comeca_vogal_1_caracter = rdd_comeca_vogal.map(lambda x: x.lower()[0])\n",
        "rdd_comeca_vogal_1_caracter.countByValue()"
      ],
      "metadata": {
        "colab": {
          "base_uri": "https://localhost:8080/"
        },
        "id": "qw3odshvxtwq",
        "outputId": "c6a57a01-0dce-44bb-ec49-04c9ef809054"
      },
      "execution_count": null,
      "outputs": [
        {
          "output_type": "execute_result",
          "data": {
            "text/plain": [
              "defaultdict(int, {'a': 98347, 'e': 13178, 'i': 44286, 'o': 52501, 'u': 18139})"
            ]
          },
          "metadata": {},
          "execution_count": 31
        }
      ]
    },
    {
      "cell_type": "code",
      "source": [
        "# 3) contar a ocorrencia de cada vogal no texto todo\n",
        "\n",
        "rdd_caracteres = rdd_palavras_sem_vazio.flatMap(lambda x: list(x))\n",
        "rdd_caracteres_lc = rdd_caracteres.map(lambda x: x.lower())\n",
        "rdd_caracteres_lc_vogais = rdd_caracteres_lc.filter(lambda x: x in 'aeiou')\n",
        "rdd_caracteres_lc_vogais.countByValue()"
      ],
      "metadata": {
        "colab": {
          "base_uri": "https://localhost:8080/"
        },
        "id": "zbcBmbB90hWr",
        "outputId": "8ad42ba5-398d-4b19-9933-b2ecbe8d0049"
      },
      "execution_count": null,
      "outputs": [
        {
          "output_type": "execute_result",
          "data": {
            "text/plain": [
              "defaultdict(int,\n",
              "            {'a': 275701, 'e': 412160, 'i': 193926, 'o': 243143, 'u': 83462})"
            ]
          },
          "metadata": {},
          "execution_count": 32
        }
      ]
    },
    {
      "cell_type": "code",
      "source": [],
      "metadata": {
        "id": "G0XBBPKj35L-"
      },
      "execution_count": null,
      "outputs": []
    },
    {
      "cell_type": "markdown",
      "source": [
        "# Pair RDD"
      ],
      "metadata": {
        "id": "Xv45iMxhbKK2"
      }
    },
    {
      "cell_type": "code",
      "source": [
        "rdd = sc.textFile('file://' + SparkFiles.get('airports.text'))"
      ],
      "metadata": {
        "id": "a83FI6vKbLVn"
      },
      "execution_count": null,
      "outputs": []
    },
    {
      "cell_type": "code",
      "source": [
        "#montando pair rdd no formato (cidade, pais)\n",
        "prdd = rdd.map(lambda x: (x.split(',')[2], x.split(',')[3]))"
      ],
      "metadata": {
        "id": "68id01SMbtBd"
      },
      "execution_count": null,
      "outputs": []
    },
    {
      "cell_type": "code",
      "source": [
        "# remover aspas duplas de chave e valor\n",
        "prdd_limpo = prdd.map(lambda x: (x[0].replace('\"', ''), \\\n",
        "                                 x[1].replace('\"', '')))"
      ],
      "metadata": {
        "id": "2c_1bj-Ybtpk"
      },
      "execution_count": null,
      "outputs": []
    },
    {
      "cell_type": "code",
      "source": [
        "# mantendo apenas elementos dos estados unidos\n",
        "prdd_usa = prdd_limpo.filter(lambda x: x[1] == 'United States')"
      ],
      "metadata": {
        "id": "_KxM8ebwcTNn"
      },
      "execution_count": null,
      "outputs": []
    },
    {
      "cell_type": "code",
      "source": [
        "prdd_usa.take(3)"
      ],
      "metadata": {
        "colab": {
          "base_uri": "https://localhost:8080/"
        },
        "id": "2yv3sI5XdMWc",
        "outputId": "537ad6b0-aef2-42cf-9c07-19814b710b21"
      },
      "execution_count": null,
      "outputs": [
        {
          "output_type": "execute_result",
          "data": {
            "text/plain": [
              "[('Greencastle', 'United States'),\n",
              " ('Dowagiac', 'United States'),\n",
              " ('Cambridge', 'United States')]"
            ]
          },
          "metadata": {},
          "execution_count": 37
        }
      ]
    },
    {
      "cell_type": "code",
      "source": [
        "# convertendo paises para cx alta (MAP)\n",
        "prdd_usa_uc = prdd_usa.map(lambda x: (x[0], x[1].upper()))"
      ],
      "metadata": {
        "id": "xZi9MlZQeQiQ"
      },
      "execution_count": null,
      "outputs": []
    },
    {
      "cell_type": "code",
      "source": [
        "prdd_usa_uc.take(3)"
      ],
      "metadata": {
        "colab": {
          "base_uri": "https://localhost:8080/"
        },
        "id": "ZSCojsJ4d6Vd",
        "outputId": "d985c17f-932c-4859-a9e7-cf68f6b736bf"
      },
      "execution_count": null,
      "outputs": [
        {
          "output_type": "execute_result",
          "data": {
            "text/plain": [
              "[('Greencastle', 'UNITED STATES'),\n",
              " ('Dowagiac', 'UNITED STATES'),\n",
              " ('Cambridge', 'UNITED STATES')]"
            ]
          },
          "metadata": {},
          "execution_count": 39
        }
      ]
    },
    {
      "cell_type": "code",
      "source": [
        "prdd_usa_uc = prdd_usa.mapValues(lambda x: x.upper())"
      ],
      "metadata": {
        "id": "bH50UrS9edUq"
      },
      "execution_count": null,
      "outputs": []
    },
    {
      "cell_type": "code",
      "source": [
        "prdd_usa_uc.take(3)"
      ],
      "metadata": {
        "colab": {
          "base_uri": "https://localhost:8080/"
        },
        "id": "m-38q6hFexdx",
        "outputId": "90f612da-0cba-48ae-909b-d5455222606e"
      },
      "execution_count": null,
      "outputs": [
        {
          "output_type": "execute_result",
          "data": {
            "text/plain": [
              "[('Greencastle', 'UNITED STATES'),\n",
              " ('Dowagiac', 'UNITED STATES'),\n",
              " ('Cambridge', 'UNITED STATES')]"
            ]
          },
          "metadata": {},
          "execution_count": 41
        }
      ]
    },
    {
      "cell_type": "code",
      "source": [
        "prdd_usa_uc.coalesce(1).saveAsTextFile('prdd_.txt')"
      ],
      "metadata": {
        "id": "bnoxnOeoeyc3"
      },
      "execution_count": null,
      "outputs": []
    },
    {
      "cell_type": "markdown",
      "source": [
        "reducebykey"
      ],
      "metadata": {
        "id": "Kt6MLBzvhF1B"
      }
    },
    {
      "cell_type": "code",
      "source": [
        "rdd = sc.textFile('file://' + SparkFiles.get('bible.txt'))"
      ],
      "metadata": {
        "id": "0mTXdLAkfOe2"
      },
      "execution_count": null,
      "outputs": []
    },
    {
      "cell_type": "code",
      "source": [
        "rdd.take(3)"
      ],
      "metadata": {
        "colab": {
          "base_uri": "https://localhost:8080/"
        },
        "id": "tKL1tdc1hPpM",
        "outputId": "764d6a26-5732-4b37-f48f-5ed6d86a1299"
      },
      "execution_count": null,
      "outputs": [
        {
          "output_type": "execute_result",
          "data": {
            "text/plain": [
              "['1:1 In the beginning God created the heaven and the earth.',\n",
              " '',\n",
              " '1:2 And the earth was without form, and void; and darkness was upon']"
            ]
          },
          "metadata": {},
          "execution_count": 44
        }
      ]
    },
    {
      "cell_type": "code",
      "source": [
        "palavras = rdd.flatMap(lambda x: x.split(' '))\n",
        "palavras.countByValue()"
      ],
      "metadata": {
        "id": "O71lVwYehQJf"
      },
      "execution_count": null,
      "outputs": []
    },
    {
      "cell_type": "code",
      "source": [
        "# gerando (palavra, 1)\n",
        "prdd = palavras.map(lambda x: (x, 1))"
      ],
      "metadata": {
        "id": "h_kPA1hxhunA"
      },
      "execution_count": null,
      "outputs": []
    },
    {
      "cell_type": "code",
      "source": [
        "# reduzir (somar) as ocorrencias de cada palavra\n",
        "prdd_ocorrencia = prdd.reduceByKey(lambda x, y: x + y)"
      ],
      "metadata": {
        "id": "PHQIxyTiiJBr"
      },
      "execution_count": null,
      "outputs": []
    },
    {
      "cell_type": "code",
      "source": [
        "prdd_ocorrencia.take(10)"
      ],
      "metadata": {
        "colab": {
          "base_uri": "https://localhost:8080/"
        },
        "id": "2lqzvXw9iJmg",
        "outputId": "348349a3-3c87-4ed2-db50-efd1b2d088d2"
      },
      "execution_count": null,
      "outputs": [
        {
          "output_type": "execute_result",
          "data": {
            "text/plain": [
              "[('God', 2229),\n",
              " ('created', 38),\n",
              " ('', 27159),\n",
              " ('And', 12735),\n",
              " ('earth', 328),\n",
              " ('was', 4448),\n",
              " ('form,', 4),\n",
              " ('upon', 2718),\n",
              " ('of', 34547),\n",
              " ('deep.', 5)]"
            ]
          },
          "metadata": {},
          "execution_count": 48
        }
      ]
    },
    {
      "cell_type": "code",
      "source": [
        "prdd_ocorrencia_ordenado = prdd_ocorrencia.sortBy(lambda x: x[1], ascending=False)"
      ],
      "metadata": {
        "id": "SeL93t-9imPu"
      },
      "execution_count": null,
      "outputs": []
    },
    {
      "cell_type": "code",
      "source": [
        "prdd_ocorrencia_ordenado.take(3)"
      ],
      "metadata": {
        "colab": {
          "base_uri": "https://localhost:8080/"
        },
        "id": "sv_IwOqalMpf",
        "outputId": "37829088-b1ae-414a-dfc9-c45d9868e852"
      },
      "execution_count": null,
      "outputs": [
        {
          "output_type": "execute_result",
          "data": {
            "text/plain": [
              "[('the', 62252), ('and', 38641), ('of', 34547)]"
            ]
          },
          "metadata": {},
          "execution_count": 50
        }
      ]
    },
    {
      "cell_type": "markdown",
      "source": [
        "# Solução: Preço médio por número de quartos"
      ],
      "metadata": {
        "id": "DSIdGu8Pt0jr"
      }
    },
    {
      "cell_type": "code",
      "source": [
        "sc.addFile('https://www.dropbox.com/s/5gy1beolwhn9isf/RealEstate.csv?dl=1')\n",
        "rdd = sc.textFile('file://'+ SparkFiles.get('RealEstate.csv'))"
      ],
      "metadata": {
        "id": "TxtZL6oplQ6i"
      },
      "execution_count": null,
      "outputs": []
    },
    {
      "cell_type": "code",
      "source": [
        "rdd.take(3)"
      ],
      "metadata": {
        "colab": {
          "base_uri": "https://localhost:8080/"
        },
        "id": "Zj0Mzw7juBeC",
        "outputId": "e5d550b6-81bb-45a6-8564-c5d4caa67fcb"
      },
      "execution_count": null,
      "outputs": [
        {
          "output_type": "execute_result",
          "data": {
            "text/plain": [
              "['MLS,Location,Price,Bedrooms,Bathrooms,Size,Price SQ Ft,Status',\n",
              " '132842,Arroyo Grande,795000.00,3,3,2371,335.30,Short Sale',\n",
              " '134364,Paso Robles,399000.00,4,3,2818,141.59,Short Sale']"
            ]
          },
          "metadata": {},
          "execution_count": 52
        }
      ]
    },
    {
      "cell_type": "code",
      "source": [
        "rdd_limpo = rdd.filter(lambda x: not x.startswith('MLS'))"
      ],
      "metadata": {
        "id": "xTzp79IyuCJZ"
      },
      "execution_count": null,
      "outputs": []
    },
    {
      "cell_type": "code",
      "source": [
        "prdd = rdd_limpo.map(lambda x: (int(x.split(',')[3]), \\\n",
        "                                (float(x.split(',')[2]), 1)))"
      ],
      "metadata": {
        "id": "hpyiRTNzuUp0"
      },
      "execution_count": null,
      "outputs": []
    },
    {
      "cell_type": "code",
      "source": [
        "prdd.take(3)"
      ],
      "metadata": {
        "colab": {
          "base_uri": "https://localhost:8080/"
        },
        "id": "WkGD2Z7yuXRF",
        "outputId": "1a82ead4-dcf4-494d-edfb-92c704d71541"
      },
      "execution_count": null,
      "outputs": [
        {
          "output_type": "execute_result",
          "data": {
            "text/plain": [
              "[(3, (795000.0, 1)), (4, (399000.0, 1)), (4, (545000.0, 1))]"
            ]
          },
          "metadata": {},
          "execution_count": 55
        }
      ]
    },
    {
      "cell_type": "code",
      "source": [
        "somas = prdd.reduceByKey(lambda x, y: (x[0] + y[0], x[1] + y[1]))"
      ],
      "metadata": {
        "id": "ZUMbdRzrupTc"
      },
      "execution_count": null,
      "outputs": []
    },
    {
      "cell_type": "code",
      "source": [
        "somas.take(3)"
      ],
      "metadata": {
        "colab": {
          "base_uri": "https://localhost:8080/"
        },
        "id": "Riv_f0Pru7aB",
        "outputId": "a998f428-f3fa-4b51-8e70-af7cc2399d36"
      },
      "execution_count": null,
      "outputs": [
        {
          "output_type": "execute_result",
          "data": {
            "text/plain": [
              "[(4, (85575190.0, 177)), (2, (32761834.0, 123)), (0, (586900.0, 2))]"
            ]
          },
          "metadata": {},
          "execution_count": 57
        }
      ]
    },
    {
      "cell_type": "code",
      "source": [
        "medias = somas.mapValues(lambda x: x[0]/x[1])\n",
        "medias = medias.sortByKey(ascending=True)"
      ],
      "metadata": {
        "id": "nPeShAdqu75-"
      },
      "execution_count": null,
      "outputs": []
    },
    {
      "cell_type": "code",
      "source": [
        "medias.collect()"
      ],
      "metadata": {
        "colab": {
          "base_uri": "https://localhost:8080/"
        },
        "id": "T3KMiKKavAyr",
        "outputId": "06a3ce57-b99f-40c8-fe08-c1614c5b2320"
      },
      "execution_count": null,
      "outputs": [
        {
          "output_type": "execute_result",
          "data": {
            "text/plain": [
              "[(0, 293450.0),\n",
              " (1, 169981.81818181818),\n",
              " (2, 266356.3739837398),\n",
              " (3, 359062.20649651974),\n",
              " (4, 483475.6497175141),\n",
              " (5, 657858.0645161291),\n",
              " (6, 603225.0),\n",
              " (7, 325000.0),\n",
              " (10, 699000.0)]"
            ]
          },
          "metadata": {},
          "execution_count": 59
        }
      ]
    },
    {
      "cell_type": "markdown",
      "source": [
        "### SparkSQL"
      ],
      "metadata": {
        "id": "z5jbcDcMf-45"
      }
    },
    {
      "cell_type": "code",
      "source": [
        "from pyspark.sql.functions import col, max, min, avg"
      ],
      "metadata": {
        "id": "dvBxz5esvBY9"
      },
      "execution_count": null,
      "outputs": []
    },
    {
      "cell_type": "code",
      "source": [
        "df = spark.read.csv('file://' + SparkFiles.get('airports.text'), \n",
        "                    inferSchema=True)"
      ],
      "metadata": {
        "id": "hkQPQw6fhI4A"
      },
      "execution_count": null,
      "outputs": []
    },
    {
      "cell_type": "code",
      "source": [
        "df.show(5)"
      ],
      "metadata": {
        "colab": {
          "base_uri": "https://localhost:8080/"
        },
        "id": "auSqmNkphpCN",
        "outputId": "ee351ade-1f4a-4199-d76c-cf1c2df9d93f"
      },
      "execution_count": null,
      "outputs": [
        {
          "output_type": "stream",
          "name": "stdout",
          "text": [
            "+---+--------------------+------------+----------------+---+----+---------+----------+----+----+----+--------------------+\n",
            "|_c0|                 _c1|         _c2|             _c3|_c4| _c5|      _c6|       _c7| _c8| _c9|_c10|                _c11|\n",
            "+---+--------------------+------------+----------------+---+----+---------+----------+----+----+----+--------------------+\n",
            "|  1|              Goroka|      Goroka|Papua New Guinea|GKA|AYGA|-6.081689|145.391881|5282|10.0|   U|Pacific/Port_Moresby|\n",
            "|  2|              Madang|      Madang|Papua New Guinea|MAG|AYMD|-5.207083|  145.7887|  20|10.0|   U|Pacific/Port_Moresby|\n",
            "|  3|         Mount Hagen| Mount Hagen|Papua New Guinea|HGU|AYMH|-5.826789|144.295861|5388|10.0|   U|Pacific/Port_Moresby|\n",
            "|  4|              Nadzab|      Nadzab|Papua New Guinea|LAE|AYNZ|-6.569828|146.726242| 239|10.0|   U|Pacific/Port_Moresby|\n",
            "|  5|Port Moresby Jack...|Port Moresby|Papua New Guinea|POM|AYPY|-9.443383| 147.22005| 146|10.0|   U|Pacific/Port_Moresby|\n",
            "+---+--------------------+------------+----------------+---+----+---------+----------+----+----+----+--------------------+\n",
            "only showing top 5 rows\n",
            "\n"
          ]
        }
      ]
    },
    {
      "cell_type": "code",
      "source": [
        "df.printSchema()"
      ],
      "metadata": {
        "colab": {
          "base_uri": "https://localhost:8080/"
        },
        "id": "BZBo2LU1h1OU",
        "outputId": "7c82cf59-8ac3-478e-9828-244f7eb4137d"
      },
      "execution_count": null,
      "outputs": [
        {
          "output_type": "stream",
          "name": "stdout",
          "text": [
            "root\n",
            " |-- _c0: integer (nullable = true)\n",
            " |-- _c1: string (nullable = true)\n",
            " |-- _c2: string (nullable = true)\n",
            " |-- _c3: string (nullable = true)\n",
            " |-- _c4: string (nullable = true)\n",
            " |-- _c5: string (nullable = true)\n",
            " |-- _c6: double (nullable = true)\n",
            " |-- _c7: double (nullable = true)\n",
            " |-- _c8: integer (nullable = true)\n",
            " |-- _c9: double (nullable = true)\n",
            " |-- _c10: string (nullable = true)\n",
            " |-- _c11: string (nullable = true)\n",
            "\n"
          ]
        }
      ]
    },
    {
      "cell_type": "code",
      "source": [
        "df.createOrReplaceTempView('vw_aeroportos')"
      ],
      "metadata": {
        "id": "lw5LfQjaiAGe"
      },
      "execution_count": null,
      "outputs": []
    },
    {
      "cell_type": "code",
      "source": [
        "query = 'SELECT _c2, _c3, _c6, _c7 FROM vw_aeroportos WHERE _c3 LIKE \"United States\"'\n",
        "spark.sql(query).show(10)"
      ],
      "metadata": {
        "colab": {
          "base_uri": "https://localhost:8080/"
        },
        "id": "cMXtHshFjimX",
        "outputId": "eb3bf95c-5762-4faa-884c-6dc15b4bb25e"
      },
      "execution_count": null,
      "outputs": [
        {
          "output_type": "stream",
          "name": "stdout",
          "text": [
            "+------------+-------------+----------+-----------+\n",
            "|         _c2|          _c3|       _c6|        _c7|\n",
            "+------------+-------------+----------+-----------+\n",
            "| Greencastle|United States|39.6335556|-86.8138056|\n",
            "|    Dowagiac|United States|41.9929342|-86.1280125|\n",
            "|   Cambridge|United States|39.9750278|-81.5775833|\n",
            "|Sturgeon Bay|United States|44.8436667|-87.4215556|\n",
            "|Stewartstown|United States|39.7948244|-76.6471914|\n",
            "|   Pendleton|United States|    45.695|-118.841389|\n",
            "|      Tyonek|United States| 61.076667|-151.138056|\n",
            "| Riverton WY|United States| 43.064167|-108.459722|\n",
            "| Montrose CO|United States| 38.509794|-107.894242|\n",
            "| Bolingbrook|United States|41.6959744|-88.1292306|\n",
            "+------------+-------------+----------+-----------+\n",
            "only showing top 10 rows\n",
            "\n"
          ]
        }
      ]
    },
    {
      "cell_type": "code",
      "source": [
        "# Quantidade de aeroportos por país\n",
        "# SELECT COUNT(*) FROM vw_aeroportos GROUP BY country\n",
        "df.groupBy('_c3').count().orderBy(col('count').desc()).show(10)"
      ],
      "metadata": {
        "colab": {
          "base_uri": "https://localhost:8080/"
        },
        "id": "h18Bpn-7j02B",
        "outputId": "6c5a4cf0-b7f7-4c96-d74f-2460e3b9b09a"
      },
      "execution_count": null,
      "outputs": [
        {
          "output_type": "stream",
          "name": "stdout",
          "text": [
            "+--------------+-----+\n",
            "|           _c3|count|\n",
            "+--------------+-----+\n",
            "| United States| 1697|\n",
            "|        Canada|  435|\n",
            "|       Germany|  321|\n",
            "|     Australia|  263|\n",
            "|        Russia|  249|\n",
            "|        France|  233|\n",
            "|         China|  219|\n",
            "|        Brazil|  213|\n",
            "|United Kingdom|  210|\n",
            "|         India|  140|\n",
            "+--------------+-----+\n",
            "only showing top 10 rows\n",
            "\n"
          ]
        }
      ]
    },
    {
      "cell_type": "code",
      "source": [
        "# Latitude média dos aeroportos dos USA\n",
        "# SELECT AVG(latitude) FROM view WHERE country = \"United States\"\n",
        "df.filter('_c3 = \"United States\"').\\\n",
        "   select(avg(col('_c6'))).show(10)"
      ],
      "metadata": {
        "colab": {
          "base_uri": "https://localhost:8080/"
        },
        "id": "cq3tL11Gl_Wy",
        "outputId": "d1ed1453-92e4-45c1-936c-f188d674981e"
      },
      "execution_count": null,
      "outputs": [
        {
          "output_type": "stream",
          "name": "stdout",
          "text": [
            "+------------------+\n",
            "|          avg(_c6)|\n",
            "+------------------+\n",
            "|41.444291588664015|\n",
            "+------------------+\n",
            "\n"
          ]
        }
      ]
    },
    {
      "cell_type": "code",
      "source": [
        "df.filter(col('_c3').like('United States')).\\\n",
        "   select(avg(col('_c6'))).show(10)"
      ],
      "metadata": {
        "colab": {
          "base_uri": "https://localhost:8080/"
        },
        "id": "OiC2l38Vn3Wn",
        "outputId": "fa0fd4c0-48a6-4f5d-bd4d-8166ed631443"
      },
      "execution_count": null,
      "outputs": [
        {
          "output_type": "stream",
          "name": "stdout",
          "text": [
            "+------------------+\n",
            "|          avg(_c6)|\n",
            "+------------------+\n",
            "|41.444291588664015|\n",
            "+------------------+\n",
            "\n"
          ]
        }
      ]
    },
    {
      "cell_type": "code",
      "source": [
        "df = df.withColumnRenamed('_c3', 'country')\n",
        "df.show(5)"
      ],
      "metadata": {
        "colab": {
          "base_uri": "https://localhost:8080/"
        },
        "id": "BreFwYxYoZ1s",
        "outputId": "9095a650-ba3b-419f-fa0b-4077a3fa1e9c"
      },
      "execution_count": null,
      "outputs": [
        {
          "output_type": "stream",
          "name": "stdout",
          "text": [
            "+---+--------------------+------------+----------------+---+----+---------+----------+----+----+----+--------------------+\n",
            "|_c0|                 _c1|         _c2|         country|_c4| _c5|      _c6|       _c7| _c8| _c9|_c10|                _c11|\n",
            "+---+--------------------+------------+----------------+---+----+---------+----------+----+----+----+--------------------+\n",
            "|  1|              Goroka|      Goroka|Papua New Guinea|GKA|AYGA|-6.081689|145.391881|5282|10.0|   U|Pacific/Port_Moresby|\n",
            "|  2|              Madang|      Madang|Papua New Guinea|MAG|AYMD|-5.207083|  145.7887|  20|10.0|   U|Pacific/Port_Moresby|\n",
            "|  3|         Mount Hagen| Mount Hagen|Papua New Guinea|HGU|AYMH|-5.826789|144.295861|5388|10.0|   U|Pacific/Port_Moresby|\n",
            "|  4|              Nadzab|      Nadzab|Papua New Guinea|LAE|AYNZ|-6.569828|146.726242| 239|10.0|   U|Pacific/Port_Moresby|\n",
            "|  5|Port Moresby Jack...|Port Moresby|Papua New Guinea|POM|AYPY|-9.443383| 147.22005| 146|10.0|   U|Pacific/Port_Moresby|\n",
            "+---+--------------------+------------+----------------+---+----+---------+----------+----+----+----+--------------------+\n",
            "only showing top 5 rows\n",
            "\n"
          ]
        }
      ]
    },
    {
      "cell_type": "markdown",
      "source": [
        "# Exemplo com header"
      ],
      "metadata": {
        "id": "mz3BZ4qtpgiB"
      }
    },
    {
      "cell_type": "code",
      "source": [
        "sc.addFile('https://www.dropbox.com/s/cjztq44o5k7imwu/transactions_amostra.csv?dl=1')\n",
        "df_tde = spark.read.csv('file://' + SparkFiles.get('transactions_amostra.csv'), \\\n",
        "                        sep=';', header=True, inferSchema=True)"
      ],
      "metadata": {
        "id": "K2NJQyBtpRBO"
      },
      "execution_count": null,
      "outputs": []
    },
    {
      "cell_type": "code",
      "source": [
        "df_tde.printSchema()"
      ],
      "metadata": {
        "colab": {
          "base_uri": "https://localhost:8080/"
        },
        "id": "smKjxtSApoTy",
        "outputId": "325e7a4f-1490-4b66-cad2-8393f0531754"
      },
      "execution_count": null,
      "outputs": [
        {
          "output_type": "stream",
          "name": "stdout",
          "text": [
            "root\n",
            " |-- country_or_area: string (nullable = true)\n",
            " |-- year: integer (nullable = true)\n",
            " |-- comm_code: string (nullable = true)\n",
            " |-- commodity: string (nullable = true)\n",
            " |-- flow: string (nullable = true)\n",
            " |-- trade_usd: long (nullable = true)\n",
            " |-- weight_kg: double (nullable = true)\n",
            " |-- quantity_name: string (nullable = true)\n",
            " |-- quantity: double (nullable = true)\n",
            " |-- category: string (nullable = true)\n",
            "\n"
          ]
        }
      ]
    },
    {
      "cell_type": "code",
      "source": [
        "df_tde.show(5)"
      ],
      "metadata": {
        "colab": {
          "base_uri": "https://localhost:8080/"
        },
        "id": "LbcgrAB4pxjL",
        "outputId": "07f846aa-9adf-49e9-c313-d306ef602076"
      },
      "execution_count": null,
      "outputs": [
        {
          "output_type": "stream",
          "name": "stdout",
          "text": [
            "+---------------+----+---------+--------------------+---------+---------+---------+-------------------+--------+--------------------+\n",
            "|country_or_area|year|comm_code|           commodity|     flow|trade_usd|weight_kg|      quantity_name|quantity|            category|\n",
            "+---------------+----+---------+--------------------+---------+---------+---------+-------------------+--------+--------------------+\n",
            "|        Belgium|2016|   920510|Brass-wind instru...|   Export|   571297|   3966.0|    Number of items|  4135.0|92_musical_instru...|\n",
            "|      Guatemala|2008|   660200|Walking-sticks, s...|   Export|    35022|   5575.0|    Number of items| 10089.0|66_umbrellas_walk...|\n",
            "|       Barbados|2006|   220210|Beverage waters, ...|Re-Export|    81058|  44458.0|   Volume in litres| 24113.0|22_beverages_spir...|\n",
            "|        Tunisia|2016|   780411|Lead foil of a th...|   Import|     4658|    121.0|Weight in kilograms|   121.0|78_lead_and_artic...|\n",
            "|      Lithuania|1996|   560110|Sanitary towels, ...|   Export|    76499|   5419.0|Weight in kilograms|  5419.0|56_wadding_felt_n...|\n",
            "+---------------+----+---------+--------------------+---------+---------+---------+-------------------+--------+--------------------+\n",
            "only showing top 5 rows\n",
            "\n"
          ]
        }
      ]
    },
    {
      "cell_type": "code",
      "source": [],
      "metadata": {
        "id": "nD32jIalp7Yu"
      },
      "execution_count": null,
      "outputs": []
    }
  ]
}