{
  "nbformat": 4,
  "nbformat_minor": 0,
  "metadata": {
    "colab": {
      "provenance": [],
      "collapsed_sections": []
    },
    "kernelspec": {
      "name": "python3",
      "display_name": "Python 3"
    },
    "language_info": {
      "name": "python"
    }
  },
  "cells": [
    {
      "cell_type": "markdown",
      "source": [
        "# **TDE 2 - Spark**"
      ],
      "metadata": {
        "id": "YHk5017wj4ST"
      }
    },
    {
      "cell_type": "markdown",
      "source": [
        "## **Download Spark**"
      ],
      "metadata": {
        "id": "SlaiGKqvj9z5"
      }
    },
    {
      "cell_type": "code",
      "source": [
        "!pip install pyspark"
      ],
      "metadata": {
        "colab": {
          "base_uri": "https://localhost:8080/"
        },
        "id": "sA1kZEXKkLzS",
        "outputId": "dd8f2139-6540-42c0-c6d3-2add10a51f9d"
      },
      "execution_count": null,
      "outputs": [
        {
          "output_type": "stream",
          "name": "stdout",
          "text": [
            "Collecting pyspark\n",
            "  Downloading pyspark-3.2.1.tar.gz (281.4 MB)\n",
            "\u001b[K     |████████████████████████████████| 281.4 MB 36 kB/s \n",
            "\u001b[?25hCollecting py4j==0.10.9.3\n",
            "  Downloading py4j-0.10.9.3-py2.py3-none-any.whl (198 kB)\n",
            "\u001b[K     |████████████████████████████████| 198 kB 42.7 MB/s \n",
            "\u001b[?25hBuilding wheels for collected packages: pyspark\n",
            "  Building wheel for pyspark (setup.py) ... \u001b[?25l\u001b[?25hdone\n",
            "  Created wheel for pyspark: filename=pyspark-3.2.1-py2.py3-none-any.whl size=281853642 sha256=a1659a118ed27c6d359a7bc9b866be848bdd373574256ead86a631673d2cf372\n",
            "  Stored in directory: /root/.cache/pip/wheels/9f/f5/07/7cd8017084dce4e93e84e92efd1e1d5334db05f2e83bcef74f\n",
            "Successfully built pyspark\n",
            "Installing collected packages: py4j, pyspark\n",
            "Successfully installed py4j-0.10.9.3 pyspark-3.2.1\n"
          ]
        }
      ]
    },
    {
      "cell_type": "markdown",
      "source": [
        "## **IMPORTS**"
      ],
      "metadata": {
        "id": "9OvjS2aKkENX"
      }
    },
    {
      "cell_type": "code",
      "source": [
        "import re\n",
        "import pyspark\n",
        "from pyspark.sql import SparkSession\n",
        "from pyspark import SparkFiles"
      ],
      "metadata": {
        "id": "mv02Fd7JkAHX"
      },
      "execution_count": null,
      "outputs": []
    },
    {
      "cell_type": "markdown",
      "source": [
        "## **Download da Base**"
      ],
      "metadata": {
        "id": "eaHb6LXCkXMh"
      }
    },
    {
      "cell_type": "code",
      "source": [
        "spark = SparkSession.builder.master('local[*]').\\\n",
        "        appName('TDE').getOrCreate()\n",
        "\n",
        "sc = spark.sparkContext"
      ],
      "metadata": {
        "id": "f5TkNu6KXroX"
      },
      "execution_count": null,
      "outputs": []
    },
    {
      "cell_type": "code",
      "source": [
        "sc.addFile('https://www.dropbox.com/s/cjztq44o5k7imwu/transactions_amostra.csv?dl=1')"
      ],
      "metadata": {
        "id": "b6SHVlveWZjZ"
      },
      "execution_count": null,
      "outputs": []
    },
    {
      "cell_type": "code",
      "source": [
        "rdd = sc.textFile('file://' + SparkFiles.get('transactions_amostra.csv'))\n",
        "\n",
        "rdd.take(5)"
      ],
      "metadata": {
        "id": "gdVOgRk2Xpn3",
        "colab": {
          "base_uri": "https://localhost:8080/"
        },
        "outputId": "c4aef34c-3ea4-49cf-f868-9c8792373826"
      },
      "execution_count": null,
      "outputs": [
        {
          "output_type": "execute_result",
          "data": {
            "text/plain": [
              "['country_or_area;year;comm_code;commodity;flow;trade_usd;weight_kg;quantity_name;quantity;category',\n",
              " 'Belgium;2016;920510;Brass-wind instruments;Export;571297;3966.0;Number of items;4135.0;92_musical_instruments_parts_and_accessories',\n",
              " 'Guatemala;2008;660200;Walking-sticks, seat-sticks, whips, etc.;Export;35022;5575.0;Number of items;10089.0;66_umbrellas_walking_sticks_seat_sticks_whips_etc',\n",
              " 'Barbados;2006;220210;Beverage waters, sweetened or flavoured;Re-Export;81058;44458.0;Volume in litres;24113.0;22_beverages_spirits_and_vinegar',\n",
              " 'Tunisia;2016;780411;Lead foil of a thickness <2mm;Import;4658;121.0;Weight in kilograms;121.0;78_lead_and_articles_thereof']"
            ]
          },
          "metadata": {},
          "execution_count": 5
        }
      ]
    },
    {
      "cell_type": "code",
      "source": [
        "rdd = rdd.map(lambda x: x.split(\";\"))\n",
        "\n",
        "COUNTRY = 0\n",
        "YEAR = 1\n",
        "COMMODITY_CODE = 2\n",
        "COMMODITY = 3\n",
        "FLOW = 4\n",
        "PRICE = 5\n",
        "WEIGHT = 6\n",
        "UNIT = 7\n",
        "AMOUNT = 8\n",
        "CATEGORY = 9\n",
        "\n",
        "# rdd.take(5)"
      ],
      "metadata": {
        "id": "XTB6s9sGBpFN"
      },
      "execution_count": null,
      "outputs": []
    },
    {
      "cell_type": "markdown",
      "source": [
        "## **Exercícios:**"
      ],
      "metadata": {
        "id": "m7ayoJcuBpmz"
      }
    },
    {
      "cell_type": "markdown",
      "source": [
        "### **1)** Número de transações envolvendo o Brasil"
      ],
      "metadata": {
        "id": "vIkd8jmwlSoI"
      }
    },
    {
      "cell_type": "code",
      "source": [
        "bra_transac_rdd = rdd.filter(lambda x: x[COUNTRY] == \"Brazil\").count()\n",
        "\n",
        "with open(\"EX1.txt\", \"w\") as f:\n",
        "  f.write(str(bra_transac_rdd))"
      ],
      "metadata": {
        "id": "JIJx99qxlSD9"
      },
      "execution_count": null,
      "outputs": []
    },
    {
      "cell_type": "markdown",
      "source": [
        "### **2)** Número de transações por ano\n"
      ],
      "metadata": {
        "id": "qlGPeY77l2GR"
      }
    },
    {
      "cell_type": "code",
      "source": [
        "year_transac_rdd = rdd.map(lambda x: (x[YEAR], 1))\\\n",
        "                      .reduceByKey(lambda x, y: x + y)\\\n",
        "                      .sortByKey()\n",
        "\n",
        "# year_transac_rdd.take(50)\n",
        "\n",
        "year_transac_rdd.coalesce(1).saveAsTextFile(\"EX2.txt\")"
      ],
      "metadata": {
        "id": "0UeQdfuWl9ok"
      },
      "execution_count": null,
      "outputs": []
    },
    {
      "cell_type": "markdown",
      "source": [
        "### **3)** Número de transações por tipo de fluxo e ano"
      ],
      "metadata": {
        "id": "41UKLe6YTHKe"
      }
    },
    {
      "cell_type": "code",
      "source": [
        "year_flow_transac_rdd = rdd.map(lambda x: ((x[YEAR], x[FLOW]), 1))\\\n",
        "                           .reduceByKey(lambda x, y: x + y)\\\n",
        "                           .sortByKey()\n",
        "\n",
        "# year_flow_transac_rdd.take(50)\n",
        "\n",
        "year_flow_transac_rdd.coalesce(1).saveAsTextFile(\"EX3.txt\")"
      ],
      "metadata": {
        "id": "mgD-ugnVTGq5"
      },
      "execution_count": null,
      "outputs": []
    },
    {
      "cell_type": "markdown",
      "source": [
        "### **4)** Média de valores de commodities por ano"
      ],
      "metadata": {
        "id": "5YBMfbrtTUaL"
      }
    },
    {
      "cell_type": "code",
      "source": [
        "header_drop_rdd = rdd.mapPartitionsWithIndex(lambda x, y: list(y)[1:] if(x == 0) else y)\n",
        "\n",
        "total_amount_price_year = header_drop_rdd.map(lambda x: (x[YEAR], (float(x[AMOUNT]), float(x[PRICE]))))\\\n",
        "                                         .reduceByKey(lambda x, y: (x[0] + y[0], x[1] + y[1]))\\\n",
        "                                         .sortByKey()\n",
        "\n",
        "comm_mean_year = total_amount_price_year.mapValues(lambda x: x[1] / x[0])\n",
        "\n",
        "# comm_mean_year.take(50)\n",
        "\n",
        "comm_mean_year.coalesce(1).saveAsTextFile(\"EX4.txt\")"
      ],
      "metadata": {
        "id": "rYP6M0Gql99a"
      },
      "execution_count": null,
      "outputs": []
    },
    {
      "cell_type": "markdown",
      "source": [
        "### **5)** Média de preços de commodities por tipo de unidade, ano e categoria no fluxo de exportação do Brasil"
      ],
      "metadata": {
        "id": "I6HmrXh3TdJR"
      }
    },
    {
      "cell_type": "code",
      "source": [
        "bra_ex_flow = rdd.filter(lambda x: x[COUNTRY] == \"Brazil\" and x[FLOW] == \"Export\")\n",
        "\n",
        "key_rdd = bra_ex_flow.map(lambda x: ((x[YEAR], x[CATEGORY], x[UNIT]), (float(x[AMOUNT]), float(x[PRICE]))))\\\n",
        "                     .reduceByKey(lambda x, y: (x[0] + y[0], x[1] + y[1]))\\\n",
        "                     .sortByKey()\n",
        "\n",
        "mean_calc = key_rdd.mapValues(lambda x: x[1] / x[0])\n",
        "\n",
        "# mean_calc.take(50)\n",
        "\n",
        "mean_calc.coalesce(1).saveAsTextFile(\"EX5.txt\")"
      ],
      "metadata": {
        "id": "wZj4dfzZTvme"
      },
      "execution_count": null,
      "outputs": []
    },
    {
      "cell_type": "markdown",
      "source": [
        "### **6)** O máximo, mínimo e médio preço de transação por tipo de unidade e ano"
      ],
      "metadata": {
        "id": "he9GdoiCTyD2"
      }
    },
    {
      "cell_type": "code",
      "source": [
        "header_drop_rdd = rdd.mapPartitionsWithIndex(lambda x, y: list(y)[1:] if(x == 0) else y)\n",
        "\n",
        "unit_price_year = header_drop_rdd.map(lambda x: ((x[YEAR], x[UNIT]), int(x[PRICE])))\n",
        "\n",
        "count = unit_price_year.mapValues(lambda x: 1).reduceByKey(lambda x, y: x + y)\n",
        "\n",
        "MIN = unit_price_year.reduceByKey(lambda x, y: x if x < y else y)\n",
        "\n",
        "MAX = unit_price_year.reduceByKey(lambda x, y: x if x > y else y)\n",
        "\n",
        "total = unit_price_year.reduceByKey(lambda x, y: x + y)\n",
        "\n",
        "mean = total.join(count).mapValues(lambda x: int(x[0] / x[1]))\n",
        "\n",
        "result = MIN.join(MAX).join(mean).sortByKey()\n",
        "\n",
        "# result.take(50)\n",
        "\n",
        "result.coalesce(1).saveAsTextFile(\"EX6.txt\")"
      ],
      "metadata": {
        "id": "F7e-oBJBUCz4"
      },
      "execution_count": null,
      "outputs": []
    },
    {
      "cell_type": "markdown",
      "source": [
        "### **7)** A commodity mais comercializada (somando as quantidades) em 2016, por tipo de fluxo"
      ],
      "metadata": {
        "id": "Od4nkEFGUJKJ"
      }
    },
    {
      "cell_type": "code",
      "source": [
        "year_rdd = rdd.filter(lambda x: x[YEAR] == \"2016\")\n",
        "\n",
        "sum_key_rdd = year_rdd.map(lambda x: ((x[COMMODITY], x[FLOW]), float(x[AMOUNT])))\\\n",
        "                      .reduceByKey(lambda x, y: x + y)\n",
        "\n",
        "MAX_comm_flow_type = sum_key_rdd.map(lambda x: (x[0][1], (x[0][0], x[1])))\\\n",
        "                                .reduceByKey(lambda x, y: x if x[1] > y[1] else y)\n",
        "\n",
        "# MAX_comm_flow_type.collect()\n",
        "\n",
        "MAX_comm_flow_type.coalesce(1).saveAsTextFile(\"EX7.txt\")"
      ],
      "metadata": {
        "id": "5xq0stXpUTbA"
      },
      "execution_count": null,
      "outputs": []
    }
  ]
}