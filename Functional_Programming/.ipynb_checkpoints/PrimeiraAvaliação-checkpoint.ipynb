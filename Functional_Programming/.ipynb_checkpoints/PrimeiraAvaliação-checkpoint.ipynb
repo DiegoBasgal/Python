{
 "cells": [
  {
   "cell_type": "markdown",
   "metadata": {},
   "source": [
    "# Pontifícia Universidade Católica do Paraná"
   ]
  },
  {
   "cell_type": "markdown",
   "metadata": {},
   "source": [
    "## Bacharelado em Ciência da Computação"
   ]
  },
  {
   "cell_type": "markdown",
   "metadata": {},
   "source": [
    "### Programação Funcional"
   ]
  },
  {
   "cell_type": "markdown",
   "metadata": {},
   "source": [
    "#### Primeira Avaliação  - 1/10/2020"
   ]
  },
  {
   "cell_type": "markdown",
   "metadata": {},
   "source": [
    "`Nome completo do(a) estudante`: Diego Basgal Gasparoto Garcia"
   ]
  },
  {
   "cell_type": "markdown",
   "metadata": {},
   "source": [
    "`1. Observação: a interpretação das questões faz parte da prova`"
   ]
  },
  {
   "cell_type": "markdown",
   "metadata": {},
   "source": [
    "`2. A avaliação deve ser resolvida por preenchimento deste notebook`\n",
    "\n",
    "`3. Postar a sua resolução na pasta de exercício Primeira Avaliação do Blackboard`\n",
    "\n",
    "`4. As implementações devem ser exclusivamente em linguagem Julia`\n",
    "\n",
    "`5. Provas com quatões copiadas total ou parcialmente serão anuladas`"
   ]
  },
  {
   "cell_type": "markdown",
   "metadata": {},
   "source": [
    "### ***Questão 1***"
   ]
  },
  {
   "cell_type": "markdown",
   "metadata": {},
   "source": [
    "- Escreva a sequência a seguir em ***notação de somatório*** para um número $n$ de termos dado:\n",
    "\n",
    "$$\\frac{1}{2}, \\frac{2}{3}, \\frac{3}{4},  \\frac{4}{5}, \\cdots $$"
   ]
  },
  {
   "cell_type": "markdown",
   "metadata": {},
   "source": [
    "#### *Resolução da Questão 1* (`1 ponto`)"
   ]
  },
  {
   "cell_type": "markdown",
   "metadata": {},
   "source": [
    "$$\\sum_{k = 1}^{n-1} {n\\over k+1}$$"
   ]
  },
  {
   "cell_type": "markdown",
   "metadata": {},
   "source": [
    "### ***Questão 2***"
   ]
  },
  {
   "cell_type": "markdown",
   "metadata": {},
   "source": [
    "- Considere a série:\n",
    "\n",
    "$$\\frac{1}{2}+ \\frac{2}{3}+ \\frac{3}{4}+  \\frac{4}{5}+ \\cdots $$\n",
    "\n",
    "Para cada um dos modelos computacionais citados a seguir, escreva uma função que calcule o valor do somatório, com o número $n$ de parcelas passado como parâmetro:\n",
    "\n",
    "  - (a) o *Paradigma Imperativo de Programação* (`1,5 pontos`)\n",
    "  - (b) o *Paradigma Funcional* com uma função recursiva dotada de um único parâmetro (`1,5 pontos`)\n",
    "  - (c) o *Paradigma Funcional* com recursividade de cauda (`1,5 pontos`)"
   ]
  },
  {
   "cell_type": "markdown",
   "metadata": {},
   "source": [
    "#### *Resolução da Questão 2* (`4,5 pontos`)"
   ]
  },
  {
   "cell_type": "code",
   "execution_count": 158,
   "metadata": {},
   "outputs": [
    {
     "data": {
      "text/plain": [
       "imperativo (generic function with 1 method)"
      ]
     },
     "execution_count": 158,
     "metadata": {},
     "output_type": "execute_result"
    }
   ],
   "source": [
    "# (a) Paradigma Imperativo de Programação\n",
    "\n",
    "function imperativo(n)\n",
    "    x=1\n",
    "    y=0\n",
    "    while x <= n\n",
    "        y+= x/(x+1)\n",
    "        x+= 1\n",
    "    end\n",
    "    return y\n",
    "end"
   ]
  },
  {
   "cell_type": "code",
   "execution_count": 168,
   "metadata": {},
   "outputs": [
    {
     "name": "stdout",
     "output_type": "stream",
     "text": [
      "  0.000000 seconds\n"
     ]
    },
    {
     "data": {
      "text/plain": [
       "1.1666666666666665"
      ]
     },
     "execution_count": 168,
     "metadata": {},
     "output_type": "execute_result"
    }
   ],
   "source": [
    "@time begin\n",
    "    imperativo(2)\n",
    "end"
   ]
  },
  {
   "cell_type": "code",
   "execution_count": 167,
   "metadata": {},
   "outputs": [
    {
     "data": {
      "text/plain": [
       "recursiva (generic function with 1 method)"
      ]
     },
     "execution_count": 167,
     "metadata": {},
     "output_type": "execute_result"
    }
   ],
   "source": [
    "# (b) Paradigma Funcional com uma função recursiva dotada de um único parâmetro\n",
    "\n",
    "function recursiva(n)\n",
    "    if n==0\n",
    "        return n\n",
    "    end\n",
    "    return recursiva(n-1)+(n/(n+1))\n",
    "end"
   ]
  },
  {
   "cell_type": "code",
   "execution_count": 166,
   "metadata": {},
   "outputs": [
    {
     "name": "stdout",
     "output_type": "stream",
     "text": [
      "  0.000000 seconds\n"
     ]
    },
    {
     "data": {
      "text/plain": [
       "1.1666666666666665"
      ]
     },
     "execution_count": 166,
     "metadata": {},
     "output_type": "execute_result"
    }
   ],
   "source": [
    "@time begin\n",
    "    recursiva(2)\n",
    "end"
   ]
  },
  {
   "cell_type": "code",
   "execution_count": 165,
   "metadata": {},
   "outputs": [
    {
     "data": {
      "text/plain": [
       "cauda (generic function with 2 methods)"
      ]
     },
     "execution_count": 165,
     "metadata": {},
     "output_type": "execute_result"
    }
   ],
   "source": [
    "# (c) Paradigma Funcional com recursividade de cauda\n",
    "\n",
    "function cauda(n, x=0.5)\n",
    "    if n==0\n",
    "        return 0\n",
    "    elseif n==1\n",
    "        return x\n",
    "    else\n",
    "        return cauda(n-1, n/(n+1))+x\n",
    "    end\n",
    "end"
   ]
  },
  {
   "cell_type": "code",
   "execution_count": 164,
   "metadata": {},
   "outputs": [
    {
     "name": "stdout",
     "output_type": "stream",
     "text": [
      "  0.000000 seconds\n"
     ]
    },
    {
     "data": {
      "text/plain": [
       "1.1666666666666665"
      ]
     },
     "execution_count": 164,
     "metadata": {},
     "output_type": "execute_result"
    }
   ],
   "source": [
    "@time begin\n",
    "    cauda(2)\n",
    "end"
   ]
  },
  {
   "cell_type": "markdown",
   "metadata": {},
   "source": [
    "### ***Questão 3***"
   ]
  },
  {
   "cell_type": "markdown",
   "metadata": {},
   "source": [
    "- Realize medições de performance para as funções implementadas na questão anterior.\n",
    "1. Faça a tabulação dos ***tempos de execução*** dos métodos à medida em que se varia o número $n$ de parcelas para respectivamente $10$, $100$, $1000$, $10000$.  (`1,5 pontos`)\n",
    "1. Verifique ***qual é o maior valor de $n$*** com que você consegue executar cada função, antes que ocorra algum tipo de parada de execução.  (`1 ponto`)"
   ]
  },
  {
   "cell_type": "markdown",
   "metadata": {},
   "source": [
    "#### *Resolução da Questão 3* (`2,5 pontos`)"
   ]
  },
  {
   "cell_type": "code",
   "execution_count": 248,
   "metadata": {},
   "outputs": [
    {
     "name": "stdout",
     "output_type": "stream",
     "text": [
      "Funções com valor 10 \n",
      "\n",
      "Tempo imperativa:  0.000000 seconds\n",
      "Tempo recursiva:  0.000001 seconds\n",
      "Tempo recursiva com cauda:  0.000000 seconds\n"
     ]
    }
   ],
   "source": [
    "print(\"Funções com valor 10 \\n\\n\")\n",
    "print(\"Tempo imperativa:\")\n",
    "@time begin\n",
    "    imperativo(10)\n",
    "end\n",
    "print(\"Tempo recursiva:\")\n",
    "@time begin\n",
    "    recursiva(10)\n",
    "end\n",
    "print(\"Tempo recursiva com cauda:\")\n",
    "@time begin\n",
    "    cauda(10)\n",
    "end\n",
    "print()"
   ]
  },
  {
   "cell_type": "code",
   "execution_count": 249,
   "metadata": {},
   "outputs": [
    {
     "name": "stdout",
     "output_type": "stream",
     "text": [
      "Funções com valor 100 \n",
      "\n",
      "Tempo imperativa:  0.000000 seconds\n",
      "Tempo recursiva:  0.000001 seconds\n",
      "Tempo recursiva com cauda:  0.000001 seconds\n"
     ]
    }
   ],
   "source": [
    "print(\"Funções com valor 100 \\n\\n\")\n",
    "print(\"Tempo imperativa:\")\n",
    "@time begin\n",
    "    imperativo(100)\n",
    "end\n",
    "print(\"Tempo recursiva:\")\n",
    "@time begin\n",
    "    recursiva(100)\n",
    "end\n",
    "print(\"Tempo recursiva com cauda:\")\n",
    "@time begin\n",
    "    cauda(100)\n",
    "end\n",
    "print()"
   ]
  },
  {
   "cell_type": "code",
   "execution_count": 250,
   "metadata": {},
   "outputs": [
    {
     "name": "stdout",
     "output_type": "stream",
     "text": [
      "Funções com valor 1000 \n",
      "\n",
      "Tempo imperativa:  0.000000 seconds\n",
      "Tempo recursiva:  0.000022 seconds\n",
      "Tempo recursiva com cauda:  0.000012 seconds\n"
     ]
    }
   ],
   "source": [
    "print(\"Funções com valor 1000 \\n\\n\")\n",
    "print(\"Tempo imperativa:\")\n",
    "@time begin\n",
    "    imperativo(1000)\n",
    "end\n",
    "print(\"Tempo recursiva:\")\n",
    "@time begin\n",
    "    recursiva(1000)\n",
    "end\n",
    "print(\"Tempo recursiva com cauda:\")\n",
    "@time begin\n",
    "    cauda(1000)\n",
    "end\n",
    "print()"
   ]
  },
  {
   "cell_type": "code",
   "execution_count": 251,
   "metadata": {},
   "outputs": [
    {
     "name": "stdout",
     "output_type": "stream",
     "text": [
      "Funções com valor 10000 \n",
      "\n",
      "Tempo imperativa:  0.000000 seconds\n",
      "Tempo recursiva:  0.000177 seconds\n",
      "Tempo recursiva com cauda:  0.000125 seconds\n"
     ]
    }
   ],
   "source": [
    "print(\"Funções com valor 10000 \\n\\n\")\n",
    "print(\"Tempo imperativa:\")\n",
    "@time begin\n",
    "    imperativo(10000)\n",
    "end\n",
    "print(\"Tempo recursiva:\")\n",
    "@time begin\n",
    "    recursiva(10000)\n",
    "end\n",
    "print(\"Tempo recursiva com cauda:\")\n",
    "@time begin\n",
    "    cauda(10000)\n",
    "end\n",
    "print()"
   ]
  },
  {
   "cell_type": "code",
   "execution_count": 256,
   "metadata": {},
   "outputs": [
    {
     "name": "stdout",
     "output_type": "stream",
     "text": [
      "Funções com valor MÁX \n",
      "\n",
      "Recursiva = 52214\n",
      "Recursiva com cauda = 43513\n",
      "\n",
      "Tempo recursiva:  0.002269 seconds\n",
      "Tempo recursiva com cauda:  0.000819 seconds\n"
     ]
    }
   ],
   "source": [
    "print(\"Funções com valor MÁX \\n\\n\")\n",
    "print(\"Recursiva = 52214\\n\")\n",
    "print(\"Recursiva com cauda = 43513\\n\\n\")\n",
    "print(\"Tempo recursiva:\")\n",
    "@time begin\n",
    "    recursiva(52214)\n",
    "end\n",
    "print(\"Tempo recursiva com cauda:\")\n",
    "@time begin\n",
    "    cauda(43513)\n",
    "end\n",
    "print()"
   ]
  },
  {
   "cell_type": "markdown",
   "metadata": {},
   "source": [
    "### Questão 4"
   ]
  },
  {
   "cell_type": "markdown",
   "metadata": {},
   "source": [
    "Utilize o ***combinador Z*** para computar, recursivamente, a soma\n",
    "\n",
    "$$1 + 2 + 3 + 4+ \\cdots + n$$\n",
    "\n",
    "para um número de parcelas $n$ passado como parâmetro."
   ]
  },
  {
   "cell_type": "markdown",
   "metadata": {},
   "source": [
    "#### *Resolução da Questão 4* (`1 ponto`)"
   ]
  },
  {
   "cell_type": "code",
   "execution_count": 289,
   "metadata": {},
   "outputs": [
    {
     "data": {
      "text/plain": [
       "#631 (generic function with 1 method)"
      ]
     },
     "execution_count": 289,
     "metadata": {},
     "output_type": "execute_result"
    }
   ],
   "source": [
    "Zcombiner = f->((x->(f(y->((x(x))(y)))))(x->(f(y->((x(x))(y))))))\n",
    "\n",
    "Ucombiner = f->f(f)\n",
    "\n",
    "Zrecursive = f->n->n==1 ? 1 : n+f(n-1)\n",
    "\n",
    "Urecursive = f->n->n==1 ? 1 : n+(f(f)(n-1))"
   ]
  },
  {
   "cell_type": "code",
   "execution_count": 285,
   "metadata": {},
   "outputs": [
    {
     "name": "stdout",
     "output_type": "stream",
     "text": [
      "Tempo combinador Z:  0.013784 seconds (9.15 k allocations: 519.848 KiB)\n"
     ]
    },
    {
     "data": {
      "text/plain": [
       "50005000"
      ]
     },
     "execution_count": 285,
     "metadata": {},
     "output_type": "execute_result"
    }
   ],
   "source": [
    "print(\"Tempo combinador Z:\")\n",
    "@time begin\n",
    "    Zcombiner(Zrecursive)(10000)\n",
    "end"
   ]
  },
  {
   "cell_type": "code",
   "execution_count": 287,
   "metadata": {},
   "outputs": [
    {
     "name": "stdout",
     "output_type": "stream",
     "text": [
      "Tempo combinador U:  0.006512 seconds (2.77 k allocations: 159.416 KiB)\n"
     ]
    },
    {
     "data": {
      "text/plain": [
       "50005000"
      ]
     },
     "execution_count": 287,
     "metadata": {},
     "output_type": "execute_result"
    }
   ],
   "source": [
    "print(\"Tempo combinador U:\")\n",
    "@time begin\n",
    "    Ucombiner(Urecursive)(10000)\n",
    "end"
   ]
  },
  {
   "cell_type": "markdown",
   "metadata": {},
   "source": [
    "### Questão 5"
   ]
  },
  {
   "cell_type": "markdown",
   "metadata": {},
   "source": [
    "Como você analisa a viabilidade de computar o somatório da questão anterior utilizando os combinadores ***U***, ***Y*** e ***Z***? Cite algumas linguagens em que essas computações podem ou não ser feitas. (Resposta com o mínimo de cinco linhas.)"
   ]
  },
  {
   "cell_type": "markdown",
   "metadata": {},
   "source": [
    "#### Resolução da Questão 5 (`1 ponto`)"
   ]
  },
  {
   "cell_type": "markdown",
   "metadata": {},
   "source": [
    "Visando a questão anterior podemos utilizar todos os tipos de combinadores(***U***, ***Y*** e ***Z***). Utilizando o combinador ***U*** teremos o menor tempo de resposta, por possuir uma chamada mais simples e direta. Dentre linguagens que podem utilizar lambda calculo temos: Python; C/C#; Java/Script; Lisp; Rebol; Scheme. Vale lembrar que podemos identificar alguns problemas de recursão ao utilizar os combinadores ***Y*** e ***Z*** em linguagens que apresentam tipagem forte. Para poder aplicar corretamente tais combinadores nessas linguagens, deve ser usado extensões como a da linguagem JULIA ou extensões que apresentem melhor execução para lambda cálculo."
   ]
  }
 ],
 "metadata": {
  "kernelspec": {
   "display_name": "Julia 1.5.0",
   "language": "julia",
   "name": "julia-1.5"
  },
  "language_info": {
   "file_extension": ".jl",
   "mimetype": "application/julia",
   "name": "julia",
   "version": "1.5.0"
  }
 },
 "nbformat": 4,
 "nbformat_minor": 4
}
