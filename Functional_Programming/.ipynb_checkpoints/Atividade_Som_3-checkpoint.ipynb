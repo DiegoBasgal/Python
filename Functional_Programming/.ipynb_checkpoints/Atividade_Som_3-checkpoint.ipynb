{
 "cells": [
  {
   "cell_type": "markdown",
   "metadata": {},
   "source": [
    "# Avaliação formativa 3 - Combinador em Y\n",
    "Diego Basgal Gasparoto Garcia"
   ]
  },
  {
   "cell_type": "markdown",
   "metadata": {},
   "source": [
    "Aplique o combinador $Y$ a uma função denominada $F$ (para simbolizar uma função qualquer) e verifique o que é que se obtem como resultado."
   ]
  },
  {
   "cell_type": "markdown",
   "metadata": {},
   "source": [
    "$$Y\\ F$$\n",
    "\n",
    "$$(\\lambda f. ((\\lambda x . f(x\\ x)) (\\lambda x . f(x\\ x))))\\ F$$"
   ]
  },
  {
   "cell_type": "markdown",
   "metadata": {},
   "source": [
    "Exercício:\n",
    "\n",
    "1. Implemente o combinador **Y** em `Julia`"
   ]
  },
  {
   "cell_type": "code",
   "execution_count": 9,
   "metadata": {},
   "outputs": [
    {
     "data": {
      "text/plain": [
       "#19 (generic function with 1 method)"
      ]
     },
     "execution_count": 9,
     "metadata": {},
     "output_type": "execute_result"
    }
   ],
   "source": [
    "Y=(F->((x->F(x,x))(x->F(x,x))))"
   ]
  }
 ],
 "metadata": {
  "kernelspec": {
   "display_name": "Julia 1.5.0",
   "language": "julia",
   "name": "julia-1.5"
  },
  "language_info": {
   "file_extension": ".jl",
   "mimetype": "application/julia",
   "name": "julia",
   "version": "1.5.0"
  }
 },
 "nbformat": 4,
 "nbformat_minor": 4
}
