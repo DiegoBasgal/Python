{
  "nbformat": 4,
  "nbformat_minor": 0,
  "metadata": {
    "colab": {
      "name": "DataScience.ipynb",
      "provenance": [],
      "collapsed_sections": [
        "0_Yp17UyquH8",
        "qk78XxTEQCW4",
        "UXSFoSX_UJ9y",
        "JbsY5LjZUJ_T",
        "7YDO9sw7UJ_3",
        "pk0bW0uPVnvo",
        "_q__jCFjWD5d",
        "XWGGCUlWfZWq",
        "9Mew4huat5I1",
        "DbwQPea6v4w0",
        "q4x9fqhUCDx2"
      ]
    },
    "kernelspec": {
      "display_name": "Python 3",
      "language": "python",
      "name": "python3"
    },
    "language_info": {
      "codemirror_mode": {
        "name": "ipython",
        "version": 3
      },
      "file_extension": ".py",
      "mimetype": "text/x-python",
      "name": "python",
      "nbconvert_exporter": "python",
      "pygments_lexer": "ipython3",
      "version": "3.8.3"
    }
  },
  "cells": [
    {
      "cell_type": "markdown",
      "metadata": {
        "id": "heGWitZUg9r9"
      },
      "source": [
        "# Imports\n"
      ]
    },
    {
      "cell_type": "code",
      "metadata": {
        "id": "YURHQlj-lHDe"
      },
      "source": [
        "# Imports\n",
        "import pandas as pd\n",
        "import numpy as np\n",
        "import matplotlib.pyplot as plt\n",
        "import seaborn as sns\n",
        "from scipy import stats\n",
        "from statsmodels.stats.outliers_influence import variance_inflation_factor\n",
        "\n",
        "from sklearn.preprocessing import StandardScaler, MinMaxScaler, RobustScaler, PowerTransformer\n",
        "\n",
        "from sklearn.tree import DecisionTreeClassifier\n",
        "from sklearn.neighbors import  KNeighborsClassifier\n",
        "from sklearn.model_selection import LeaveOneOut\n",
        "from sklearn.metrics import accuracy_score\n",
        "\n",
        "from itertools import chain, combinations\n",
        "\n",
        "from sklearn.linear_model  import LogisticRegression\n",
        "from sklearn.feature_selection import RFECV, SelectKBest\n",
        "\n",
        "from sklearn import tree"
      ],
      "execution_count": null,
      "outputs": []
    },
    {
      "cell_type": "markdown",
      "metadata": {
        "id": "0_Yp17UyquH8"
      },
      "source": [
        "# Aula 03/20 - Pandas\n"
      ]
    },
    {
      "cell_type": "code",
      "metadata": {
        "id": "hjI_l5Ihsc2W"
      },
      "source": [
        "#Loading base of datas\n",
        "df = pd.read_csv('http://www.ppgia.pucpr.br/~jean.barddal/datascience/kobe_shots.csv')"
      ],
      "execution_count": null,
      "outputs": []
    },
    {
      "cell_type": "code",
      "metadata": {
        "id": "ph2LJo1rtKGR",
        "outputId": "ab16c77a-6c60-42a9-eef6-575927b60f98",
        "colab": {
          "base_uri": "https://localhost:8080/",
          "height": 554
        }
      },
      "source": [
        "df.info()"
      ],
      "execution_count": null,
      "outputs": [
        {
          "output_type": "stream",
          "text": [
            "<class 'pandas.core.frame.DataFrame'>\n",
            "RangeIndex: 30697 entries, 0 to 30696\n",
            "Data columns (total 25 columns):\n",
            " #   Column              Non-Null Count  Dtype  \n",
            "---  ------              --------------  -----  \n",
            " 0   action_type         30697 non-null  object \n",
            " 1   combined_shot_type  30697 non-null  object \n",
            " 2   game_event_id       30697 non-null  int64  \n",
            " 3   game_id             30697 non-null  int64  \n",
            " 4   lat                 30697 non-null  float64\n",
            " 5   loc_x               30697 non-null  int64  \n",
            " 6   loc_y               30697 non-null  int64  \n",
            " 7   lon                 30697 non-null  float64\n",
            " 8   minutes_remaining   30697 non-null  int64  \n",
            " 9   period              30697 non-null  int64  \n",
            " 10  playoffs            30697 non-null  int64  \n",
            " 11  season              30697 non-null  object \n",
            " 12  seconds_remaining   30697 non-null  int64  \n",
            " 13  shot_distance       30697 non-null  int64  \n",
            " 14  shot_made_flag      25697 non-null  float64\n",
            " 15  shot_type           30697 non-null  object \n",
            " 16  shot_zone_area      30697 non-null  object \n",
            " 17  shot_zone_basic     30697 non-null  object \n",
            " 18  shot_zone_range     30697 non-null  object \n",
            " 19  team_id             30697 non-null  int64  \n",
            " 20  team_name           30697 non-null  object \n",
            " 21  game_date           30697 non-null  object \n",
            " 22  matchup             30697 non-null  object \n",
            " 23  opponent            30697 non-null  object \n",
            " 24  shot_id             30697 non-null  int64  \n",
            "dtypes: float64(3), int64(11), object(11)\n",
            "memory usage: 5.9+ MB\n"
          ],
          "name": "stdout"
        }
      ]
    },
    {
      "cell_type": "code",
      "metadata": {
        "id": "ez4zAiLGuJ0L",
        "outputId": "50d25eda-9ef0-48fc-ae06-a2dfa15eb5b1",
        "colab": {
          "base_uri": "https://localhost:8080/",
          "height": 50
        }
      },
      "source": [
        "#get number row and cows -> shape\n",
        "n_rows,n_cows = df.shape\n",
        "print(n_rows)\n",
        "print(n_cows)"
      ],
      "execution_count": null,
      "outputs": [
        {
          "output_type": "stream",
          "text": [
            "30697\n",
            "25\n"
          ],
          "name": "stdout"
        }
      ]
    },
    {
      "cell_type": "code",
      "metadata": {
        "id": "32kcfZswu3gd",
        "outputId": "e878aec7-59ae-4728-c44e-6a806dc1cc81",
        "colab": {
          "base_uri": "https://localhost:8080/",
          "height": 383
        }
      },
      "source": [
        "#show the beging  of dataset\n",
        "df.head(5)"
      ],
      "execution_count": null,
      "outputs": [
        {
          "output_type": "execute_result",
          "data": {
            "text/html": [
              "<div>\n",
              "<style scoped>\n",
              "    .dataframe tbody tr th:only-of-type {\n",
              "        vertical-align: middle;\n",
              "    }\n",
              "\n",
              "    .dataframe tbody tr th {\n",
              "        vertical-align: top;\n",
              "    }\n",
              "\n",
              "    .dataframe thead th {\n",
              "        text-align: right;\n",
              "    }\n",
              "</style>\n",
              "<table border=\"1\" class=\"dataframe\">\n",
              "  <thead>\n",
              "    <tr style=\"text-align: right;\">\n",
              "      <th></th>\n",
              "      <th>action_type</th>\n",
              "      <th>combined_shot_type</th>\n",
              "      <th>game_event_id</th>\n",
              "      <th>game_id</th>\n",
              "      <th>lat</th>\n",
              "      <th>loc_x</th>\n",
              "      <th>loc_y</th>\n",
              "      <th>lon</th>\n",
              "      <th>minutes_remaining</th>\n",
              "      <th>period</th>\n",
              "      <th>playoffs</th>\n",
              "      <th>season</th>\n",
              "      <th>seconds_remaining</th>\n",
              "      <th>shot_distance</th>\n",
              "      <th>shot_made_flag</th>\n",
              "      <th>shot_type</th>\n",
              "      <th>shot_zone_area</th>\n",
              "      <th>shot_zone_basic</th>\n",
              "      <th>shot_zone_range</th>\n",
              "      <th>team_id</th>\n",
              "      <th>team_name</th>\n",
              "      <th>game_date</th>\n",
              "      <th>matchup</th>\n",
              "      <th>opponent</th>\n",
              "      <th>shot_id</th>\n",
              "    </tr>\n",
              "  </thead>\n",
              "  <tbody>\n",
              "    <tr>\n",
              "      <th>0</th>\n",
              "      <td>Jump Shot</td>\n",
              "      <td>Jump Shot</td>\n",
              "      <td>10</td>\n",
              "      <td>20000012</td>\n",
              "      <td>33.9723</td>\n",
              "      <td>167</td>\n",
              "      <td>72</td>\n",
              "      <td>-118.1028</td>\n",
              "      <td>10</td>\n",
              "      <td>1</td>\n",
              "      <td>0</td>\n",
              "      <td>2000-01</td>\n",
              "      <td>27</td>\n",
              "      <td>18</td>\n",
              "      <td>NaN</td>\n",
              "      <td>2PT Field Goal</td>\n",
              "      <td>Right Side(R)</td>\n",
              "      <td>Mid-Range</td>\n",
              "      <td>16-24 ft.</td>\n",
              "      <td>1610612747</td>\n",
              "      <td>Los Angeles Lakers</td>\n",
              "      <td>2000-10-31</td>\n",
              "      <td>LAL @ POR</td>\n",
              "      <td>POR</td>\n",
              "      <td>1</td>\n",
              "    </tr>\n",
              "    <tr>\n",
              "      <th>1</th>\n",
              "      <td>Jump Shot</td>\n",
              "      <td>Jump Shot</td>\n",
              "      <td>12</td>\n",
              "      <td>20000012</td>\n",
              "      <td>34.0443</td>\n",
              "      <td>-157</td>\n",
              "      <td>0</td>\n",
              "      <td>-118.4268</td>\n",
              "      <td>10</td>\n",
              "      <td>1</td>\n",
              "      <td>0</td>\n",
              "      <td>2000-01</td>\n",
              "      <td>22</td>\n",
              "      <td>15</td>\n",
              "      <td>0.0</td>\n",
              "      <td>2PT Field Goal</td>\n",
              "      <td>Left Side(L)</td>\n",
              "      <td>Mid-Range</td>\n",
              "      <td>8-16 ft.</td>\n",
              "      <td>1610612747</td>\n",
              "      <td>Los Angeles Lakers</td>\n",
              "      <td>2000-10-31</td>\n",
              "      <td>LAL @ POR</td>\n",
              "      <td>POR</td>\n",
              "      <td>2</td>\n",
              "    </tr>\n",
              "    <tr>\n",
              "      <th>2</th>\n",
              "      <td>Jump Shot</td>\n",
              "      <td>Jump Shot</td>\n",
              "      <td>35</td>\n",
              "      <td>20000012</td>\n",
              "      <td>33.9093</td>\n",
              "      <td>-101</td>\n",
              "      <td>135</td>\n",
              "      <td>-118.3708</td>\n",
              "      <td>7</td>\n",
              "      <td>1</td>\n",
              "      <td>0</td>\n",
              "      <td>2000-01</td>\n",
              "      <td>45</td>\n",
              "      <td>16</td>\n",
              "      <td>1.0</td>\n",
              "      <td>2PT Field Goal</td>\n",
              "      <td>Left Side Center(LC)</td>\n",
              "      <td>Mid-Range</td>\n",
              "      <td>16-24 ft.</td>\n",
              "      <td>1610612747</td>\n",
              "      <td>Los Angeles Lakers</td>\n",
              "      <td>2000-10-31</td>\n",
              "      <td>LAL @ POR</td>\n",
              "      <td>POR</td>\n",
              "      <td>3</td>\n",
              "    </tr>\n",
              "    <tr>\n",
              "      <th>3</th>\n",
              "      <td>Jump Shot</td>\n",
              "      <td>Jump Shot</td>\n",
              "      <td>43</td>\n",
              "      <td>20000012</td>\n",
              "      <td>33.8693</td>\n",
              "      <td>138</td>\n",
              "      <td>175</td>\n",
              "      <td>-118.1318</td>\n",
              "      <td>6</td>\n",
              "      <td>1</td>\n",
              "      <td>0</td>\n",
              "      <td>2000-01</td>\n",
              "      <td>52</td>\n",
              "      <td>22</td>\n",
              "      <td>0.0</td>\n",
              "      <td>2PT Field Goal</td>\n",
              "      <td>Right Side Center(RC)</td>\n",
              "      <td>Mid-Range</td>\n",
              "      <td>16-24 ft.</td>\n",
              "      <td>1610612747</td>\n",
              "      <td>Los Angeles Lakers</td>\n",
              "      <td>2000-10-31</td>\n",
              "      <td>LAL @ POR</td>\n",
              "      <td>POR</td>\n",
              "      <td>4</td>\n",
              "    </tr>\n",
              "    <tr>\n",
              "      <th>4</th>\n",
              "      <td>Driving Dunk Shot</td>\n",
              "      <td>Dunk</td>\n",
              "      <td>155</td>\n",
              "      <td>20000012</td>\n",
              "      <td>34.0443</td>\n",
              "      <td>0</td>\n",
              "      <td>0</td>\n",
              "      <td>-118.2698</td>\n",
              "      <td>6</td>\n",
              "      <td>2</td>\n",
              "      <td>0</td>\n",
              "      <td>2000-01</td>\n",
              "      <td>19</td>\n",
              "      <td>0</td>\n",
              "      <td>1.0</td>\n",
              "      <td>2PT Field Goal</td>\n",
              "      <td>Center(C)</td>\n",
              "      <td>Restricted Area</td>\n",
              "      <td>Less Than 8 ft.</td>\n",
              "      <td>1610612747</td>\n",
              "      <td>Los Angeles Lakers</td>\n",
              "      <td>2000-10-31</td>\n",
              "      <td>LAL @ POR</td>\n",
              "      <td>POR</td>\n",
              "      <td>5</td>\n",
              "    </tr>\n",
              "  </tbody>\n",
              "</table>\n",
              "</div>"
            ],
            "text/plain": [
              "         action_type combined_shot_type  ...  opponent  shot_id\n",
              "0          Jump Shot          Jump Shot  ...       POR        1\n",
              "1          Jump Shot          Jump Shot  ...       POR        2\n",
              "2          Jump Shot          Jump Shot  ...       POR        3\n",
              "3          Jump Shot          Jump Shot  ...       POR        4\n",
              "4  Driving Dunk Shot               Dunk  ...       POR        5\n",
              "\n",
              "[5 rows x 25 columns]"
            ]
          },
          "metadata": {
            "tags": []
          },
          "execution_count": 83
        }
      ]
    },
    {
      "cell_type": "code",
      "metadata": {
        "id": "eiykNa5GvqxD",
        "outputId": "c8bfa886-e637-4eeb-8025-d6b956f7893a",
        "colab": {
          "base_uri": "https://localhost:8080/",
          "height": 383
        }
      },
      "source": [
        "#show the end of dataset \n",
        "df.tail(5)"
      ],
      "execution_count": null,
      "outputs": [
        {
          "output_type": "execute_result",
          "data": {
            "text/html": [
              "<div>\n",
              "<style scoped>\n",
              "    .dataframe tbody tr th:only-of-type {\n",
              "        vertical-align: middle;\n",
              "    }\n",
              "\n",
              "    .dataframe tbody tr th {\n",
              "        vertical-align: top;\n",
              "    }\n",
              "\n",
              "    .dataframe thead th {\n",
              "        text-align: right;\n",
              "    }\n",
              "</style>\n",
              "<table border=\"1\" class=\"dataframe\">\n",
              "  <thead>\n",
              "    <tr style=\"text-align: right;\">\n",
              "      <th></th>\n",
              "      <th>action_type</th>\n",
              "      <th>combined_shot_type</th>\n",
              "      <th>game_event_id</th>\n",
              "      <th>game_id</th>\n",
              "      <th>lat</th>\n",
              "      <th>loc_x</th>\n",
              "      <th>loc_y</th>\n",
              "      <th>lon</th>\n",
              "      <th>minutes_remaining</th>\n",
              "      <th>period</th>\n",
              "      <th>playoffs</th>\n",
              "      <th>season</th>\n",
              "      <th>seconds_remaining</th>\n",
              "      <th>shot_distance</th>\n",
              "      <th>shot_made_flag</th>\n",
              "      <th>shot_type</th>\n",
              "      <th>shot_zone_area</th>\n",
              "      <th>shot_zone_basic</th>\n",
              "      <th>shot_zone_range</th>\n",
              "      <th>team_id</th>\n",
              "      <th>team_name</th>\n",
              "      <th>game_date</th>\n",
              "      <th>matchup</th>\n",
              "      <th>opponent</th>\n",
              "      <th>shot_id</th>\n",
              "    </tr>\n",
              "  </thead>\n",
              "  <tbody>\n",
              "    <tr>\n",
              "      <th>30692</th>\n",
              "      <td>Jump Shot</td>\n",
              "      <td>Jump Shot</td>\n",
              "      <td>397</td>\n",
              "      <td>49900088</td>\n",
              "      <td>33.9963</td>\n",
              "      <td>1</td>\n",
              "      <td>48</td>\n",
              "      <td>-118.2688</td>\n",
              "      <td>6</td>\n",
              "      <td>4</td>\n",
              "      <td>1</td>\n",
              "      <td>1999-00</td>\n",
              "      <td>5</td>\n",
              "      <td>4</td>\n",
              "      <td>0.0</td>\n",
              "      <td>2PT Field Goal</td>\n",
              "      <td>Center(C)</td>\n",
              "      <td>In The Paint (Non-RA)</td>\n",
              "      <td>Less Than 8 ft.</td>\n",
              "      <td>1610612747</td>\n",
              "      <td>Los Angeles Lakers</td>\n",
              "      <td>2000-06-19</td>\n",
              "      <td>LAL vs. IND</td>\n",
              "      <td>IND</td>\n",
              "      <td>30693</td>\n",
              "    </tr>\n",
              "    <tr>\n",
              "      <th>30693</th>\n",
              "      <td>Tip Shot</td>\n",
              "      <td>Tip Shot</td>\n",
              "      <td>398</td>\n",
              "      <td>49900088</td>\n",
              "      <td>34.0443</td>\n",
              "      <td>0</td>\n",
              "      <td>0</td>\n",
              "      <td>-118.2698</td>\n",
              "      <td>6</td>\n",
              "      <td>4</td>\n",
              "      <td>1</td>\n",
              "      <td>1999-00</td>\n",
              "      <td>5</td>\n",
              "      <td>0</td>\n",
              "      <td>NaN</td>\n",
              "      <td>2PT Field Goal</td>\n",
              "      <td>Center(C)</td>\n",
              "      <td>Restricted Area</td>\n",
              "      <td>Less Than 8 ft.</td>\n",
              "      <td>1610612747</td>\n",
              "      <td>Los Angeles Lakers</td>\n",
              "      <td>2000-06-19</td>\n",
              "      <td>LAL vs. IND</td>\n",
              "      <td>IND</td>\n",
              "      <td>30694</td>\n",
              "    </tr>\n",
              "    <tr>\n",
              "      <th>30694</th>\n",
              "      <td>Running Jump Shot</td>\n",
              "      <td>Jump Shot</td>\n",
              "      <td>426</td>\n",
              "      <td>49900088</td>\n",
              "      <td>33.8783</td>\n",
              "      <td>-134</td>\n",
              "      <td>166</td>\n",
              "      <td>-118.4038</td>\n",
              "      <td>3</td>\n",
              "      <td>4</td>\n",
              "      <td>1</td>\n",
              "      <td>1999-00</td>\n",
              "      <td>28</td>\n",
              "      <td>21</td>\n",
              "      <td>1.0</td>\n",
              "      <td>2PT Field Goal</td>\n",
              "      <td>Left Side Center(LC)</td>\n",
              "      <td>Mid-Range</td>\n",
              "      <td>16-24 ft.</td>\n",
              "      <td>1610612747</td>\n",
              "      <td>Los Angeles Lakers</td>\n",
              "      <td>2000-06-19</td>\n",
              "      <td>LAL vs. IND</td>\n",
              "      <td>IND</td>\n",
              "      <td>30695</td>\n",
              "    </tr>\n",
              "    <tr>\n",
              "      <th>30695</th>\n",
              "      <td>Jump Shot</td>\n",
              "      <td>Jump Shot</td>\n",
              "      <td>448</td>\n",
              "      <td>49900088</td>\n",
              "      <td>33.7773</td>\n",
              "      <td>31</td>\n",
              "      <td>267</td>\n",
              "      <td>-118.2388</td>\n",
              "      <td>2</td>\n",
              "      <td>4</td>\n",
              "      <td>1</td>\n",
              "      <td>1999-00</td>\n",
              "      <td>10</td>\n",
              "      <td>26</td>\n",
              "      <td>0.0</td>\n",
              "      <td>3PT Field Goal</td>\n",
              "      <td>Center(C)</td>\n",
              "      <td>Above the Break 3</td>\n",
              "      <td>24+ ft.</td>\n",
              "      <td>1610612747</td>\n",
              "      <td>Los Angeles Lakers</td>\n",
              "      <td>2000-06-19</td>\n",
              "      <td>LAL vs. IND</td>\n",
              "      <td>IND</td>\n",
              "      <td>30696</td>\n",
              "    </tr>\n",
              "    <tr>\n",
              "      <th>30696</th>\n",
              "      <td>Jump Shot</td>\n",
              "      <td>Jump Shot</td>\n",
              "      <td>471</td>\n",
              "      <td>49900088</td>\n",
              "      <td>33.9723</td>\n",
              "      <td>1</td>\n",
              "      <td>72</td>\n",
              "      <td>-118.2688</td>\n",
              "      <td>0</td>\n",
              "      <td>4</td>\n",
              "      <td>1</td>\n",
              "      <td>1999-00</td>\n",
              "      <td>39</td>\n",
              "      <td>7</td>\n",
              "      <td>0.0</td>\n",
              "      <td>2PT Field Goal</td>\n",
              "      <td>Center(C)</td>\n",
              "      <td>In The Paint (Non-RA)</td>\n",
              "      <td>Less Than 8 ft.</td>\n",
              "      <td>1610612747</td>\n",
              "      <td>Los Angeles Lakers</td>\n",
              "      <td>2000-06-19</td>\n",
              "      <td>LAL vs. IND</td>\n",
              "      <td>IND</td>\n",
              "      <td>30697</td>\n",
              "    </tr>\n",
              "  </tbody>\n",
              "</table>\n",
              "</div>"
            ],
            "text/plain": [
              "             action_type combined_shot_type  ...  opponent  shot_id\n",
              "30692          Jump Shot          Jump Shot  ...       IND    30693\n",
              "30693           Tip Shot           Tip Shot  ...       IND    30694\n",
              "30694  Running Jump Shot          Jump Shot  ...       IND    30695\n",
              "30695          Jump Shot          Jump Shot  ...       IND    30696\n",
              "30696          Jump Shot          Jump Shot  ...       IND    30697\n",
              "\n",
              "[5 rows x 25 columns]"
            ]
          },
          "metadata": {
            "tags": []
          },
          "execution_count": 84
        }
      ]
    },
    {
      "cell_type": "code",
      "metadata": {
        "id": "Y4yS42ISv5K_",
        "outputId": "f883f682-4a42-458e-da0d-09fadd8e5291",
        "colab": {
          "base_uri": "https://localhost:8080/",
          "height": 218
        }
      },
      "source": [
        "# select cow action_type\n",
        "df['action_type']"
      ],
      "execution_count": null,
      "outputs": [
        {
          "output_type": "execute_result",
          "data": {
            "text/plain": [
              "0                Jump Shot\n",
              "1                Jump Shot\n",
              "2                Jump Shot\n",
              "3                Jump Shot\n",
              "4        Driving Dunk Shot\n",
              "               ...        \n",
              "30692            Jump Shot\n",
              "30693             Tip Shot\n",
              "30694    Running Jump Shot\n",
              "30695            Jump Shot\n",
              "30696            Jump Shot\n",
              "Name: action_type, Length: 30697, dtype: object"
            ]
          },
          "metadata": {
            "tags": []
          },
          "execution_count": 85
        }
      ]
    },
    {
      "cell_type": "code",
      "metadata": {
        "id": "ZElZP71HwTSV",
        "outputId": "df678e77-65df-42b2-cff8-2df8bd77501a",
        "colab": {
          "base_uri": "https://localhost:8080/",
          "height": 402
        }
      },
      "source": [
        "#select action_type and period\n",
        "df[['action_type','period']]"
      ],
      "execution_count": null,
      "outputs": [
        {
          "output_type": "execute_result",
          "data": {
            "text/html": [
              "<div>\n",
              "<style scoped>\n",
              "    .dataframe tbody tr th:only-of-type {\n",
              "        vertical-align: middle;\n",
              "    }\n",
              "\n",
              "    .dataframe tbody tr th {\n",
              "        vertical-align: top;\n",
              "    }\n",
              "\n",
              "    .dataframe thead th {\n",
              "        text-align: right;\n",
              "    }\n",
              "</style>\n",
              "<table border=\"1\" class=\"dataframe\">\n",
              "  <thead>\n",
              "    <tr style=\"text-align: right;\">\n",
              "      <th></th>\n",
              "      <th>action_type</th>\n",
              "      <th>period</th>\n",
              "    </tr>\n",
              "  </thead>\n",
              "  <tbody>\n",
              "    <tr>\n",
              "      <th>0</th>\n",
              "      <td>Jump Shot</td>\n",
              "      <td>1</td>\n",
              "    </tr>\n",
              "    <tr>\n",
              "      <th>1</th>\n",
              "      <td>Jump Shot</td>\n",
              "      <td>1</td>\n",
              "    </tr>\n",
              "    <tr>\n",
              "      <th>2</th>\n",
              "      <td>Jump Shot</td>\n",
              "      <td>1</td>\n",
              "    </tr>\n",
              "    <tr>\n",
              "      <th>3</th>\n",
              "      <td>Jump Shot</td>\n",
              "      <td>1</td>\n",
              "    </tr>\n",
              "    <tr>\n",
              "      <th>4</th>\n",
              "      <td>Driving Dunk Shot</td>\n",
              "      <td>2</td>\n",
              "    </tr>\n",
              "    <tr>\n",
              "      <th>...</th>\n",
              "      <td>...</td>\n",
              "      <td>...</td>\n",
              "    </tr>\n",
              "    <tr>\n",
              "      <th>30692</th>\n",
              "      <td>Jump Shot</td>\n",
              "      <td>4</td>\n",
              "    </tr>\n",
              "    <tr>\n",
              "      <th>30693</th>\n",
              "      <td>Tip Shot</td>\n",
              "      <td>4</td>\n",
              "    </tr>\n",
              "    <tr>\n",
              "      <th>30694</th>\n",
              "      <td>Running Jump Shot</td>\n",
              "      <td>4</td>\n",
              "    </tr>\n",
              "    <tr>\n",
              "      <th>30695</th>\n",
              "      <td>Jump Shot</td>\n",
              "      <td>4</td>\n",
              "    </tr>\n",
              "    <tr>\n",
              "      <th>30696</th>\n",
              "      <td>Jump Shot</td>\n",
              "      <td>4</td>\n",
              "    </tr>\n",
              "  </tbody>\n",
              "</table>\n",
              "<p>30697 rows × 2 columns</p>\n",
              "</div>"
            ],
            "text/plain": [
              "             action_type  period\n",
              "0              Jump Shot       1\n",
              "1              Jump Shot       1\n",
              "2              Jump Shot       1\n",
              "3              Jump Shot       1\n",
              "4      Driving Dunk Shot       2\n",
              "...                  ...     ...\n",
              "30692          Jump Shot       4\n",
              "30693           Tip Shot       4\n",
              "30694  Running Jump Shot       4\n",
              "30695          Jump Shot       4\n",
              "30696          Jump Shot       4\n",
              "\n",
              "[30697 rows x 2 columns]"
            ]
          },
          "metadata": {
            "tags": []
          },
          "execution_count": 86
        }
      ]
    },
    {
      "cell_type": "code",
      "metadata": {
        "id": "Zl_ThAxOwmtG",
        "outputId": "3419e7b1-5549-48f1-d480-67ee014cce18",
        "colab": {
          "base_uri": "https://localhost:8080/",
          "height": 304
        }
      },
      "source": [
        "# describe -> static of number columns\n",
        "df.describe()"
      ],
      "execution_count": null,
      "outputs": [
        {
          "output_type": "execute_result",
          "data": {
            "text/html": [
              "<div>\n",
              "<style scoped>\n",
              "    .dataframe tbody tr th:only-of-type {\n",
              "        vertical-align: middle;\n",
              "    }\n",
              "\n",
              "    .dataframe tbody tr th {\n",
              "        vertical-align: top;\n",
              "    }\n",
              "\n",
              "    .dataframe thead th {\n",
              "        text-align: right;\n",
              "    }\n",
              "</style>\n",
              "<table border=\"1\" class=\"dataframe\">\n",
              "  <thead>\n",
              "    <tr style=\"text-align: right;\">\n",
              "      <th></th>\n",
              "      <th>game_event_id</th>\n",
              "      <th>game_id</th>\n",
              "      <th>lat</th>\n",
              "      <th>loc_x</th>\n",
              "      <th>loc_y</th>\n",
              "      <th>lon</th>\n",
              "      <th>minutes_remaining</th>\n",
              "      <th>period</th>\n",
              "      <th>playoffs</th>\n",
              "      <th>seconds_remaining</th>\n",
              "      <th>shot_distance</th>\n",
              "      <th>shot_made_flag</th>\n",
              "      <th>team_id</th>\n",
              "      <th>shot_id</th>\n",
              "    </tr>\n",
              "  </thead>\n",
              "  <tbody>\n",
              "    <tr>\n",
              "      <th>count</th>\n",
              "      <td>30697.000000</td>\n",
              "      <td>3.069700e+04</td>\n",
              "      <td>30697.000000</td>\n",
              "      <td>30697.000000</td>\n",
              "      <td>30697.000000</td>\n",
              "      <td>30697.000000</td>\n",
              "      <td>30697.000000</td>\n",
              "      <td>30697.000000</td>\n",
              "      <td>30697.000000</td>\n",
              "      <td>30697.000000</td>\n",
              "      <td>30697.000000</td>\n",
              "      <td>25697.000000</td>\n",
              "      <td>3.069700e+04</td>\n",
              "      <td>30697.000000</td>\n",
              "    </tr>\n",
              "    <tr>\n",
              "      <th>mean</th>\n",
              "      <td>249.190800</td>\n",
              "      <td>2.476407e+07</td>\n",
              "      <td>33.953192</td>\n",
              "      <td>7.110499</td>\n",
              "      <td>91.107535</td>\n",
              "      <td>-118.262690</td>\n",
              "      <td>4.885624</td>\n",
              "      <td>2.519432</td>\n",
              "      <td>0.146562</td>\n",
              "      <td>28.365085</td>\n",
              "      <td>13.437437</td>\n",
              "      <td>0.446161</td>\n",
              "      <td>1.610613e+09</td>\n",
              "      <td>15349.000000</td>\n",
              "    </tr>\n",
              "    <tr>\n",
              "      <th>std</th>\n",
              "      <td>150.003712</td>\n",
              "      <td>7.755175e+06</td>\n",
              "      <td>0.087791</td>\n",
              "      <td>110.124578</td>\n",
              "      <td>87.791361</td>\n",
              "      <td>0.110125</td>\n",
              "      <td>3.449897</td>\n",
              "      <td>1.153665</td>\n",
              "      <td>0.353674</td>\n",
              "      <td>17.478949</td>\n",
              "      <td>9.374189</td>\n",
              "      <td>0.497103</td>\n",
              "      <td>0.000000e+00</td>\n",
              "      <td>8861.604943</td>\n",
              "    </tr>\n",
              "    <tr>\n",
              "      <th>min</th>\n",
              "      <td>2.000000</td>\n",
              "      <td>2.000001e+07</td>\n",
              "      <td>33.253300</td>\n",
              "      <td>-250.000000</td>\n",
              "      <td>-44.000000</td>\n",
              "      <td>-118.519800</td>\n",
              "      <td>0.000000</td>\n",
              "      <td>1.000000</td>\n",
              "      <td>0.000000</td>\n",
              "      <td>0.000000</td>\n",
              "      <td>0.000000</td>\n",
              "      <td>0.000000</td>\n",
              "      <td>1.610613e+09</td>\n",
              "      <td>1.000000</td>\n",
              "    </tr>\n",
              "    <tr>\n",
              "      <th>25%</th>\n",
              "      <td>110.000000</td>\n",
              "      <td>2.050008e+07</td>\n",
              "      <td>33.884300</td>\n",
              "      <td>-68.000000</td>\n",
              "      <td>4.000000</td>\n",
              "      <td>-118.337800</td>\n",
              "      <td>2.000000</td>\n",
              "      <td>1.000000</td>\n",
              "      <td>0.000000</td>\n",
              "      <td>13.000000</td>\n",
              "      <td>5.000000</td>\n",
              "      <td>0.000000</td>\n",
              "      <td>1.610613e+09</td>\n",
              "      <td>7675.000000</td>\n",
              "    </tr>\n",
              "    <tr>\n",
              "      <th>50%</th>\n",
              "      <td>253.000000</td>\n",
              "      <td>2.090035e+07</td>\n",
              "      <td>33.970300</td>\n",
              "      <td>0.000000</td>\n",
              "      <td>74.000000</td>\n",
              "      <td>-118.269800</td>\n",
              "      <td>5.000000</td>\n",
              "      <td>3.000000</td>\n",
              "      <td>0.000000</td>\n",
              "      <td>28.000000</td>\n",
              "      <td>15.000000</td>\n",
              "      <td>0.000000</td>\n",
              "      <td>1.610613e+09</td>\n",
              "      <td>15349.000000</td>\n",
              "    </tr>\n",
              "    <tr>\n",
              "      <th>75%</th>\n",
              "      <td>368.000000</td>\n",
              "      <td>2.960047e+07</td>\n",
              "      <td>34.040300</td>\n",
              "      <td>95.000000</td>\n",
              "      <td>160.000000</td>\n",
              "      <td>-118.174800</td>\n",
              "      <td>8.000000</td>\n",
              "      <td>3.000000</td>\n",
              "      <td>0.000000</td>\n",
              "      <td>43.000000</td>\n",
              "      <td>21.000000</td>\n",
              "      <td>1.000000</td>\n",
              "      <td>1.610613e+09</td>\n",
              "      <td>23023.000000</td>\n",
              "    </tr>\n",
              "    <tr>\n",
              "      <th>max</th>\n",
              "      <td>659.000000</td>\n",
              "      <td>4.990009e+07</td>\n",
              "      <td>34.088300</td>\n",
              "      <td>248.000000</td>\n",
              "      <td>791.000000</td>\n",
              "      <td>-118.021800</td>\n",
              "      <td>11.000000</td>\n",
              "      <td>7.000000</td>\n",
              "      <td>1.000000</td>\n",
              "      <td>59.000000</td>\n",
              "      <td>79.000000</td>\n",
              "      <td>1.000000</td>\n",
              "      <td>1.610613e+09</td>\n",
              "      <td>30697.000000</td>\n",
              "    </tr>\n",
              "  </tbody>\n",
              "</table>\n",
              "</div>"
            ],
            "text/plain": [
              "       game_event_id       game_id  ...       team_id       shot_id\n",
              "count   30697.000000  3.069700e+04  ...  3.069700e+04  30697.000000\n",
              "mean      249.190800  2.476407e+07  ...  1.610613e+09  15349.000000\n",
              "std       150.003712  7.755175e+06  ...  0.000000e+00   8861.604943\n",
              "min         2.000000  2.000001e+07  ...  1.610613e+09      1.000000\n",
              "25%       110.000000  2.050008e+07  ...  1.610613e+09   7675.000000\n",
              "50%       253.000000  2.090035e+07  ...  1.610613e+09  15349.000000\n",
              "75%       368.000000  2.960047e+07  ...  1.610613e+09  23023.000000\n",
              "max       659.000000  4.990009e+07  ...  1.610613e+09  30697.000000\n",
              "\n",
              "[8 rows x 14 columns]"
            ]
          },
          "metadata": {
            "tags": []
          },
          "execution_count": 87
        }
      ]
    },
    {
      "cell_type": "code",
      "metadata": {
        "id": "Ucw3RjPXx8bc",
        "outputId": "975c3b68-d820-4aea-c32b-adc13737d2bb",
        "colab": {
          "base_uri": "https://localhost:8080/",
          "height": 194
        }
      },
      "source": [
        "#select lines\n",
        "#afeter line 10 at 12\n",
        "df[10:12]"
      ],
      "execution_count": null,
      "outputs": [
        {
          "output_type": "execute_result",
          "data": {
            "text/html": [
              "<div>\n",
              "<style scoped>\n",
              "    .dataframe tbody tr th:only-of-type {\n",
              "        vertical-align: middle;\n",
              "    }\n",
              "\n",
              "    .dataframe tbody tr th {\n",
              "        vertical-align: top;\n",
              "    }\n",
              "\n",
              "    .dataframe thead th {\n",
              "        text-align: right;\n",
              "    }\n",
              "</style>\n",
              "<table border=\"1\" class=\"dataframe\">\n",
              "  <thead>\n",
              "    <tr style=\"text-align: right;\">\n",
              "      <th></th>\n",
              "      <th>action_type</th>\n",
              "      <th>combined_shot_type</th>\n",
              "      <th>game_event_id</th>\n",
              "      <th>game_id</th>\n",
              "      <th>lat</th>\n",
              "      <th>loc_x</th>\n",
              "      <th>loc_y</th>\n",
              "      <th>lon</th>\n",
              "      <th>minutes_remaining</th>\n",
              "      <th>period</th>\n",
              "      <th>playoffs</th>\n",
              "      <th>season</th>\n",
              "      <th>seconds_remaining</th>\n",
              "      <th>shot_distance</th>\n",
              "      <th>shot_made_flag</th>\n",
              "      <th>shot_type</th>\n",
              "      <th>shot_zone_area</th>\n",
              "      <th>shot_zone_basic</th>\n",
              "      <th>shot_zone_range</th>\n",
              "      <th>team_id</th>\n",
              "      <th>team_name</th>\n",
              "      <th>game_date</th>\n",
              "      <th>matchup</th>\n",
              "      <th>opponent</th>\n",
              "      <th>shot_id</th>\n",
              "    </tr>\n",
              "  </thead>\n",
              "  <tbody>\n",
              "    <tr>\n",
              "      <th>10</th>\n",
              "      <td>Jump Shot</td>\n",
              "      <td>Jump Shot</td>\n",
              "      <td>309</td>\n",
              "      <td>20000012</td>\n",
              "      <td>33.8063</td>\n",
              "      <td>-94</td>\n",
              "      <td>238</td>\n",
              "      <td>-118.3638</td>\n",
              "      <td>1</td>\n",
              "      <td>3</td>\n",
              "      <td>0</td>\n",
              "      <td>2000-01</td>\n",
              "      <td>56</td>\n",
              "      <td>25</td>\n",
              "      <td>0.0</td>\n",
              "      <td>3PT Field Goal</td>\n",
              "      <td>Left Side Center(LC)</td>\n",
              "      <td>Above the Break 3</td>\n",
              "      <td>24+ ft.</td>\n",
              "      <td>1610612747</td>\n",
              "      <td>Los Angeles Lakers</td>\n",
              "      <td>2000-10-31</td>\n",
              "      <td>LAL @ POR</td>\n",
              "      <td>POR</td>\n",
              "      <td>11</td>\n",
              "    </tr>\n",
              "    <tr>\n",
              "      <th>11</th>\n",
              "      <td>Jump Shot</td>\n",
              "      <td>Jump Shot</td>\n",
              "      <td>4</td>\n",
              "      <td>20000019</td>\n",
              "      <td>33.9173</td>\n",
              "      <td>121</td>\n",
              "      <td>127</td>\n",
              "      <td>-118.1488</td>\n",
              "      <td>11</td>\n",
              "      <td>1</td>\n",
              "      <td>0</td>\n",
              "      <td>2000-01</td>\n",
              "      <td>0</td>\n",
              "      <td>17</td>\n",
              "      <td>1.0</td>\n",
              "      <td>2PT Field Goal</td>\n",
              "      <td>Right Side Center(RC)</td>\n",
              "      <td>Mid-Range</td>\n",
              "      <td>16-24 ft.</td>\n",
              "      <td>1610612747</td>\n",
              "      <td>Los Angeles Lakers</td>\n",
              "      <td>2000-11-01</td>\n",
              "      <td>LAL vs. UTA</td>\n",
              "      <td>UTA</td>\n",
              "      <td>12</td>\n",
              "    </tr>\n",
              "  </tbody>\n",
              "</table>\n",
              "</div>"
            ],
            "text/plain": [
              "   action_type combined_shot_type  game_event_id  ...      matchup  opponent  shot_id\n",
              "10   Jump Shot          Jump Shot            309  ...    LAL @ POR       POR       11\n",
              "11   Jump Shot          Jump Shot              4  ...  LAL vs. UTA       UTA       12\n",
              "\n",
              "[2 rows x 25 columns]"
            ]
          },
          "metadata": {
            "tags": []
          },
          "execution_count": 88
        }
      ]
    },
    {
      "cell_type": "code",
      "metadata": {
        "id": "mg7tuBpL3Kiv",
        "outputId": "e653d5b7-c26c-43f7-ef80-1f8dc27c84c3",
        "colab": {
          "base_uri": "https://localhost:8080/",
          "height": 941
        }
      },
      "source": [
        "## Commands \n",
        "# loc:\n",
        "# select  instance  by index\n",
        "# iloc:\n",
        "# select instance  by position\n",
        "# ix (deprect):\n",
        "# both\n",
        "\n",
        "print(df.loc[0])\n",
        "print(\"\\n\\n\")\n",
        "print(df.iloc[0])  "
      ],
      "execution_count": null,
      "outputs": [
        {
          "output_type": "stream",
          "text": [
            "action_type                    Jump Shot\n",
            "combined_shot_type             Jump Shot\n",
            "game_event_id                         10\n",
            "game_id                         20000012\n",
            "lat                              33.9723\n",
            "loc_x                                167\n",
            "loc_y                                 72\n",
            "lon                             -118.103\n",
            "minutes_remaining                     10\n",
            "period                                 1\n",
            "playoffs                               0\n",
            "season                           2000-01\n",
            "seconds_remaining                     27\n",
            "shot_distance                         18\n",
            "shot_made_flag                       NaN\n",
            "shot_type                 2PT Field Goal\n",
            "shot_zone_area             Right Side(R)\n",
            "shot_zone_basic                Mid-Range\n",
            "shot_zone_range                16-24 ft.\n",
            "team_id                       1610612747\n",
            "team_name             Los Angeles Lakers\n",
            "game_date                     2000-10-31\n",
            "matchup                        LAL @ POR\n",
            "opponent                             POR\n",
            "shot_id                                1\n",
            "Name: 0, dtype: object\n",
            "\n",
            "\n",
            "\n",
            "action_type                    Jump Shot\n",
            "combined_shot_type             Jump Shot\n",
            "game_event_id                         10\n",
            "game_id                         20000012\n",
            "lat                              33.9723\n",
            "loc_x                                167\n",
            "loc_y                                 72\n",
            "lon                             -118.103\n",
            "minutes_remaining                     10\n",
            "period                                 1\n",
            "playoffs                               0\n",
            "season                           2000-01\n",
            "seconds_remaining                     27\n",
            "shot_distance                         18\n",
            "shot_made_flag                       NaN\n",
            "shot_type                 2PT Field Goal\n",
            "shot_zone_area             Right Side(R)\n",
            "shot_zone_basic                Mid-Range\n",
            "shot_zone_range                16-24 ft.\n",
            "team_id                       1610612747\n",
            "team_name             Los Angeles Lakers\n",
            "game_date                     2000-10-31\n",
            "matchup                        LAL @ POR\n",
            "opponent                             POR\n",
            "shot_id                                1\n",
            "Name: 0, dtype: object\n"
          ],
          "name": "stdout"
        }
      ]
    },
    {
      "cell_type": "code",
      "metadata": {
        "id": "sqrGa8h4z7Hx"
      },
      "source": [
        "#erase first line\n",
        "#axis = 0 line\n",
        "#axis = 1 clow\n",
        "#this command make a view of table if the inplace is False or Null\n",
        "df.drop(0, axis=0, inplace=True)"
      ],
      "execution_count": null,
      "outputs": []
    },
    {
      "cell_type": "code",
      "metadata": {
        "id": "ipQob0fS159e",
        "outputId": "9614fb87-25c3-4db8-a42c-4f5135741b9d",
        "colab": {
          "base_uri": "https://localhost:8080/",
          "height": 555
        }
      },
      "source": [
        "df.loc[0]"
      ],
      "execution_count": null,
      "outputs": [
        {
          "output_type": "error",
          "ename": "KeyError",
          "evalue": "ignored",
          "traceback": [
            "\u001b[0;31m---------------------------------------------------------------------------\u001b[0m",
            "\u001b[0;31mKeyError\u001b[0m                                  Traceback (most recent call last)",
            "\u001b[0;32m/usr/local/lib/python3.6/dist-packages/pandas/core/indexes/base.py\u001b[0m in \u001b[0;36mget_loc\u001b[0;34m(self, key, method, tolerance)\u001b[0m\n\u001b[1;32m   2890\u001b[0m             \u001b[0;32mtry\u001b[0m\u001b[0;34m:\u001b[0m\u001b[0;34m\u001b[0m\u001b[0;34m\u001b[0m\u001b[0m\n\u001b[0;32m-> 2891\u001b[0;31m                 \u001b[0;32mreturn\u001b[0m \u001b[0mself\u001b[0m\u001b[0;34m.\u001b[0m\u001b[0m_engine\u001b[0m\u001b[0;34m.\u001b[0m\u001b[0mget_loc\u001b[0m\u001b[0;34m(\u001b[0m\u001b[0mcasted_key\u001b[0m\u001b[0;34m)\u001b[0m\u001b[0;34m\u001b[0m\u001b[0;34m\u001b[0m\u001b[0m\n\u001b[0m\u001b[1;32m   2892\u001b[0m             \u001b[0;32mexcept\u001b[0m \u001b[0mKeyError\u001b[0m \u001b[0;32mas\u001b[0m \u001b[0merr\u001b[0m\u001b[0;34m:\u001b[0m\u001b[0;34m\u001b[0m\u001b[0;34m\u001b[0m\u001b[0m\n",
            "\u001b[0;32mpandas/_libs/index.pyx\u001b[0m in \u001b[0;36mpandas._libs.index.IndexEngine.get_loc\u001b[0;34m()\u001b[0m\n",
            "\u001b[0;32mpandas/_libs/index.pyx\u001b[0m in \u001b[0;36mpandas._libs.index.IndexEngine.get_loc\u001b[0;34m()\u001b[0m\n",
            "\u001b[0;32mpandas/_libs/hashtable_class_helper.pxi\u001b[0m in \u001b[0;36mpandas._libs.hashtable.Int64HashTable.get_item\u001b[0;34m()\u001b[0m\n",
            "\u001b[0;32mpandas/_libs/hashtable_class_helper.pxi\u001b[0m in \u001b[0;36mpandas._libs.hashtable.Int64HashTable.get_item\u001b[0;34m()\u001b[0m\n",
            "\u001b[0;31mKeyError\u001b[0m: 0",
            "\nThe above exception was the direct cause of the following exception:\n",
            "\u001b[0;31mKeyError\u001b[0m                                  Traceback (most recent call last)",
            "\u001b[0;32m<ipython-input-91-7eaf75073732>\u001b[0m in \u001b[0;36m<module>\u001b[0;34m()\u001b[0m\n\u001b[0;32m----> 1\u001b[0;31m \u001b[0mdf\u001b[0m\u001b[0;34m.\u001b[0m\u001b[0mloc\u001b[0m\u001b[0;34m[\u001b[0m\u001b[0;36m0\u001b[0m\u001b[0;34m]\u001b[0m\u001b[0;34m\u001b[0m\u001b[0;34m\u001b[0m\u001b[0m\n\u001b[0m",
            "\u001b[0;32m/usr/local/lib/python3.6/dist-packages/pandas/core/indexing.py\u001b[0m in \u001b[0;36m__getitem__\u001b[0;34m(self, key)\u001b[0m\n\u001b[1;32m    877\u001b[0m \u001b[0;34m\u001b[0m\u001b[0m\n\u001b[1;32m    878\u001b[0m             \u001b[0mmaybe_callable\u001b[0m \u001b[0;34m=\u001b[0m \u001b[0mcom\u001b[0m\u001b[0;34m.\u001b[0m\u001b[0mapply_if_callable\u001b[0m\u001b[0;34m(\u001b[0m\u001b[0mkey\u001b[0m\u001b[0;34m,\u001b[0m \u001b[0mself\u001b[0m\u001b[0;34m.\u001b[0m\u001b[0mobj\u001b[0m\u001b[0;34m)\u001b[0m\u001b[0;34m\u001b[0m\u001b[0;34m\u001b[0m\u001b[0m\n\u001b[0;32m--> 879\u001b[0;31m             \u001b[0;32mreturn\u001b[0m \u001b[0mself\u001b[0m\u001b[0;34m.\u001b[0m\u001b[0m_getitem_axis\u001b[0m\u001b[0;34m(\u001b[0m\u001b[0mmaybe_callable\u001b[0m\u001b[0;34m,\u001b[0m \u001b[0maxis\u001b[0m\u001b[0;34m=\u001b[0m\u001b[0maxis\u001b[0m\u001b[0;34m)\u001b[0m\u001b[0;34m\u001b[0m\u001b[0;34m\u001b[0m\u001b[0m\n\u001b[0m\u001b[1;32m    880\u001b[0m \u001b[0;34m\u001b[0m\u001b[0m\n\u001b[1;32m    881\u001b[0m     \u001b[0;32mdef\u001b[0m \u001b[0m_is_scalar_access\u001b[0m\u001b[0;34m(\u001b[0m\u001b[0mself\u001b[0m\u001b[0;34m,\u001b[0m \u001b[0mkey\u001b[0m\u001b[0;34m:\u001b[0m \u001b[0mTuple\u001b[0m\u001b[0;34m)\u001b[0m\u001b[0;34m:\u001b[0m\u001b[0;34m\u001b[0m\u001b[0;34m\u001b[0m\u001b[0m\n",
            "\u001b[0;32m/usr/local/lib/python3.6/dist-packages/pandas/core/indexing.py\u001b[0m in \u001b[0;36m_getitem_axis\u001b[0;34m(self, key, axis)\u001b[0m\n\u001b[1;32m   1108\u001b[0m         \u001b[0;31m# fall thru to straight lookup\u001b[0m\u001b[0;34m\u001b[0m\u001b[0;34m\u001b[0m\u001b[0;34m\u001b[0m\u001b[0m\n\u001b[1;32m   1109\u001b[0m         \u001b[0mself\u001b[0m\u001b[0;34m.\u001b[0m\u001b[0m_validate_key\u001b[0m\u001b[0;34m(\u001b[0m\u001b[0mkey\u001b[0m\u001b[0;34m,\u001b[0m \u001b[0maxis\u001b[0m\u001b[0;34m)\u001b[0m\u001b[0;34m\u001b[0m\u001b[0;34m\u001b[0m\u001b[0m\n\u001b[0;32m-> 1110\u001b[0;31m         \u001b[0;32mreturn\u001b[0m \u001b[0mself\u001b[0m\u001b[0;34m.\u001b[0m\u001b[0m_get_label\u001b[0m\u001b[0;34m(\u001b[0m\u001b[0mkey\u001b[0m\u001b[0;34m,\u001b[0m \u001b[0maxis\u001b[0m\u001b[0;34m=\u001b[0m\u001b[0maxis\u001b[0m\u001b[0;34m)\u001b[0m\u001b[0;34m\u001b[0m\u001b[0;34m\u001b[0m\u001b[0m\n\u001b[0m\u001b[1;32m   1111\u001b[0m \u001b[0;34m\u001b[0m\u001b[0m\n\u001b[1;32m   1112\u001b[0m     \u001b[0;32mdef\u001b[0m \u001b[0m_get_slice_axis\u001b[0m\u001b[0;34m(\u001b[0m\u001b[0mself\u001b[0m\u001b[0;34m,\u001b[0m \u001b[0mslice_obj\u001b[0m\u001b[0;34m:\u001b[0m \u001b[0mslice\u001b[0m\u001b[0;34m,\u001b[0m \u001b[0maxis\u001b[0m\u001b[0;34m:\u001b[0m \u001b[0mint\u001b[0m\u001b[0;34m)\u001b[0m\u001b[0;34m:\u001b[0m\u001b[0;34m\u001b[0m\u001b[0;34m\u001b[0m\u001b[0m\n",
            "\u001b[0;32m/usr/local/lib/python3.6/dist-packages/pandas/core/indexing.py\u001b[0m in \u001b[0;36m_get_label\u001b[0;34m(self, label, axis)\u001b[0m\n\u001b[1;32m   1057\u001b[0m     \u001b[0;32mdef\u001b[0m \u001b[0m_get_label\u001b[0m\u001b[0;34m(\u001b[0m\u001b[0mself\u001b[0m\u001b[0;34m,\u001b[0m \u001b[0mlabel\u001b[0m\u001b[0;34m,\u001b[0m \u001b[0maxis\u001b[0m\u001b[0;34m:\u001b[0m \u001b[0mint\u001b[0m\u001b[0;34m)\u001b[0m\u001b[0;34m:\u001b[0m\u001b[0;34m\u001b[0m\u001b[0;34m\u001b[0m\u001b[0m\n\u001b[1;32m   1058\u001b[0m         \u001b[0;31m# GH#5667 this will fail if the label is not present in the axis.\u001b[0m\u001b[0;34m\u001b[0m\u001b[0;34m\u001b[0m\u001b[0;34m\u001b[0m\u001b[0m\n\u001b[0;32m-> 1059\u001b[0;31m         \u001b[0;32mreturn\u001b[0m \u001b[0mself\u001b[0m\u001b[0;34m.\u001b[0m\u001b[0mobj\u001b[0m\u001b[0;34m.\u001b[0m\u001b[0mxs\u001b[0m\u001b[0;34m(\u001b[0m\u001b[0mlabel\u001b[0m\u001b[0;34m,\u001b[0m \u001b[0maxis\u001b[0m\u001b[0;34m=\u001b[0m\u001b[0maxis\u001b[0m\u001b[0;34m)\u001b[0m\u001b[0;34m\u001b[0m\u001b[0;34m\u001b[0m\u001b[0m\n\u001b[0m\u001b[1;32m   1060\u001b[0m \u001b[0;34m\u001b[0m\u001b[0m\n\u001b[1;32m   1061\u001b[0m     \u001b[0;32mdef\u001b[0m \u001b[0m_handle_lowerdim_multi_index_axis0\u001b[0m\u001b[0;34m(\u001b[0m\u001b[0mself\u001b[0m\u001b[0;34m,\u001b[0m \u001b[0mtup\u001b[0m\u001b[0;34m:\u001b[0m \u001b[0mTuple\u001b[0m\u001b[0;34m)\u001b[0m\u001b[0;34m:\u001b[0m\u001b[0;34m\u001b[0m\u001b[0;34m\u001b[0m\u001b[0m\n",
            "\u001b[0;32m/usr/local/lib/python3.6/dist-packages/pandas/core/generic.py\u001b[0m in \u001b[0;36mxs\u001b[0;34m(self, key, axis, level, drop_level)\u001b[0m\n\u001b[1;32m   3486\u001b[0m             \u001b[0mloc\u001b[0m\u001b[0;34m,\u001b[0m \u001b[0mnew_index\u001b[0m \u001b[0;34m=\u001b[0m \u001b[0mself\u001b[0m\u001b[0;34m.\u001b[0m\u001b[0mindex\u001b[0m\u001b[0;34m.\u001b[0m\u001b[0mget_loc_level\u001b[0m\u001b[0;34m(\u001b[0m\u001b[0mkey\u001b[0m\u001b[0;34m,\u001b[0m \u001b[0mdrop_level\u001b[0m\u001b[0;34m=\u001b[0m\u001b[0mdrop_level\u001b[0m\u001b[0;34m)\u001b[0m\u001b[0;34m\u001b[0m\u001b[0;34m\u001b[0m\u001b[0m\n\u001b[1;32m   3487\u001b[0m         \u001b[0;32melse\u001b[0m\u001b[0;34m:\u001b[0m\u001b[0;34m\u001b[0m\u001b[0;34m\u001b[0m\u001b[0m\n\u001b[0;32m-> 3488\u001b[0;31m             \u001b[0mloc\u001b[0m \u001b[0;34m=\u001b[0m \u001b[0mself\u001b[0m\u001b[0;34m.\u001b[0m\u001b[0mindex\u001b[0m\u001b[0;34m.\u001b[0m\u001b[0mget_loc\u001b[0m\u001b[0;34m(\u001b[0m\u001b[0mkey\u001b[0m\u001b[0;34m)\u001b[0m\u001b[0;34m\u001b[0m\u001b[0;34m\u001b[0m\u001b[0m\n\u001b[0m\u001b[1;32m   3489\u001b[0m \u001b[0;34m\u001b[0m\u001b[0m\n\u001b[1;32m   3490\u001b[0m             \u001b[0;32mif\u001b[0m \u001b[0misinstance\u001b[0m\u001b[0;34m(\u001b[0m\u001b[0mloc\u001b[0m\u001b[0;34m,\u001b[0m \u001b[0mnp\u001b[0m\u001b[0;34m.\u001b[0m\u001b[0mndarray\u001b[0m\u001b[0;34m)\u001b[0m\u001b[0;34m:\u001b[0m\u001b[0;34m\u001b[0m\u001b[0;34m\u001b[0m\u001b[0m\n",
            "\u001b[0;32m/usr/local/lib/python3.6/dist-packages/pandas/core/indexes/base.py\u001b[0m in \u001b[0;36mget_loc\u001b[0;34m(self, key, method, tolerance)\u001b[0m\n\u001b[1;32m   2891\u001b[0m                 \u001b[0;32mreturn\u001b[0m \u001b[0mself\u001b[0m\u001b[0;34m.\u001b[0m\u001b[0m_engine\u001b[0m\u001b[0;34m.\u001b[0m\u001b[0mget_loc\u001b[0m\u001b[0;34m(\u001b[0m\u001b[0mcasted_key\u001b[0m\u001b[0;34m)\u001b[0m\u001b[0;34m\u001b[0m\u001b[0;34m\u001b[0m\u001b[0m\n\u001b[1;32m   2892\u001b[0m             \u001b[0;32mexcept\u001b[0m \u001b[0mKeyError\u001b[0m \u001b[0;32mas\u001b[0m \u001b[0merr\u001b[0m\u001b[0;34m:\u001b[0m\u001b[0;34m\u001b[0m\u001b[0;34m\u001b[0m\u001b[0m\n\u001b[0;32m-> 2893\u001b[0;31m                 \u001b[0;32mraise\u001b[0m \u001b[0mKeyError\u001b[0m\u001b[0;34m(\u001b[0m\u001b[0mkey\u001b[0m\u001b[0;34m)\u001b[0m \u001b[0;32mfrom\u001b[0m \u001b[0merr\u001b[0m\u001b[0;34m\u001b[0m\u001b[0;34m\u001b[0m\u001b[0m\n\u001b[0m\u001b[1;32m   2894\u001b[0m \u001b[0;34m\u001b[0m\u001b[0m\n\u001b[1;32m   2895\u001b[0m         \u001b[0;32mif\u001b[0m \u001b[0mtolerance\u001b[0m \u001b[0;32mis\u001b[0m \u001b[0;32mnot\u001b[0m \u001b[0;32mNone\u001b[0m\u001b[0;34m:\u001b[0m\u001b[0;34m\u001b[0m\u001b[0;34m\u001b[0m\u001b[0m\n",
            "\u001b[0;31mKeyError\u001b[0m: 0"
          ]
        }
      ]
    },
    {
      "cell_type": "code",
      "metadata": {
        "id": "jIkJfilU19bg"
      },
      "source": [
        "df.iloc[0]"
      ],
      "execution_count": null,
      "outputs": []
    },
    {
      "cell_type": "code",
      "metadata": {
        "id": "_GN5WrNl2UC7"
      },
      "source": [
        "#creat new index from 0\n",
        "df.reset_index()"
      ],
      "execution_count": null,
      "outputs": []
    },
    {
      "cell_type": "code",
      "metadata": {
        "id": "VxDgjzH62mAU"
      },
      "source": [
        "#possibles values of shot_type\n",
        "print(str(df['shot_type'].unique()) + \"\\n\")\n",
        "#Count of values of shot_type\n",
        "print(str(df['shot_type'].nunique()) + \"\\n\")\n",
        "#Count line by of type\n",
        "print(df['shot_type'].value_counts())\n"
      ],
      "execution_count": null,
      "outputs": []
    },
    {
      "cell_type": "code",
      "metadata": {
        "id": "62jNpJPr5Sfo"
      },
      "source": [
        "#Count lines of shot_type by filters\n",
        "#Select of instances by value of shot_type iqual 2PT\n",
        "#Select of instances by value of shot_type iqual 3PT\n",
        "#Count both\n",
        "df_2pt = df[df['shot_type'] == '2PT Field Goal']\n",
        "df_3pt = df[df['shot_type'] == '3PT Field Goal']\n",
        "print(len(df_2pt))\n",
        "print(\"\\n\")\n",
        "print(len(df_3pt))\n",
        "\n"
      ],
      "execution_count": null,
      "outputs": []
    },
    {
      "cell_type": "code",
      "metadata": {
        "id": "3crmDRlW8g1P"
      },
      "source": [
        "#Count lines the pich hit in 2pt\n",
        "#& = AND \n",
        "#| = OR\n",
        "#~ = NOT\n",
        "mask = (df['shot_type'] == '2PT Field Goal') & (df['shot_made_flag'] == 1.0)\n",
        "len(df[mask])\n"
      ],
      "execution_count": null,
      "outputs": []
    },
    {
      "cell_type": "code",
      "metadata": {
        "id": "mtcj7mrJ9gxa"
      },
      "source": [
        "#max, min, mean, std, var\n",
        "print(df['minutes_remaining'].max())\n",
        "print(df['minutes_remaining'].min())\n",
        "print(df['minutes_remaining'].mean())\n",
        "print(df['minutes_remaining'].std())\n",
        "print(df['minutes_remaining'].var())\n"
      ],
      "execution_count": null,
      "outputs": []
    },
    {
      "cell_type": "code",
      "metadata": {
        "id": "aqJv63BB-hKi"
      },
      "source": [
        "#median\n",
        "np.median(df['minutes_remaining'])"
      ],
      "execution_count": null,
      "outputs": []
    },
    {
      "cell_type": "code",
      "metadata": {
        "id": "iE9J00To-qqt"
      },
      "source": [
        "#mode\n",
        "df.mode()['minutes_remaining'][0]"
      ],
      "execution_count": null,
      "outputs": []
    },
    {
      "cell_type": "code",
      "metadata": {
        "id": "x2RjHVUu__v1"
      },
      "source": [
        "#ording by period\n",
        "df.sort_values('period', ascending=False).head(2)"
      ],
      "execution_count": null,
      "outputs": []
    },
    {
      "cell_type": "code",
      "metadata": {
        "id": "AXc2PFOIDV0s"
      },
      "source": [
        "#creat a cloumn\n",
        "df['game_event_id_sum'] =  df['game_event_id'] +50"
      ],
      "execution_count": null,
      "outputs": []
    },
    {
      "cell_type": "code",
      "metadata": {
        "id": "N9ggRxryDhx9"
      },
      "source": [
        "#Apply function  in column\n",
        "def is_home_game(x):\n",
        "  if x.find('@') < 0:\n",
        "    return  1\n",
        "  else:\n",
        "    return 0\n",
        "\n",
        "df['home_game'] = df['matchup'].apply(is_home_game)\n",
        "df.head(1)"
      ],
      "execution_count": null,
      "outputs": []
    },
    {
      "cell_type": "code",
      "metadata": {
        "id": "wHnPLCJQD-d8"
      },
      "source": [
        "#Using lambda \n",
        "df['home_game_lambda'] = df['matchup'].apply(lambda x: 1 if (x.find('@') < 0) else 0)\n",
        "df.head(1)"
      ],
      "execution_count": null,
      "outputs": []
    },
    {
      "cell_type": "code",
      "metadata": {
        "id": "6cYlPD9OEVWW"
      },
      "source": [
        "#Home Work\n",
        "def point_made(data):    \n",
        "    if data[0] == 1.0:\n",
        "      if data[1] == '2PT Field Goal':\n",
        "        return 2\n",
        "      else:\n",
        "        return 3\n",
        "    return 0\n",
        "df['points_made'] = df[['shot_made_flag','shot_type']].apply(point_made,axis=1)\n",
        "\n",
        "df"
      ],
      "execution_count": null,
      "outputs": []
    },
    {
      "cell_type": "markdown",
      "metadata": {
        "id": "qk78XxTEQCW4"
      },
      "source": [
        "# Aula 10/08 - Estatística descritiva de dados\n"
      ]
    },
    {
      "cell_type": "code",
      "metadata": {
        "id": "vDzqrtUEQLcg"
      },
      "source": [
        "df = pd.read_csv('http://www.ppgia.pucpr.br/~jean.barddal/datascience/Salaries.csv')"
      ],
      "execution_count": null,
      "outputs": []
    },
    {
      "cell_type": "code",
      "metadata": {
        "id": "jMnpvpx1kWhD"
      },
      "source": [
        "df"
      ],
      "execution_count": null,
      "outputs": []
    },
    {
      "cell_type": "code",
      "metadata": {
        "id": "bScNmEsWUJ9K"
      },
      "source": [
        "df.drop('Unnamed: 0',axis= 1, inplace=True)"
      ],
      "execution_count": null,
      "outputs": []
    },
    {
      "cell_type": "code",
      "metadata": {
        "id": "82oNJxUdUJ9O"
      },
      "source": [
        "df.head(5)"
      ],
      "execution_count": null,
      "outputs": []
    },
    {
      "cell_type": "code",
      "metadata": {
        "id": "NNy91KEnUJ9R"
      },
      "source": [
        "df['rank'].unique()"
      ],
      "execution_count": null,
      "outputs": []
    },
    {
      "cell_type": "code",
      "metadata": {
        "id": "SPGNBOOtUJ9T"
      },
      "source": [
        "df['sex'].unique()"
      ],
      "execution_count": null,
      "outputs": []
    },
    {
      "cell_type": "code",
      "metadata": {
        "id": "8aQ1E8jAUJ9W"
      },
      "source": [
        "## Calculando maior Salario, menor salario e salario medio por rank\n",
        "df.groupby('rank')['salary'].mean()"
      ],
      "execution_count": null,
      "outputs": []
    },
    {
      "cell_type": "code",
      "metadata": {
        "id": "wRQFcPOiUJ9Z"
      },
      "source": [
        "df.groupby('rank')['salary'].min()"
      ],
      "execution_count": null,
      "outputs": []
    },
    {
      "cell_type": "code",
      "metadata": {
        "id": "XE8sCfsnUJ9c"
      },
      "source": [
        "df.groupby('rank')['salary'].max()"
      ],
      "execution_count": null,
      "outputs": []
    },
    {
      "cell_type": "code",
      "metadata": {
        "id": "pbdsqcskUJ9f"
      },
      "source": [
        "df.groupby('rank')['salary'].describe()"
      ],
      "execution_count": null,
      "outputs": []
    },
    {
      "cell_type": "code",
      "metadata": {
        "id": "YsT_sXqsUJ9h"
      },
      "source": [
        "df[df['rank']== 'Prof']['salary'].hist(bins=25) #histograma"
      ],
      "execution_count": null,
      "outputs": []
    },
    {
      "cell_type": "code",
      "metadata": {
        "id": "qsKgPmlPUJ9l"
      },
      "source": [
        "df['salary'].hist(bins=25)"
      ],
      "execution_count": null,
      "outputs": []
    },
    {
      "cell_type": "code",
      "metadata": {
        "id": "R-cxA3CfUJ9o"
      },
      "source": [
        "### Qual o comportamento dos salarios entre os sexos?\n",
        "df.groupby('sex')['salary'].describe()"
      ],
      "execution_count": null,
      "outputs": []
    },
    {
      "cell_type": "code",
      "metadata": {
        "id": "kXgrsFSsUJ9s"
      },
      "source": [
        "### Qual o comportamento do salario perante sexo e rank?\n",
        "df.groupby(['sex','rank'])['salary'].describe()"
      ],
      "execution_count": null,
      "outputs": []
    },
    {
      "cell_type": "code",
      "metadata": {
        "id": "7i0uYNYJUJ9v"
      },
      "source": [
        "df.corr()"
      ],
      "execution_count": null,
      "outputs": []
    },
    {
      "cell_type": "markdown",
      "metadata": {
        "id": "UXSFoSX_UJ9y"
      },
      "source": [
        "# Aula 17/08 - Análise univariada e multivariada de dados"
      ]
    },
    {
      "cell_type": "code",
      "metadata": {
        "id": "PTweFcUrUJ9z"
      },
      "source": [
        "df = pd.read_csv('http://www.ppgia.pucpr.br/~jean.barddal/datascience/titanic.csv')\n",
        "df.head(5)"
      ],
      "execution_count": null,
      "outputs": []
    },
    {
      "cell_type": "code",
      "metadata": {
        "id": "OtV9HucoUJ92"
      },
      "source": [
        "df.info()"
      ],
      "execution_count": null,
      "outputs": []
    },
    {
      "cell_type": "code",
      "metadata": {
        "id": "kl3hBd3WUJ97"
      },
      "source": [
        "df['Age'].unique()"
      ],
      "execution_count": null,
      "outputs": []
    },
    {
      "cell_type": "code",
      "metadata": {
        "id": "Y1_o9TjpUJ9-"
      },
      "source": [
        "#histograma\n",
        "df['Age'].hist()"
      ],
      "execution_count": null,
      "outputs": []
    },
    {
      "cell_type": "code",
      "metadata": {
        "id": "xAdAg7eEUJ-C"
      },
      "source": [
        "#histograma(seaborn) -> distplot(KDE -> probabilidade)\n",
        "sns.distplot(df['Age'], kde=False, bins=10)\n",
        "plt.show()"
      ],
      "execution_count": null,
      "outputs": []
    },
    {
      "cell_type": "code",
      "metadata": {
        "id": "3FyHOd_yUJ-E"
      },
      "source": [
        "#grafico de barras(normalmente nao faz sentido para variaveis numericas)\n",
        "sns.countplot(df['Age'])\n",
        "plt.show()"
      ],
      "execution_count": null,
      "outputs": []
    },
    {
      "cell_type": "code",
      "metadata": {
        "id": "rLxuCdjaUJ-G"
      },
      "source": [
        "#box-plot\n",
        "sns.boxplot(df['Age'])\n",
        "plt.show()\n",
        "#whiskersÇ representam minimos e maximos \"aceitaveis\" (Método de Tukey)\n",
        "#aula voltada para outliers"
      ],
      "execution_count": null,
      "outputs": []
    },
    {
      "cell_type": "code",
      "metadata": {
        "id": "VA_cm9gSUJ-J"
      },
      "source": [
        "df['Age'].describe()"
      ],
      "execution_count": null,
      "outputs": []
    },
    {
      "cell_type": "code",
      "metadata": {
        "id": "R8soL_dlUJ-L"
      },
      "source": [
        "#violin plot\n",
        "sns.violinplot(df['Age'])\n",
        "plt.show()"
      ],
      "execution_count": null,
      "outputs": []
    },
    {
      "cell_type": "code",
      "metadata": {
        "id": "1mFrWV4WUJ-O"
      },
      "source": [
        "# grafico de barra\n",
        "sns.countplot(df['Embarked'])\n",
        "plt.show()"
      ],
      "execution_count": null,
      "outputs": []
    },
    {
      "cell_type": "code",
      "metadata": {
        "id": "4CvFwJH-UJ-U"
      },
      "source": [
        "#pie chart\n",
        "df['Embarked'].dropna().value_counts().plot(kind='pie')"
      ],
      "execution_count": null,
      "outputs": []
    },
    {
      "cell_type": "code",
      "metadata": {
        "id": "1wZZjzf8UJ-X"
      },
      "source": [
        "df['Embarked'].value_counts()df['Embarked'].value_counts()"
      ],
      "execution_count": null,
      "outputs": []
    },
    {
      "cell_type": "code",
      "metadata": {
        "id": "N1S44pGfUJ-Z"
      },
      "source": [
        "# comparando as distribuicoes de idade por sobrevivencia ou nao\n",
        "sns.boxplot(x = df['Survived'], y = df['Age'])\n",
        "plt.show()"
      ],
      "execution_count": null,
      "outputs": []
    },
    {
      "cell_type": "code",
      "metadata": {
        "id": "8_hKTuIOUJ-c"
      },
      "source": [
        "#comparando as distribuicoes de idades por sexo \n",
        "sns.boxplot(x = df['Sex'], y = df['Age'])\n",
        "plt.show()"
      ],
      "execution_count": null,
      "outputs": []
    },
    {
      "cell_type": "code",
      "metadata": {
        "id": "UF2v4hHrUJ-g"
      },
      "source": [
        "# Criar a base\n",
        "df = pd.DataFrame({\n",
        "    'x' : np.random.normal(10, 1.2, 20000),\n",
        "    'y' : np.random.normal(10, 1.2, 20000),\n",
        "    'group' : np.repeat('A', 20000)\n",
        "})\n",
        "\n",
        "tmp1 = pd.DataFrame({\n",
        "    'x' : np.random.normal(14.5, 1.2, 20000),\n",
        "    'y' : np.random.normal(14.5, 1.2, 20000),\n",
        "    'group' : np.repeat('B', 20000)\n",
        "})\n",
        "\n",
        "tmp2 = pd.DataFrame({\n",
        "    'x' : np.random.normal(9.5, 1.5, 20000),\n",
        "    'y' : np.random.normal(15.5, 1.5, 20000),\n",
        "    'group' : np.repeat('C', 20000)\n",
        "})\n",
        "\n",
        "# concatenating the data\n",
        "df = df.append(tmp1).append(tmp2)\n"
      ],
      "execution_count": null,
      "outputs": []
    },
    {
      "cell_type": "code",
      "metadata": {
        "id": "PEZS4wjmUJ-j"
      },
      "source": [
        "df.head(5)"
      ],
      "execution_count": null,
      "outputs": []
    },
    {
      "cell_type": "code",
      "metadata": {
        "id": "ryJoPmCfUJ-l"
      },
      "source": [
        "df.describe()"
      ],
      "execution_count": null,
      "outputs": []
    },
    {
      "cell_type": "code",
      "metadata": {
        "id": "DldvcjztUJ-n"
      },
      "source": [
        "#analisando cada variavel de forma individual\n",
        "sns.distplot(df['x'])\n",
        "plt.show()"
      ],
      "execution_count": null,
      "outputs": []
    },
    {
      "cell_type": "code",
      "metadata": {
        "id": "NgO2q27XUJ-q"
      },
      "source": [
        "#analisando cada variavel de forma individual\n",
        "sns.distplot(df['y'])\n",
        "plt.show()"
      ],
      "execution_count": null,
      "outputs": []
    },
    {
      "cell_type": "code",
      "metadata": {
        "id": "_kKYM-gcUJ-s"
      },
      "source": [
        "#overploting\n",
        "sns.scatterplot(df['x'],df['y'])\n",
        "plt.show()"
      ],
      "execution_count": null,
      "outputs": []
    },
    {
      "cell_type": "code",
      "metadata": {
        "id": "N5-BWSDTUJ-v"
      },
      "source": [
        "#mudar tamanho das bolinhas\n",
        "sns.scatterplot(df['x'],df['y'], s=2)\n",
        "plt.show()"
      ],
      "execution_count": null,
      "outputs": []
    },
    {
      "cell_type": "code",
      "metadata": {
        "id": "wOtnNmrTUJ-y"
      },
      "source": [
        "#transparencia\n",
        "sns.scatterplot(df['x'],df['y'], alpha=0.01)\n",
        "plt.show()"
      ],
      "execution_count": null,
      "outputs": []
    },
    {
      "cell_type": "code",
      "metadata": {
        "id": "8kKRsPJ_UJ-0"
      },
      "source": [
        "#densidade\n",
        "sns.kdeplot(df['x'],df['y'], shade=True)\n",
        "plt.show()"
      ],
      "execution_count": null,
      "outputs": []
    },
    {
      "cell_type": "code",
      "metadata": {
        "id": "qn1g2TyXUJ-2"
      },
      "source": [
        "#join plot\n",
        "sns.jointplot(df['x'],df['y'],kind='kde')\n",
        "plt.show()"
      ],
      "execution_count": null,
      "outputs": []
    },
    {
      "cell_type": "code",
      "metadata": {
        "id": "Tu-p1tESUJ-4"
      },
      "source": [
        "#amostragem (sampling)\n",
        "samp = df.sample(1000)\n",
        "sns.scatterplot(samp['x'], samp['y'])\n",
        "plt.show()"
      ],
      "execution_count": null,
      "outputs": []
    },
    {
      "cell_type": "code",
      "metadata": {
        "id": "i8kftZ68UJ-6"
      },
      "source": [
        "#enfase -> dar mais atencao a umm dos grupos\n",
        "df_a = df[df['group']=='A']\n",
        "df_restante = df[df['group']!='A']\n",
        "\n",
        "sns.scatterplot(df_restante['x'],df_restante['y'], color='grey')\n",
        "sns.scatterplot(df_a['x'],df_a['y'],color='green')\n",
        "plt.show()"
      ],
      "execution_count": null,
      "outputs": []
    },
    {
      "cell_type": "code",
      "metadata": {
        "id": "EfAWQPjVUJ-8"
      },
      "source": [
        "#facet grids -> facetamento\n",
        "#analisar o comportamento de x e y, por grupo\n",
        "g = sns.FacetGrid(df, col='group', hue='group')\n",
        "g = g.map(plt.scatter,'x','y')\n",
        "plt.show()"
      ],
      "execution_count": null,
      "outputs": []
    },
    {
      "cell_type": "code",
      "metadata": {
        "id": "OPO97CDPUJ--"
      },
      "source": [
        "# Criando nova base de dados\n",
        "a = np.concatenate([\n",
        "                    np.random.normal(2, 4, 1000),\n",
        "                    np.random.normal(4, 4, 1000),\n",
        "                    np.random.normal(1, 2,  500),\n",
        "                    np.random.normal(10, 2, 500),\n",
        "                    np.random.normal(8, 4, 1000),\n",
        "                    np.random.normal(10, 4, 1000)\n",
        "])\n",
        "\n",
        "df = pd.DataFrame({\n",
        "    'x': np.repeat(range(1,6), 1000),\n",
        "    'y': a\n",
        "})\n"
      ],
      "execution_count": null,
      "outputs": []
    },
    {
      "cell_type": "code",
      "metadata": {
        "id": "U_6mtBnwUJ_D"
      },
      "source": [
        "df.head(5)"
      ],
      "execution_count": null,
      "outputs": []
    },
    {
      "cell_type": "code",
      "metadata": {
        "id": "g2S-zxa_UJ_G"
      },
      "source": [
        "#scannerplot\n",
        "sns.scatterplot(df['x'],df['y'])\n",
        "plt.show()"
      ],
      "execution_count": null,
      "outputs": []
    },
    {
      "cell_type": "code",
      "metadata": {
        "id": "9gO834tbUJ_K"
      },
      "source": [
        "#stripplot\n",
        "sns.stripplot(df['x'], df['y'], jitter=0.3, size=2)\n",
        "plt.show()"
      ],
      "execution_count": null,
      "outputs": []
    },
    {
      "cell_type": "code",
      "metadata": {
        "id": "WzINpdh8UJ_N"
      },
      "source": [
        "#combinando boxplots com stripplots\n",
        "sns.boxplot(df['x'], df['y'])\n",
        "sns.stripplot(df['x'], df['y'], jitter=0.3, size=2, color='grey')\n",
        "plt.show()"
      ],
      "execution_count": null,
      "outputs": []
    },
    {
      "cell_type": "code",
      "metadata": {
        "id": "5gx2cbfTUJ_P"
      },
      "source": [
        "#combinando violin com stripplots\n",
        "sns.violinplot(df['x'], df['y'])\n",
        "sns.stripplot(df['x'], df['y'], jitter=0.3, size=2, color='grey')\n",
        "plt.show()"
      ],
      "execution_count": null,
      "outputs": []
    },
    {
      "cell_type": "code",
      "metadata": {
        "id": "J1qwB5_9UJ_R"
      },
      "source": [
        "#combinando swarm plots\n",
        "sns.swarmplot(df['x'], df['y'])\n",
        "plt.show()"
      ],
      "execution_count": null,
      "outputs": []
    },
    {
      "cell_type": "markdown",
      "metadata": {
        "id": "JbsY5LjZUJ_T"
      },
      "source": [
        "# Aula 24/08 - Análise de correlações"
      ]
    },
    {
      "cell_type": "code",
      "metadata": {
        "id": "05YaJIO_UJ_U"
      },
      "source": [
        "df = pd.read_csv('http://www.ppgia.pucpr.br/~jean.barddal/datascience/meses_producao_custo.csv')"
      ],
      "execution_count": null,
      "outputs": []
    },
    {
      "cell_type": "code",
      "metadata": {
        "id": "vkliRzyCUJ_V"
      },
      "source": [
        "df"
      ],
      "execution_count": null,
      "outputs": []
    },
    {
      "cell_type": "code",
      "metadata": {
        "id": "zF7TSihMUJ_Y"
      },
      "source": [
        "df.corr(method = 'pearson')"
      ],
      "execution_count": null,
      "outputs": []
    },
    {
      "cell_type": "code",
      "metadata": {
        "id": "IbU2un8uUJ_a"
      },
      "source": [
        "sns.scatterplot(df['litros'], df['custo'])\n",
        "plt.show()"
      ],
      "execution_count": null,
      "outputs": []
    },
    {
      "cell_type": "code",
      "metadata": {
        "id": "ejvfbMuXUJ_c"
      },
      "source": [
        "sns.regplot(df['litros'], df['custo'])\n",
        "plt.show()"
      ],
      "execution_count": null,
      "outputs": []
    },
    {
      "cell_type": "code",
      "metadata": {
        "id": "yo_aQtDzUJ_e"
      },
      "source": [
        "# Exemplo onde a correlação não funciona\n",
        "x = np.linspace(-np.pi, 5*np.pi, 201) # Criando 200 pontos que variam de -pi a pi\n",
        "y = np.sin(x)\n",
        "g = sns.jointplot(x=x, y=y, kind='reg')\n",
        "g.annotate(stats.pearsonr)\n",
        "plt.show()"
      ],
      "execution_count": null,
      "outputs": []
    },
    {
      "cell_type": "code",
      "metadata": {
        "id": "s_C6V-lvUJ_h"
      },
      "source": [
        "df.corr(method = 'spearman') # Valores muito próximos a pearson"
      ],
      "execution_count": null,
      "outputs": []
    },
    {
      "cell_type": "code",
      "metadata": {
        "id": "94Wd77YUUJ_l"
      },
      "source": [
        "# Relação entre variáveis categóricas\n",
        "df = pd.read_csv('http://www.ppgia.pucpr.br/~jean.barddal/datascience/titanic.csv')"
      ],
      "execution_count": null,
      "outputs": []
    },
    {
      "cell_type": "code",
      "metadata": {
        "id": "ZfRyA2p6UJ_n"
      },
      "source": [
        "df.head()"
      ],
      "execution_count": null,
      "outputs": []
    },
    {
      "cell_type": "code",
      "metadata": {
        "id": "6ztTlp_zUJ_p"
      },
      "source": [
        "# existe relação entre sexo e porto de embarque?\n",
        "ctab = pd.crosstab(df['Sex'], df['Embarked'], normalize='columns' )\n",
        "sns.heatmap(ctab, annot=True, fmt='.2%')\n",
        "plt.show()"
      ],
      "execution_count": null,
      "outputs": []
    },
    {
      "cell_type": "code",
      "metadata": {
        "id": "zTFAumsnUJ_r"
      },
      "source": [
        "# existe relação entre o porto de embarque para cada um dos sexos?\n",
        "ctab = pd.crosstab(df['Sex'], df['Embarked'], normalize='index' )\n",
        "sns.heatmap(ctab, annot=True, fmt='.2%')\n",
        "plt.show()"
      ],
      "execution_count": null,
      "outputs": []
    },
    {
      "cell_type": "code",
      "metadata": {
        "id": "znYM0lXvUJ_t"
      },
      "source": [
        "# Relação entre Pclass e Porto\n",
        "ctab = pd.crosstab(df['Pclass'], df['Embarked'], normalize = 'columns')\n",
        "sns.heatmap(ctab, annot=True, fmt='g')\n",
        "plt.show()"
      ],
      "execution_count": null,
      "outputs": []
    },
    {
      "cell_type": "code",
      "metadata": {
        "id": "SUPfK7xpUJ_v"
      },
      "source": [
        "df['Pclass'].value_counts()"
      ],
      "execution_count": null,
      "outputs": []
    },
    {
      "cell_type": "code",
      "metadata": {
        "id": "jsuiLdclUJ_x"
      },
      "source": [
        "df['Pclass'].isna().sum()"
      ],
      "execution_count": null,
      "outputs": []
    },
    {
      "cell_type": "code",
      "metadata": {
        "id": "FAQn_hZtUJ_z"
      },
      "source": [
        "# Há relação entre sexo e sobrevivência?\n",
        "ctab = pd.crosstab(df['Sex'], df['Survived'], normalize='index')\n",
        "sns.heatmap(ctab, annot=True, fmt='.2%')\n",
        "plt.show()"
      ],
      "execution_count": null,
      "outputs": []
    },
    {
      "cell_type": "code",
      "metadata": {
        "id": "yPDUpFcmUJ_2"
      },
      "source": [
        "# Como podemos visualizar se dentre os homens, os que mais sobreviveram eram crianças?\n",
        "# sugestão: criar coluna nova(criança = sim/não)\n",
        "\n",
        "df_crianca = df[(df['Sex']=='male')]\n",
        "ctab = pd.crosstab(df_crianca['Survived']==1, df_crianca['Age']<=13,  normalize='columns')\n",
        "sns.heatmap(ctab, annot=True, fmt='.2%')\n",
        "plt.show()"
      ],
      "execution_count": null,
      "outputs": []
    },
    {
      "cell_type": "markdown",
      "metadata": {
        "id": "7YDO9sw7UJ_3"
      },
      "source": [
        "## Multicolinearidade"
      ]
    },
    {
      "cell_type": "code",
      "metadata": {
        "id": "gBuohH4xUJ_4"
      },
      "source": [
        "from statsmodels.stats.outliers_influence import variance_inflation_factor"
      ],
      "execution_count": null,
      "outputs": []
    },
    {
      "cell_type": "code",
      "metadata": {
        "id": "dC-s3cJDUJ_6"
      },
      "source": [
        "df = pd.read_csv('http://www.ppgia.pucpr.br/~jean.barddal/datascience/ommlbd_familiar.csv',na_values=-9999)"
      ],
      "execution_count": null,
      "outputs": []
    },
    {
      "cell_type": "code",
      "metadata": {
        "id": "Qqc2OfsPUJ_7"
      },
      "source": [
        "df.head(2)"
      ],
      "execution_count": null,
      "outputs": []
    },
    {
      "cell_type": "code",
      "metadata": {
        "id": "3QYhbcvOUJ_9"
      },
      "source": [
        "df.corr()"
      ],
      "execution_count": null,
      "outputs": []
    },
    {
      "cell_type": "code",
      "metadata": {
        "id": "EhOOp8iaUJ__"
      },
      "source": [
        "plt.rcParams['figure.figsize'] = (12, 12)\n",
        "plt.rcParams['font.size'] = 10\n",
        "\n",
        "cor = df.corr()\n",
        "sns.heatmap(cor, annot=True, fmt='.0%')\n",
        "plt.show()"
      ],
      "execution_count": null,
      "outputs": []
    },
    {
      "cell_type": "markdown",
      "metadata": {
        "id": "CmVBfsTeUKAB"
      },
      "source": [
        "## VIF\n",
        "- Se o VIF = 1, significa que a variável não possui correlação com as demais\n",
        "- Se o VIF > 5, então há uma correlação com várias outras variáveis\n",
        "\n",
        "DETALHE: O VIF só é calculado se não houverem valores faltantes\n",
        "\n",
        "Redes neurais, arvores de decisão, regressão logística -> NÃO se beneficiam de poucas variáveis correlacionadas entre si\n",
        "\n",
        "Ensembles -> random forest, xgboost: se beneficiam de variáveis correlacionadas\n",
        "\n",
        "(componente aleatoria -> ignoram correlações altas entre atributos)."
      ]
    },
    {
      "cell_type": "code",
      "metadata": {
        "id": "97jdABklUKAC"
      },
      "source": [
        "# Imputação\n",
        "\n",
        "# -> Substituir os valores faltantes pela média de cada coluna\n",
        "df.fillna(df.mean(), inplace=True)"
      ],
      "execution_count": null,
      "outputs": []
    },
    {
      "cell_type": "code",
      "metadata": {
        "id": "Rvj6cSN6UKAG"
      },
      "source": [
        "# Função para cálculo do VIF\n",
        "\n",
        "def calc_vif(tabela):\n",
        "    vif = pd.DataFrame()\n",
        "    vif['variaveis'] = tabela.columns\n",
        "    vif['vif'] = [variance_inflation_factor(tabela.values, i) for i in range(tabela.shape[1])]\n",
        "    return vif"
      ],
      "execution_count": null,
      "outputs": []
    },
    {
      "cell_type": "code",
      "metadata": {
        "id": "xT-Nxm_BUKAJ"
      },
      "source": [
        "calc_vif(df)\n",
        "\n",
        "# Regressão logística\n",
        "# VIF -> n impacta  o resultado  da regressão logística \n",
        "# Mas, ao mesmo tempo, remover as variáveis com VIF alto, torna a equação mais simples "
      ],
      "execution_count": null,
      "outputs": []
    },
    {
      "cell_type": "code",
      "metadata": {
        "id": "tFB2oB_aUKAL"
      },
      "source": [
        "# Remoção da coluna com maior VIF\n",
        "df.drop('MEDIAIDADECASA', axis=1, inplace=True)"
      ],
      "execution_count": null,
      "outputs": []
    },
    {
      "cell_type": "code",
      "metadata": {
        "id": "dn0Bb-kEUKAM"
      },
      "source": [
        "calc_vif(df)"
      ],
      "execution_count": null,
      "outputs": []
    },
    {
      "cell_type": "markdown",
      "metadata": {
        "id": "pk0bW0uPVnvo"
      },
      "source": [
        "# Aula 31/08 - Anotações de aula\n",
        "\n"
      ]
    },
    {
      "cell_type": "markdown",
      "metadata": {
        "id": "_q__jCFjWD5d"
      },
      "source": [
        "### I have a dataset and I need to present it to someone else\n",
        "  How can I do so, effectively?\n",
        "  \n",
        "  "
      ]
    },
    {
      "cell_type": "markdown",
      "metadata": {
        "id": "__oGR3TyXqEJ"
      },
      "source": [
        "- Usar cores apropriadas, que facilitem o entendimento\n",
        "- Seguir o checklist proposto\n",
        "- Escolher um gráfico adequado\n",
        "- Não deixar o valor total passar de 100%\n",
        "- Usar a escala correta"
      ]
    },
    {
      "cell_type": "markdown",
      "metadata": {
        "id": "XWGGCUlWfZWq"
      },
      "source": [
        "### Analysis\n"
      ]
    },
    {
      "cell_type": "markdown",
      "metadata": {
        "id": "cvNkpFkAgU5D"
      },
      "source": [
        "- Utilizar cores apenas para colocar ênfase, mas normalmente evitar\n",
        "- Cuidar com a perspectiva utilizada\n",
        "- Cuidar com formatos ruins ao fazer o gráfico\n",
        "- Não colocar muitos dados, e colocar dados que fazem sentido\n",
        "- Cuidar com a quantidade de informações no gráfico (excesso delas)\n",
        "- Não sobrepor gráficos\n",
        "- Cuidar com significado\n",
        "- Cuidar com o contexto\n",
        "- Cuidar com o formato dos gráficos\n",
        "- Cuidar com os que os eixos possuam algum sentido\n",
        "- Ver se a escala possui datas consistentes e se tem quantidade\n"
      ]
    },
    {
      "cell_type": "markdown",
      "metadata": {
        "id": "OrihIwb8YAwn"
      },
      "source": [
        "### Gestalt principles "
      ]
    },
    {
      "cell_type": "markdown",
      "metadata": {
        "id": "cTBwB222ZJgo"
      },
      "source": [
        "- Proximity: demostra quais objetos próximos pertencem ao mesmo grupo\n",
        "- Similarity: objetos pertencentes ao mesmo grupo com mesma cor, tamanho,      formato, orientação \n",
        "- Enclosure: objetos em estado \"enclosed\" pertencentes ao mesmo grupo\n",
        "- Closure: tendemos a perceber objetos como um todo, mesmo quando algumas partes estão faltando\n",
        "- Continuity: caminho mais \"natural\" e \"refinado\" entre objetos que nossos olhos procuram, mesmo podendo não existir\n",
        "- Connection: tendemos a perceber objetos conectados como um grupo, sendo que a proximidade tende ser mais forte do que a cor, formato ou tamanho"
      ]
    },
    {
      "cell_type": "markdown",
      "metadata": {
        "id": "a6juR6xMj7mq"
      },
      "source": [
        "### Which visual components would you change in the following visualization?"
      ]
    },
    {
      "cell_type": "markdown",
      "metadata": {
        "id": "HlGiNwGokYlz"
      },
      "source": [
        "- Utilizar números inteiros, retirando o índice após o ponto\n",
        "- Mudar a cor das linhas de referência atrás das barras para não juntar cores\n",
        "- Colocar apenas os meses sem o dia, pois é o mesmo dia de todo mês\n"
      ]
    },
    {
      "cell_type": "markdown",
      "metadata": {
        "id": "tWM7qIHqjAlk"
      },
      "source": [
        "### Colors"
      ]
    },
    {
      "cell_type": "markdown",
      "metadata": {
        "id": "LsoaU18Bjits"
      },
      "source": [
        "- Utilizar cores que não apresentem problemas de visualização para daltônicos\n",
        "- Utilizar níveis de cinza, ou seja, escurecimento da cor\n",
        "- Evitar cores muito intensas, uma vez que elas podem atrapalhar a visuaização"
      ]
    },
    {
      "cell_type": "markdown",
      "metadata": {
        "id": "9Mew4huat5I1"
      },
      "source": [
        "# Aula 21/09 - Análise de outliers\n",
        "\n",
        "\n"
      ]
    },
    {
      "cell_type": "code",
      "metadata": {
        "id": "nHxBvfsnu6yq"
      },
      "source": [
        "df = pd.read_csv('http://www.ppgia.pucpr.br/~jean.barddal/datascience/enron.csv')\n",
        "df.head(5)"
      ],
      "execution_count": null,
      "outputs": []
    },
    {
      "cell_type": "code",
      "metadata": {
        "id": "slOMrW5Iu9eE"
      },
      "source": [
        "outliers_global = []\n",
        "\n",
        "for col in df.select_dtypes(include='number').columns.values:\n",
        "\n",
        "  q1 = df[col].quantile(0.25)\n",
        "  q3 = df[col].quantile(0.75)\n",
        "  iqr = q3-q1\n",
        "\n",
        "  upp = q3 + 1.5 * iqr\n",
        "  low = q1 - 1.5 * iqr\n",
        "\n",
        "  ix_outliers_col = list( df[(df[col]> upp)| (df[col]< low)].index)\n",
        "  outliers_global.extend(ix_outliers_col)"
      ],
      "execution_count": null,
      "outputs": []
    },
    {
      "cell_type": "code",
      "metadata": {
        "id": "PoAH1_I9vS7Q"
      },
      "source": [
        "from collections import Counter\n",
        "for ix,contagem in Counter(outliers_global).most_common(10):\n",
        "    print(f\"{ix} \\t {contagem} \\t {df.loc[ix]['name']}\" )\n"
      ],
      "execution_count": null,
      "outputs": []
    },
    {
      "cell_type": "code",
      "metadata": {
        "id": "2j31-F_ivWcz"
      },
      "source": [
        "from sklearn.ensemble import IsolationForest\n",
        "\n",
        "df_num = df.select_dtypes(include='number')\n",
        "df_num.fillna(df.mean(), inplace=True)\n",
        "\n",
        "isof = IsolationForest(random_state=101)\n",
        "isof.fit(df_num)"
      ],
      "execution_count": null,
      "outputs": []
    },
    {
      "cell_type": "markdown",
      "metadata": {
        "id": "DbwQPea6v4w0"
      },
      "source": [
        "# Aula 28/09\n"
      ]
    },
    {
      "cell_type": "code",
      "metadata": {
        "id": "Jere6HNimzaA"
      },
      "source": [
        "df = pd.read_csv('http://www.ppgia.pucpr.br/~jean.barddal/datascience/california_housing_train.csv')"
      ],
      "execution_count": null,
      "outputs": []
    },
    {
      "cell_type": "code",
      "metadata": {
        "id": "vZ0u0AiXvP8x"
      },
      "source": [
        "df"
      ],
      "execution_count": null,
      "outputs": []
    },
    {
      "cell_type": "code",
      "metadata": {
        "id": "YvTzrLR-vWyB"
      },
      "source": [
        "sns.distplot(df['total_bedrooms'],kde=False)"
      ],
      "execution_count": null,
      "outputs": []
    },
    {
      "cell_type": "code",
      "metadata": {
        "id": "RefcqCC3vweo"
      },
      "source": [
        "ss = StandardScaler()\n",
        "df['total_bedrooms_ss'] = ss.fit_transform(np.array(df['total_bedrooms']).reshape(-1,1))\n"
      ],
      "execution_count": null,
      "outputs": []
    },
    {
      "cell_type": "code",
      "metadata": {
        "id": "mTqA9jOOxBfB"
      },
      "source": [
        "mm = MinMaxScaler()\n",
        "df['total_bedrooms_mm'] = mm.fit_transform(np.array(df['total_bedrooms']).reshape(-1,1))"
      ],
      "execution_count": null,
      "outputs": []
    },
    {
      "cell_type": "code",
      "metadata": {
        "id": "5nL56RCjy3FX"
      },
      "source": [
        "rs = RobustScaler()\n",
        "df['total_bedrooms_rs'] = rs.fit_transform(np.array(df['total_bedrooms']).reshape(-1,1))"
      ],
      "execution_count": null,
      "outputs": []
    },
    {
      "cell_type": "code",
      "metadata": {
        "id": "kJWCacwg0GjW"
      },
      "source": [
        "sns.distplot(df['total_bedrooms_rs'],kde=False)"
      ],
      "execution_count": null,
      "outputs": []
    },
    {
      "cell_type": "code",
      "metadata": {
        "id": "C85RvNRt2C6d"
      },
      "source": [
        "bc = PowerTransformer(method='box-cox')\n",
        "df['total_bedrooms_bc'] = bc.fit_transform(np.array(df['total_bedrooms']).reshape(-1,1))"
      ],
      "execution_count": null,
      "outputs": []
    },
    {
      "cell_type": "code",
      "metadata": {
        "id": "ce1TqCXP3wxC"
      },
      "source": [
        "sns.distplot(df['total_bedrooms_bc'],kde=False)"
      ],
      "execution_count": null,
      "outputs": []
    },
    {
      "cell_type": "code",
      "metadata": {
        "id": "3XIh98zl0N3k"
      },
      "source": [
        "bc.inverse_transform(np.array(df['total_bedrooms_bc']).reshape(-1,1))"
      ],
      "execution_count": null,
      "outputs": []
    },
    {
      "cell_type": "code",
      "metadata": {
        "id": "1CCxcEMS2EQ7"
      },
      "source": [
        "mm_tudo = MinMaxScaler(feature_range=(0.00001,1.0))\n",
        "dados = mm_tudo.fit_transform(df)\n",
        "\n",
        "bc_tudo = PowerTransformer(method='box-cox')\n",
        "dados = bc_tudo.fit_transform(dados)\n",
        "dados"
      ],
      "execution_count": null,
      "outputs": []
    },
    {
      "cell_type": "code",
      "metadata": {
        "id": "2xWMPGIW58Sh"
      },
      "source": [
        "inv_bc_tudo = bc_tudo.inverse_transform(dados)\n",
        "inv_mm_tudo = mm_tudo.inverse_transform(inv_bc_tudo)"
      ],
      "execution_count": null,
      "outputs": []
    },
    {
      "cell_type": "code",
      "metadata": {
        "id": "52AjDaZR6LfQ"
      },
      "source": [
        "df_invertido = pd.DataFrame(data=inv_mm_tudo, columns=df.columns.values)"
      ],
      "execution_count": null,
      "outputs": []
    },
    {
      "cell_type": "code",
      "metadata": {
        "id": "an_4GTMD6ejI"
      },
      "source": [
        "df_invertido"
      ],
      "execution_count": null,
      "outputs": []
    },
    {
      "cell_type": "code",
      "metadata": {
        "id": "e2q7AkZD6n2R"
      },
      "source": [
        "df_treino = df[:10000]\n",
        "df_teste = df[10001:]"
      ],
      "execution_count": null,
      "outputs": []
    },
    {
      "cell_type": "code",
      "metadata": {
        "id": "8gLhMcnp7lvA"
      },
      "source": [
        "mm = MinMaxScaler(feature_range=(0.00001,1.0))\n",
        "bc = PowerTransformer(method='box-cox')\n",
        "\n",
        "mm.fit(df_treino)\n",
        "df_treino_mm = mm.transform(df_treino)\n",
        "\n",
        "bc.fit(df_treino_mm)\n",
        "df_treino_mm_bc = bc.transform(df_treino_mm)\n"
      ],
      "execution_count": null,
      "outputs": []
    },
    {
      "cell_type": "code",
      "metadata": {
        "id": "nV2SOb7J7uJv"
      },
      "source": [
        "df_teste_mm = mm.transform(df_teste)\n",
        "df_teste_mm = pd.DataFrame(data=df_teste_mm, columns=df.columns.values)\n",
        "df_teste_mm[df_teste_mm <= 0] = 0.0001\n",
        "df_teste_mm_bc = mm.transform(df_teste_mm)"
      ],
      "execution_count": null,
      "outputs": []
    },
    {
      "cell_type": "code",
      "metadata": {
        "id": "jZadlTHg-V90"
      },
      "source": [
        "df_titanic = pd.read_csv('http://www.ppgia.pucpr.br/~jean.barddal/datascience/titanic.csv')\n"
      ],
      "execution_count": null,
      "outputs": []
    },
    {
      "cell_type": "code",
      "metadata": {
        "id": "HRJIaMJdIUkB"
      },
      "source": [
        "df_titanic"
      ],
      "execution_count": null,
      "outputs": []
    },
    {
      "cell_type": "code",
      "metadata": {
        "id": "HViDHb1HkUab"
      },
      "source": [
        "df_titanic.isnull().sum()"
      ],
      "execution_count": null,
      "outputs": []
    },
    {
      "cell_type": "code",
      "metadata": {
        "id": "i0Nfn35UkRxO"
      },
      "source": [
        "df_titanic.isnull().sum(axis=1)"
      ],
      "execution_count": null,
      "outputs": []
    },
    {
      "cell_type": "code",
      "metadata": {
        "id": "236wAv9NIWEz"
      },
      "source": [
        "media = df_titanic['Age'].mean()\n",
        "df_titanic['Age_media'] = df_titanic['Age'].fillna(media)\n",
        "\n",
        "df_titanic['Age_media'].describe()"
      ],
      "execution_count": null,
      "outputs": []
    },
    {
      "cell_type": "markdown",
      "metadata": {
        "id": "q4x9fqhUCDx2"
      },
      "source": [
        "# Aula 05/10\n",
        "\n"
      ]
    },
    {
      "cell_type": "code",
      "metadata": {
        "id": "J6VKq_UTtA0a"
      },
      "source": [
        "df = pd.read_csv('http://www.ppgia.pucpr.br/~jean.barddal/datascience/iris.csv')"
      ],
      "execution_count": null,
      "outputs": []
    },
    {
      "cell_type": "code",
      "metadata": {
        "id": "xiV--MbWugq9",
        "outputId": "7b426e42-9db7-4758-e98a-67e2bc070a45",
        "colab": {
          "base_uri": "https://localhost:8080/"
        }
      },
      "source": [
        "df"
      ],
      "execution_count": null,
      "outputs": [
        {
          "output_type": "execute_result",
          "data": {
            "text/html": [
              "<div>\n",
              "<style scoped>\n",
              "    .dataframe tbody tr th:only-of-type {\n",
              "        vertical-align: middle;\n",
              "    }\n",
              "\n",
              "    .dataframe tbody tr th {\n",
              "        vertical-align: top;\n",
              "    }\n",
              "\n",
              "    .dataframe thead th {\n",
              "        text-align: right;\n",
              "    }\n",
              "</style>\n",
              "<table border=\"1\" class=\"dataframe\">\n",
              "  <thead>\n",
              "    <tr style=\"text-align: right;\">\n",
              "      <th></th>\n",
              "      <th>sepal.length</th>\n",
              "      <th>sepal.width</th>\n",
              "      <th>petal.length</th>\n",
              "      <th>petal.width</th>\n",
              "      <th>variety</th>\n",
              "    </tr>\n",
              "  </thead>\n",
              "  <tbody>\n",
              "    <tr>\n",
              "      <th>0</th>\n",
              "      <td>5.1</td>\n",
              "      <td>3.5</td>\n",
              "      <td>1.4</td>\n",
              "      <td>0.2</td>\n",
              "      <td>Setosa</td>\n",
              "    </tr>\n",
              "    <tr>\n",
              "      <th>1</th>\n",
              "      <td>4.9</td>\n",
              "      <td>3.0</td>\n",
              "      <td>1.4</td>\n",
              "      <td>0.2</td>\n",
              "      <td>Setosa</td>\n",
              "    </tr>\n",
              "    <tr>\n",
              "      <th>2</th>\n",
              "      <td>4.7</td>\n",
              "      <td>3.2</td>\n",
              "      <td>1.3</td>\n",
              "      <td>0.2</td>\n",
              "      <td>Setosa</td>\n",
              "    </tr>\n",
              "    <tr>\n",
              "      <th>3</th>\n",
              "      <td>4.6</td>\n",
              "      <td>3.1</td>\n",
              "      <td>1.5</td>\n",
              "      <td>0.2</td>\n",
              "      <td>Setosa</td>\n",
              "    </tr>\n",
              "    <tr>\n",
              "      <th>4</th>\n",
              "      <td>5.0</td>\n",
              "      <td>3.6</td>\n",
              "      <td>1.4</td>\n",
              "      <td>0.2</td>\n",
              "      <td>Setosa</td>\n",
              "    </tr>\n",
              "    <tr>\n",
              "      <th>...</th>\n",
              "      <td>...</td>\n",
              "      <td>...</td>\n",
              "      <td>...</td>\n",
              "      <td>...</td>\n",
              "      <td>...</td>\n",
              "    </tr>\n",
              "    <tr>\n",
              "      <th>145</th>\n",
              "      <td>6.7</td>\n",
              "      <td>3.0</td>\n",
              "      <td>5.2</td>\n",
              "      <td>2.3</td>\n",
              "      <td>Virginica</td>\n",
              "    </tr>\n",
              "    <tr>\n",
              "      <th>146</th>\n",
              "      <td>6.3</td>\n",
              "      <td>2.5</td>\n",
              "      <td>5.0</td>\n",
              "      <td>1.9</td>\n",
              "      <td>Virginica</td>\n",
              "    </tr>\n",
              "    <tr>\n",
              "      <th>147</th>\n",
              "      <td>6.5</td>\n",
              "      <td>3.0</td>\n",
              "      <td>5.2</td>\n",
              "      <td>2.0</td>\n",
              "      <td>Virginica</td>\n",
              "    </tr>\n",
              "    <tr>\n",
              "      <th>148</th>\n",
              "      <td>6.2</td>\n",
              "      <td>3.4</td>\n",
              "      <td>5.4</td>\n",
              "      <td>2.3</td>\n",
              "      <td>Virginica</td>\n",
              "    </tr>\n",
              "    <tr>\n",
              "      <th>149</th>\n",
              "      <td>5.9</td>\n",
              "      <td>3.0</td>\n",
              "      <td>5.1</td>\n",
              "      <td>1.8</td>\n",
              "      <td>Virginica</td>\n",
              "    </tr>\n",
              "  </tbody>\n",
              "</table>\n",
              "<p>150 rows × 5 columns</p>\n",
              "</div>"
            ],
            "text/plain": [
              "     sepal.length  sepal.width  petal.length  petal.width    variety\n",
              "0             5.1          3.5           1.4          0.2     Setosa\n",
              "1             4.9          3.0           1.4          0.2     Setosa\n",
              "2             4.7          3.2           1.3          0.2     Setosa\n",
              "3             4.6          3.1           1.5          0.2     Setosa\n",
              "4             5.0          3.6           1.4          0.2     Setosa\n",
              "..            ...          ...           ...          ...        ...\n",
              "145           6.7          3.0           5.2          2.3  Virginica\n",
              "146           6.3          2.5           5.0          1.9  Virginica\n",
              "147           6.5          3.0           5.2          2.0  Virginica\n",
              "148           6.2          3.4           5.4          2.3  Virginica\n",
              "149           5.9          3.0           5.1          1.8  Virginica\n",
              "\n",
              "[150 rows x 5 columns]"
            ]
          },
          "metadata": {
            "tags": []
          },
          "execution_count": 93
        }
      ]
    },
    {
      "cell_type": "code",
      "metadata": {
        "id": "30YdOfrduiLJ"
      },
      "source": [
        "TARGET_COL = 'variety'\n",
        "colunas = list(df.columns.values)\n",
        "colunas.remove(TARGET_COL)"
      ],
      "execution_count": null,
      "outputs": []
    },
    {
      "cell_type": "code",
      "metadata": {
        "id": "DNkhDe4tvVu3"
      },
      "source": [
        "def powerset(l):\n",
        "  return chain.from_iterable(combinations(l,r) for r in range(1, len(l)+1))"
      ],
      "execution_count": null,
      "outputs": []
    },
    {
      "cell_type": "code",
      "metadata": {
        "id": "AVAsXwnxv_tN"
      },
      "source": [
        "combinacoes = list(powerset(colunas))"
      ],
      "execution_count": null,
      "outputs": []
    },
    {
      "cell_type": "code",
      "metadata": {
        "id": "HXM1qhM0xC6f",
        "outputId": "9fc382ce-8f2e-434c-f742-f559c13127d9",
        "colab": {
          "base_uri": "https://localhost:8080/"
        }
      },
      "source": [
        "for comb in combinacoes:\n",
        "  #gerando lista com as features selecionadas\n",
        "  colunas_selecionadas = list(comb)\n",
        "\n",
        "  #conjuntos X e y\n",
        "  X, y = df[colunas_selecionadas],df[TARGET_COL]\n",
        "\n",
        "  #leave=one-out\n",
        "  loo = LeaveOneOut()\n",
        "  #listas para armazenar txs de acerto\n",
        "  accs_dt = []\n",
        "  accs_nn = []\n",
        "  for train_index, test_index in loo.split(X):\n",
        "    # definido conjuntos de treino e teste\n",
        "    X_train , Y_train = X.loc[train_index], y.loc[train_index]\n",
        "    X_test, Y_test = X.loc[test_index], y.loc[test_index]\n",
        "\n",
        "    #treinamento dos classificadores\n",
        "    nn = KNeighborsClassifier(1,algorithm='brute')\n",
        "    dt = DecisionTreeClassifier(criterion='entropy', min_samples_split= 2, min_impurity_decrease= 0.25)\n",
        "\n",
        "    nn.fit(X_train,Y_train)\n",
        "    dt.fit(X_train,Y_train)\n",
        "\n",
        "    #teste dos classificadores no cjto de teste\n",
        "    y_pred_nn = nn.predict(X_test)\n",
        "    y_pred_dt = dt.predict(X_test)\n",
        "\n",
        "    #armazenar a tx de acerto nas listas\n",
        "    accs_dt.append(accuracy_score(Y_test, y_pred_dt))\n",
        "    accs_nn.append(accuracy_score(Y_test, y_pred_nn))\n",
        "\n",
        "  #acabando leave_one_out, vamos apresentar a tx de acerto media por combinacao\n",
        "  print('-' * 30)\n",
        "  print(f'FEATURES USADAS = {colunas_selecionadas}')\n",
        "  print(f'\\t DT: {100.0 * sum(accs_dt)/len(accs_dt)}%')\n",
        "  print(f'\\t NN: {100.0 * sum(accs_nn)/len(accs_nn)}%')"
      ],
      "execution_count": null,
      "outputs": [
        {
          "output_type": "stream",
          "text": [
            "------------------------------\n",
            "FEATURES USADAS = ['sepal.length']\n",
            "\t DT: 62.666666666666664%\n",
            "\t NN: 58.666666666666664%\n",
            "------------------------------\n",
            "FEATURES USADAS = ['sepal.width']\n",
            "\t DT: 52.666666666666664%\n",
            "\t NN: 48.0%\n",
            "------------------------------\n",
            "FEATURES USADAS = ['petal.length']\n",
            "\t DT: 94.0%\n",
            "\t NN: 88.0%\n",
            "------------------------------\n",
            "FEATURES USADAS = ['petal.width']\n",
            "\t DT: 95.33333333333333%\n",
            "\t NN: 88.0%\n",
            "------------------------------\n",
            "FEATURES USADAS = ['sepal.length', 'sepal.width']\n",
            "\t DT: 62.666666666666664%\n",
            "\t NN: 70.0%\n",
            "------------------------------\n",
            "FEATURES USADAS = ['sepal.length', 'petal.length']\n",
            "\t DT: 94.0%\n",
            "\t NN: 91.33333333333333%\n",
            "------------------------------\n",
            "FEATURES USADAS = ['sepal.length', 'petal.width']\n",
            "\t DT: 95.33333333333333%\n",
            "\t NN: 92.66666666666667%\n",
            "------------------------------\n",
            "FEATURES USADAS = ['sepal.width', 'petal.length']\n",
            "\t DT: 94.0%\n",
            "\t NN: 92.0%\n",
            "------------------------------\n",
            "FEATURES USADAS = ['sepal.width', 'petal.width']\n",
            "\t DT: 95.33333333333333%\n",
            "\t NN: 92.66666666666667%\n",
            "------------------------------\n",
            "FEATURES USADAS = ['petal.length', 'petal.width']\n",
            "\t DT: 95.33333333333333%\n",
            "\t NN: 96.66666666666667%\n",
            "------------------------------\n",
            "FEATURES USADAS = ['sepal.length', 'sepal.width', 'petal.length']\n",
            "\t DT: 94.0%\n",
            "\t NN: 93.33333333333333%\n",
            "------------------------------\n",
            "FEATURES USADAS = ['sepal.length', 'sepal.width', 'petal.width']\n",
            "\t DT: 95.33333333333333%\n",
            "\t NN: 94.0%\n",
            "------------------------------\n",
            "FEATURES USADAS = ['sepal.length', 'petal.length', 'petal.width']\n",
            "\t DT: 95.33333333333333%\n",
            "\t NN: 95.33333333333333%\n",
            "------------------------------\n",
            "FEATURES USADAS = ['sepal.width', 'petal.length', 'petal.width']\n",
            "\t DT: 95.33333333333333%\n",
            "\t NN: 95.33333333333333%\n",
            "------------------------------\n",
            "FEATURES USADAS = ['sepal.length', 'sepal.width', 'petal.length', 'petal.width']\n",
            "\t DT: 95.33333333333333%\n",
            "\t NN: 96.0%\n"
          ],
          "name": "stdout"
        }
      ]
    },
    {
      "cell_type": "markdown",
      "metadata": {
        "id": "pi4SsB878twA"
      },
      "source": [
        "### Wrapper RFE"
      ]
    },
    {
      "cell_type": "code",
      "metadata": {
        "id": "C0W8IRZJxJ2m"
      },
      "source": [
        "X, y = df[colunas], df[TARGET_COL]\n"
      ],
      "execution_count": null,
      "outputs": []
    },
    {
      "cell_type": "code",
      "metadata": {
        "id": "_GHUXGDq9OHi"
      },
      "source": [
        "dt = DecisionTreeClassifier(criterion='gini', random_state=42)\n",
        "lr = LogisticRegression(max_iter=1000)"
      ],
      "execution_count": null,
      "outputs": []
    },
    {
      "cell_type": "code",
      "metadata": {
        "id": "DhJpxIAS9aeS"
      },
      "source": [
        "loo = LeaveOneOut()"
      ],
      "execution_count": null,
      "outputs": []
    },
    {
      "cell_type": "code",
      "metadata": {
        "id": "0s0StyIg9jth"
      },
      "source": [
        "rfe_dt = RFECV(estimator=dt, cv=loo, scoring='accuracy')\n",
        "rfe_lr = RFECV(estimator=lr, cv=loo, scoring='accuracy')"
      ],
      "execution_count": null,
      "outputs": []
    },
    {
      "cell_type": "code",
      "metadata": {
        "id": "5pHM9aT59-A7",
        "outputId": "a0066d6c-c828-48ca-9186-98a78444ef50",
        "colab": {
          "base_uri": "https://localhost:8080/"
        }
      },
      "source": [
        "rfe_dt.fit(X,y)\n",
        "rfe_lr.fit(X,y)"
      ],
      "execution_count": null,
      "outputs": [
        {
          "output_type": "execute_result",
          "data": {
            "text/plain": [
              "RFECV(cv=LeaveOneOut(),\n",
              "      estimator=LogisticRegression(C=1.0, class_weight=None, dual=False,\n",
              "                                   fit_intercept=True, intercept_scaling=1,\n",
              "                                   l1_ratio=None, max_iter=1000,\n",
              "                                   multi_class='auto', n_jobs=None,\n",
              "                                   penalty='l2', random_state=None,\n",
              "                                   solver='lbfgs', tol=0.0001, verbose=0,\n",
              "                                   warm_start=False),\n",
              "      min_features_to_select=1, n_jobs=None, scoring='accuracy', step=1,\n",
              "      verbose=0)"
            ]
          },
          "metadata": {
            "tags": []
          },
          "execution_count": 102
        }
      ]
    },
    {
      "cell_type": "code",
      "metadata": {
        "id": "fJHw9tz1-Kmg",
        "outputId": "76b9f938-b343-463e-8a4c-0b9c194df4d2",
        "colab": {
          "base_uri": "https://localhost:8080/"
        }
      },
      "source": [
        "print('---DT----')\n",
        "print('\\t Suporte: ')\n",
        "print(rfe_dt.support_)\n",
        "print('\\t Ranking: ')\n",
        "print(rfe_dt.ranking_)"
      ],
      "execution_count": null,
      "outputs": [
        {
          "output_type": "stream",
          "text": [
            "---DT----\n",
            "\t Suporte: \n",
            "[ True False  True  True]\n",
            "\t Ranking: \n",
            "[1 2 1 1]\n"
          ],
          "name": "stdout"
        }
      ]
    },
    {
      "cell_type": "code",
      "metadata": {
        "id": "4VeI4v2E-4wO",
        "outputId": "7ac3da7c-bd3a-465d-e182-cec233e7f8fc",
        "colab": {
          "base_uri": "https://localhost:8080/"
        }
      },
      "source": [
        "print('---LR----')\n",
        "print('\\t Suporte: ')\n",
        "print(rfe_lr.support_)\n",
        "print('\\t Ranking: ')\n",
        "print(rfe_lr.ranking_)"
      ],
      "execution_count": null,
      "outputs": [
        {
          "output_type": "stream",
          "text": [
            "---LR----\n",
            "\t Suporte: \n",
            "[False  True  True  True]\n",
            "\t Ranking: \n",
            "[2 1 1 1]\n"
          ],
          "name": "stdout"
        }
      ]
    },
    {
      "cell_type": "markdown",
      "metadata": {
        "id": "TAm61EyJGESy"
      },
      "source": [
        "### SelectKBest"
      ]
    },
    {
      "cell_type": "code",
      "metadata": {
        "id": "b2mY2FVS--YH",
        "outputId": "d1aeebb8-f798-4083-e1bd-0eeab7eb805b",
        "colab": {
          "base_uri": "https://localhost:8080/"
        }
      },
      "source": [
        "skb = SelectKBest(k='all')\n",
        "skb.fit(X,y)\n"
      ],
      "execution_count": null,
      "outputs": [
        {
          "output_type": "execute_result",
          "data": {
            "text/plain": [
              "SelectKBest(k='all', score_func=<function f_classif at 0x7f568ddce510>)"
            ]
          },
          "metadata": {
            "tags": []
          },
          "execution_count": 105
        }
      ]
    },
    {
      "cell_type": "code",
      "metadata": {
        "id": "QU_e8IGmGc06"
      },
      "source": [
        "importances = skb.scores_"
      ],
      "execution_count": null,
      "outputs": []
    },
    {
      "cell_type": "code",
      "metadata": {
        "id": "_pZx9nzjGgVZ",
        "outputId": "fbd90921-0823-4bcc-d995-88699b508fca",
        "colab": {
          "base_uri": "https://localhost:8080/"
        }
      },
      "source": [
        "importances"
      ],
      "execution_count": null,
      "outputs": [
        {
          "output_type": "execute_result",
          "data": {
            "text/plain": [
              "array([ 119.26450218,   49.16004009, 1180.16118225,  960.0071468 ])"
            ]
          },
          "metadata": {
            "tags": []
          },
          "execution_count": 107
        }
      ]
    },
    {
      "cell_type": "code",
      "metadata": {
        "id": "A0j1MFeDGhaQ"
      },
      "source": [
        "importances = pd.Series(data= importances, index=X.columns.values)"
      ],
      "execution_count": null,
      "outputs": []
    },
    {
      "cell_type": "code",
      "metadata": {
        "id": "EpMIgCdrG064",
        "outputId": "0b1dd78f-a1c8-4800-ad23-494a95dd3ca9",
        "colab": {
          "base_uri": "https://localhost:8080/"
        }
      },
      "source": [
        "importances.sort_values().plot(kind='barh')"
      ],
      "execution_count": null,
      "outputs": [
        {
          "output_type": "execute_result",
          "data": {
            "text/plain": [
              "<matplotlib.axes._subplots.AxesSubplot at 0x7f5690529630>"
            ]
          },
          "metadata": {
            "tags": []
          },
          "execution_count": 109
        },
        {
          "output_type": "display_data",
          "data": {
            "image/png": "[encoded data removed]",
            "text/plain": [
              "<Figure size 432x288 with 1 Axes>"
            ]
          },
          "metadata": {
            "tags": [],
            "needs_background": "light"
          }
        }
      ]
    },
    {
      "cell_type": "code",
      "metadata": {
        "id": "EZKEkxapG6SA",
        "outputId": "4850cdc6-0597-4733-df96-70ce5210c44e",
        "colab": {
          "base_uri": "https://localhost:8080/"
        }
      },
      "source": [
        "dt = DecisionTreeClassifier(random_state=42)\n",
        "dt.fit(X,y)"
      ],
      "execution_count": null,
      "outputs": [
        {
          "output_type": "execute_result",
          "data": {
            "text/plain": [
              "DecisionTreeClassifier(ccp_alpha=0.0, class_weight=None, criterion='gini',\n",
              "                       max_depth=None, max_features=None, max_leaf_nodes=None,\n",
              "                       min_impurity_decrease=0.0, min_impurity_split=None,\n",
              "                       min_samples_leaf=1, min_samples_split=2,\n",
              "                       min_weight_fraction_leaf=0.0, presort='deprecated',\n",
              "                       random_state=42, splitter='best')"
            ]
          },
          "metadata": {
            "tags": []
          },
          "execution_count": 110
        }
      ]
    },
    {
      "cell_type": "code",
      "metadata": {
        "id": "iP4d2XqFIEYK",
        "outputId": "3945a6df-80d3-40f8-a3fc-e1ddc996e645",
        "colab": {
          "base_uri": "https://localhost:8080/"
        }
      },
      "source": [
        "dt.feature_importances_"
      ],
      "execution_count": null,
      "outputs": [
        {
          "output_type": "execute_result",
          "data": {
            "text/plain": [
              "array([0.01333333, 0.        , 0.56405596, 0.42261071])"
            ]
          },
          "metadata": {
            "tags": []
          },
          "execution_count": 111
        }
      ]
    },
    {
      "cell_type": "code",
      "metadata": {
        "id": "jjxpxq3-IHnv"
      },
      "source": [
        "impotances =  dt.feature_importances_\n",
        "importances = pd.Series(data=importances, index=X.columns.values)"
      ],
      "execution_count": null,
      "outputs": []
    },
    {
      "cell_type": "code",
      "metadata": {
        "id": "DnY_pKnSIZsf",
        "outputId": "093a70b7-6be0-4946-c0a9-e7d88cb99700",
        "colab": {
          "base_uri": "https://localhost:8080/"
        }
      },
      "source": [
        "importances.sort_values().plot(kind='barh')"
      ],
      "execution_count": null,
      "outputs": [
        {
          "output_type": "execute_result",
          "data": {
            "text/plain": [
              "<matplotlib.axes._subplots.AxesSubplot at 0x7f5690638ac8>"
            ]
          },
          "metadata": {
            "tags": []
          },
          "execution_count": 113
        },
        {
          "output_type": "display_data",
          "data": {
            "image/png": "[encoded data removed]",
            "text/plain": [
              "<Figure size 432x288 with 1 Axes>"
            ]
          },
          "metadata": {
            "tags": [],
            "needs_background": "light"
          }
        }
      ]
    },
    {
      "cell_type": "code",
      "metadata": {
        "id": "KnOU2ojOIea-",
        "outputId": "a15b8093-cef2-4573-ccb2-7f6bd8347022",
        "colab": {
          "base_uri": "https://localhost:8080/"
        }
      },
      "source": [
        "fig, axes= plt.subplots(nrows=1, ncols=1, figsize=(4,4), dpi=300)\n",
        "tree.plot_tree(dt, feature_names=X.columns.values,class_names=y.unique(), filled=True)"
      ],
      "execution_count": null,
      "outputs": [
        {
          "output_type": "execute_result",
          "data": {
            "text/plain": [
              "[Text(464.99999999999994, 830.5, 'petal.length <= 2.45\\ngini = 0.667\\nsamples = 150\\nvalue = [50, 50, 50]\\nclass = Setosa'),\n",
              " Text(393.46153846153845, 679.5, 'gini = 0.0\\nsamples = 50\\nvalue = [50, 0, 0]\\nclass = Setosa'),\n",
              " Text(536.5384615384615, 679.5, 'petal.width <= 1.75\\ngini = 0.5\\nsamples = 100\\nvalue = [0, 50, 50]\\nclass = Versicolor'),\n",
              " Text(286.15384615384613, 528.5, 'petal.length <= 4.95\\ngini = 0.168\\nsamples = 54\\nvalue = [0, 49, 5]\\nclass = Versicolor'),\n",
              " Text(143.07692307692307, 377.5, 'petal.width <= 1.65\\ngini = 0.041\\nsamples = 48\\nvalue = [0, 47, 1]\\nclass = Versicolor'),\n",
              " Text(71.53846153846153, 226.5, 'gini = 0.0\\nsamples = 47\\nvalue = [0, 47, 0]\\nclass = Versicolor'),\n",
              " Text(214.61538461538458, 226.5, 'gini = 0.0\\nsamples = 1\\nvalue = [0, 0, 1]\\nclass = Virginica'),\n",
              " Text(429.23076923076917, 377.5, 'petal.width <= 1.55\\ngini = 0.444\\nsamples = 6\\nvalue = [0, 2, 4]\\nclass = Virginica'),\n",
              " Text(357.6923076923077, 226.5, 'gini = 0.0\\nsamples = 3\\nvalue = [0, 0, 3]\\nclass = Virginica'),\n",
              " Text(500.7692307692307, 226.5, 'petal.length <= 5.45\\ngini = 0.444\\nsamples = 3\\nvalue = [0, 2, 1]\\nclass = Versicolor'),\n",
              " Text(429.23076923076917, 75.5, 'gini = 0.0\\nsamples = 2\\nvalue = [0, 2, 0]\\nclass = Versicolor'),\n",
              " Text(572.3076923076923, 75.5, 'gini = 0.0\\nsamples = 1\\nvalue = [0, 0, 1]\\nclass = Virginica'),\n",
              " Text(786.9230769230769, 528.5, 'petal.length <= 4.85\\ngini = 0.043\\nsamples = 46\\nvalue = [0, 1, 45]\\nclass = Virginica'),\n",
              " Text(715.3846153846154, 377.5, 'sepal.length <= 5.95\\ngini = 0.444\\nsamples = 3\\nvalue = [0, 1, 2]\\nclass = Virginica'),\n",
              " Text(643.8461538461538, 226.5, 'gini = 0.0\\nsamples = 1\\nvalue = [0, 1, 0]\\nclass = Versicolor'),\n",
              " Text(786.9230769230769, 226.5, 'gini = 0.0\\nsamples = 2\\nvalue = [0, 0, 2]\\nclass = Virginica'),\n",
              " Text(858.4615384615383, 377.5, 'gini = 0.0\\nsamples = 43\\nvalue = [0, 0, 43]\\nclass = Virginica')]"
            ]
          },
          "metadata": {
            "tags": []
          },
          "execution_count": 114
        },
        {
          "output_type": "display_data",
          "data": {
            "image/png": "[encoded data removed]",
            "text/plain": [
              "<Figure size 1200x1200 with 1 Axes>"
            ]
          },
          "metadata": {
            "tags": [],
            "needs_background": "light"
          }
        }
      ]
    }
  ]
}