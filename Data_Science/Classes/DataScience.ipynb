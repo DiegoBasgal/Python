{
  "nbformat": 4,
  "nbformat_minor": 0,
  "metadata": {
    "colab": {
      "name": "DataScience.ipynb",
      "provenance": [],
      "collapsed_sections": [
        "0_Yp17UyquH8",
        "qk78XxTEQCW4",
        "UXSFoSX_UJ9y",
        "JbsY5LjZUJ_T",
        "7YDO9sw7UJ_3",
        "pk0bW0uPVnvo",
        "_q__jCFjWD5d",
        "XWGGCUlWfZWq",
        "9Mew4huat5I1",
        "DbwQPea6v4w0"
      ]
    },
    "kernelspec": {
      "display_name": "Python 3",
      "language": "python",
      "name": "python3"
    },
    "language_info": {
      "codemirror_mode": {
        "name": "ipython",
        "version": 3
      },
      "file_extension": ".py",
      "mimetype": "text/x-python",
      "name": "python",
      "nbconvert_exporter": "python",
      "pygments_lexer": "ipython3",
      "version": "3.8.3"
    }
  },
  "cells": [
    {
      "cell_type": "markdown",
      "metadata": {
        "id": "heGWitZUg9r9"
      },
      "source": [
        "# Imports\n"
      ]
    },
    {
      "cell_type": "code",
      "metadata": {
        "id": "YURHQlj-lHDe"
      },
      "source": [
        "#Imports\n",
        "import pandas as pd\n",
        "import numpy as np\n",
        "import matplotlib.pyplot as plt\n",
        "import seaborn as sns\n",
        "from scipy import stats"
      ],
      "execution_count": 4,
      "outputs": []
    },
    {
      "cell_type": "markdown",
      "metadata": {
        "id": "0_Yp17UyquH8"
      },
      "source": [
        "# Aula 03/20 - Pandas\n"
      ]
    },
    {
      "cell_type": "code",
      "metadata": {
        "id": "hjI_l5Ihsc2W"
      },
      "source": [
        "#Loading base of datas\n",
        "df = pd.read_csv('http://www.ppgia.pucpr.br/~jean.barddal/datascience/kobe_shots.csv')"
      ],
      "execution_count": null,
      "outputs": []
    },
    {
      "cell_type": "code",
      "metadata": {
        "id": "ph2LJo1rtKGR",
        "outputId": "ff16d0a1-29fe-4e88-9377-e6cc4f7a7b05",
        "colab": {
          "base_uri": "https://localhost:8080/",
          "height": 554
        }
      },
      "source": [
        "df.info()"
      ],
      "execution_count": null,
      "outputs": [
        {
          "output_type": "stream",
          "text": [
            "<class 'pandas.core.frame.DataFrame'>\n",
            "RangeIndex: 30697 entries, 0 to 30696\n",
            "Data columns (total 25 columns):\n",
            " #   Column              Non-Null Count  Dtype  \n",
            "---  ------              --------------  -----  \n",
            " 0   action_type         30697 non-null  object \n",
            " 1   combined_shot_type  30697 non-null  object \n",
            " 2   game_event_id       30697 non-null  int64  \n",
            " 3   game_id             30697 non-null  int64  \n",
            " 4   lat                 30697 non-null  float64\n",
            " 5   loc_x               30697 non-null  int64  \n",
            " 6   loc_y               30697 non-null  int64  \n",
            " 7   lon                 30697 non-null  float64\n",
            " 8   minutes_remaining   30697 non-null  int64  \n",
            " 9   period              30697 non-null  int64  \n",
            " 10  playoffs            30697 non-null  int64  \n",
            " 11  season              30697 non-null  object \n",
            " 12  seconds_remaining   30697 non-null  int64  \n",
            " 13  shot_distance       30697 non-null  int64  \n",
            " 14  shot_made_flag      25697 non-null  float64\n",
            " 15  shot_type           30697 non-null  object \n",
            " 16  shot_zone_area      30697 non-null  object \n",
            " 17  shot_zone_basic     30697 non-null  object \n",
            " 18  shot_zone_range     30697 non-null  object \n",
            " 19  team_id             30697 non-null  int64  \n",
            " 20  team_name           30697 non-null  object \n",
            " 21  game_date           30697 non-null  object \n",
            " 22  matchup             30697 non-null  object \n",
            " 23  opponent            30697 non-null  object \n",
            " 24  shot_id             30697 non-null  int64  \n",
            "dtypes: float64(3), int64(11), object(11)\n",
            "memory usage: 5.9+ MB\n"
          ],
          "name": "stdout"
        }
      ]
    },
    {
      "cell_type": "code",
      "metadata": {
        "id": "ez4zAiLGuJ0L",
        "outputId": "27576553-5125-4e56-ea68-87266da06c96",
        "colab": {
          "base_uri": "https://localhost:8080/",
          "height": 50
        }
      },
      "source": [
        "#get number row and cows -> shape\n",
        "n_rows,n_cows = df.shape\n",
        "print(n_rows)\n",
        "print(n_cows)"
      ],
      "execution_count": null,
      "outputs": [
        {
          "output_type": "stream",
          "text": [
            "30697\n",
            "25\n"
          ],
          "name": "stdout"
        }
      ]
    },
    {
      "cell_type": "code",
      "metadata": {
        "id": "32kcfZswu3gd",
        "outputId": "fbb6269b-be97-4be9-cc86-c9f48c63bd0f",
        "colab": {
          "base_uri": "https://localhost:8080/",
          "height": 383
        }
      },
      "source": [
        "#show the beging  of dataset\n",
        "df.head(5)"
      ],
      "execution_count": null,
      "outputs": [
        {
          "output_type": "execute_result",
          "data": {
            "text/html": [
              "<div>\n",
              "<style scoped>\n",
              "    .dataframe tbody tr th:only-of-type {\n",
              "        vertical-align: middle;\n",
              "    }\n",
              "\n",
              "    .dataframe tbody tr th {\n",
              "        vertical-align: top;\n",
              "    }\n",
              "\n",
              "    .dataframe thead th {\n",
              "        text-align: right;\n",
              "    }\n",
              "</style>\n",
              "<table border=\"1\" class=\"dataframe\">\n",
              "  <thead>\n",
              "    <tr style=\"text-align: right;\">\n",
              "      <th></th>\n",
              "      <th>action_type</th>\n",
              "      <th>combined_shot_type</th>\n",
              "      <th>game_event_id</th>\n",
              "      <th>game_id</th>\n",
              "      <th>lat</th>\n",
              "      <th>loc_x</th>\n",
              "      <th>loc_y</th>\n",
              "      <th>lon</th>\n",
              "      <th>minutes_remaining</th>\n",
              "      <th>period</th>\n",
              "      <th>playoffs</th>\n",
              "      <th>season</th>\n",
              "      <th>seconds_remaining</th>\n",
              "      <th>shot_distance</th>\n",
              "      <th>shot_made_flag</th>\n",
              "      <th>shot_type</th>\n",
              "      <th>shot_zone_area</th>\n",
              "      <th>shot_zone_basic</th>\n",
              "      <th>shot_zone_range</th>\n",
              "      <th>team_id</th>\n",
              "      <th>team_name</th>\n",
              "      <th>game_date</th>\n",
              "      <th>matchup</th>\n",
              "      <th>opponent</th>\n",
              "      <th>shot_id</th>\n",
              "    </tr>\n",
              "  </thead>\n",
              "  <tbody>\n",
              "    <tr>\n",
              "      <th>0</th>\n",
              "      <td>Jump Shot</td>\n",
              "      <td>Jump Shot</td>\n",
              "      <td>10</td>\n",
              "      <td>20000012</td>\n",
              "      <td>33.9723</td>\n",
              "      <td>167</td>\n",
              "      <td>72</td>\n",
              "      <td>-118.1028</td>\n",
              "      <td>10</td>\n",
              "      <td>1</td>\n",
              "      <td>0</td>\n",
              "      <td>2000-01</td>\n",
              "      <td>27</td>\n",
              "      <td>18</td>\n",
              "      <td>NaN</td>\n",
              "      <td>2PT Field Goal</td>\n",
              "      <td>Right Side(R)</td>\n",
              "      <td>Mid-Range</td>\n",
              "      <td>16-24 ft.</td>\n",
              "      <td>1610612747</td>\n",
              "      <td>Los Angeles Lakers</td>\n",
              "      <td>2000-10-31</td>\n",
              "      <td>LAL @ POR</td>\n",
              "      <td>POR</td>\n",
              "      <td>1</td>\n",
              "    </tr>\n",
              "    <tr>\n",
              "      <th>1</th>\n",
              "      <td>Jump Shot</td>\n",
              "      <td>Jump Shot</td>\n",
              "      <td>12</td>\n",
              "      <td>20000012</td>\n",
              "      <td>34.0443</td>\n",
              "      <td>-157</td>\n",
              "      <td>0</td>\n",
              "      <td>-118.4268</td>\n",
              "      <td>10</td>\n",
              "      <td>1</td>\n",
              "      <td>0</td>\n",
              "      <td>2000-01</td>\n",
              "      <td>22</td>\n",
              "      <td>15</td>\n",
              "      <td>0.0</td>\n",
              "      <td>2PT Field Goal</td>\n",
              "      <td>Left Side(L)</td>\n",
              "      <td>Mid-Range</td>\n",
              "      <td>8-16 ft.</td>\n",
              "      <td>1610612747</td>\n",
              "      <td>Los Angeles Lakers</td>\n",
              "      <td>2000-10-31</td>\n",
              "      <td>LAL @ POR</td>\n",
              "      <td>POR</td>\n",
              "      <td>2</td>\n",
              "    </tr>\n",
              "    <tr>\n",
              "      <th>2</th>\n",
              "      <td>Jump Shot</td>\n",
              "      <td>Jump Shot</td>\n",
              "      <td>35</td>\n",
              "      <td>20000012</td>\n",
              "      <td>33.9093</td>\n",
              "      <td>-101</td>\n",
              "      <td>135</td>\n",
              "      <td>-118.3708</td>\n",
              "      <td>7</td>\n",
              "      <td>1</td>\n",
              "      <td>0</td>\n",
              "      <td>2000-01</td>\n",
              "      <td>45</td>\n",
              "      <td>16</td>\n",
              "      <td>1.0</td>\n",
              "      <td>2PT Field Goal</td>\n",
              "      <td>Left Side Center(LC)</td>\n",
              "      <td>Mid-Range</td>\n",
              "      <td>16-24 ft.</td>\n",
              "      <td>1610612747</td>\n",
              "      <td>Los Angeles Lakers</td>\n",
              "      <td>2000-10-31</td>\n",
              "      <td>LAL @ POR</td>\n",
              "      <td>POR</td>\n",
              "      <td>3</td>\n",
              "    </tr>\n",
              "    <tr>\n",
              "      <th>3</th>\n",
              "      <td>Jump Shot</td>\n",
              "      <td>Jump Shot</td>\n",
              "      <td>43</td>\n",
              "      <td>20000012</td>\n",
              "      <td>33.8693</td>\n",
              "      <td>138</td>\n",
              "      <td>175</td>\n",
              "      <td>-118.1318</td>\n",
              "      <td>6</td>\n",
              "      <td>1</td>\n",
              "      <td>0</td>\n",
              "      <td>2000-01</td>\n",
              "      <td>52</td>\n",
              "      <td>22</td>\n",
              "      <td>0.0</td>\n",
              "      <td>2PT Field Goal</td>\n",
              "      <td>Right Side Center(RC)</td>\n",
              "      <td>Mid-Range</td>\n",
              "      <td>16-24 ft.</td>\n",
              "      <td>1610612747</td>\n",
              "      <td>Los Angeles Lakers</td>\n",
              "      <td>2000-10-31</td>\n",
              "      <td>LAL @ POR</td>\n",
              "      <td>POR</td>\n",
              "      <td>4</td>\n",
              "    </tr>\n",
              "    <tr>\n",
              "      <th>4</th>\n",
              "      <td>Driving Dunk Shot</td>\n",
              "      <td>Dunk</td>\n",
              "      <td>155</td>\n",
              "      <td>20000012</td>\n",
              "      <td>34.0443</td>\n",
              "      <td>0</td>\n",
              "      <td>0</td>\n",
              "      <td>-118.2698</td>\n",
              "      <td>6</td>\n",
              "      <td>2</td>\n",
              "      <td>0</td>\n",
              "      <td>2000-01</td>\n",
              "      <td>19</td>\n",
              "      <td>0</td>\n",
              "      <td>1.0</td>\n",
              "      <td>2PT Field Goal</td>\n",
              "      <td>Center(C)</td>\n",
              "      <td>Restricted Area</td>\n",
              "      <td>Less Than 8 ft.</td>\n",
              "      <td>1610612747</td>\n",
              "      <td>Los Angeles Lakers</td>\n",
              "      <td>2000-10-31</td>\n",
              "      <td>LAL @ POR</td>\n",
              "      <td>POR</td>\n",
              "      <td>5</td>\n",
              "    </tr>\n",
              "  </tbody>\n",
              "</table>\n",
              "</div>"
            ],
            "text/plain": [
              "         action_type combined_shot_type  ...  opponent  shot_id\n",
              "0          Jump Shot          Jump Shot  ...       POR        1\n",
              "1          Jump Shot          Jump Shot  ...       POR        2\n",
              "2          Jump Shot          Jump Shot  ...       POR        3\n",
              "3          Jump Shot          Jump Shot  ...       POR        4\n",
              "4  Driving Dunk Shot               Dunk  ...       POR        5\n",
              "\n",
              "[5 rows x 25 columns]"
            ]
          },
          "metadata": {
            "tags": []
          },
          "execution_count": 10
        }
      ]
    },
    {
      "cell_type": "code",
      "metadata": {
        "id": "eiykNa5GvqxD",
        "outputId": "448ac376-038f-40c3-e3a3-eb8b57f9b3bf",
        "colab": {
          "base_uri": "https://localhost:8080/",
          "height": 383
        }
      },
      "source": [
        "#show the end of dataset \n",
        "df.tail(5)"
      ],
      "execution_count": null,
      "outputs": [
        {
          "output_type": "execute_result",
          "data": {
            "text/html": [
              "<div>\n",
              "<style scoped>\n",
              "    .dataframe tbody tr th:only-of-type {\n",
              "        vertical-align: middle;\n",
              "    }\n",
              "\n",
              "    .dataframe tbody tr th {\n",
              "        vertical-align: top;\n",
              "    }\n",
              "\n",
              "    .dataframe thead th {\n",
              "        text-align: right;\n",
              "    }\n",
              "</style>\n",
              "<table border=\"1\" class=\"dataframe\">\n",
              "  <thead>\n",
              "    <tr style=\"text-align: right;\">\n",
              "      <th></th>\n",
              "      <th>action_type</th>\n",
              "      <th>combined_shot_type</th>\n",
              "      <th>game_event_id</th>\n",
              "      <th>game_id</th>\n",
              "      <th>lat</th>\n",
              "      <th>loc_x</th>\n",
              "      <th>loc_y</th>\n",
              "      <th>lon</th>\n",
              "      <th>minutes_remaining</th>\n",
              "      <th>period</th>\n",
              "      <th>playoffs</th>\n",
              "      <th>season</th>\n",
              "      <th>seconds_remaining</th>\n",
              "      <th>shot_distance</th>\n",
              "      <th>shot_made_flag</th>\n",
              "      <th>shot_type</th>\n",
              "      <th>shot_zone_area</th>\n",
              "      <th>shot_zone_basic</th>\n",
              "      <th>shot_zone_range</th>\n",
              "      <th>team_id</th>\n",
              "      <th>team_name</th>\n",
              "      <th>game_date</th>\n",
              "      <th>matchup</th>\n",
              "      <th>opponent</th>\n",
              "      <th>shot_id</th>\n",
              "    </tr>\n",
              "  </thead>\n",
              "  <tbody>\n",
              "    <tr>\n",
              "      <th>30692</th>\n",
              "      <td>Jump Shot</td>\n",
              "      <td>Jump Shot</td>\n",
              "      <td>397</td>\n",
              "      <td>49900088</td>\n",
              "      <td>33.9963</td>\n",
              "      <td>1</td>\n",
              "      <td>48</td>\n",
              "      <td>-118.2688</td>\n",
              "      <td>6</td>\n",
              "      <td>4</td>\n",
              "      <td>1</td>\n",
              "      <td>1999-00</td>\n",
              "      <td>5</td>\n",
              "      <td>4</td>\n",
              "      <td>0.0</td>\n",
              "      <td>2PT Field Goal</td>\n",
              "      <td>Center(C)</td>\n",
              "      <td>In The Paint (Non-RA)</td>\n",
              "      <td>Less Than 8 ft.</td>\n",
              "      <td>1610612747</td>\n",
              "      <td>Los Angeles Lakers</td>\n",
              "      <td>2000-06-19</td>\n",
              "      <td>LAL vs. IND</td>\n",
              "      <td>IND</td>\n",
              "      <td>30693</td>\n",
              "    </tr>\n",
              "    <tr>\n",
              "      <th>30693</th>\n",
              "      <td>Tip Shot</td>\n",
              "      <td>Tip Shot</td>\n",
              "      <td>398</td>\n",
              "      <td>49900088</td>\n",
              "      <td>34.0443</td>\n",
              "      <td>0</td>\n",
              "      <td>0</td>\n",
              "      <td>-118.2698</td>\n",
              "      <td>6</td>\n",
              "      <td>4</td>\n",
              "      <td>1</td>\n",
              "      <td>1999-00</td>\n",
              "      <td>5</td>\n",
              "      <td>0</td>\n",
              "      <td>NaN</td>\n",
              "      <td>2PT Field Goal</td>\n",
              "      <td>Center(C)</td>\n",
              "      <td>Restricted Area</td>\n",
              "      <td>Less Than 8 ft.</td>\n",
              "      <td>1610612747</td>\n",
              "      <td>Los Angeles Lakers</td>\n",
              "      <td>2000-06-19</td>\n",
              "      <td>LAL vs. IND</td>\n",
              "      <td>IND</td>\n",
              "      <td>30694</td>\n",
              "    </tr>\n",
              "    <tr>\n",
              "      <th>30694</th>\n",
              "      <td>Running Jump Shot</td>\n",
              "      <td>Jump Shot</td>\n",
              "      <td>426</td>\n",
              "      <td>49900088</td>\n",
              "      <td>33.8783</td>\n",
              "      <td>-134</td>\n",
              "      <td>166</td>\n",
              "      <td>-118.4038</td>\n",
              "      <td>3</td>\n",
              "      <td>4</td>\n",
              "      <td>1</td>\n",
              "      <td>1999-00</td>\n",
              "      <td>28</td>\n",
              "      <td>21</td>\n",
              "      <td>1.0</td>\n",
              "      <td>2PT Field Goal</td>\n",
              "      <td>Left Side Center(LC)</td>\n",
              "      <td>Mid-Range</td>\n",
              "      <td>16-24 ft.</td>\n",
              "      <td>1610612747</td>\n",
              "      <td>Los Angeles Lakers</td>\n",
              "      <td>2000-06-19</td>\n",
              "      <td>LAL vs. IND</td>\n",
              "      <td>IND</td>\n",
              "      <td>30695</td>\n",
              "    </tr>\n",
              "    <tr>\n",
              "      <th>30695</th>\n",
              "      <td>Jump Shot</td>\n",
              "      <td>Jump Shot</td>\n",
              "      <td>448</td>\n",
              "      <td>49900088</td>\n",
              "      <td>33.7773</td>\n",
              "      <td>31</td>\n",
              "      <td>267</td>\n",
              "      <td>-118.2388</td>\n",
              "      <td>2</td>\n",
              "      <td>4</td>\n",
              "      <td>1</td>\n",
              "      <td>1999-00</td>\n",
              "      <td>10</td>\n",
              "      <td>26</td>\n",
              "      <td>0.0</td>\n",
              "      <td>3PT Field Goal</td>\n",
              "      <td>Center(C)</td>\n",
              "      <td>Above the Break 3</td>\n",
              "      <td>24+ ft.</td>\n",
              "      <td>1610612747</td>\n",
              "      <td>Los Angeles Lakers</td>\n",
              "      <td>2000-06-19</td>\n",
              "      <td>LAL vs. IND</td>\n",
              "      <td>IND</td>\n",
              "      <td>30696</td>\n",
              "    </tr>\n",
              "    <tr>\n",
              "      <th>30696</th>\n",
              "      <td>Jump Shot</td>\n",
              "      <td>Jump Shot</td>\n",
              "      <td>471</td>\n",
              "      <td>49900088</td>\n",
              "      <td>33.9723</td>\n",
              "      <td>1</td>\n",
              "      <td>72</td>\n",
              "      <td>-118.2688</td>\n",
              "      <td>0</td>\n",
              "      <td>4</td>\n",
              "      <td>1</td>\n",
              "      <td>1999-00</td>\n",
              "      <td>39</td>\n",
              "      <td>7</td>\n",
              "      <td>0.0</td>\n",
              "      <td>2PT Field Goal</td>\n",
              "      <td>Center(C)</td>\n",
              "      <td>In The Paint (Non-RA)</td>\n",
              "      <td>Less Than 8 ft.</td>\n",
              "      <td>1610612747</td>\n",
              "      <td>Los Angeles Lakers</td>\n",
              "      <td>2000-06-19</td>\n",
              "      <td>LAL vs. IND</td>\n",
              "      <td>IND</td>\n",
              "      <td>30697</td>\n",
              "    </tr>\n",
              "  </tbody>\n",
              "</table>\n",
              "</div>"
            ],
            "text/plain": [
              "             action_type combined_shot_type  ...  opponent  shot_id\n",
              "30692          Jump Shot          Jump Shot  ...       IND    30693\n",
              "30693           Tip Shot           Tip Shot  ...       IND    30694\n",
              "30694  Running Jump Shot          Jump Shot  ...       IND    30695\n",
              "30695          Jump Shot          Jump Shot  ...       IND    30696\n",
              "30696          Jump Shot          Jump Shot  ...       IND    30697\n",
              "\n",
              "[5 rows x 25 columns]"
            ]
          },
          "metadata": {
            "tags": []
          },
          "execution_count": 11
        }
      ]
    },
    {
      "cell_type": "code",
      "metadata": {
        "id": "Y4yS42ISv5K_",
        "outputId": "579157ac-9766-4908-8989-565ddf3b11db",
        "colab": {
          "base_uri": "https://localhost:8080/",
          "height": 218
        }
      },
      "source": [
        "# select cow action_type\n",
        "df['action_type']"
      ],
      "execution_count": null,
      "outputs": [
        {
          "output_type": "execute_result",
          "data": {
            "text/plain": [
              "0                Jump Shot\n",
              "1                Jump Shot\n",
              "2                Jump Shot\n",
              "3                Jump Shot\n",
              "4        Driving Dunk Shot\n",
              "               ...        \n",
              "30692            Jump Shot\n",
              "30693             Tip Shot\n",
              "30694    Running Jump Shot\n",
              "30695            Jump Shot\n",
              "30696            Jump Shot\n",
              "Name: action_type, Length: 30697, dtype: object"
            ]
          },
          "metadata": {
            "tags": []
          },
          "execution_count": 12
        }
      ]
    },
    {
      "cell_type": "code",
      "metadata": {
        "id": "ZElZP71HwTSV",
        "outputId": "f552c89c-cd08-426b-9800-1c2db19fb511",
        "colab": {
          "base_uri": "https://localhost:8080/",
          "height": 402
        }
      },
      "source": [
        "#select action_type and period\n",
        "df[['action_type','period']]"
      ],
      "execution_count": null,
      "outputs": [
        {
          "output_type": "execute_result",
          "data": {
            "text/html": [
              "<div>\n",
              "<style scoped>\n",
              "    .dataframe tbody tr th:only-of-type {\n",
              "        vertical-align: middle;\n",
              "    }\n",
              "\n",
              "    .dataframe tbody tr th {\n",
              "        vertical-align: top;\n",
              "    }\n",
              "\n",
              "    .dataframe thead th {\n",
              "        text-align: right;\n",
              "    }\n",
              "</style>\n",
              "<table border=\"1\" class=\"dataframe\">\n",
              "  <thead>\n",
              "    <tr style=\"text-align: right;\">\n",
              "      <th></th>\n",
              "      <th>action_type</th>\n",
              "      <th>period</th>\n",
              "    </tr>\n",
              "  </thead>\n",
              "  <tbody>\n",
              "    <tr>\n",
              "      <th>0</th>\n",
              "      <td>Jump Shot</td>\n",
              "      <td>1</td>\n",
              "    </tr>\n",
              "    <tr>\n",
              "      <th>1</th>\n",
              "      <td>Jump Shot</td>\n",
              "      <td>1</td>\n",
              "    </tr>\n",
              "    <tr>\n",
              "      <th>2</th>\n",
              "      <td>Jump Shot</td>\n",
              "      <td>1</td>\n",
              "    </tr>\n",
              "    <tr>\n",
              "      <th>3</th>\n",
              "      <td>Jump Shot</td>\n",
              "      <td>1</td>\n",
              "    </tr>\n",
              "    <tr>\n",
              "      <th>4</th>\n",
              "      <td>Driving Dunk Shot</td>\n",
              "      <td>2</td>\n",
              "    </tr>\n",
              "    <tr>\n",
              "      <th>...</th>\n",
              "      <td>...</td>\n",
              "      <td>...</td>\n",
              "    </tr>\n",
              "    <tr>\n",
              "      <th>30692</th>\n",
              "      <td>Jump Shot</td>\n",
              "      <td>4</td>\n",
              "    </tr>\n",
              "    <tr>\n",
              "      <th>30693</th>\n",
              "      <td>Tip Shot</td>\n",
              "      <td>4</td>\n",
              "    </tr>\n",
              "    <tr>\n",
              "      <th>30694</th>\n",
              "      <td>Running Jump Shot</td>\n",
              "      <td>4</td>\n",
              "    </tr>\n",
              "    <tr>\n",
              "      <th>30695</th>\n",
              "      <td>Jump Shot</td>\n",
              "      <td>4</td>\n",
              "    </tr>\n",
              "    <tr>\n",
              "      <th>30696</th>\n",
              "      <td>Jump Shot</td>\n",
              "      <td>4</td>\n",
              "    </tr>\n",
              "  </tbody>\n",
              "</table>\n",
              "<p>30697 rows × 2 columns</p>\n",
              "</div>"
            ],
            "text/plain": [
              "             action_type  period\n",
              "0              Jump Shot       1\n",
              "1              Jump Shot       1\n",
              "2              Jump Shot       1\n",
              "3              Jump Shot       1\n",
              "4      Driving Dunk Shot       2\n",
              "...                  ...     ...\n",
              "30692          Jump Shot       4\n",
              "30693           Tip Shot       4\n",
              "30694  Running Jump Shot       4\n",
              "30695          Jump Shot       4\n",
              "30696          Jump Shot       4\n",
              "\n",
              "[30697 rows x 2 columns]"
            ]
          },
          "metadata": {
            "tags": []
          },
          "execution_count": 13
        }
      ]
    },
    {
      "cell_type": "code",
      "metadata": {
        "id": "Zl_ThAxOwmtG",
        "outputId": "2542c478-8ee0-4e18-cdd3-2f24d8a5bb37",
        "colab": {
          "base_uri": "https://localhost:8080/",
          "height": 304
        }
      },
      "source": [
        "# describe -> static of number columns\n",
        "df.describe()"
      ],
      "execution_count": null,
      "outputs": [
        {
          "output_type": "execute_result",
          "data": {
            "text/html": [
              "<div>\n",
              "<style scoped>\n",
              "    .dataframe tbody tr th:only-of-type {\n",
              "        vertical-align: middle;\n",
              "    }\n",
              "\n",
              "    .dataframe tbody tr th {\n",
              "        vertical-align: top;\n",
              "    }\n",
              "\n",
              "    .dataframe thead th {\n",
              "        text-align: right;\n",
              "    }\n",
              "</style>\n",
              "<table border=\"1\" class=\"dataframe\">\n",
              "  <thead>\n",
              "    <tr style=\"text-align: right;\">\n",
              "      <th></th>\n",
              "      <th>game_event_id</th>\n",
              "      <th>game_id</th>\n",
              "      <th>lat</th>\n",
              "      <th>loc_x</th>\n",
              "      <th>loc_y</th>\n",
              "      <th>lon</th>\n",
              "      <th>minutes_remaining</th>\n",
              "      <th>period</th>\n",
              "      <th>playoffs</th>\n",
              "      <th>seconds_remaining</th>\n",
              "      <th>shot_distance</th>\n",
              "      <th>shot_made_flag</th>\n",
              "      <th>team_id</th>\n",
              "      <th>shot_id</th>\n",
              "    </tr>\n",
              "  </thead>\n",
              "  <tbody>\n",
              "    <tr>\n",
              "      <th>count</th>\n",
              "      <td>30697.000000</td>\n",
              "      <td>3.069700e+04</td>\n",
              "      <td>30697.000000</td>\n",
              "      <td>30697.000000</td>\n",
              "      <td>30697.000000</td>\n",
              "      <td>30697.000000</td>\n",
              "      <td>30697.000000</td>\n",
              "      <td>30697.000000</td>\n",
              "      <td>30697.000000</td>\n",
              "      <td>30697.000000</td>\n",
              "      <td>30697.000000</td>\n",
              "      <td>25697.000000</td>\n",
              "      <td>3.069700e+04</td>\n",
              "      <td>30697.000000</td>\n",
              "    </tr>\n",
              "    <tr>\n",
              "      <th>mean</th>\n",
              "      <td>249.190800</td>\n",
              "      <td>2.476407e+07</td>\n",
              "      <td>33.953192</td>\n",
              "      <td>7.110499</td>\n",
              "      <td>91.107535</td>\n",
              "      <td>-118.262690</td>\n",
              "      <td>4.885624</td>\n",
              "      <td>2.519432</td>\n",
              "      <td>0.146562</td>\n",
              "      <td>28.365085</td>\n",
              "      <td>13.437437</td>\n",
              "      <td>0.446161</td>\n",
              "      <td>1.610613e+09</td>\n",
              "      <td>15349.000000</td>\n",
              "    </tr>\n",
              "    <tr>\n",
              "      <th>std</th>\n",
              "      <td>150.003712</td>\n",
              "      <td>7.755175e+06</td>\n",
              "      <td>0.087791</td>\n",
              "      <td>110.124578</td>\n",
              "      <td>87.791361</td>\n",
              "      <td>0.110125</td>\n",
              "      <td>3.449897</td>\n",
              "      <td>1.153665</td>\n",
              "      <td>0.353674</td>\n",
              "      <td>17.478949</td>\n",
              "      <td>9.374189</td>\n",
              "      <td>0.497103</td>\n",
              "      <td>0.000000e+00</td>\n",
              "      <td>8861.604943</td>\n",
              "    </tr>\n",
              "    <tr>\n",
              "      <th>min</th>\n",
              "      <td>2.000000</td>\n",
              "      <td>2.000001e+07</td>\n",
              "      <td>33.253300</td>\n",
              "      <td>-250.000000</td>\n",
              "      <td>-44.000000</td>\n",
              "      <td>-118.519800</td>\n",
              "      <td>0.000000</td>\n",
              "      <td>1.000000</td>\n",
              "      <td>0.000000</td>\n",
              "      <td>0.000000</td>\n",
              "      <td>0.000000</td>\n",
              "      <td>0.000000</td>\n",
              "      <td>1.610613e+09</td>\n",
              "      <td>1.000000</td>\n",
              "    </tr>\n",
              "    <tr>\n",
              "      <th>25%</th>\n",
              "      <td>110.000000</td>\n",
              "      <td>2.050008e+07</td>\n",
              "      <td>33.884300</td>\n",
              "      <td>-68.000000</td>\n",
              "      <td>4.000000</td>\n",
              "      <td>-118.337800</td>\n",
              "      <td>2.000000</td>\n",
              "      <td>1.000000</td>\n",
              "      <td>0.000000</td>\n",
              "      <td>13.000000</td>\n",
              "      <td>5.000000</td>\n",
              "      <td>0.000000</td>\n",
              "      <td>1.610613e+09</td>\n",
              "      <td>7675.000000</td>\n",
              "    </tr>\n",
              "    <tr>\n",
              "      <th>50%</th>\n",
              "      <td>253.000000</td>\n",
              "      <td>2.090035e+07</td>\n",
              "      <td>33.970300</td>\n",
              "      <td>0.000000</td>\n",
              "      <td>74.000000</td>\n",
              "      <td>-118.269800</td>\n",
              "      <td>5.000000</td>\n",
              "      <td>3.000000</td>\n",
              "      <td>0.000000</td>\n",
              "      <td>28.000000</td>\n",
              "      <td>15.000000</td>\n",
              "      <td>0.000000</td>\n",
              "      <td>1.610613e+09</td>\n",
              "      <td>15349.000000</td>\n",
              "    </tr>\n",
              "    <tr>\n",
              "      <th>75%</th>\n",
              "      <td>368.000000</td>\n",
              "      <td>2.960047e+07</td>\n",
              "      <td>34.040300</td>\n",
              "      <td>95.000000</td>\n",
              "      <td>160.000000</td>\n",
              "      <td>-118.174800</td>\n",
              "      <td>8.000000</td>\n",
              "      <td>3.000000</td>\n",
              "      <td>0.000000</td>\n",
              "      <td>43.000000</td>\n",
              "      <td>21.000000</td>\n",
              "      <td>1.000000</td>\n",
              "      <td>1.610613e+09</td>\n",
              "      <td>23023.000000</td>\n",
              "    </tr>\n",
              "    <tr>\n",
              "      <th>max</th>\n",
              "      <td>659.000000</td>\n",
              "      <td>4.990009e+07</td>\n",
              "      <td>34.088300</td>\n",
              "      <td>248.000000</td>\n",
              "      <td>791.000000</td>\n",
              "      <td>-118.021800</td>\n",
              "      <td>11.000000</td>\n",
              "      <td>7.000000</td>\n",
              "      <td>1.000000</td>\n",
              "      <td>59.000000</td>\n",
              "      <td>79.000000</td>\n",
              "      <td>1.000000</td>\n",
              "      <td>1.610613e+09</td>\n",
              "      <td>30697.000000</td>\n",
              "    </tr>\n",
              "  </tbody>\n",
              "</table>\n",
              "</div>"
            ],
            "text/plain": [
              "       game_event_id       game_id  ...       team_id       shot_id\n",
              "count   30697.000000  3.069700e+04  ...  3.069700e+04  30697.000000\n",
              "mean      249.190800  2.476407e+07  ...  1.610613e+09  15349.000000\n",
              "std       150.003712  7.755175e+06  ...  0.000000e+00   8861.604943\n",
              "min         2.000000  2.000001e+07  ...  1.610613e+09      1.000000\n",
              "25%       110.000000  2.050008e+07  ...  1.610613e+09   7675.000000\n",
              "50%       253.000000  2.090035e+07  ...  1.610613e+09  15349.000000\n",
              "75%       368.000000  2.960047e+07  ...  1.610613e+09  23023.000000\n",
              "max       659.000000  4.990009e+07  ...  1.610613e+09  30697.000000\n",
              "\n",
              "[8 rows x 14 columns]"
            ]
          },
          "metadata": {
            "tags": []
          },
          "execution_count": 14
        }
      ]
    },
    {
      "cell_type": "code",
      "metadata": {
        "id": "Ucw3RjPXx8bc",
        "outputId": "b15c0e55-6d10-41e5-85c2-ca2242714786",
        "colab": {
          "base_uri": "https://localhost:8080/",
          "height": 194
        }
      },
      "source": [
        "#select lines\n",
        "#afeter line 10 at 12\n",
        "df[10:12]"
      ],
      "execution_count": null,
      "outputs": [
        {
          "output_type": "execute_result",
          "data": {
            "text/html": [
              "<div>\n",
              "<style scoped>\n",
              "    .dataframe tbody tr th:only-of-type {\n",
              "        vertical-align: middle;\n",
              "    }\n",
              "\n",
              "    .dataframe tbody tr th {\n",
              "        vertical-align: top;\n",
              "    }\n",
              "\n",
              "    .dataframe thead th {\n",
              "        text-align: right;\n",
              "    }\n",
              "</style>\n",
              "<table border=\"1\" class=\"dataframe\">\n",
              "  <thead>\n",
              "    <tr style=\"text-align: right;\">\n",
              "      <th></th>\n",
              "      <th>action_type</th>\n",
              "      <th>combined_shot_type</th>\n",
              "      <th>game_event_id</th>\n",
              "      <th>game_id</th>\n",
              "      <th>lat</th>\n",
              "      <th>loc_x</th>\n",
              "      <th>loc_y</th>\n",
              "      <th>lon</th>\n",
              "      <th>minutes_remaining</th>\n",
              "      <th>period</th>\n",
              "      <th>playoffs</th>\n",
              "      <th>season</th>\n",
              "      <th>seconds_remaining</th>\n",
              "      <th>shot_distance</th>\n",
              "      <th>shot_made_flag</th>\n",
              "      <th>shot_type</th>\n",
              "      <th>shot_zone_area</th>\n",
              "      <th>shot_zone_basic</th>\n",
              "      <th>shot_zone_range</th>\n",
              "      <th>team_id</th>\n",
              "      <th>team_name</th>\n",
              "      <th>game_date</th>\n",
              "      <th>matchup</th>\n",
              "      <th>opponent</th>\n",
              "      <th>shot_id</th>\n",
              "    </tr>\n",
              "  </thead>\n",
              "  <tbody>\n",
              "    <tr>\n",
              "      <th>10</th>\n",
              "      <td>Jump Shot</td>\n",
              "      <td>Jump Shot</td>\n",
              "      <td>309</td>\n",
              "      <td>20000012</td>\n",
              "      <td>33.8063</td>\n",
              "      <td>-94</td>\n",
              "      <td>238</td>\n",
              "      <td>-118.3638</td>\n",
              "      <td>1</td>\n",
              "      <td>3</td>\n",
              "      <td>0</td>\n",
              "      <td>2000-01</td>\n",
              "      <td>56</td>\n",
              "      <td>25</td>\n",
              "      <td>0.0</td>\n",
              "      <td>3PT Field Goal</td>\n",
              "      <td>Left Side Center(LC)</td>\n",
              "      <td>Above the Break 3</td>\n",
              "      <td>24+ ft.</td>\n",
              "      <td>1610612747</td>\n",
              "      <td>Los Angeles Lakers</td>\n",
              "      <td>2000-10-31</td>\n",
              "      <td>LAL @ POR</td>\n",
              "      <td>POR</td>\n",
              "      <td>11</td>\n",
              "    </tr>\n",
              "    <tr>\n",
              "      <th>11</th>\n",
              "      <td>Jump Shot</td>\n",
              "      <td>Jump Shot</td>\n",
              "      <td>4</td>\n",
              "      <td>20000019</td>\n",
              "      <td>33.9173</td>\n",
              "      <td>121</td>\n",
              "      <td>127</td>\n",
              "      <td>-118.1488</td>\n",
              "      <td>11</td>\n",
              "      <td>1</td>\n",
              "      <td>0</td>\n",
              "      <td>2000-01</td>\n",
              "      <td>0</td>\n",
              "      <td>17</td>\n",
              "      <td>1.0</td>\n",
              "      <td>2PT Field Goal</td>\n",
              "      <td>Right Side Center(RC)</td>\n",
              "      <td>Mid-Range</td>\n",
              "      <td>16-24 ft.</td>\n",
              "      <td>1610612747</td>\n",
              "      <td>Los Angeles Lakers</td>\n",
              "      <td>2000-11-01</td>\n",
              "      <td>LAL vs. UTA</td>\n",
              "      <td>UTA</td>\n",
              "      <td>12</td>\n",
              "    </tr>\n",
              "  </tbody>\n",
              "</table>\n",
              "</div>"
            ],
            "text/plain": [
              "   action_type combined_shot_type  game_event_id  ...      matchup  opponent  shot_id\n",
              "10   Jump Shot          Jump Shot            309  ...    LAL @ POR       POR       11\n",
              "11   Jump Shot          Jump Shot              4  ...  LAL vs. UTA       UTA       12\n",
              "\n",
              "[2 rows x 25 columns]"
            ]
          },
          "metadata": {
            "tags": []
          },
          "execution_count": 15
        }
      ]
    },
    {
      "cell_type": "code",
      "metadata": {
        "id": "mg7tuBpL3Kiv",
        "outputId": "7c39565b-f819-4c64-d305-5539cb998162",
        "colab": {
          "base_uri": "https://localhost:8080/",
          "height": 941
        }
      },
      "source": [
        "## Commands \n",
        "# loc:\n",
        "# select  instance  by index\n",
        "# iloc:\n",
        "# select instance  by position\n",
        "# ix (deprect):\n",
        "# both\n",
        "\n",
        "print(df.loc[0])\n",
        "print(\"\\n\\n\")\n",
        "print(df.iloc[0])  "
      ],
      "execution_count": null,
      "outputs": [
        {
          "output_type": "stream",
          "text": [
            "action_type                    Jump Shot\n",
            "combined_shot_type             Jump Shot\n",
            "game_event_id                         10\n",
            "game_id                         20000012\n",
            "lat                              33.9723\n",
            "loc_x                                167\n",
            "loc_y                                 72\n",
            "lon                             -118.103\n",
            "minutes_remaining                     10\n",
            "period                                 1\n",
            "playoffs                               0\n",
            "season                           2000-01\n",
            "seconds_remaining                     27\n",
            "shot_distance                         18\n",
            "shot_made_flag                       NaN\n",
            "shot_type                 2PT Field Goal\n",
            "shot_zone_area             Right Side(R)\n",
            "shot_zone_basic                Mid-Range\n",
            "shot_zone_range                16-24 ft.\n",
            "team_id                       1610612747\n",
            "team_name             Los Angeles Lakers\n",
            "game_date                     2000-10-31\n",
            "matchup                        LAL @ POR\n",
            "opponent                             POR\n",
            "shot_id                                1\n",
            "Name: 0, dtype: object\n",
            "\n",
            "\n",
            "\n",
            "action_type                    Jump Shot\n",
            "combined_shot_type             Jump Shot\n",
            "game_event_id                         10\n",
            "game_id                         20000012\n",
            "lat                              33.9723\n",
            "loc_x                                167\n",
            "loc_y                                 72\n",
            "lon                             -118.103\n",
            "minutes_remaining                     10\n",
            "period                                 1\n",
            "playoffs                               0\n",
            "season                           2000-01\n",
            "seconds_remaining                     27\n",
            "shot_distance                         18\n",
            "shot_made_flag                       NaN\n",
            "shot_type                 2PT Field Goal\n",
            "shot_zone_area             Right Side(R)\n",
            "shot_zone_basic                Mid-Range\n",
            "shot_zone_range                16-24 ft.\n",
            "team_id                       1610612747\n",
            "team_name             Los Angeles Lakers\n",
            "game_date                     2000-10-31\n",
            "matchup                        LAL @ POR\n",
            "opponent                             POR\n",
            "shot_id                                1\n",
            "Name: 0, dtype: object\n"
          ],
          "name": "stdout"
        }
      ]
    },
    {
      "cell_type": "code",
      "metadata": {
        "id": "sqrGa8h4z7Hx"
      },
      "source": [
        "#erase first line\n",
        "#axis = 0 line\n",
        "#axis = 1 clow\n",
        "#this command make a view of table if the inplace is False or Null\n",
        "df.drop(0, axis=0, inplace=True)"
      ],
      "execution_count": null,
      "outputs": []
    },
    {
      "cell_type": "code",
      "metadata": {
        "id": "ipQob0fS159e",
        "outputId": "1703e4b0-0d16-495b-da69-ce108090fc7c",
        "colab": {
          "base_uri": "https://localhost:8080/",
          "height": 690
        }
      },
      "source": [
        "df.loc[0]"
      ],
      "execution_count": null,
      "outputs": [
        {
          "output_type": "error",
          "ename": "KeyError",
          "evalue": "ignored",
          "traceback": [
            "\u001b[0;31m---------------------------------------------------------------------------\u001b[0m",
            "\u001b[0;31mKeyError\u001b[0m                                  Traceback (most recent call last)",
            "\u001b[0;32m/usr/local/lib/python3.6/dist-packages/pandas/core/indexes/base.py\u001b[0m in \u001b[0;36mget_loc\u001b[0;34m(self, key, method, tolerance)\u001b[0m\n\u001b[1;32m   2645\u001b[0m             \u001b[0;32mtry\u001b[0m\u001b[0;34m:\u001b[0m\u001b[0;34m\u001b[0m\u001b[0;34m\u001b[0m\u001b[0m\n\u001b[0;32m-> 2646\u001b[0;31m                 \u001b[0;32mreturn\u001b[0m \u001b[0mself\u001b[0m\u001b[0;34m.\u001b[0m\u001b[0m_engine\u001b[0m\u001b[0;34m.\u001b[0m\u001b[0mget_loc\u001b[0m\u001b[0;34m(\u001b[0m\u001b[0mkey\u001b[0m\u001b[0;34m)\u001b[0m\u001b[0;34m\u001b[0m\u001b[0;34m\u001b[0m\u001b[0m\n\u001b[0m\u001b[1;32m   2647\u001b[0m             \u001b[0;32mexcept\u001b[0m \u001b[0mKeyError\u001b[0m\u001b[0;34m:\u001b[0m\u001b[0;34m\u001b[0m\u001b[0;34m\u001b[0m\u001b[0m\n",
            "\u001b[0;32mpandas/_libs/index.pyx\u001b[0m in \u001b[0;36mpandas._libs.index.IndexEngine.get_loc\u001b[0;34m()\u001b[0m\n",
            "\u001b[0;32mpandas/_libs/index.pyx\u001b[0m in \u001b[0;36mpandas._libs.index.IndexEngine.get_loc\u001b[0;34m()\u001b[0m\n",
            "\u001b[0;32mpandas/_libs/hashtable_class_helper.pxi\u001b[0m in \u001b[0;36mpandas._libs.hashtable.Int64HashTable.get_item\u001b[0;34m()\u001b[0m\n",
            "\u001b[0;32mpandas/_libs/hashtable_class_helper.pxi\u001b[0m in \u001b[0;36mpandas._libs.hashtable.Int64HashTable.get_item\u001b[0;34m()\u001b[0m\n",
            "\u001b[0;31mKeyError\u001b[0m: 0",
            "\nDuring handling of the above exception, another exception occurred:\n",
            "\u001b[0;31mKeyError\u001b[0m                                  Traceback (most recent call last)",
            "\u001b[0;32m<ipython-input-19-7eaf75073732>\u001b[0m in \u001b[0;36m<module>\u001b[0;34m()\u001b[0m\n\u001b[0;32m----> 1\u001b[0;31m \u001b[0mdf\u001b[0m\u001b[0;34m.\u001b[0m\u001b[0mloc\u001b[0m\u001b[0;34m[\u001b[0m\u001b[0;36m0\u001b[0m\u001b[0;34m]\u001b[0m\u001b[0;34m\u001b[0m\u001b[0;34m\u001b[0m\u001b[0m\n\u001b[0m",
            "\u001b[0;32m/usr/local/lib/python3.6/dist-packages/pandas/core/indexing.py\u001b[0m in \u001b[0;36m__getitem__\u001b[0;34m(self, key)\u001b[0m\n\u001b[1;32m   1766\u001b[0m \u001b[0;34m\u001b[0m\u001b[0m\n\u001b[1;32m   1767\u001b[0m             \u001b[0mmaybe_callable\u001b[0m \u001b[0;34m=\u001b[0m \u001b[0mcom\u001b[0m\u001b[0;34m.\u001b[0m\u001b[0mapply_if_callable\u001b[0m\u001b[0;34m(\u001b[0m\u001b[0mkey\u001b[0m\u001b[0;34m,\u001b[0m \u001b[0mself\u001b[0m\u001b[0;34m.\u001b[0m\u001b[0mobj\u001b[0m\u001b[0;34m)\u001b[0m\u001b[0;34m\u001b[0m\u001b[0;34m\u001b[0m\u001b[0m\n\u001b[0;32m-> 1768\u001b[0;31m             \u001b[0;32mreturn\u001b[0m \u001b[0mself\u001b[0m\u001b[0;34m.\u001b[0m\u001b[0m_getitem_axis\u001b[0m\u001b[0;34m(\u001b[0m\u001b[0mmaybe_callable\u001b[0m\u001b[0;34m,\u001b[0m \u001b[0maxis\u001b[0m\u001b[0;34m=\u001b[0m\u001b[0maxis\u001b[0m\u001b[0;34m)\u001b[0m\u001b[0;34m\u001b[0m\u001b[0;34m\u001b[0m\u001b[0m\n\u001b[0m\u001b[1;32m   1769\u001b[0m \u001b[0;34m\u001b[0m\u001b[0m\n\u001b[1;32m   1770\u001b[0m     \u001b[0;32mdef\u001b[0m \u001b[0m_is_scalar_access\u001b[0m\u001b[0;34m(\u001b[0m\u001b[0mself\u001b[0m\u001b[0;34m,\u001b[0m \u001b[0mkey\u001b[0m\u001b[0;34m:\u001b[0m \u001b[0mTuple\u001b[0m\u001b[0;34m)\u001b[0m\u001b[0;34m:\u001b[0m\u001b[0;34m\u001b[0m\u001b[0;34m\u001b[0m\u001b[0m\n",
            "\u001b[0;32m/usr/local/lib/python3.6/dist-packages/pandas/core/indexing.py\u001b[0m in \u001b[0;36m_getitem_axis\u001b[0;34m(self, key, axis)\u001b[0m\n\u001b[1;32m   1963\u001b[0m         \u001b[0;31m# fall thru to straight lookup\u001b[0m\u001b[0;34m\u001b[0m\u001b[0;34m\u001b[0m\u001b[0;34m\u001b[0m\u001b[0m\n\u001b[1;32m   1964\u001b[0m         \u001b[0mself\u001b[0m\u001b[0;34m.\u001b[0m\u001b[0m_validate_key\u001b[0m\u001b[0;34m(\u001b[0m\u001b[0mkey\u001b[0m\u001b[0;34m,\u001b[0m \u001b[0maxis\u001b[0m\u001b[0;34m)\u001b[0m\u001b[0;34m\u001b[0m\u001b[0;34m\u001b[0m\u001b[0m\n\u001b[0;32m-> 1965\u001b[0;31m         \u001b[0;32mreturn\u001b[0m \u001b[0mself\u001b[0m\u001b[0;34m.\u001b[0m\u001b[0m_get_label\u001b[0m\u001b[0;34m(\u001b[0m\u001b[0mkey\u001b[0m\u001b[0;34m,\u001b[0m \u001b[0maxis\u001b[0m\u001b[0;34m=\u001b[0m\u001b[0maxis\u001b[0m\u001b[0;34m)\u001b[0m\u001b[0;34m\u001b[0m\u001b[0;34m\u001b[0m\u001b[0m\n\u001b[0m\u001b[1;32m   1966\u001b[0m \u001b[0;34m\u001b[0m\u001b[0m\n\u001b[1;32m   1967\u001b[0m \u001b[0;34m\u001b[0m\u001b[0m\n",
            "\u001b[0;32m/usr/local/lib/python3.6/dist-packages/pandas/core/indexing.py\u001b[0m in \u001b[0;36m_get_label\u001b[0;34m(self, label, axis)\u001b[0m\n\u001b[1;32m    623\u001b[0m             \u001b[0;32mraise\u001b[0m \u001b[0mIndexingError\u001b[0m\u001b[0;34m(\u001b[0m\u001b[0;34m\"no slices here, handle elsewhere\"\u001b[0m\u001b[0;34m)\u001b[0m\u001b[0;34m\u001b[0m\u001b[0;34m\u001b[0m\u001b[0m\n\u001b[1;32m    624\u001b[0m \u001b[0;34m\u001b[0m\u001b[0m\n\u001b[0;32m--> 625\u001b[0;31m         \u001b[0;32mreturn\u001b[0m \u001b[0mself\u001b[0m\u001b[0;34m.\u001b[0m\u001b[0mobj\u001b[0m\u001b[0;34m.\u001b[0m\u001b[0m_xs\u001b[0m\u001b[0;34m(\u001b[0m\u001b[0mlabel\u001b[0m\u001b[0;34m,\u001b[0m \u001b[0maxis\u001b[0m\u001b[0;34m=\u001b[0m\u001b[0maxis\u001b[0m\u001b[0;34m)\u001b[0m\u001b[0;34m\u001b[0m\u001b[0;34m\u001b[0m\u001b[0m\n\u001b[0m\u001b[1;32m    626\u001b[0m \u001b[0;34m\u001b[0m\u001b[0m\n\u001b[1;32m    627\u001b[0m     \u001b[0;32mdef\u001b[0m \u001b[0m_get_loc\u001b[0m\u001b[0;34m(\u001b[0m\u001b[0mself\u001b[0m\u001b[0;34m,\u001b[0m \u001b[0mkey\u001b[0m\u001b[0;34m:\u001b[0m \u001b[0mint\u001b[0m\u001b[0;34m,\u001b[0m \u001b[0maxis\u001b[0m\u001b[0;34m:\u001b[0m \u001b[0mint\u001b[0m\u001b[0;34m)\u001b[0m\u001b[0;34m:\u001b[0m\u001b[0;34m\u001b[0m\u001b[0;34m\u001b[0m\u001b[0m\n",
            "\u001b[0;32m/usr/local/lib/python3.6/dist-packages/pandas/core/generic.py\u001b[0m in \u001b[0;36mxs\u001b[0;34m(self, key, axis, level, drop_level)\u001b[0m\n\u001b[1;32m   3535\u001b[0m             \u001b[0mloc\u001b[0m\u001b[0;34m,\u001b[0m \u001b[0mnew_index\u001b[0m \u001b[0;34m=\u001b[0m \u001b[0mself\u001b[0m\u001b[0;34m.\u001b[0m\u001b[0mindex\u001b[0m\u001b[0;34m.\u001b[0m\u001b[0mget_loc_level\u001b[0m\u001b[0;34m(\u001b[0m\u001b[0mkey\u001b[0m\u001b[0;34m,\u001b[0m \u001b[0mdrop_level\u001b[0m\u001b[0;34m=\u001b[0m\u001b[0mdrop_level\u001b[0m\u001b[0;34m)\u001b[0m\u001b[0;34m\u001b[0m\u001b[0;34m\u001b[0m\u001b[0m\n\u001b[1;32m   3536\u001b[0m         \u001b[0;32melse\u001b[0m\u001b[0;34m:\u001b[0m\u001b[0;34m\u001b[0m\u001b[0;34m\u001b[0m\u001b[0m\n\u001b[0;32m-> 3537\u001b[0;31m             \u001b[0mloc\u001b[0m \u001b[0;34m=\u001b[0m \u001b[0mself\u001b[0m\u001b[0;34m.\u001b[0m\u001b[0mindex\u001b[0m\u001b[0;34m.\u001b[0m\u001b[0mget_loc\u001b[0m\u001b[0;34m(\u001b[0m\u001b[0mkey\u001b[0m\u001b[0;34m)\u001b[0m\u001b[0;34m\u001b[0m\u001b[0;34m\u001b[0m\u001b[0m\n\u001b[0m\u001b[1;32m   3538\u001b[0m \u001b[0;34m\u001b[0m\u001b[0m\n\u001b[1;32m   3539\u001b[0m             \u001b[0;32mif\u001b[0m \u001b[0misinstance\u001b[0m\u001b[0;34m(\u001b[0m\u001b[0mloc\u001b[0m\u001b[0;34m,\u001b[0m \u001b[0mnp\u001b[0m\u001b[0;34m.\u001b[0m\u001b[0mndarray\u001b[0m\u001b[0;34m)\u001b[0m\u001b[0;34m:\u001b[0m\u001b[0;34m\u001b[0m\u001b[0;34m\u001b[0m\u001b[0m\n",
            "\u001b[0;32m/usr/local/lib/python3.6/dist-packages/pandas/core/indexes/base.py\u001b[0m in \u001b[0;36mget_loc\u001b[0;34m(self, key, method, tolerance)\u001b[0m\n\u001b[1;32m   2646\u001b[0m                 \u001b[0;32mreturn\u001b[0m \u001b[0mself\u001b[0m\u001b[0;34m.\u001b[0m\u001b[0m_engine\u001b[0m\u001b[0;34m.\u001b[0m\u001b[0mget_loc\u001b[0m\u001b[0;34m(\u001b[0m\u001b[0mkey\u001b[0m\u001b[0;34m)\u001b[0m\u001b[0;34m\u001b[0m\u001b[0;34m\u001b[0m\u001b[0m\n\u001b[1;32m   2647\u001b[0m             \u001b[0;32mexcept\u001b[0m \u001b[0mKeyError\u001b[0m\u001b[0;34m:\u001b[0m\u001b[0;34m\u001b[0m\u001b[0;34m\u001b[0m\u001b[0m\n\u001b[0;32m-> 2648\u001b[0;31m                 \u001b[0;32mreturn\u001b[0m \u001b[0mself\u001b[0m\u001b[0;34m.\u001b[0m\u001b[0m_engine\u001b[0m\u001b[0;34m.\u001b[0m\u001b[0mget_loc\u001b[0m\u001b[0;34m(\u001b[0m\u001b[0mself\u001b[0m\u001b[0;34m.\u001b[0m\u001b[0m_maybe_cast_indexer\u001b[0m\u001b[0;34m(\u001b[0m\u001b[0mkey\u001b[0m\u001b[0;34m)\u001b[0m\u001b[0;34m)\u001b[0m\u001b[0;34m\u001b[0m\u001b[0;34m\u001b[0m\u001b[0m\n\u001b[0m\u001b[1;32m   2649\u001b[0m         \u001b[0mindexer\u001b[0m \u001b[0;34m=\u001b[0m \u001b[0mself\u001b[0m\u001b[0;34m.\u001b[0m\u001b[0mget_indexer\u001b[0m\u001b[0;34m(\u001b[0m\u001b[0;34m[\u001b[0m\u001b[0mkey\u001b[0m\u001b[0;34m]\u001b[0m\u001b[0;34m,\u001b[0m \u001b[0mmethod\u001b[0m\u001b[0;34m=\u001b[0m\u001b[0mmethod\u001b[0m\u001b[0;34m,\u001b[0m \u001b[0mtolerance\u001b[0m\u001b[0;34m=\u001b[0m\u001b[0mtolerance\u001b[0m\u001b[0;34m)\u001b[0m\u001b[0;34m\u001b[0m\u001b[0;34m\u001b[0m\u001b[0m\n\u001b[1;32m   2650\u001b[0m         \u001b[0;32mif\u001b[0m \u001b[0mindexer\u001b[0m\u001b[0;34m.\u001b[0m\u001b[0mndim\u001b[0m \u001b[0;34m>\u001b[0m \u001b[0;36m1\u001b[0m \u001b[0;32mor\u001b[0m \u001b[0mindexer\u001b[0m\u001b[0;34m.\u001b[0m\u001b[0msize\u001b[0m \u001b[0;34m>\u001b[0m \u001b[0;36m1\u001b[0m\u001b[0;34m:\u001b[0m\u001b[0;34m\u001b[0m\u001b[0;34m\u001b[0m\u001b[0m\n",
            "\u001b[0;32mpandas/_libs/index.pyx\u001b[0m in \u001b[0;36mpandas._libs.index.IndexEngine.get_loc\u001b[0;34m()\u001b[0m\n",
            "\u001b[0;32mpandas/_libs/index.pyx\u001b[0m in \u001b[0;36mpandas._libs.index.IndexEngine.get_loc\u001b[0;34m()\u001b[0m\n",
            "\u001b[0;32mpandas/_libs/hashtable_class_helper.pxi\u001b[0m in \u001b[0;36mpandas._libs.hashtable.Int64HashTable.get_item\u001b[0;34m()\u001b[0m\n",
            "\u001b[0;32mpandas/_libs/hashtable_class_helper.pxi\u001b[0m in \u001b[0;36mpandas._libs.hashtable.Int64HashTable.get_item\u001b[0;34m()\u001b[0m\n",
            "\u001b[0;31mKeyError\u001b[0m: 0"
          ]
        }
      ]
    },
    {
      "cell_type": "code",
      "metadata": {
        "id": "jIkJfilU19bg"
      },
      "source": [
        "df.iloc[0]"
      ],
      "execution_count": null,
      "outputs": []
    },
    {
      "cell_type": "code",
      "metadata": {
        "id": "_GN5WrNl2UC7",
        "outputId": "970383c9-2c82-4623-c717-46a5cb28e89e",
        "colab": {
          "base_uri": "https://localhost:8080/",
          "height": 758
        }
      },
      "source": [
        "#creat new index from 0\n",
        "df.reset_index()"
      ],
      "execution_count": null,
      "outputs": [
        {
          "output_type": "execute_result",
          "data": {
            "text/html": [
              "<div>\n",
              "<style scoped>\n",
              "    .dataframe tbody tr th:only-of-type {\n",
              "        vertical-align: middle;\n",
              "    }\n",
              "\n",
              "    .dataframe tbody tr th {\n",
              "        vertical-align: top;\n",
              "    }\n",
              "\n",
              "    .dataframe thead th {\n",
              "        text-align: right;\n",
              "    }\n",
              "</style>\n",
              "<table border=\"1\" class=\"dataframe\">\n",
              "  <thead>\n",
              "    <tr style=\"text-align: right;\">\n",
              "      <th></th>\n",
              "      <th>index</th>\n",
              "      <th>action_type</th>\n",
              "      <th>combined_shot_type</th>\n",
              "      <th>game_event_id</th>\n",
              "      <th>game_id</th>\n",
              "      <th>lat</th>\n",
              "      <th>loc_x</th>\n",
              "      <th>loc_y</th>\n",
              "      <th>lon</th>\n",
              "      <th>minutes_remaining</th>\n",
              "      <th>period</th>\n",
              "      <th>playoffs</th>\n",
              "      <th>season</th>\n",
              "      <th>seconds_remaining</th>\n",
              "      <th>shot_distance</th>\n",
              "      <th>shot_made_flag</th>\n",
              "      <th>shot_type</th>\n",
              "      <th>shot_zone_area</th>\n",
              "      <th>shot_zone_basic</th>\n",
              "      <th>shot_zone_range</th>\n",
              "      <th>team_id</th>\n",
              "      <th>team_name</th>\n",
              "      <th>game_date</th>\n",
              "      <th>matchup</th>\n",
              "      <th>opponent</th>\n",
              "      <th>shot_id</th>\n",
              "    </tr>\n",
              "  </thead>\n",
              "  <tbody>\n",
              "    <tr>\n",
              "      <th>0</th>\n",
              "      <td>1</td>\n",
              "      <td>Jump Shot</td>\n",
              "      <td>Jump Shot</td>\n",
              "      <td>12</td>\n",
              "      <td>20000012</td>\n",
              "      <td>34.0443</td>\n",
              "      <td>-157</td>\n",
              "      <td>0</td>\n",
              "      <td>-118.4268</td>\n",
              "      <td>10</td>\n",
              "      <td>1</td>\n",
              "      <td>0</td>\n",
              "      <td>2000-01</td>\n",
              "      <td>22</td>\n",
              "      <td>15</td>\n",
              "      <td>0.0</td>\n",
              "      <td>2PT Field Goal</td>\n",
              "      <td>Left Side(L)</td>\n",
              "      <td>Mid-Range</td>\n",
              "      <td>8-16 ft.</td>\n",
              "      <td>1610612747</td>\n",
              "      <td>Los Angeles Lakers</td>\n",
              "      <td>2000-10-31</td>\n",
              "      <td>LAL @ POR</td>\n",
              "      <td>POR</td>\n",
              "      <td>2</td>\n",
              "    </tr>\n",
              "    <tr>\n",
              "      <th>1</th>\n",
              "      <td>2</td>\n",
              "      <td>Jump Shot</td>\n",
              "      <td>Jump Shot</td>\n",
              "      <td>35</td>\n",
              "      <td>20000012</td>\n",
              "      <td>33.9093</td>\n",
              "      <td>-101</td>\n",
              "      <td>135</td>\n",
              "      <td>-118.3708</td>\n",
              "      <td>7</td>\n",
              "      <td>1</td>\n",
              "      <td>0</td>\n",
              "      <td>2000-01</td>\n",
              "      <td>45</td>\n",
              "      <td>16</td>\n",
              "      <td>1.0</td>\n",
              "      <td>2PT Field Goal</td>\n",
              "      <td>Left Side Center(LC)</td>\n",
              "      <td>Mid-Range</td>\n",
              "      <td>16-24 ft.</td>\n",
              "      <td>1610612747</td>\n",
              "      <td>Los Angeles Lakers</td>\n",
              "      <td>2000-10-31</td>\n",
              "      <td>LAL @ POR</td>\n",
              "      <td>POR</td>\n",
              "      <td>3</td>\n",
              "    </tr>\n",
              "    <tr>\n",
              "      <th>2</th>\n",
              "      <td>3</td>\n",
              "      <td>Jump Shot</td>\n",
              "      <td>Jump Shot</td>\n",
              "      <td>43</td>\n",
              "      <td>20000012</td>\n",
              "      <td>33.8693</td>\n",
              "      <td>138</td>\n",
              "      <td>175</td>\n",
              "      <td>-118.1318</td>\n",
              "      <td>6</td>\n",
              "      <td>1</td>\n",
              "      <td>0</td>\n",
              "      <td>2000-01</td>\n",
              "      <td>52</td>\n",
              "      <td>22</td>\n",
              "      <td>0.0</td>\n",
              "      <td>2PT Field Goal</td>\n",
              "      <td>Right Side Center(RC)</td>\n",
              "      <td>Mid-Range</td>\n",
              "      <td>16-24 ft.</td>\n",
              "      <td>1610612747</td>\n",
              "      <td>Los Angeles Lakers</td>\n",
              "      <td>2000-10-31</td>\n",
              "      <td>LAL @ POR</td>\n",
              "      <td>POR</td>\n",
              "      <td>4</td>\n",
              "    </tr>\n",
              "    <tr>\n",
              "      <th>3</th>\n",
              "      <td>4</td>\n",
              "      <td>Driving Dunk Shot</td>\n",
              "      <td>Dunk</td>\n",
              "      <td>155</td>\n",
              "      <td>20000012</td>\n",
              "      <td>34.0443</td>\n",
              "      <td>0</td>\n",
              "      <td>0</td>\n",
              "      <td>-118.2698</td>\n",
              "      <td>6</td>\n",
              "      <td>2</td>\n",
              "      <td>0</td>\n",
              "      <td>2000-01</td>\n",
              "      <td>19</td>\n",
              "      <td>0</td>\n",
              "      <td>1.0</td>\n",
              "      <td>2PT Field Goal</td>\n",
              "      <td>Center(C)</td>\n",
              "      <td>Restricted Area</td>\n",
              "      <td>Less Than 8 ft.</td>\n",
              "      <td>1610612747</td>\n",
              "      <td>Los Angeles Lakers</td>\n",
              "      <td>2000-10-31</td>\n",
              "      <td>LAL @ POR</td>\n",
              "      <td>POR</td>\n",
              "      <td>5</td>\n",
              "    </tr>\n",
              "    <tr>\n",
              "      <th>4</th>\n",
              "      <td>5</td>\n",
              "      <td>Jump Shot</td>\n",
              "      <td>Jump Shot</td>\n",
              "      <td>244</td>\n",
              "      <td>20000012</td>\n",
              "      <td>34.0553</td>\n",
              "      <td>-145</td>\n",
              "      <td>-11</td>\n",
              "      <td>-118.4148</td>\n",
              "      <td>9</td>\n",
              "      <td>3</td>\n",
              "      <td>0</td>\n",
              "      <td>2000-01</td>\n",
              "      <td>32</td>\n",
              "      <td>14</td>\n",
              "      <td>0.0</td>\n",
              "      <td>2PT Field Goal</td>\n",
              "      <td>Left Side(L)</td>\n",
              "      <td>Mid-Range</td>\n",
              "      <td>8-16 ft.</td>\n",
              "      <td>1610612747</td>\n",
              "      <td>Los Angeles Lakers</td>\n",
              "      <td>2000-10-31</td>\n",
              "      <td>LAL @ POR</td>\n",
              "      <td>POR</td>\n",
              "      <td>6</td>\n",
              "    </tr>\n",
              "    <tr>\n",
              "      <th>...</th>\n",
              "      <td>...</td>\n",
              "      <td>...</td>\n",
              "      <td>...</td>\n",
              "      <td>...</td>\n",
              "      <td>...</td>\n",
              "      <td>...</td>\n",
              "      <td>...</td>\n",
              "      <td>...</td>\n",
              "      <td>...</td>\n",
              "      <td>...</td>\n",
              "      <td>...</td>\n",
              "      <td>...</td>\n",
              "      <td>...</td>\n",
              "      <td>...</td>\n",
              "      <td>...</td>\n",
              "      <td>...</td>\n",
              "      <td>...</td>\n",
              "      <td>...</td>\n",
              "      <td>...</td>\n",
              "      <td>...</td>\n",
              "      <td>...</td>\n",
              "      <td>...</td>\n",
              "      <td>...</td>\n",
              "      <td>...</td>\n",
              "      <td>...</td>\n",
              "      <td>...</td>\n",
              "    </tr>\n",
              "    <tr>\n",
              "      <th>30691</th>\n",
              "      <td>30692</td>\n",
              "      <td>Jump Shot</td>\n",
              "      <td>Jump Shot</td>\n",
              "      <td>397</td>\n",
              "      <td>49900088</td>\n",
              "      <td>33.9963</td>\n",
              "      <td>1</td>\n",
              "      <td>48</td>\n",
              "      <td>-118.2688</td>\n",
              "      <td>6</td>\n",
              "      <td>4</td>\n",
              "      <td>1</td>\n",
              "      <td>1999-00</td>\n",
              "      <td>5</td>\n",
              "      <td>4</td>\n",
              "      <td>0.0</td>\n",
              "      <td>2PT Field Goal</td>\n",
              "      <td>Center(C)</td>\n",
              "      <td>In The Paint (Non-RA)</td>\n",
              "      <td>Less Than 8 ft.</td>\n",
              "      <td>1610612747</td>\n",
              "      <td>Los Angeles Lakers</td>\n",
              "      <td>2000-06-19</td>\n",
              "      <td>LAL vs. IND</td>\n",
              "      <td>IND</td>\n",
              "      <td>30693</td>\n",
              "    </tr>\n",
              "    <tr>\n",
              "      <th>30692</th>\n",
              "      <td>30693</td>\n",
              "      <td>Tip Shot</td>\n",
              "      <td>Tip Shot</td>\n",
              "      <td>398</td>\n",
              "      <td>49900088</td>\n",
              "      <td>34.0443</td>\n",
              "      <td>0</td>\n",
              "      <td>0</td>\n",
              "      <td>-118.2698</td>\n",
              "      <td>6</td>\n",
              "      <td>4</td>\n",
              "      <td>1</td>\n",
              "      <td>1999-00</td>\n",
              "      <td>5</td>\n",
              "      <td>0</td>\n",
              "      <td>NaN</td>\n",
              "      <td>2PT Field Goal</td>\n",
              "      <td>Center(C)</td>\n",
              "      <td>Restricted Area</td>\n",
              "      <td>Less Than 8 ft.</td>\n",
              "      <td>1610612747</td>\n",
              "      <td>Los Angeles Lakers</td>\n",
              "      <td>2000-06-19</td>\n",
              "      <td>LAL vs. IND</td>\n",
              "      <td>IND</td>\n",
              "      <td>30694</td>\n",
              "    </tr>\n",
              "    <tr>\n",
              "      <th>30693</th>\n",
              "      <td>30694</td>\n",
              "      <td>Running Jump Shot</td>\n",
              "      <td>Jump Shot</td>\n",
              "      <td>426</td>\n",
              "      <td>49900088</td>\n",
              "      <td>33.8783</td>\n",
              "      <td>-134</td>\n",
              "      <td>166</td>\n",
              "      <td>-118.4038</td>\n",
              "      <td>3</td>\n",
              "      <td>4</td>\n",
              "      <td>1</td>\n",
              "      <td>1999-00</td>\n",
              "      <td>28</td>\n",
              "      <td>21</td>\n",
              "      <td>1.0</td>\n",
              "      <td>2PT Field Goal</td>\n",
              "      <td>Left Side Center(LC)</td>\n",
              "      <td>Mid-Range</td>\n",
              "      <td>16-24 ft.</td>\n",
              "      <td>1610612747</td>\n",
              "      <td>Los Angeles Lakers</td>\n",
              "      <td>2000-06-19</td>\n",
              "      <td>LAL vs. IND</td>\n",
              "      <td>IND</td>\n",
              "      <td>30695</td>\n",
              "    </tr>\n",
              "    <tr>\n",
              "      <th>30694</th>\n",
              "      <td>30695</td>\n",
              "      <td>Jump Shot</td>\n",
              "      <td>Jump Shot</td>\n",
              "      <td>448</td>\n",
              "      <td>49900088</td>\n",
              "      <td>33.7773</td>\n",
              "      <td>31</td>\n",
              "      <td>267</td>\n",
              "      <td>-118.2388</td>\n",
              "      <td>2</td>\n",
              "      <td>4</td>\n",
              "      <td>1</td>\n",
              "      <td>1999-00</td>\n",
              "      <td>10</td>\n",
              "      <td>26</td>\n",
              "      <td>0.0</td>\n",
              "      <td>3PT Field Goal</td>\n",
              "      <td>Center(C)</td>\n",
              "      <td>Above the Break 3</td>\n",
              "      <td>24+ ft.</td>\n",
              "      <td>1610612747</td>\n",
              "      <td>Los Angeles Lakers</td>\n",
              "      <td>2000-06-19</td>\n",
              "      <td>LAL vs. IND</td>\n",
              "      <td>IND</td>\n",
              "      <td>30696</td>\n",
              "    </tr>\n",
              "    <tr>\n",
              "      <th>30695</th>\n",
              "      <td>30696</td>\n",
              "      <td>Jump Shot</td>\n",
              "      <td>Jump Shot</td>\n",
              "      <td>471</td>\n",
              "      <td>49900088</td>\n",
              "      <td>33.9723</td>\n",
              "      <td>1</td>\n",
              "      <td>72</td>\n",
              "      <td>-118.2688</td>\n",
              "      <td>0</td>\n",
              "      <td>4</td>\n",
              "      <td>1</td>\n",
              "      <td>1999-00</td>\n",
              "      <td>39</td>\n",
              "      <td>7</td>\n",
              "      <td>0.0</td>\n",
              "      <td>2PT Field Goal</td>\n",
              "      <td>Center(C)</td>\n",
              "      <td>In The Paint (Non-RA)</td>\n",
              "      <td>Less Than 8 ft.</td>\n",
              "      <td>1610612747</td>\n",
              "      <td>Los Angeles Lakers</td>\n",
              "      <td>2000-06-19</td>\n",
              "      <td>LAL vs. IND</td>\n",
              "      <td>IND</td>\n",
              "      <td>30697</td>\n",
              "    </tr>\n",
              "  </tbody>\n",
              "</table>\n",
              "<p>30696 rows × 26 columns</p>\n",
              "</div>"
            ],
            "text/plain": [
              "       index        action_type  ... opponent  shot_id\n",
              "0          1          Jump Shot  ...      POR        2\n",
              "1          2          Jump Shot  ...      POR        3\n",
              "2          3          Jump Shot  ...      POR        4\n",
              "3          4  Driving Dunk Shot  ...      POR        5\n",
              "4          5          Jump Shot  ...      POR        6\n",
              "...      ...                ...  ...      ...      ...\n",
              "30691  30692          Jump Shot  ...      IND    30693\n",
              "30692  30693           Tip Shot  ...      IND    30694\n",
              "30693  30694  Running Jump Shot  ...      IND    30695\n",
              "30694  30695          Jump Shot  ...      IND    30696\n",
              "30695  30696          Jump Shot  ...      IND    30697\n",
              "\n",
              "[30696 rows x 26 columns]"
            ]
          },
          "metadata": {
            "tags": []
          },
          "execution_count": 20
        }
      ]
    },
    {
      "cell_type": "code",
      "metadata": {
        "id": "VxDgjzH62mAU",
        "outputId": "cf6ef133-b2cb-4d29-f417-c1c088081337",
        "colab": {
          "base_uri": "https://localhost:8080/",
          "height": 134
        }
      },
      "source": [
        "#possibles values of shot_type\n",
        "print(str(df['shot_type'].unique()) + \"\\n\")\n",
        "#Count of values of shot_type\n",
        "print(str(df['shot_type'].nunique()) + \"\\n\")\n",
        "#Count line by of type\n",
        "print(df['shot_type'].value_counts())\n"
      ],
      "execution_count": null,
      "outputs": [
        {
          "output_type": "stream",
          "text": [
            "['2PT Field Goal' '3PT Field Goal']\n",
            "\n",
            "2\n",
            "\n",
            "2PT Field Goal    24270\n",
            "3PT Field Goal     6426\n",
            "Name: shot_type, dtype: int64\n"
          ],
          "name": "stdout"
        }
      ]
    },
    {
      "cell_type": "code",
      "metadata": {
        "id": "62jNpJPr5Sfo",
        "outputId": "59da8313-91c1-4181-d711-50a01ee6261c",
        "colab": {
          "base_uri": "https://localhost:8080/",
          "height": 84
        }
      },
      "source": [
        "#Count lines of shot_type by filters\n",
        "#Select of instances by value of shot_type iqual 2PT\n",
        "#Select of instances by value of shot_type iqual 3PT\n",
        "#Count both\n",
        "df_2pt = df[df['shot_type'] == '2PT Field Goal']\n",
        "df_3pt = df[df['shot_type'] == '3PT Field Goal']\n",
        "print(len(df_2pt))\n",
        "print(\"\\n\")\n",
        "print(len(df_3pt))\n",
        "\n"
      ],
      "execution_count": null,
      "outputs": [
        {
          "output_type": "stream",
          "text": [
            "24270\n",
            "\n",
            "\n",
            "6426\n"
          ],
          "name": "stdout"
        }
      ]
    },
    {
      "cell_type": "code",
      "metadata": {
        "id": "3crmDRlW8g1P",
        "outputId": "f41c3983-a86c-4d0b-ba92-89453e024cd5",
        "colab": {
          "base_uri": "https://localhost:8080/",
          "height": 34
        }
      },
      "source": [
        "#Count lines the pich hit in 2pt\n",
        "#& = AND \n",
        "#| = OR\n",
        "#~ = NOT\n",
        "mask = (df['shot_type'] == '2PT Field Goal') & (df['shot_made_flag'] == 1.0)\n",
        "len(df[mask])\n"
      ],
      "execution_count": null,
      "outputs": [
        {
          "output_type": "execute_result",
          "data": {
            "text/plain": [
              "9683"
            ]
          },
          "metadata": {
            "tags": []
          },
          "execution_count": 23
        }
      ]
    },
    {
      "cell_type": "code",
      "metadata": {
        "id": "mtcj7mrJ9gxa",
        "outputId": "be302323-c972-4cd4-bb25-5bccfa594974",
        "colab": {
          "base_uri": "https://localhost:8080/",
          "height": 101
        }
      },
      "source": [
        "#max, min, mean, std, var\n",
        "print(df['minutes_remaining'].max())\n",
        "print(df['minutes_remaining'].min())\n",
        "print(df['minutes_remaining'].mean())\n",
        "print(df['minutes_remaining'].std())\n",
        "print(df['minutes_remaining'].var())\n"
      ],
      "execution_count": null,
      "outputs": [
        {
          "output_type": "stream",
          "text": [
            "11\n",
            "0\n",
            "4.885457388584832\n",
            "3.449830165385689\n",
            "11.90132817000505\n"
          ],
          "name": "stdout"
        }
      ]
    },
    {
      "cell_type": "code",
      "metadata": {
        "id": "aqJv63BB-hKi",
        "outputId": "c2990c14-799b-4990-b7bf-31657baa5213",
        "colab": {
          "base_uri": "https://localhost:8080/",
          "height": 34
        }
      },
      "source": [
        "#median\n",
        "np.median(df['minutes_remaining'])"
      ],
      "execution_count": null,
      "outputs": [
        {
          "output_type": "execute_result",
          "data": {
            "text/plain": [
              "5.0"
            ]
          },
          "metadata": {
            "tags": []
          },
          "execution_count": 25
        }
      ]
    },
    {
      "cell_type": "code",
      "metadata": {
        "id": "iE9J00To-qqt",
        "outputId": "a7d6be63-d9e3-430a-c44e-a069a24c683c",
        "colab": {
          "base_uri": "https://localhost:8080/",
          "height": 34
        }
      },
      "source": [
        "#mode\n",
        "df.mode()['minutes_remaining'][0]"
      ],
      "execution_count": null,
      "outputs": [
        {
          "output_type": "execute_result",
          "data": {
            "text/plain": [
              "0.0"
            ]
          },
          "metadata": {
            "tags": []
          },
          "execution_count": 26
        }
      ]
    },
    {
      "cell_type": "code",
      "metadata": {
        "id": "x2RjHVUu__v1",
        "outputId": "d57e0642-6287-4a16-e03e-e1ebc7d266ae",
        "colab": {
          "base_uri": "https://localhost:8080/",
          "height": 194
        }
      },
      "source": [
        "#ording by period\n",
        "df.sort_values('period', ascending=False).head(2)"
      ],
      "execution_count": null,
      "outputs": [
        {
          "output_type": "execute_result",
          "data": {
            "text/html": [
              "<div>\n",
              "<style scoped>\n",
              "    .dataframe tbody tr th:only-of-type {\n",
              "        vertical-align: middle;\n",
              "    }\n",
              "\n",
              "    .dataframe tbody tr th {\n",
              "        vertical-align: top;\n",
              "    }\n",
              "\n",
              "    .dataframe thead th {\n",
              "        text-align: right;\n",
              "    }\n",
              "</style>\n",
              "<table border=\"1\" class=\"dataframe\">\n",
              "  <thead>\n",
              "    <tr style=\"text-align: right;\">\n",
              "      <th></th>\n",
              "      <th>action_type</th>\n",
              "      <th>combined_shot_type</th>\n",
              "      <th>game_event_id</th>\n",
              "      <th>game_id</th>\n",
              "      <th>lat</th>\n",
              "      <th>loc_x</th>\n",
              "      <th>loc_y</th>\n",
              "      <th>lon</th>\n",
              "      <th>minutes_remaining</th>\n",
              "      <th>period</th>\n",
              "      <th>playoffs</th>\n",
              "      <th>season</th>\n",
              "      <th>seconds_remaining</th>\n",
              "      <th>shot_distance</th>\n",
              "      <th>shot_made_flag</th>\n",
              "      <th>shot_type</th>\n",
              "      <th>shot_zone_area</th>\n",
              "      <th>shot_zone_basic</th>\n",
              "      <th>shot_zone_range</th>\n",
              "      <th>team_id</th>\n",
              "      <th>team_name</th>\n",
              "      <th>game_date</th>\n",
              "      <th>matchup</th>\n",
              "      <th>opponent</th>\n",
              "      <th>shot_id</th>\n",
              "    </tr>\n",
              "  </thead>\n",
              "  <tbody>\n",
              "    <tr>\n",
              "      <th>10251</th>\n",
              "      <td>Jump Shot</td>\n",
              "      <td>Jump Shot</td>\n",
              "      <td>617</td>\n",
              "      <td>20600431</td>\n",
              "      <td>33.7943</td>\n",
              "      <td>-6</td>\n",
              "      <td>250</td>\n",
              "      <td>-118.2758</td>\n",
              "      <td>1</td>\n",
              "      <td>7</td>\n",
              "      <td>0</td>\n",
              "      <td>2006-07</td>\n",
              "      <td>2</td>\n",
              "      <td>25</td>\n",
              "      <td>0.0</td>\n",
              "      <td>3PT Field Goal</td>\n",
              "      <td>Center(C)</td>\n",
              "      <td>Above the Break 3</td>\n",
              "      <td>24+ ft.</td>\n",
              "      <td>1610612747</td>\n",
              "      <td>Los Angeles Lakers</td>\n",
              "      <td>2006-12-29</td>\n",
              "      <td>LAL @ CHA</td>\n",
              "      <td>CHA</td>\n",
              "      <td>10252</td>\n",
              "    </tr>\n",
              "    <tr>\n",
              "      <th>10250</th>\n",
              "      <td>Running Layup Shot</td>\n",
              "      <td>Layup</td>\n",
              "      <td>604</td>\n",
              "      <td>20600431</td>\n",
              "      <td>34.0443</td>\n",
              "      <td>0</td>\n",
              "      <td>0</td>\n",
              "      <td>-118.2698</td>\n",
              "      <td>2</td>\n",
              "      <td>7</td>\n",
              "      <td>0</td>\n",
              "      <td>2006-07</td>\n",
              "      <td>7</td>\n",
              "      <td>0</td>\n",
              "      <td>1.0</td>\n",
              "      <td>2PT Field Goal</td>\n",
              "      <td>Center(C)</td>\n",
              "      <td>Restricted Area</td>\n",
              "      <td>Less Than 8 ft.</td>\n",
              "      <td>1610612747</td>\n",
              "      <td>Los Angeles Lakers</td>\n",
              "      <td>2006-12-29</td>\n",
              "      <td>LAL @ CHA</td>\n",
              "      <td>CHA</td>\n",
              "      <td>10251</td>\n",
              "    </tr>\n",
              "  </tbody>\n",
              "</table>\n",
              "</div>"
            ],
            "text/plain": [
              "              action_type combined_shot_type  ...  opponent  shot_id\n",
              "10251           Jump Shot          Jump Shot  ...       CHA    10252\n",
              "10250  Running Layup Shot              Layup  ...       CHA    10251\n",
              "\n",
              "[2 rows x 25 columns]"
            ]
          },
          "metadata": {
            "tags": []
          },
          "execution_count": 27
        }
      ]
    },
    {
      "cell_type": "code",
      "metadata": {
        "id": "AXc2PFOIDV0s"
      },
      "source": [
        "#creat a cloumn\n",
        "df['game_event_id_sum'] =  df['game_event_id'] +50"
      ],
      "execution_count": null,
      "outputs": []
    },
    {
      "cell_type": "code",
      "metadata": {
        "id": "N9ggRxryDhx9",
        "outputId": "7edb36aa-8550-4999-a4c1-4419a1bfe309",
        "colab": {
          "base_uri": "https://localhost:8080/",
          "height": 130
        }
      },
      "source": [
        "#Apply function  in column\n",
        "def is_home_game(x):\n",
        "  if x.find('@') < 0:\n",
        "    return  1\n",
        "  else:\n",
        "    return 0\n",
        "\n",
        "df['home_game'] = df['matchup'].apply(is_home_game)\n",
        "df.head(1)"
      ],
      "execution_count": null,
      "outputs": [
        {
          "output_type": "execute_result",
          "data": {
            "text/html": [
              "<div>\n",
              "<style scoped>\n",
              "    .dataframe tbody tr th:only-of-type {\n",
              "        vertical-align: middle;\n",
              "    }\n",
              "\n",
              "    .dataframe tbody tr th {\n",
              "        vertical-align: top;\n",
              "    }\n",
              "\n",
              "    .dataframe thead th {\n",
              "        text-align: right;\n",
              "    }\n",
              "</style>\n",
              "<table border=\"1\" class=\"dataframe\">\n",
              "  <thead>\n",
              "    <tr style=\"text-align: right;\">\n",
              "      <th></th>\n",
              "      <th>action_type</th>\n",
              "      <th>combined_shot_type</th>\n",
              "      <th>game_event_id</th>\n",
              "      <th>game_id</th>\n",
              "      <th>lat</th>\n",
              "      <th>loc_x</th>\n",
              "      <th>loc_y</th>\n",
              "      <th>lon</th>\n",
              "      <th>minutes_remaining</th>\n",
              "      <th>period</th>\n",
              "      <th>playoffs</th>\n",
              "      <th>season</th>\n",
              "      <th>seconds_remaining</th>\n",
              "      <th>shot_distance</th>\n",
              "      <th>shot_made_flag</th>\n",
              "      <th>shot_type</th>\n",
              "      <th>shot_zone_area</th>\n",
              "      <th>shot_zone_basic</th>\n",
              "      <th>shot_zone_range</th>\n",
              "      <th>team_id</th>\n",
              "      <th>team_name</th>\n",
              "      <th>game_date</th>\n",
              "      <th>matchup</th>\n",
              "      <th>opponent</th>\n",
              "      <th>shot_id</th>\n",
              "      <th>game_event_id_sum</th>\n",
              "      <th>home_game</th>\n",
              "    </tr>\n",
              "  </thead>\n",
              "  <tbody>\n",
              "    <tr>\n",
              "      <th>1</th>\n",
              "      <td>Jump Shot</td>\n",
              "      <td>Jump Shot</td>\n",
              "      <td>12</td>\n",
              "      <td>20000012</td>\n",
              "      <td>34.0443</td>\n",
              "      <td>-157</td>\n",
              "      <td>0</td>\n",
              "      <td>-118.4268</td>\n",
              "      <td>10</td>\n",
              "      <td>1</td>\n",
              "      <td>0</td>\n",
              "      <td>2000-01</td>\n",
              "      <td>22</td>\n",
              "      <td>15</td>\n",
              "      <td>0.0</td>\n",
              "      <td>2PT Field Goal</td>\n",
              "      <td>Left Side(L)</td>\n",
              "      <td>Mid-Range</td>\n",
              "      <td>8-16 ft.</td>\n",
              "      <td>1610612747</td>\n",
              "      <td>Los Angeles Lakers</td>\n",
              "      <td>2000-10-31</td>\n",
              "      <td>LAL @ POR</td>\n",
              "      <td>POR</td>\n",
              "      <td>2</td>\n",
              "      <td>62</td>\n",
              "      <td>0</td>\n",
              "    </tr>\n",
              "  </tbody>\n",
              "</table>\n",
              "</div>"
            ],
            "text/plain": [
              "  action_type combined_shot_type  ...  game_event_id_sum  home_game\n",
              "1   Jump Shot          Jump Shot  ...                 62          0\n",
              "\n",
              "[1 rows x 27 columns]"
            ]
          },
          "metadata": {
            "tags": []
          },
          "execution_count": 29
        }
      ]
    },
    {
      "cell_type": "code",
      "metadata": {
        "id": "wHnPLCJQD-d8",
        "outputId": "c99912d8-1485-4488-d821-0400026ae985",
        "colab": {
          "base_uri": "https://localhost:8080/",
          "height": 130
        }
      },
      "source": [
        "#Using lambda \n",
        "df['home_game_lambda'] = df['matchup'].apply(lambda x: 1 if (x.find('@') < 0) else 0)\n",
        "df.head(1)"
      ],
      "execution_count": null,
      "outputs": [
        {
          "output_type": "execute_result",
          "data": {
            "text/html": [
              "<div>\n",
              "<style scoped>\n",
              "    .dataframe tbody tr th:only-of-type {\n",
              "        vertical-align: middle;\n",
              "    }\n",
              "\n",
              "    .dataframe tbody tr th {\n",
              "        vertical-align: top;\n",
              "    }\n",
              "\n",
              "    .dataframe thead th {\n",
              "        text-align: right;\n",
              "    }\n",
              "</style>\n",
              "<table border=\"1\" class=\"dataframe\">\n",
              "  <thead>\n",
              "    <tr style=\"text-align: right;\">\n",
              "      <th></th>\n",
              "      <th>action_type</th>\n",
              "      <th>combined_shot_type</th>\n",
              "      <th>game_event_id</th>\n",
              "      <th>game_id</th>\n",
              "      <th>lat</th>\n",
              "      <th>loc_x</th>\n",
              "      <th>loc_y</th>\n",
              "      <th>lon</th>\n",
              "      <th>minutes_remaining</th>\n",
              "      <th>period</th>\n",
              "      <th>playoffs</th>\n",
              "      <th>season</th>\n",
              "      <th>seconds_remaining</th>\n",
              "      <th>shot_distance</th>\n",
              "      <th>shot_made_flag</th>\n",
              "      <th>shot_type</th>\n",
              "      <th>shot_zone_area</th>\n",
              "      <th>shot_zone_basic</th>\n",
              "      <th>shot_zone_range</th>\n",
              "      <th>team_id</th>\n",
              "      <th>team_name</th>\n",
              "      <th>game_date</th>\n",
              "      <th>matchup</th>\n",
              "      <th>opponent</th>\n",
              "      <th>shot_id</th>\n",
              "      <th>game_event_id_sum</th>\n",
              "      <th>home_game</th>\n",
              "      <th>home_game_lambda</th>\n",
              "    </tr>\n",
              "  </thead>\n",
              "  <tbody>\n",
              "    <tr>\n",
              "      <th>1</th>\n",
              "      <td>Jump Shot</td>\n",
              "      <td>Jump Shot</td>\n",
              "      <td>12</td>\n",
              "      <td>20000012</td>\n",
              "      <td>34.0443</td>\n",
              "      <td>-157</td>\n",
              "      <td>0</td>\n",
              "      <td>-118.4268</td>\n",
              "      <td>10</td>\n",
              "      <td>1</td>\n",
              "      <td>0</td>\n",
              "      <td>2000-01</td>\n",
              "      <td>22</td>\n",
              "      <td>15</td>\n",
              "      <td>0.0</td>\n",
              "      <td>2PT Field Goal</td>\n",
              "      <td>Left Side(L)</td>\n",
              "      <td>Mid-Range</td>\n",
              "      <td>8-16 ft.</td>\n",
              "      <td>1610612747</td>\n",
              "      <td>Los Angeles Lakers</td>\n",
              "      <td>2000-10-31</td>\n",
              "      <td>LAL @ POR</td>\n",
              "      <td>POR</td>\n",
              "      <td>2</td>\n",
              "      <td>62</td>\n",
              "      <td>0</td>\n",
              "      <td>0</td>\n",
              "    </tr>\n",
              "  </tbody>\n",
              "</table>\n",
              "</div>"
            ],
            "text/plain": [
              "  action_type combined_shot_type  ...  home_game  home_game_lambda\n",
              "1   Jump Shot          Jump Shot  ...          0                 0\n",
              "\n",
              "[1 rows x 28 columns]"
            ]
          },
          "metadata": {
            "tags": []
          },
          "execution_count": 30
        }
      ]
    },
    {
      "cell_type": "code",
      "metadata": {
        "id": "6cYlPD9OEVWW",
        "outputId": "67df5cae-e900-4826-80ad-7e79d9e56f71",
        "colab": {
          "base_uri": "https://localhost:8080/",
          "height": 758
        }
      },
      "source": [
        "#Home Work\n",
        "def point_made(data):    \n",
        "    if data[0] == 1.0:\n",
        "      if data[1] == '2PT Field Goal':\n",
        "        return 2\n",
        "      else:\n",
        "        return 3\n",
        "    return 0\n",
        "df['points_made'] = df[['shot_made_flag','shot_type']].apply(point_made,axis=1)\n",
        "\n",
        "df"
      ],
      "execution_count": null,
      "outputs": [
        {
          "output_type": "execute_result",
          "data": {
            "text/html": [
              "<div>\n",
              "<style scoped>\n",
              "    .dataframe tbody tr th:only-of-type {\n",
              "        vertical-align: middle;\n",
              "    }\n",
              "\n",
              "    .dataframe tbody tr th {\n",
              "        vertical-align: top;\n",
              "    }\n",
              "\n",
              "    .dataframe thead th {\n",
              "        text-align: right;\n",
              "    }\n",
              "</style>\n",
              "<table border=\"1\" class=\"dataframe\">\n",
              "  <thead>\n",
              "    <tr style=\"text-align: right;\">\n",
              "      <th></th>\n",
              "      <th>action_type</th>\n",
              "      <th>combined_shot_type</th>\n",
              "      <th>game_event_id</th>\n",
              "      <th>game_id</th>\n",
              "      <th>lat</th>\n",
              "      <th>loc_x</th>\n",
              "      <th>loc_y</th>\n",
              "      <th>lon</th>\n",
              "      <th>minutes_remaining</th>\n",
              "      <th>period</th>\n",
              "      <th>playoffs</th>\n",
              "      <th>season</th>\n",
              "      <th>seconds_remaining</th>\n",
              "      <th>shot_distance</th>\n",
              "      <th>shot_made_flag</th>\n",
              "      <th>shot_type</th>\n",
              "      <th>shot_zone_area</th>\n",
              "      <th>shot_zone_basic</th>\n",
              "      <th>shot_zone_range</th>\n",
              "      <th>team_id</th>\n",
              "      <th>team_name</th>\n",
              "      <th>game_date</th>\n",
              "      <th>matchup</th>\n",
              "      <th>opponent</th>\n",
              "      <th>shot_id</th>\n",
              "      <th>game_event_id_sum</th>\n",
              "      <th>home_game</th>\n",
              "      <th>home_game_lambda</th>\n",
              "      <th>points_made</th>\n",
              "    </tr>\n",
              "  </thead>\n",
              "  <tbody>\n",
              "    <tr>\n",
              "      <th>1</th>\n",
              "      <td>Jump Shot</td>\n",
              "      <td>Jump Shot</td>\n",
              "      <td>12</td>\n",
              "      <td>20000012</td>\n",
              "      <td>34.0443</td>\n",
              "      <td>-157</td>\n",
              "      <td>0</td>\n",
              "      <td>-118.4268</td>\n",
              "      <td>10</td>\n",
              "      <td>1</td>\n",
              "      <td>0</td>\n",
              "      <td>2000-01</td>\n",
              "      <td>22</td>\n",
              "      <td>15</td>\n",
              "      <td>0.0</td>\n",
              "      <td>2PT Field Goal</td>\n",
              "      <td>Left Side(L)</td>\n",
              "      <td>Mid-Range</td>\n",
              "      <td>8-16 ft.</td>\n",
              "      <td>1610612747</td>\n",
              "      <td>Los Angeles Lakers</td>\n",
              "      <td>2000-10-31</td>\n",
              "      <td>LAL @ POR</td>\n",
              "      <td>POR</td>\n",
              "      <td>2</td>\n",
              "      <td>62</td>\n",
              "      <td>0</td>\n",
              "      <td>0</td>\n",
              "      <td>0</td>\n",
              "    </tr>\n",
              "    <tr>\n",
              "      <th>2</th>\n",
              "      <td>Jump Shot</td>\n",
              "      <td>Jump Shot</td>\n",
              "      <td>35</td>\n",
              "      <td>20000012</td>\n",
              "      <td>33.9093</td>\n",
              "      <td>-101</td>\n",
              "      <td>135</td>\n",
              "      <td>-118.3708</td>\n",
              "      <td>7</td>\n",
              "      <td>1</td>\n",
              "      <td>0</td>\n",
              "      <td>2000-01</td>\n",
              "      <td>45</td>\n",
              "      <td>16</td>\n",
              "      <td>1.0</td>\n",
              "      <td>2PT Field Goal</td>\n",
              "      <td>Left Side Center(LC)</td>\n",
              "      <td>Mid-Range</td>\n",
              "      <td>16-24 ft.</td>\n",
              "      <td>1610612747</td>\n",
              "      <td>Los Angeles Lakers</td>\n",
              "      <td>2000-10-31</td>\n",
              "      <td>LAL @ POR</td>\n",
              "      <td>POR</td>\n",
              "      <td>3</td>\n",
              "      <td>85</td>\n",
              "      <td>0</td>\n",
              "      <td>0</td>\n",
              "      <td>2</td>\n",
              "    </tr>\n",
              "    <tr>\n",
              "      <th>3</th>\n",
              "      <td>Jump Shot</td>\n",
              "      <td>Jump Shot</td>\n",
              "      <td>43</td>\n",
              "      <td>20000012</td>\n",
              "      <td>33.8693</td>\n",
              "      <td>138</td>\n",
              "      <td>175</td>\n",
              "      <td>-118.1318</td>\n",
              "      <td>6</td>\n",
              "      <td>1</td>\n",
              "      <td>0</td>\n",
              "      <td>2000-01</td>\n",
              "      <td>52</td>\n",
              "      <td>22</td>\n",
              "      <td>0.0</td>\n",
              "      <td>2PT Field Goal</td>\n",
              "      <td>Right Side Center(RC)</td>\n",
              "      <td>Mid-Range</td>\n",
              "      <td>16-24 ft.</td>\n",
              "      <td>1610612747</td>\n",
              "      <td>Los Angeles Lakers</td>\n",
              "      <td>2000-10-31</td>\n",
              "      <td>LAL @ POR</td>\n",
              "      <td>POR</td>\n",
              "      <td>4</td>\n",
              "      <td>93</td>\n",
              "      <td>0</td>\n",
              "      <td>0</td>\n",
              "      <td>0</td>\n",
              "    </tr>\n",
              "    <tr>\n",
              "      <th>4</th>\n",
              "      <td>Driving Dunk Shot</td>\n",
              "      <td>Dunk</td>\n",
              "      <td>155</td>\n",
              "      <td>20000012</td>\n",
              "      <td>34.0443</td>\n",
              "      <td>0</td>\n",
              "      <td>0</td>\n",
              "      <td>-118.2698</td>\n",
              "      <td>6</td>\n",
              "      <td>2</td>\n",
              "      <td>0</td>\n",
              "      <td>2000-01</td>\n",
              "      <td>19</td>\n",
              "      <td>0</td>\n",
              "      <td>1.0</td>\n",
              "      <td>2PT Field Goal</td>\n",
              "      <td>Center(C)</td>\n",
              "      <td>Restricted Area</td>\n",
              "      <td>Less Than 8 ft.</td>\n",
              "      <td>1610612747</td>\n",
              "      <td>Los Angeles Lakers</td>\n",
              "      <td>2000-10-31</td>\n",
              "      <td>LAL @ POR</td>\n",
              "      <td>POR</td>\n",
              "      <td>5</td>\n",
              "      <td>205</td>\n",
              "      <td>0</td>\n",
              "      <td>0</td>\n",
              "      <td>2</td>\n",
              "    </tr>\n",
              "    <tr>\n",
              "      <th>5</th>\n",
              "      <td>Jump Shot</td>\n",
              "      <td>Jump Shot</td>\n",
              "      <td>244</td>\n",
              "      <td>20000012</td>\n",
              "      <td>34.0553</td>\n",
              "      <td>-145</td>\n",
              "      <td>-11</td>\n",
              "      <td>-118.4148</td>\n",
              "      <td>9</td>\n",
              "      <td>3</td>\n",
              "      <td>0</td>\n",
              "      <td>2000-01</td>\n",
              "      <td>32</td>\n",
              "      <td>14</td>\n",
              "      <td>0.0</td>\n",
              "      <td>2PT Field Goal</td>\n",
              "      <td>Left Side(L)</td>\n",
              "      <td>Mid-Range</td>\n",
              "      <td>8-16 ft.</td>\n",
              "      <td>1610612747</td>\n",
              "      <td>Los Angeles Lakers</td>\n",
              "      <td>2000-10-31</td>\n",
              "      <td>LAL @ POR</td>\n",
              "      <td>POR</td>\n",
              "      <td>6</td>\n",
              "      <td>294</td>\n",
              "      <td>0</td>\n",
              "      <td>0</td>\n",
              "      <td>0</td>\n",
              "    </tr>\n",
              "    <tr>\n",
              "      <th>...</th>\n",
              "      <td>...</td>\n",
              "      <td>...</td>\n",
              "      <td>...</td>\n",
              "      <td>...</td>\n",
              "      <td>...</td>\n",
              "      <td>...</td>\n",
              "      <td>...</td>\n",
              "      <td>...</td>\n",
              "      <td>...</td>\n",
              "      <td>...</td>\n",
              "      <td>...</td>\n",
              "      <td>...</td>\n",
              "      <td>...</td>\n",
              "      <td>...</td>\n",
              "      <td>...</td>\n",
              "      <td>...</td>\n",
              "      <td>...</td>\n",
              "      <td>...</td>\n",
              "      <td>...</td>\n",
              "      <td>...</td>\n",
              "      <td>...</td>\n",
              "      <td>...</td>\n",
              "      <td>...</td>\n",
              "      <td>...</td>\n",
              "      <td>...</td>\n",
              "      <td>...</td>\n",
              "      <td>...</td>\n",
              "      <td>...</td>\n",
              "      <td>...</td>\n",
              "    </tr>\n",
              "    <tr>\n",
              "      <th>30692</th>\n",
              "      <td>Jump Shot</td>\n",
              "      <td>Jump Shot</td>\n",
              "      <td>397</td>\n",
              "      <td>49900088</td>\n",
              "      <td>33.9963</td>\n",
              "      <td>1</td>\n",
              "      <td>48</td>\n",
              "      <td>-118.2688</td>\n",
              "      <td>6</td>\n",
              "      <td>4</td>\n",
              "      <td>1</td>\n",
              "      <td>1999-00</td>\n",
              "      <td>5</td>\n",
              "      <td>4</td>\n",
              "      <td>0.0</td>\n",
              "      <td>2PT Field Goal</td>\n",
              "      <td>Center(C)</td>\n",
              "      <td>In The Paint (Non-RA)</td>\n",
              "      <td>Less Than 8 ft.</td>\n",
              "      <td>1610612747</td>\n",
              "      <td>Los Angeles Lakers</td>\n",
              "      <td>2000-06-19</td>\n",
              "      <td>LAL vs. IND</td>\n",
              "      <td>IND</td>\n",
              "      <td>30693</td>\n",
              "      <td>447</td>\n",
              "      <td>1</td>\n",
              "      <td>1</td>\n",
              "      <td>0</td>\n",
              "    </tr>\n",
              "    <tr>\n",
              "      <th>30693</th>\n",
              "      <td>Tip Shot</td>\n",
              "      <td>Tip Shot</td>\n",
              "      <td>398</td>\n",
              "      <td>49900088</td>\n",
              "      <td>34.0443</td>\n",
              "      <td>0</td>\n",
              "      <td>0</td>\n",
              "      <td>-118.2698</td>\n",
              "      <td>6</td>\n",
              "      <td>4</td>\n",
              "      <td>1</td>\n",
              "      <td>1999-00</td>\n",
              "      <td>5</td>\n",
              "      <td>0</td>\n",
              "      <td>NaN</td>\n",
              "      <td>2PT Field Goal</td>\n",
              "      <td>Center(C)</td>\n",
              "      <td>Restricted Area</td>\n",
              "      <td>Less Than 8 ft.</td>\n",
              "      <td>1610612747</td>\n",
              "      <td>Los Angeles Lakers</td>\n",
              "      <td>2000-06-19</td>\n",
              "      <td>LAL vs. IND</td>\n",
              "      <td>IND</td>\n",
              "      <td>30694</td>\n",
              "      <td>448</td>\n",
              "      <td>1</td>\n",
              "      <td>1</td>\n",
              "      <td>0</td>\n",
              "    </tr>\n",
              "    <tr>\n",
              "      <th>30694</th>\n",
              "      <td>Running Jump Shot</td>\n",
              "      <td>Jump Shot</td>\n",
              "      <td>426</td>\n",
              "      <td>49900088</td>\n",
              "      <td>33.8783</td>\n",
              "      <td>-134</td>\n",
              "      <td>166</td>\n",
              "      <td>-118.4038</td>\n",
              "      <td>3</td>\n",
              "      <td>4</td>\n",
              "      <td>1</td>\n",
              "      <td>1999-00</td>\n",
              "      <td>28</td>\n",
              "      <td>21</td>\n",
              "      <td>1.0</td>\n",
              "      <td>2PT Field Goal</td>\n",
              "      <td>Left Side Center(LC)</td>\n",
              "      <td>Mid-Range</td>\n",
              "      <td>16-24 ft.</td>\n",
              "      <td>1610612747</td>\n",
              "      <td>Los Angeles Lakers</td>\n",
              "      <td>2000-06-19</td>\n",
              "      <td>LAL vs. IND</td>\n",
              "      <td>IND</td>\n",
              "      <td>30695</td>\n",
              "      <td>476</td>\n",
              "      <td>1</td>\n",
              "      <td>1</td>\n",
              "      <td>2</td>\n",
              "    </tr>\n",
              "    <tr>\n",
              "      <th>30695</th>\n",
              "      <td>Jump Shot</td>\n",
              "      <td>Jump Shot</td>\n",
              "      <td>448</td>\n",
              "      <td>49900088</td>\n",
              "      <td>33.7773</td>\n",
              "      <td>31</td>\n",
              "      <td>267</td>\n",
              "      <td>-118.2388</td>\n",
              "      <td>2</td>\n",
              "      <td>4</td>\n",
              "      <td>1</td>\n",
              "      <td>1999-00</td>\n",
              "      <td>10</td>\n",
              "      <td>26</td>\n",
              "      <td>0.0</td>\n",
              "      <td>3PT Field Goal</td>\n",
              "      <td>Center(C)</td>\n",
              "      <td>Above the Break 3</td>\n",
              "      <td>24+ ft.</td>\n",
              "      <td>1610612747</td>\n",
              "      <td>Los Angeles Lakers</td>\n",
              "      <td>2000-06-19</td>\n",
              "      <td>LAL vs. IND</td>\n",
              "      <td>IND</td>\n",
              "      <td>30696</td>\n",
              "      <td>498</td>\n",
              "      <td>1</td>\n",
              "      <td>1</td>\n",
              "      <td>0</td>\n",
              "    </tr>\n",
              "    <tr>\n",
              "      <th>30696</th>\n",
              "      <td>Jump Shot</td>\n",
              "      <td>Jump Shot</td>\n",
              "      <td>471</td>\n",
              "      <td>49900088</td>\n",
              "      <td>33.9723</td>\n",
              "      <td>1</td>\n",
              "      <td>72</td>\n",
              "      <td>-118.2688</td>\n",
              "      <td>0</td>\n",
              "      <td>4</td>\n",
              "      <td>1</td>\n",
              "      <td>1999-00</td>\n",
              "      <td>39</td>\n",
              "      <td>7</td>\n",
              "      <td>0.0</td>\n",
              "      <td>2PT Field Goal</td>\n",
              "      <td>Center(C)</td>\n",
              "      <td>In The Paint (Non-RA)</td>\n",
              "      <td>Less Than 8 ft.</td>\n",
              "      <td>1610612747</td>\n",
              "      <td>Los Angeles Lakers</td>\n",
              "      <td>2000-06-19</td>\n",
              "      <td>LAL vs. IND</td>\n",
              "      <td>IND</td>\n",
              "      <td>30697</td>\n",
              "      <td>521</td>\n",
              "      <td>1</td>\n",
              "      <td>1</td>\n",
              "      <td>0</td>\n",
              "    </tr>\n",
              "  </tbody>\n",
              "</table>\n",
              "<p>30696 rows × 29 columns</p>\n",
              "</div>"
            ],
            "text/plain": [
              "             action_type combined_shot_type  ...  home_game_lambda  points_made\n",
              "1              Jump Shot          Jump Shot  ...                 0            0\n",
              "2              Jump Shot          Jump Shot  ...                 0            2\n",
              "3              Jump Shot          Jump Shot  ...                 0            0\n",
              "4      Driving Dunk Shot               Dunk  ...                 0            2\n",
              "5              Jump Shot          Jump Shot  ...                 0            0\n",
              "...                  ...                ...  ...               ...          ...\n",
              "30692          Jump Shot          Jump Shot  ...                 1            0\n",
              "30693           Tip Shot           Tip Shot  ...                 1            0\n",
              "30694  Running Jump Shot          Jump Shot  ...                 1            2\n",
              "30695          Jump Shot          Jump Shot  ...                 1            0\n",
              "30696          Jump Shot          Jump Shot  ...                 1            0\n",
              "\n",
              "[30696 rows x 29 columns]"
            ]
          },
          "metadata": {
            "tags": []
          },
          "execution_count": 31
        }
      ]
    },
    {
      "cell_type": "markdown",
      "metadata": {
        "id": "qk78XxTEQCW4"
      },
      "source": [
        "# Aula 10/08 - Estatística descritiva de dados\n"
      ]
    },
    {
      "cell_type": "code",
      "metadata": {
        "id": "vDzqrtUEQLcg"
      },
      "source": [
        "df = pd.read_csv('http://www.ppgia.pucpr.br/~jean.barddal/datascience/Salaries.csv')"
      ],
      "execution_count": null,
      "outputs": []
    },
    {
      "cell_type": "code",
      "metadata": {
        "id": "jMnpvpx1kWhD",
        "outputId": "6585654c-ff53-49f6-c679-6a109a1edf74",
        "colab": {
          "base_uri": "https://localhost:8080/",
          "height": 402
        }
      },
      "source": [
        "df"
      ],
      "execution_count": null,
      "outputs": [
        {
          "output_type": "execute_result",
          "data": {
            "text/html": [
              "<div>\n",
              "<style scoped>\n",
              "    .dataframe tbody tr th:only-of-type {\n",
              "        vertical-align: middle;\n",
              "    }\n",
              "\n",
              "    .dataframe tbody tr th {\n",
              "        vertical-align: top;\n",
              "    }\n",
              "\n",
              "    .dataframe thead th {\n",
              "        text-align: right;\n",
              "    }\n",
              "</style>\n",
              "<table border=\"1\" class=\"dataframe\">\n",
              "  <thead>\n",
              "    <tr style=\"text-align: right;\">\n",
              "      <th></th>\n",
              "      <th>Unnamed: 0</th>\n",
              "      <th>rank</th>\n",
              "      <th>discipline</th>\n",
              "      <th>yrs.since.phd</th>\n",
              "      <th>yrs.service</th>\n",
              "      <th>sex</th>\n",
              "      <th>salary</th>\n",
              "    </tr>\n",
              "  </thead>\n",
              "  <tbody>\n",
              "    <tr>\n",
              "      <th>0</th>\n",
              "      <td>1</td>\n",
              "      <td>Prof</td>\n",
              "      <td>B</td>\n",
              "      <td>19</td>\n",
              "      <td>18</td>\n",
              "      <td>Male</td>\n",
              "      <td>139750</td>\n",
              "    </tr>\n",
              "    <tr>\n",
              "      <th>1</th>\n",
              "      <td>2</td>\n",
              "      <td>Prof</td>\n",
              "      <td>B</td>\n",
              "      <td>20</td>\n",
              "      <td>16</td>\n",
              "      <td>Male</td>\n",
              "      <td>173200</td>\n",
              "    </tr>\n",
              "    <tr>\n",
              "      <th>2</th>\n",
              "      <td>3</td>\n",
              "      <td>AsstProf</td>\n",
              "      <td>B</td>\n",
              "      <td>4</td>\n",
              "      <td>3</td>\n",
              "      <td>Male</td>\n",
              "      <td>79750</td>\n",
              "    </tr>\n",
              "    <tr>\n",
              "      <th>3</th>\n",
              "      <td>4</td>\n",
              "      <td>Prof</td>\n",
              "      <td>B</td>\n",
              "      <td>45</td>\n",
              "      <td>39</td>\n",
              "      <td>Male</td>\n",
              "      <td>115000</td>\n",
              "    </tr>\n",
              "    <tr>\n",
              "      <th>4</th>\n",
              "      <td>5</td>\n",
              "      <td>Prof</td>\n",
              "      <td>B</td>\n",
              "      <td>40</td>\n",
              "      <td>41</td>\n",
              "      <td>Male</td>\n",
              "      <td>141500</td>\n",
              "    </tr>\n",
              "    <tr>\n",
              "      <th>...</th>\n",
              "      <td>...</td>\n",
              "      <td>...</td>\n",
              "      <td>...</td>\n",
              "      <td>...</td>\n",
              "      <td>...</td>\n",
              "      <td>...</td>\n",
              "      <td>...</td>\n",
              "    </tr>\n",
              "    <tr>\n",
              "      <th>392</th>\n",
              "      <td>393</td>\n",
              "      <td>Prof</td>\n",
              "      <td>A</td>\n",
              "      <td>33</td>\n",
              "      <td>30</td>\n",
              "      <td>Male</td>\n",
              "      <td>103106</td>\n",
              "    </tr>\n",
              "    <tr>\n",
              "      <th>393</th>\n",
              "      <td>394</td>\n",
              "      <td>Prof</td>\n",
              "      <td>A</td>\n",
              "      <td>31</td>\n",
              "      <td>19</td>\n",
              "      <td>Male</td>\n",
              "      <td>150564</td>\n",
              "    </tr>\n",
              "    <tr>\n",
              "      <th>394</th>\n",
              "      <td>395</td>\n",
              "      <td>Prof</td>\n",
              "      <td>A</td>\n",
              "      <td>42</td>\n",
              "      <td>25</td>\n",
              "      <td>Male</td>\n",
              "      <td>101738</td>\n",
              "    </tr>\n",
              "    <tr>\n",
              "      <th>395</th>\n",
              "      <td>396</td>\n",
              "      <td>Prof</td>\n",
              "      <td>A</td>\n",
              "      <td>25</td>\n",
              "      <td>15</td>\n",
              "      <td>Male</td>\n",
              "      <td>95329</td>\n",
              "    </tr>\n",
              "    <tr>\n",
              "      <th>396</th>\n",
              "      <td>397</td>\n",
              "      <td>AsstProf</td>\n",
              "      <td>A</td>\n",
              "      <td>8</td>\n",
              "      <td>4</td>\n",
              "      <td>Male</td>\n",
              "      <td>81035</td>\n",
              "    </tr>\n",
              "  </tbody>\n",
              "</table>\n",
              "<p>397 rows × 7 columns</p>\n",
              "</div>"
            ],
            "text/plain": [
              "     Unnamed: 0      rank discipline  yrs.since.phd  yrs.service   sex  salary\n",
              "0             1      Prof          B             19           18  Male  139750\n",
              "1             2      Prof          B             20           16  Male  173200\n",
              "2             3  AsstProf          B              4            3  Male   79750\n",
              "3             4      Prof          B             45           39  Male  115000\n",
              "4             5      Prof          B             40           41  Male  141500\n",
              "..          ...       ...        ...            ...          ...   ...     ...\n",
              "392         393      Prof          A             33           30  Male  103106\n",
              "393         394      Prof          A             31           19  Male  150564\n",
              "394         395      Prof          A             42           25  Male  101738\n",
              "395         396      Prof          A             25           15  Male   95329\n",
              "396         397  AsstProf          A              8            4  Male   81035\n",
              "\n",
              "[397 rows x 7 columns]"
            ]
          },
          "metadata": {
            "tags": []
          },
          "execution_count": 33
        }
      ]
    },
    {
      "cell_type": "code",
      "metadata": {
        "id": "bScNmEsWUJ9K"
      },
      "source": [
        "df.drop('Unnamed: 0',axis= 1, inplace=True)"
      ],
      "execution_count": null,
      "outputs": []
    },
    {
      "cell_type": "code",
      "metadata": {
        "id": "82oNJxUdUJ9O",
        "outputId": "992ce584-c469-40a5-fd74-b05d07c2834b",
        "colab": {
          "base_uri": "https://localhost:8080/",
          "height": 195
        }
      },
      "source": [
        "df.head(5)"
      ],
      "execution_count": null,
      "outputs": [
        {
          "output_type": "execute_result",
          "data": {
            "text/html": [
              "<div>\n",
              "<style scoped>\n",
              "    .dataframe tbody tr th:only-of-type {\n",
              "        vertical-align: middle;\n",
              "    }\n",
              "\n",
              "    .dataframe tbody tr th {\n",
              "        vertical-align: top;\n",
              "    }\n",
              "\n",
              "    .dataframe thead th {\n",
              "        text-align: right;\n",
              "    }\n",
              "</style>\n",
              "<table border=\"1\" class=\"dataframe\">\n",
              "  <thead>\n",
              "    <tr style=\"text-align: right;\">\n",
              "      <th></th>\n",
              "      <th>rank</th>\n",
              "      <th>discipline</th>\n",
              "      <th>yrs.since.phd</th>\n",
              "      <th>yrs.service</th>\n",
              "      <th>sex</th>\n",
              "      <th>salary</th>\n",
              "    </tr>\n",
              "  </thead>\n",
              "  <tbody>\n",
              "    <tr>\n",
              "      <th>0</th>\n",
              "      <td>Prof</td>\n",
              "      <td>B</td>\n",
              "      <td>19</td>\n",
              "      <td>18</td>\n",
              "      <td>Male</td>\n",
              "      <td>139750</td>\n",
              "    </tr>\n",
              "    <tr>\n",
              "      <th>1</th>\n",
              "      <td>Prof</td>\n",
              "      <td>B</td>\n",
              "      <td>20</td>\n",
              "      <td>16</td>\n",
              "      <td>Male</td>\n",
              "      <td>173200</td>\n",
              "    </tr>\n",
              "    <tr>\n",
              "      <th>2</th>\n",
              "      <td>AsstProf</td>\n",
              "      <td>B</td>\n",
              "      <td>4</td>\n",
              "      <td>3</td>\n",
              "      <td>Male</td>\n",
              "      <td>79750</td>\n",
              "    </tr>\n",
              "    <tr>\n",
              "      <th>3</th>\n",
              "      <td>Prof</td>\n",
              "      <td>B</td>\n",
              "      <td>45</td>\n",
              "      <td>39</td>\n",
              "      <td>Male</td>\n",
              "      <td>115000</td>\n",
              "    </tr>\n",
              "    <tr>\n",
              "      <th>4</th>\n",
              "      <td>Prof</td>\n",
              "      <td>B</td>\n",
              "      <td>40</td>\n",
              "      <td>41</td>\n",
              "      <td>Male</td>\n",
              "      <td>141500</td>\n",
              "    </tr>\n",
              "  </tbody>\n",
              "</table>\n",
              "</div>"
            ],
            "text/plain": [
              "       rank discipline  yrs.since.phd  yrs.service   sex  salary\n",
              "0      Prof          B             19           18  Male  139750\n",
              "1      Prof          B             20           16  Male  173200\n",
              "2  AsstProf          B              4            3  Male   79750\n",
              "3      Prof          B             45           39  Male  115000\n",
              "4      Prof          B             40           41  Male  141500"
            ]
          },
          "metadata": {
            "tags": []
          },
          "execution_count": 35
        }
      ]
    },
    {
      "cell_type": "code",
      "metadata": {
        "id": "NNy91KEnUJ9R",
        "outputId": "21b1fe1b-9bb2-448b-aa88-f79086533c34",
        "colab": {
          "base_uri": "https://localhost:8080/",
          "height": 34
        }
      },
      "source": [
        "df['rank'].unique()"
      ],
      "execution_count": null,
      "outputs": [
        {
          "output_type": "execute_result",
          "data": {
            "text/plain": [
              "array(['Prof', 'AsstProf', 'AssocProf'], dtype=object)"
            ]
          },
          "metadata": {
            "tags": []
          },
          "execution_count": 36
        }
      ]
    },
    {
      "cell_type": "code",
      "metadata": {
        "id": "SPGNBOOtUJ9T",
        "outputId": "c351c6f6-caad-4353-f034-c20277203d39",
        "colab": {
          "base_uri": "https://localhost:8080/",
          "height": 34
        }
      },
      "source": [
        "df['sex'].unique()"
      ],
      "execution_count": null,
      "outputs": [
        {
          "output_type": "execute_result",
          "data": {
            "text/plain": [
              "array(['Male', 'Female'], dtype=object)"
            ]
          },
          "metadata": {
            "tags": []
          },
          "execution_count": 37
        }
      ]
    },
    {
      "cell_type": "code",
      "metadata": {
        "id": "8aQ1E8jAUJ9W",
        "outputId": "17464d54-0ee3-42b7-a232-3c1f3483833e",
        "colab": {
          "base_uri": "https://localhost:8080/",
          "height": 101
        }
      },
      "source": [
        "## Calculando maior Salario, menor salario e salario medio por rank\n",
        "df.groupby('rank')['salary'].mean()"
      ],
      "execution_count": null,
      "outputs": [
        {
          "output_type": "execute_result",
          "data": {
            "text/plain": [
              "rank\n",
              "AssocProf     93876.437500\n",
              "AsstProf      80775.985075\n",
              "Prof         126772.109023\n",
              "Name: salary, dtype: float64"
            ]
          },
          "metadata": {
            "tags": []
          },
          "execution_count": 38
        }
      ]
    },
    {
      "cell_type": "code",
      "metadata": {
        "id": "wRQFcPOiUJ9Z",
        "outputId": "e733f7d0-abab-4ac7-a5d9-b03167ab6fb3",
        "colab": {
          "base_uri": "https://localhost:8080/",
          "height": 101
        }
      },
      "source": [
        "df.groupby('rank')['salary'].min()"
      ],
      "execution_count": null,
      "outputs": [
        {
          "output_type": "execute_result",
          "data": {
            "text/plain": [
              "rank\n",
              "AssocProf    62884\n",
              "AsstProf     63100\n",
              "Prof         57800\n",
              "Name: salary, dtype: int64"
            ]
          },
          "metadata": {
            "tags": []
          },
          "execution_count": 39
        }
      ]
    },
    {
      "cell_type": "code",
      "metadata": {
        "id": "XE8sCfsnUJ9c",
        "outputId": "08acebb0-069f-4688-969c-ce0d36163532",
        "colab": {
          "base_uri": "https://localhost:8080/",
          "height": 101
        }
      },
      "source": [
        "df.groupby('rank')['salary'].max()"
      ],
      "execution_count": null,
      "outputs": [
        {
          "output_type": "execute_result",
          "data": {
            "text/plain": [
              "rank\n",
              "AssocProf    126431\n",
              "AsstProf      97032\n",
              "Prof         231545\n",
              "Name: salary, dtype: int64"
            ]
          },
          "metadata": {
            "tags": []
          },
          "execution_count": 40
        }
      ]
    },
    {
      "cell_type": "code",
      "metadata": {
        "id": "pbdsqcskUJ9f",
        "outputId": "17158f91-df1b-4d28-f0c7-bebf87369d01",
        "colab": {
          "base_uri": "https://localhost:8080/",
          "height": 166
        }
      },
      "source": [
        "df.groupby('rank')['salary'].describe()"
      ],
      "execution_count": null,
      "outputs": [
        {
          "output_type": "execute_result",
          "data": {
            "text/html": [
              "<div>\n",
              "<style scoped>\n",
              "    .dataframe tbody tr th:only-of-type {\n",
              "        vertical-align: middle;\n",
              "    }\n",
              "\n",
              "    .dataframe tbody tr th {\n",
              "        vertical-align: top;\n",
              "    }\n",
              "\n",
              "    .dataframe thead th {\n",
              "        text-align: right;\n",
              "    }\n",
              "</style>\n",
              "<table border=\"1\" class=\"dataframe\">\n",
              "  <thead>\n",
              "    <tr style=\"text-align: right;\">\n",
              "      <th></th>\n",
              "      <th>count</th>\n",
              "      <th>mean</th>\n",
              "      <th>std</th>\n",
              "      <th>min</th>\n",
              "      <th>25%</th>\n",
              "      <th>50%</th>\n",
              "      <th>75%</th>\n",
              "      <th>max</th>\n",
              "    </tr>\n",
              "    <tr>\n",
              "      <th>rank</th>\n",
              "      <th></th>\n",
              "      <th></th>\n",
              "      <th></th>\n",
              "      <th></th>\n",
              "      <th></th>\n",
              "      <th></th>\n",
              "      <th></th>\n",
              "      <th></th>\n",
              "    </tr>\n",
              "  </thead>\n",
              "  <tbody>\n",
              "    <tr>\n",
              "      <th>AssocProf</th>\n",
              "      <td>64.0</td>\n",
              "      <td>93876.437500</td>\n",
              "      <td>13831.699844</td>\n",
              "      <td>62884.0</td>\n",
              "      <td>82475.00</td>\n",
              "      <td>95626.5</td>\n",
              "      <td>104226.25</td>\n",
              "      <td>126431.0</td>\n",
              "    </tr>\n",
              "    <tr>\n",
              "      <th>AsstProf</th>\n",
              "      <td>67.0</td>\n",
              "      <td>80775.985075</td>\n",
              "      <td>8174.112637</td>\n",
              "      <td>63100.0</td>\n",
              "      <td>74000.00</td>\n",
              "      <td>79800.0</td>\n",
              "      <td>88597.50</td>\n",
              "      <td>97032.0</td>\n",
              "    </tr>\n",
              "    <tr>\n",
              "      <th>Prof</th>\n",
              "      <td>266.0</td>\n",
              "      <td>126772.109023</td>\n",
              "      <td>27718.674999</td>\n",
              "      <td>57800.0</td>\n",
              "      <td>105975.25</td>\n",
              "      <td>123321.5</td>\n",
              "      <td>145080.50</td>\n",
              "      <td>231545.0</td>\n",
              "    </tr>\n",
              "  </tbody>\n",
              "</table>\n",
              "</div>"
            ],
            "text/plain": [
              "           count           mean           std  ...       50%        75%       max\n",
              "rank                                           ...                               \n",
              "AssocProf   64.0   93876.437500  13831.699844  ...   95626.5  104226.25  126431.0\n",
              "AsstProf    67.0   80775.985075   8174.112637  ...   79800.0   88597.50   97032.0\n",
              "Prof       266.0  126772.109023  27718.674999  ...  123321.5  145080.50  231545.0\n",
              "\n",
              "[3 rows x 8 columns]"
            ]
          },
          "metadata": {
            "tags": []
          },
          "execution_count": 41
        }
      ]
    },
    {
      "cell_type": "code",
      "metadata": {
        "id": "YsT_sXqsUJ9h",
        "outputId": "c90b6c73-17b3-44ed-b327-f76f3301d535",
        "colab": {
          "base_uri": "https://localhost:8080/",
          "height": 282
        }
      },
      "source": [
        "df[df['rank']== 'Prof']['salary'].hist(bins=25) #histograma"
      ],
      "execution_count": null,
      "outputs": [
        {
          "output_type": "execute_result",
          "data": {
            "text/plain": [
              "<matplotlib.axes._subplots.AxesSubplot at 0x7f1912974cc0>"
            ]
          },
          "metadata": {
            "tags": []
          },
          "execution_count": 42
        },
        {
          "output_type": "display_data",
          "data": {
            "image/png": "[encoded data removed]",
            "text/plain": [
              "<Figure size 432x288 with 1 Axes>"
            ]
          },
          "metadata": {
            "tags": [],
            "needs_background": "light"
          }
        }
      ]
    },
    {
      "cell_type": "code",
      "metadata": {
        "id": "qsKgPmlPUJ9l",
        "outputId": "2fc4cd42-3888-41da-aeba-194e47a1e4bb",
        "colab": {
          "base_uri": "https://localhost:8080/",
          "height": 282
        }
      },
      "source": [
        "df['salary'].hist(bins=25)"
      ],
      "execution_count": null,
      "outputs": [
        {
          "output_type": "execute_result",
          "data": {
            "text/plain": [
              "<matplotlib.axes._subplots.AxesSubplot at 0x7f19125d9a58>"
            ]
          },
          "metadata": {
            "tags": []
          },
          "execution_count": 43
        },
        {
          "output_type": "display_data",
          "data": {
            "image/png": "[encoded data removed]",
            "text/plain": [
              "<Figure size 432x288 with 1 Axes>"
            ]
          },
          "metadata": {
            "tags": [],
            "needs_background": "light"
          }
        }
      ]
    },
    {
      "cell_type": "code",
      "metadata": {
        "id": "R-cxA3CfUJ9o",
        "outputId": "cbd53a4d-020b-48ba-87eb-e74b9f34191e",
        "colab": {
          "base_uri": "https://localhost:8080/",
          "height": 136
        }
      },
      "source": [
        "### Qual o comportamento dos salarios entre os sexos?\n",
        "df.groupby('sex')['salary'].describe()"
      ],
      "execution_count": null,
      "outputs": [
        {
          "output_type": "execute_result",
          "data": {
            "text/html": [
              "<div>\n",
              "<style scoped>\n",
              "    .dataframe tbody tr th:only-of-type {\n",
              "        vertical-align: middle;\n",
              "    }\n",
              "\n",
              "    .dataframe tbody tr th {\n",
              "        vertical-align: top;\n",
              "    }\n",
              "\n",
              "    .dataframe thead th {\n",
              "        text-align: right;\n",
              "    }\n",
              "</style>\n",
              "<table border=\"1\" class=\"dataframe\">\n",
              "  <thead>\n",
              "    <tr style=\"text-align: right;\">\n",
              "      <th></th>\n",
              "      <th>count</th>\n",
              "      <th>mean</th>\n",
              "      <th>std</th>\n",
              "      <th>min</th>\n",
              "      <th>25%</th>\n",
              "      <th>50%</th>\n",
              "      <th>75%</th>\n",
              "      <th>max</th>\n",
              "    </tr>\n",
              "    <tr>\n",
              "      <th>sex</th>\n",
              "      <th></th>\n",
              "      <th></th>\n",
              "      <th></th>\n",
              "      <th></th>\n",
              "      <th></th>\n",
              "      <th></th>\n",
              "      <th></th>\n",
              "      <th></th>\n",
              "    </tr>\n",
              "  </thead>\n",
              "  <tbody>\n",
              "    <tr>\n",
              "      <th>Female</th>\n",
              "      <td>39.0</td>\n",
              "      <td>101002.410256</td>\n",
              "      <td>25952.127317</td>\n",
              "      <td>62884.0</td>\n",
              "      <td>77250.0</td>\n",
              "      <td>103750.0</td>\n",
              "      <td>117002.50</td>\n",
              "      <td>161101.0</td>\n",
              "    </tr>\n",
              "    <tr>\n",
              "      <th>Male</th>\n",
              "      <td>358.0</td>\n",
              "      <td>115090.418994</td>\n",
              "      <td>30436.927344</td>\n",
              "      <td>57800.0</td>\n",
              "      <td>92000.0</td>\n",
              "      <td>108043.0</td>\n",
              "      <td>134863.75</td>\n",
              "      <td>231545.0</td>\n",
              "    </tr>\n",
              "  </tbody>\n",
              "</table>\n",
              "</div>"
            ],
            "text/plain": [
              "        count           mean           std  ...       50%        75%       max\n",
              "sex                                         ...                               \n",
              "Female   39.0  101002.410256  25952.127317  ...  103750.0  117002.50  161101.0\n",
              "Male    358.0  115090.418994  30436.927344  ...  108043.0  134863.75  231545.0\n",
              "\n",
              "[2 rows x 8 columns]"
            ]
          },
          "metadata": {
            "tags": []
          },
          "execution_count": 44
        }
      ]
    },
    {
      "cell_type": "code",
      "metadata": {
        "id": "kXgrsFSsUJ9s",
        "outputId": "60585634-e0d1-41c6-cb85-906fd4216129",
        "colab": {
          "base_uri": "https://localhost:8080/",
          "height": 254
        }
      },
      "source": [
        "### Qual o comportamento do salario perante sexo e rank?\n",
        "df.groupby(['sex','rank'])['salary'].describe()"
      ],
      "execution_count": null,
      "outputs": [
        {
          "output_type": "execute_result",
          "data": {
            "text/html": [
              "<div>\n",
              "<style scoped>\n",
              "    .dataframe tbody tr th:only-of-type {\n",
              "        vertical-align: middle;\n",
              "    }\n",
              "\n",
              "    .dataframe tbody tr th {\n",
              "        vertical-align: top;\n",
              "    }\n",
              "\n",
              "    .dataframe thead th {\n",
              "        text-align: right;\n",
              "    }\n",
              "</style>\n",
              "<table border=\"1\" class=\"dataframe\">\n",
              "  <thead>\n",
              "    <tr style=\"text-align: right;\">\n",
              "      <th></th>\n",
              "      <th></th>\n",
              "      <th>count</th>\n",
              "      <th>mean</th>\n",
              "      <th>std</th>\n",
              "      <th>min</th>\n",
              "      <th>25%</th>\n",
              "      <th>50%</th>\n",
              "      <th>75%</th>\n",
              "      <th>max</th>\n",
              "    </tr>\n",
              "    <tr>\n",
              "      <th>sex</th>\n",
              "      <th>rank</th>\n",
              "      <th></th>\n",
              "      <th></th>\n",
              "      <th></th>\n",
              "      <th></th>\n",
              "      <th></th>\n",
              "      <th></th>\n",
              "      <th></th>\n",
              "      <th></th>\n",
              "    </tr>\n",
              "  </thead>\n",
              "  <tbody>\n",
              "    <tr>\n",
              "      <th rowspan=\"3\" valign=\"top\">Female</th>\n",
              "      <th>AssocProf</th>\n",
              "      <td>10.0</td>\n",
              "      <td>88512.800000</td>\n",
              "      <td>17965.286006</td>\n",
              "      <td>62884.0</td>\n",
              "      <td>73682.50</td>\n",
              "      <td>90556.5</td>\n",
              "      <td>103933.00</td>\n",
              "      <td>109650.0</td>\n",
              "    </tr>\n",
              "    <tr>\n",
              "      <th>AsstProf</th>\n",
              "      <td>11.0</td>\n",
              "      <td>78049.909091</td>\n",
              "      <td>9371.996121</td>\n",
              "      <td>63100.0</td>\n",
              "      <td>73000.00</td>\n",
              "      <td>77000.0</td>\n",
              "      <td>79362.50</td>\n",
              "      <td>97032.0</td>\n",
              "    </tr>\n",
              "    <tr>\n",
              "      <th>Prof</th>\n",
              "      <td>18.0</td>\n",
              "      <td>121967.611111</td>\n",
              "      <td>19619.582577</td>\n",
              "      <td>90450.0</td>\n",
              "      <td>109723.00</td>\n",
              "      <td>120257.5</td>\n",
              "      <td>135000.00</td>\n",
              "      <td>161101.0</td>\n",
              "    </tr>\n",
              "    <tr>\n",
              "      <th rowspan=\"3\" valign=\"top\">Male</th>\n",
              "      <th>AssocProf</th>\n",
              "      <td>54.0</td>\n",
              "      <td>94869.703704</td>\n",
              "      <td>12890.817423</td>\n",
              "      <td>70000.0</td>\n",
              "      <td>83213.25</td>\n",
              "      <td>95626.5</td>\n",
              "      <td>104630.25</td>\n",
              "      <td>126431.0</td>\n",
              "    </tr>\n",
              "    <tr>\n",
              "      <th>AsstProf</th>\n",
              "      <td>56.0</td>\n",
              "      <td>81311.464286</td>\n",
              "      <td>7901.342712</td>\n",
              "      <td>63900.0</td>\n",
              "      <td>74375.00</td>\n",
              "      <td>80182.0</td>\n",
              "      <td>88802.50</td>\n",
              "      <td>95079.0</td>\n",
              "    </tr>\n",
              "    <tr>\n",
              "      <th>Prof</th>\n",
              "      <td>248.0</td>\n",
              "      <td>127120.822581</td>\n",
              "      <td>28213.807675</td>\n",
              "      <td>57800.0</td>\n",
              "      <td>105834.50</td>\n",
              "      <td>123996.0</td>\n",
              "      <td>145512.50</td>\n",
              "      <td>231545.0</td>\n",
              "    </tr>\n",
              "  </tbody>\n",
              "</table>\n",
              "</div>"
            ],
            "text/plain": [
              "                  count           mean  ...        75%       max\n",
              "sex    rank                             ...                     \n",
              "Female AssocProf   10.0   88512.800000  ...  103933.00  109650.0\n",
              "       AsstProf    11.0   78049.909091  ...   79362.50   97032.0\n",
              "       Prof        18.0  121967.611111  ...  135000.00  161101.0\n",
              "Male   AssocProf   54.0   94869.703704  ...  104630.25  126431.0\n",
              "       AsstProf    56.0   81311.464286  ...   88802.50   95079.0\n",
              "       Prof       248.0  127120.822581  ...  145512.50  231545.0\n",
              "\n",
              "[6 rows x 8 columns]"
            ]
          },
          "metadata": {
            "tags": []
          },
          "execution_count": 45
        }
      ]
    },
    {
      "cell_type": "code",
      "metadata": {
        "id": "7i0uYNYJUJ9v",
        "outputId": "f134b15a-b232-4ae3-e67e-74b536a9939e",
        "colab": {
          "base_uri": "https://localhost:8080/",
          "height": 136
        }
      },
      "source": [
        "df.corr()"
      ],
      "execution_count": null,
      "outputs": [
        {
          "output_type": "execute_result",
          "data": {
            "text/html": [
              "<div>\n",
              "<style scoped>\n",
              "    .dataframe tbody tr th:only-of-type {\n",
              "        vertical-align: middle;\n",
              "    }\n",
              "\n",
              "    .dataframe tbody tr th {\n",
              "        vertical-align: top;\n",
              "    }\n",
              "\n",
              "    .dataframe thead th {\n",
              "        text-align: right;\n",
              "    }\n",
              "</style>\n",
              "<table border=\"1\" class=\"dataframe\">\n",
              "  <thead>\n",
              "    <tr style=\"text-align: right;\">\n",
              "      <th></th>\n",
              "      <th>yrs.since.phd</th>\n",
              "      <th>yrs.service</th>\n",
              "      <th>salary</th>\n",
              "    </tr>\n",
              "  </thead>\n",
              "  <tbody>\n",
              "    <tr>\n",
              "      <th>yrs.since.phd</th>\n",
              "      <td>1.000000</td>\n",
              "      <td>0.909649</td>\n",
              "      <td>0.419231</td>\n",
              "    </tr>\n",
              "    <tr>\n",
              "      <th>yrs.service</th>\n",
              "      <td>0.909649</td>\n",
              "      <td>1.000000</td>\n",
              "      <td>0.334745</td>\n",
              "    </tr>\n",
              "    <tr>\n",
              "      <th>salary</th>\n",
              "      <td>0.419231</td>\n",
              "      <td>0.334745</td>\n",
              "      <td>1.000000</td>\n",
              "    </tr>\n",
              "  </tbody>\n",
              "</table>\n",
              "</div>"
            ],
            "text/plain": [
              "               yrs.since.phd  yrs.service    salary\n",
              "yrs.since.phd       1.000000     0.909649  0.419231\n",
              "yrs.service         0.909649     1.000000  0.334745\n",
              "salary              0.419231     0.334745  1.000000"
            ]
          },
          "metadata": {
            "tags": []
          },
          "execution_count": 46
        }
      ]
    },
    {
      "cell_type": "markdown",
      "metadata": {
        "id": "UXSFoSX_UJ9y"
      },
      "source": [
        "# Aula 17/08 - Análise univariada e multivariada de dados"
      ]
    },
    {
      "cell_type": "code",
      "metadata": {
        "id": "PTweFcUrUJ9z",
        "outputId": "77bd240e-89bf-4385-a023-afc212027812",
        "colab": {
          "base_uri": "https://localhost:8080/",
          "height": 195
        }
      },
      "source": [
        "df = pd.read_csv('http://www.ppgia.pucpr.br/~jean.barddal/datascience/titanic.csv')\n",
        "df.head(5)"
      ],
      "execution_count": null,
      "outputs": [
        {
          "output_type": "execute_result",
          "data": {
            "text/html": [
              "<div>\n",
              "<style scoped>\n",
              "    .dataframe tbody tr th:only-of-type {\n",
              "        vertical-align: middle;\n",
              "    }\n",
              "\n",
              "    .dataframe tbody tr th {\n",
              "        vertical-align: top;\n",
              "    }\n",
              "\n",
              "    .dataframe thead th {\n",
              "        text-align: right;\n",
              "    }\n",
              "</style>\n",
              "<table border=\"1\" class=\"dataframe\">\n",
              "  <thead>\n",
              "    <tr style=\"text-align: right;\">\n",
              "      <th></th>\n",
              "      <th>PassengerId</th>\n",
              "      <th>Survived</th>\n",
              "      <th>Pclass</th>\n",
              "      <th>Name</th>\n",
              "      <th>Sex</th>\n",
              "      <th>Age</th>\n",
              "      <th>SibSp</th>\n",
              "      <th>Parch</th>\n",
              "      <th>Ticket</th>\n",
              "      <th>Fare</th>\n",
              "      <th>Cabin</th>\n",
              "      <th>Embarked</th>\n",
              "    </tr>\n",
              "  </thead>\n",
              "  <tbody>\n",
              "    <tr>\n",
              "      <th>0</th>\n",
              "      <td>1</td>\n",
              "      <td>0</td>\n",
              "      <td>3</td>\n",
              "      <td>Braund, Mr. Owen Harris</td>\n",
              "      <td>male</td>\n",
              "      <td>22.0</td>\n",
              "      <td>1</td>\n",
              "      <td>0</td>\n",
              "      <td>A/5 21171</td>\n",
              "      <td>7.2500</td>\n",
              "      <td>NaN</td>\n",
              "      <td>S</td>\n",
              "    </tr>\n",
              "    <tr>\n",
              "      <th>1</th>\n",
              "      <td>2</td>\n",
              "      <td>1</td>\n",
              "      <td>1</td>\n",
              "      <td>Cumings, Mrs. John Bradley (Florence Briggs Th...</td>\n",
              "      <td>female</td>\n",
              "      <td>38.0</td>\n",
              "      <td>1</td>\n",
              "      <td>0</td>\n",
              "      <td>PC 17599</td>\n",
              "      <td>71.2833</td>\n",
              "      <td>C85</td>\n",
              "      <td>C</td>\n",
              "    </tr>\n",
              "    <tr>\n",
              "      <th>2</th>\n",
              "      <td>3</td>\n",
              "      <td>1</td>\n",
              "      <td>3</td>\n",
              "      <td>Heikkinen, Miss. Laina</td>\n",
              "      <td>female</td>\n",
              "      <td>26.0</td>\n",
              "      <td>0</td>\n",
              "      <td>0</td>\n",
              "      <td>STON/O2. 3101282</td>\n",
              "      <td>7.9250</td>\n",
              "      <td>NaN</td>\n",
              "      <td>S</td>\n",
              "    </tr>\n",
              "    <tr>\n",
              "      <th>3</th>\n",
              "      <td>4</td>\n",
              "      <td>1</td>\n",
              "      <td>1</td>\n",
              "      <td>Futrelle, Mrs. Jacques Heath (Lily May Peel)</td>\n",
              "      <td>female</td>\n",
              "      <td>35.0</td>\n",
              "      <td>1</td>\n",
              "      <td>0</td>\n",
              "      <td>113803</td>\n",
              "      <td>53.1000</td>\n",
              "      <td>C123</td>\n",
              "      <td>S</td>\n",
              "    </tr>\n",
              "    <tr>\n",
              "      <th>4</th>\n",
              "      <td>5</td>\n",
              "      <td>0</td>\n",
              "      <td>3</td>\n",
              "      <td>Allen, Mr. William Henry</td>\n",
              "      <td>male</td>\n",
              "      <td>35.0</td>\n",
              "      <td>0</td>\n",
              "      <td>0</td>\n",
              "      <td>373450</td>\n",
              "      <td>8.0500</td>\n",
              "      <td>NaN</td>\n",
              "      <td>S</td>\n",
              "    </tr>\n",
              "  </tbody>\n",
              "</table>\n",
              "</div>"
            ],
            "text/plain": [
              "   PassengerId  Survived  Pclass  ...     Fare Cabin  Embarked\n",
              "0            1         0       3  ...   7.2500   NaN         S\n",
              "1            2         1       1  ...  71.2833   C85         C\n",
              "2            3         1       3  ...   7.9250   NaN         S\n",
              "3            4         1       1  ...  53.1000  C123         S\n",
              "4            5         0       3  ...   8.0500   NaN         S\n",
              "\n",
              "[5 rows x 12 columns]"
            ]
          },
          "metadata": {
            "tags": []
          },
          "execution_count": 47
        }
      ]
    },
    {
      "cell_type": "code",
      "metadata": {
        "id": "OtV9HucoUJ92",
        "outputId": "eead12c4-8233-4eac-aa1f-cb33bc46ad8b",
        "colab": {
          "base_uri": "https://localhost:8080/",
          "height": 336
        }
      },
      "source": [
        "df.info()"
      ],
      "execution_count": null,
      "outputs": [
        {
          "output_type": "stream",
          "text": [
            "<class 'pandas.core.frame.DataFrame'>\n",
            "RangeIndex: 891 entries, 0 to 890\n",
            "Data columns (total 12 columns):\n",
            " #   Column       Non-Null Count  Dtype  \n",
            "---  ------       --------------  -----  \n",
            " 0   PassengerId  891 non-null    int64  \n",
            " 1   Survived     891 non-null    int64  \n",
            " 2   Pclass       891 non-null    int64  \n",
            " 3   Name         891 non-null    object \n",
            " 4   Sex          891 non-null    object \n",
            " 5   Age          714 non-null    float64\n",
            " 6   SibSp        891 non-null    int64  \n",
            " 7   Parch        891 non-null    int64  \n",
            " 8   Ticket       891 non-null    object \n",
            " 9   Fare         891 non-null    float64\n",
            " 10  Cabin        204 non-null    object \n",
            " 11  Embarked     889 non-null    object \n",
            "dtypes: float64(2), int64(5), object(5)\n",
            "memory usage: 83.7+ KB\n"
          ],
          "name": "stdout"
        }
      ]
    },
    {
      "cell_type": "code",
      "metadata": {
        "id": "kl3hBd3WUJ97",
        "outputId": "72525c26-1b74-46f6-e27c-0604093870ec",
        "colab": {
          "base_uri": "https://localhost:8080/",
          "height": 185
        }
      },
      "source": [
        "df['Age'].unique()"
      ],
      "execution_count": null,
      "outputs": [
        {
          "output_type": "execute_result",
          "data": {
            "text/plain": [
              "array([22.  , 38.  , 26.  , 35.  ,   nan, 54.  ,  2.  , 27.  , 14.  ,\n",
              "        4.  , 58.  , 20.  , 39.  , 55.  , 31.  , 34.  , 15.  , 28.  ,\n",
              "        8.  , 19.  , 40.  , 66.  , 42.  , 21.  , 18.  ,  3.  ,  7.  ,\n",
              "       49.  , 29.  , 65.  , 28.5 ,  5.  , 11.  , 45.  , 17.  , 32.  ,\n",
              "       16.  , 25.  ,  0.83, 30.  , 33.  , 23.  , 24.  , 46.  , 59.  ,\n",
              "       71.  , 37.  , 47.  , 14.5 , 70.5 , 32.5 , 12.  ,  9.  , 36.5 ,\n",
              "       51.  , 55.5 , 40.5 , 44.  ,  1.  , 61.  , 56.  , 50.  , 36.  ,\n",
              "       45.5 , 20.5 , 62.  , 41.  , 52.  , 63.  , 23.5 ,  0.92, 43.  ,\n",
              "       60.  , 10.  , 64.  , 13.  , 48.  ,  0.75, 53.  , 57.  , 80.  ,\n",
              "       70.  , 24.5 ,  6.  ,  0.67, 30.5 ,  0.42, 34.5 , 74.  ])"
            ]
          },
          "metadata": {
            "tags": []
          },
          "execution_count": 49
        }
      ]
    },
    {
      "cell_type": "code",
      "metadata": {
        "id": "Y1_o9TjpUJ9-",
        "outputId": "dd36c421-ae28-41d9-9be4-5c2e7ad04d91",
        "colab": {
          "base_uri": "https://localhost:8080/",
          "height": 282
        }
      },
      "source": [
        "#histograma\n",
        "df['Age'].hist()"
      ],
      "execution_count": null,
      "outputs": [
        {
          "output_type": "execute_result",
          "data": {
            "text/plain": [
              "<matplotlib.axes._subplots.AxesSubplot at 0x7f19129d7240>"
            ]
          },
          "metadata": {
            "tags": []
          },
          "execution_count": 50
        },
        {
          "output_type": "display_data",
          "data": {
            "image/png": "[encoded data removed]",
            "text/plain": [
              "<Figure size 432x288 with 1 Axes>"
            ]
          },
          "metadata": {
            "tags": [],
            "needs_background": "light"
          }
        }
      ]
    },
    {
      "cell_type": "code",
      "metadata": {
        "id": "xAdAg7eEUJ-C",
        "outputId": "282cbf01-d224-400b-a13a-abf666f9db3c",
        "colab": {
          "base_uri": "https://localhost:8080/",
          "height": 279
        }
      },
      "source": [
        "#histograma(seaborn) -> distplot(KDE -> probabilidade)\n",
        "sns.distplot(df['Age'], kde=False, bins=10)\n",
        "plt.show()"
      ],
      "execution_count": null,
      "outputs": [
        {
          "output_type": "display_data",
          "data": {
            "image/png": "[encoded data removed]",
            "text/plain": [
              "<Figure size 432x288 with 1 Axes>"
            ]
          },
          "metadata": {
            "tags": [],
            "needs_background": "light"
          }
        }
      ]
    },
    {
      "cell_type": "code",
      "metadata": {
        "id": "3FyHOd_yUJ-E",
        "outputId": "f5ee3b28-a0ca-4c6d-a075-bdc71fe41140",
        "colab": {
          "base_uri": "https://localhost:8080/",
          "height": 279
        }
      },
      "source": [
        "#grafico de barras(normalmente nao faz sentido para variaveis numericas)\n",
        "sns.countplot(df['Age'])\n",
        "plt.show()"
      ],
      "execution_count": null,
      "outputs": [
        {
          "output_type": "display_data",
          "data": {
            "image/png": "[encoded data removed]",
            "text/plain": [
              "<Figure size 432x288 with 1 Axes>"
            ]
          },
          "metadata": {
            "tags": [],
            "needs_background": "light"
          }
        }
      ]
    },
    {
      "cell_type": "code",
      "metadata": {
        "id": "rLxuCdjaUJ-G",
        "outputId": "7da0c3ce-a29a-40ea-94c1-3e74d414749f",
        "colab": {
          "base_uri": "https://localhost:8080/",
          "height": 279
        }
      },
      "source": [
        "#box-plot\n",
        "sns.boxplot(df['Age'])\n",
        "plt.show()\n",
        "#whiskersÇ representam minimos e maximos \"aceitaveis\" (Método de Tukey)\n",
        "#aula voltada para outliers"
      ],
      "execution_count": null,
      "outputs": [
        {
          "output_type": "display_data",
          "data": {
            "image/png": "[encoded data removed]",
            "text/plain": [
              "<Figure size 432x288 with 1 Axes>"
            ]
          },
          "metadata": {
            "tags": [],
            "needs_background": "light"
          }
        }
      ]
    },
    {
      "cell_type": "code",
      "metadata": {
        "id": "VA_cm9gSUJ-J",
        "outputId": "5cc51ac0-896a-4016-f0a2-af7e66755601",
        "colab": {
          "base_uri": "https://localhost:8080/",
          "height": 168
        }
      },
      "source": [
        "df['Age'].describe()"
      ],
      "execution_count": null,
      "outputs": [
        {
          "output_type": "execute_result",
          "data": {
            "text/plain": [
              "count    714.000000\n",
              "mean      29.699118\n",
              "std       14.526497\n",
              "min        0.420000\n",
              "25%       20.125000\n",
              "50%       28.000000\n",
              "75%       38.000000\n",
              "max       80.000000\n",
              "Name: Age, dtype: float64"
            ]
          },
          "metadata": {
            "tags": []
          },
          "execution_count": 54
        }
      ]
    },
    {
      "cell_type": "code",
      "metadata": {
        "id": "R8soL_dlUJ-L",
        "outputId": "196a1d3d-e94f-4045-9452-e84f34b715c9",
        "colab": {
          "base_uri": "https://localhost:8080/",
          "height": 279
        }
      },
      "source": [
        "#violin plot\n",
        "sns.violinplot(df['Age'])\n",
        "plt.show()"
      ],
      "execution_count": null,
      "outputs": [
        {
          "output_type": "display_data",
          "data": {
            "image/png": "[encoded data removed]",
            "text/plain": [
              "<Figure size 432x288 with 1 Axes>"
            ]
          },
          "metadata": {
            "tags": [],
            "needs_background": "light"
          }
        }
      ]
    },
    {
      "cell_type": "code",
      "metadata": {
        "id": "1mFrWV4WUJ-O",
        "outputId": "2f215ba8-4bea-4425-ff29-5697bdd98b16",
        "colab": {
          "base_uri": "https://localhost:8080/",
          "height": 279
        }
      },
      "source": [
        "# grafico de barra\n",
        "sns.countplot(df['Embarked'])\n",
        "plt.show()"
      ],
      "execution_count": null,
      "outputs": [
        {
          "output_type": "display_data",
          "data": {
            "image/png": "[encoded data removed]",
            "text/plain": [
              "<Figure size 432x288 with 1 Axes>"
            ]
          },
          "metadata": {
            "tags": [],
            "needs_background": "light"
          }
        }
      ]
    },
    {
      "cell_type": "code",
      "metadata": {
        "id": "4CvFwJH-UJ-U",
        "outputId": "9bf4d7f2-56b8-454a-d61f-48fe14e17be1",
        "colab": {
          "base_uri": "https://localhost:8080/",
          "height": 265
        }
      },
      "source": [
        "#pie chart\n",
        "df['Embarked'].dropna().value_counts().plot(kind='pie')"
      ],
      "execution_count": null,
      "outputs": [
        {
          "output_type": "execute_result",
          "data": {
            "text/plain": [
              "<matplotlib.axes._subplots.AxesSubplot at 0x7f1910e82be0>"
            ]
          },
          "metadata": {
            "tags": []
          },
          "execution_count": 57
        },
        {
          "output_type": "display_data",
          "data": {
            "image/png": "[encoded data removed]",
            "text/plain": [
              "<Figure size 432x288 with 1 Axes>"
            ]
          },
          "metadata": {
            "tags": []
          }
        }
      ]
    },
    {
      "cell_type": "code",
      "metadata": {
        "id": "1wZZjzf8UJ-X",
        "outputId": "423334f6-48d4-4fcc-8193-a13e5ebb2180",
        "colab": {
          "base_uri": "https://localhost:8080/",
          "height": 128
        }
      },
      "source": [
        "df['Embarked'].value_counts()df['Embarked'].value_counts()"
      ],
      "execution_count": null,
      "outputs": [
        {
          "output_type": "error",
          "ename": "SyntaxError",
          "evalue": "ignored",
          "traceback": [
            "\u001b[0;36m  File \u001b[0;32m\"<ipython-input-59-cae8ede388da>\"\u001b[0;36m, line \u001b[0;32m1\u001b[0m\n\u001b[0;31m    df['Embarked'].value_counts()df['Embarked'].value_counts()\u001b[0m\n\u001b[0m                                  ^\u001b[0m\n\u001b[0;31mSyntaxError\u001b[0m\u001b[0;31m:\u001b[0m invalid syntax\n"
          ]
        }
      ]
    },
    {
      "cell_type": "code",
      "metadata": {
        "id": "N1S44pGfUJ-Z",
        "outputId": "fa2a7702-4663-453d-d119-e3df5222f65c",
        "colab": {
          "base_uri": "https://localhost:8080/",
          "height": 279
        }
      },
      "source": [
        "# comparando as distribuicoes de idade por sobrevivencia ou nao\n",
        "sns.boxplot(x = df['Survived'], y = df['Age'])\n",
        "plt.show()"
      ],
      "execution_count": null,
      "outputs": [
        {
          "output_type": "display_data",
          "data": {
            "image/png": "[encoded data removed]",
            "text/plain": [
              "<Figure size 432x288 with 1 Axes>"
            ]
          },
          "metadata": {
            "tags": [],
            "needs_background": "light"
          }
        }
      ]
    },
    {
      "cell_type": "code",
      "metadata": {
        "id": "8_hKTuIOUJ-c",
        "outputId": "f740f150-36da-4517-bc8e-fbdd3d8994cd",
        "colab": {
          "base_uri": "https://localhost:8080/",
          "height": 279
        }
      },
      "source": [
        "#comparando as distribuicoes de idades por sexo \n",
        "sns.boxplot(x = df['Sex'], y = df['Age'])\n",
        "plt.show()"
      ],
      "execution_count": null,
      "outputs": [
        {
          "output_type": "display_data",
          "data": {
            "image/png": "[encoded data removed]",
            "text/plain": [
              "<Figure size 432x288 with 1 Axes>"
            ]
          },
          "metadata": {
            "tags": [],
            "needs_background": "light"
          }
        }
      ]
    },
    {
      "cell_type": "code",
      "metadata": {
        "id": "UF2v4hHrUJ-g"
      },
      "source": [
        "# Criar a base\n",
        "df = pd.DataFrame({\n",
        "    'x' : np.random.normal(10, 1.2, 20000),\n",
        "    'y' : np.random.normal(10, 1.2, 20000),\n",
        "    'group' : np.repeat('A', 20000)\n",
        "})\n",
        "\n",
        "tmp1 = pd.DataFrame({\n",
        "    'x' : np.random.normal(14.5, 1.2, 20000),\n",
        "    'y' : np.random.normal(14.5, 1.2, 20000),\n",
        "    'group' : np.repeat('B', 20000)\n",
        "})\n",
        "\n",
        "tmp2 = pd.DataFrame({\n",
        "    'x' : np.random.normal(9.5, 1.5, 20000),\n",
        "    'y' : np.random.normal(15.5, 1.5, 20000),\n",
        "    'group' : np.repeat('C', 20000)\n",
        "})\n",
        "\n",
        "# concatenating the data\n",
        "df = df.append(tmp1).append(tmp2)\n"
      ],
      "execution_count": null,
      "outputs": []
    },
    {
      "cell_type": "code",
      "metadata": {
        "id": "PEZS4wjmUJ-j"
      },
      "source": [
        "df.head(5)"
      ],
      "execution_count": null,
      "outputs": []
    },
    {
      "cell_type": "code",
      "metadata": {
        "id": "ryJoPmCfUJ-l"
      },
      "source": [
        "df.describe()"
      ],
      "execution_count": null,
      "outputs": []
    },
    {
      "cell_type": "code",
      "metadata": {
        "id": "DldvcjztUJ-n"
      },
      "source": [
        "#analisando cada variavel de forma individual\n",
        "sns.distplot(df['x'])\n",
        "plt.show()"
      ],
      "execution_count": null,
      "outputs": []
    },
    {
      "cell_type": "code",
      "metadata": {
        "id": "NgO2q27XUJ-q"
      },
      "source": [
        "#analisando cada variavel de forma individual\n",
        "sns.distplot(df['y'])\n",
        "plt.show()"
      ],
      "execution_count": null,
      "outputs": []
    },
    {
      "cell_type": "code",
      "metadata": {
        "id": "_kKYM-gcUJ-s"
      },
      "source": [
        "#overploting\n",
        "sns.scatterplot(df['x'],df['y'])\n",
        "plt.show()"
      ],
      "execution_count": null,
      "outputs": []
    },
    {
      "cell_type": "code",
      "metadata": {
        "id": "N5-BWSDTUJ-v"
      },
      "source": [
        "#mudar tamanho das bolinhas\n",
        "sns.scatterplot(df['x'],df['y'], s=2)\n",
        "plt.show()"
      ],
      "execution_count": null,
      "outputs": []
    },
    {
      "cell_type": "code",
      "metadata": {
        "id": "wOtnNmrTUJ-y"
      },
      "source": [
        "#transparencia\n",
        "sns.scatterplot(df['x'],df['y'], alpha=0.01)\n",
        "plt.show()"
      ],
      "execution_count": null,
      "outputs": []
    },
    {
      "cell_type": "code",
      "metadata": {
        "id": "8kKRsPJ_UJ-0"
      },
      "source": [
        "#densidade\n",
        "sns.kdeplot(df['x'],df['y'], shade=True)\n",
        "plt.show()"
      ],
      "execution_count": null,
      "outputs": []
    },
    {
      "cell_type": "code",
      "metadata": {
        "id": "qn1g2TyXUJ-2"
      },
      "source": [
        "#join plot\n",
        "sns.jointplot(df['x'],df['y'],kind='kde')\n",
        "plt.show()"
      ],
      "execution_count": null,
      "outputs": []
    },
    {
      "cell_type": "code",
      "metadata": {
        "id": "Tu-p1tESUJ-4"
      },
      "source": [
        "#amostragem (sampling)\n",
        "samp = df.sample(1000)\n",
        "sns.scatterplot(samp['x'], samp['y'])\n",
        "plt.show()"
      ],
      "execution_count": null,
      "outputs": []
    },
    {
      "cell_type": "code",
      "metadata": {
        "id": "i8kftZ68UJ-6"
      },
      "source": [
        "#enfase -> dar mais atencao a umm dos grupos\n",
        "df_a = df[df['group']=='A']\n",
        "df_restante = df[df['group']!='A']\n",
        "\n",
        "sns.scatterplot(df_restante['x'],df_restante['y'], color='grey')\n",
        "sns.scatterplot(df_a['x'],df_a['y'],color='green')\n",
        "plt.show()"
      ],
      "execution_count": null,
      "outputs": []
    },
    {
      "cell_type": "code",
      "metadata": {
        "id": "EfAWQPjVUJ-8"
      },
      "source": [
        "#facet grids -> facetamento\n",
        "#analisar o comportamento de x e y, por grupo\n",
        "g = sns.FacetGrid(df, col='group', hue='group')\n",
        "g = g.map(plt.scatter,'x','y')\n",
        "plt.show()"
      ],
      "execution_count": null,
      "outputs": []
    },
    {
      "cell_type": "code",
      "metadata": {
        "id": "OPO97CDPUJ--"
      },
      "source": [
        "# Criando nova base de dados\n",
        "a = np.concatenate([\n",
        "                    np.random.normal(2, 4, 1000),\n",
        "                    np.random.normal(4, 4, 1000),\n",
        "                    np.random.normal(1, 2,  500),\n",
        "                    np.random.normal(10, 2, 500),\n",
        "                    np.random.normal(8, 4, 1000),\n",
        "                    np.random.normal(10, 4, 1000)\n",
        "])\n",
        "\n",
        "df = pd.DataFrame({\n",
        "    'x': np.repeat(range(1,6), 1000),\n",
        "    'y': a\n",
        "})\n"
      ],
      "execution_count": null,
      "outputs": []
    },
    {
      "cell_type": "code",
      "metadata": {
        "id": "U_6mtBnwUJ_D"
      },
      "source": [
        "df.head(5)"
      ],
      "execution_count": null,
      "outputs": []
    },
    {
      "cell_type": "code",
      "metadata": {
        "id": "g2S-zxa_UJ_G"
      },
      "source": [
        "#scannerplot\n",
        "sns.scatterplot(df['x'],df['y'])\n",
        "plt.show()"
      ],
      "execution_count": null,
      "outputs": []
    },
    {
      "cell_type": "code",
      "metadata": {
        "id": "9gO834tbUJ_K"
      },
      "source": [
        "#stripplot\n",
        "sns.stripplot(df['x'], df['y'], jitter=0.3, size=2)\n",
        "plt.show()"
      ],
      "execution_count": null,
      "outputs": []
    },
    {
      "cell_type": "code",
      "metadata": {
        "id": "WzINpdh8UJ_N"
      },
      "source": [
        "#combinando boxplots com stripplots\n",
        "sns.boxplot(df['x'], df['y'])\n",
        "sns.stripplot(df['x'], df['y'], jitter=0.3, size=2, color='grey')\n",
        "plt.show()"
      ],
      "execution_count": null,
      "outputs": []
    },
    {
      "cell_type": "code",
      "metadata": {
        "id": "5gx2cbfTUJ_P"
      },
      "source": [
        "#combinando violin com stripplots\n",
        "sns.violinplot(df['x'], df['y'])\n",
        "sns.stripplot(df['x'], df['y'], jitter=0.3, size=2, color='grey')\n",
        "plt.show()"
      ],
      "execution_count": null,
      "outputs": []
    },
    {
      "cell_type": "code",
      "metadata": {
        "id": "J1qwB5_9UJ_R"
      },
      "source": [
        "#combinando swarm plots\n",
        "sns.swarmplot(df['x'], df['y'])\n",
        "plt.show()"
      ],
      "execution_count": null,
      "outputs": []
    },
    {
      "cell_type": "markdown",
      "metadata": {
        "id": "JbsY5LjZUJ_T"
      },
      "source": [
        "# Aula 24/08 - Análise de correlações"
      ]
    },
    {
      "cell_type": "code",
      "metadata": {
        "id": "05YaJIO_UJ_U"
      },
      "source": [
        "df = pd.read_csv('http://www.ppgia.pucpr.br/~jean.barddal/datascience/meses_producao_custo.csv')"
      ],
      "execution_count": null,
      "outputs": []
    },
    {
      "cell_type": "code",
      "metadata": {
        "id": "vkliRzyCUJ_V",
        "outputId": "0d858de0-7314-4fa4-eec7-3eaa68ee49d4",
        "colab": {
          "base_uri": "https://localhost:8080/",
          "height": 402
        }
      },
      "source": [
        "df"
      ],
      "execution_count": null,
      "outputs": [
        {
          "output_type": "execute_result",
          "data": {
            "text/html": [
              "<div>\n",
              "<style scoped>\n",
              "    .dataframe tbody tr th:only-of-type {\n",
              "        vertical-align: middle;\n",
              "    }\n",
              "\n",
              "    .dataframe tbody tr th {\n",
              "        vertical-align: top;\n",
              "    }\n",
              "\n",
              "    .dataframe thead th {\n",
              "        text-align: right;\n",
              "    }\n",
              "</style>\n",
              "<table border=\"1\" class=\"dataframe\">\n",
              "  <thead>\n",
              "    <tr style=\"text-align: right;\">\n",
              "      <th></th>\n",
              "      <th>Meses</th>\n",
              "      <th>litros</th>\n",
              "      <th>custo</th>\n",
              "    </tr>\n",
              "  </thead>\n",
              "  <tbody>\n",
              "    <tr>\n",
              "      <th>0</th>\n",
              "      <td>Jan</td>\n",
              "      <td>20200</td>\n",
              "      <td>19000</td>\n",
              "    </tr>\n",
              "    <tr>\n",
              "      <th>1</th>\n",
              "      <td>Fev</td>\n",
              "      <td>16700</td>\n",
              "      <td>17000</td>\n",
              "    </tr>\n",
              "    <tr>\n",
              "      <th>2</th>\n",
              "      <td>Mar</td>\n",
              "      <td>14800</td>\n",
              "      <td>14000</td>\n",
              "    </tr>\n",
              "    <tr>\n",
              "      <th>3</th>\n",
              "      <td>Abr</td>\n",
              "      <td>16000</td>\n",
              "      <td>15000</td>\n",
              "    </tr>\n",
              "    <tr>\n",
              "      <th>4</th>\n",
              "      <td>Mai</td>\n",
              "      <td>12100</td>\n",
              "      <td>14000</td>\n",
              "    </tr>\n",
              "    <tr>\n",
              "      <th>5</th>\n",
              "      <td>Jun</td>\n",
              "      <td>13000</td>\n",
              "      <td>15000</td>\n",
              "    </tr>\n",
              "    <tr>\n",
              "      <th>6</th>\n",
              "      <td>Jul</td>\n",
              "      <td>11600</td>\n",
              "      <td>13000</td>\n",
              "    </tr>\n",
              "    <tr>\n",
              "      <th>7</th>\n",
              "      <td>Ago</td>\n",
              "      <td>15500</td>\n",
              "      <td>16000</td>\n",
              "    </tr>\n",
              "    <tr>\n",
              "      <th>8</th>\n",
              "      <td>Set</td>\n",
              "      <td>18900</td>\n",
              "      <td>18000</td>\n",
              "    </tr>\n",
              "    <tr>\n",
              "      <th>9</th>\n",
              "      <td>Out</td>\n",
              "      <td>20000</td>\n",
              "      <td>19000</td>\n",
              "    </tr>\n",
              "    <tr>\n",
              "      <th>10</th>\n",
              "      <td>Nov</td>\n",
              "      <td>22500</td>\n",
              "      <td>20000</td>\n",
              "    </tr>\n",
              "    <tr>\n",
              "      <th>11</th>\n",
              "      <td>Dez</td>\n",
              "      <td>23000</td>\n",
              "      <td>21000</td>\n",
              "    </tr>\n",
              "  </tbody>\n",
              "</table>\n",
              "</div>"
            ],
            "text/plain": [
              "   Meses  litros  custo\n",
              "0    Jan   20200  19000\n",
              "1    Fev   16700  17000\n",
              "2    Mar   14800  14000\n",
              "3    Abr   16000  15000\n",
              "4    Mai   12100  14000\n",
              "5    Jun   13000  15000\n",
              "6    Jul   11600  13000\n",
              "7    Ago   15500  16000\n",
              "8    Set   18900  18000\n",
              "9    Out   20000  19000\n",
              "10   Nov   22500  20000\n",
              "11   Dez   23000  21000"
            ]
          },
          "metadata": {
            "tags": []
          },
          "execution_count": 63
        }
      ]
    },
    {
      "cell_type": "code",
      "metadata": {
        "id": "zF7TSihMUJ_Y",
        "outputId": "a12f5cd5-3918-448b-9c76-8e329439dd7e",
        "colab": {
          "base_uri": "https://localhost:8080/",
          "height": 106
        }
      },
      "source": [
        "df.corr(method = 'pearson')"
      ],
      "execution_count": null,
      "outputs": [
        {
          "output_type": "execute_result",
          "data": {
            "text/html": [
              "<div>\n",
              "<style scoped>\n",
              "    .dataframe tbody tr th:only-of-type {\n",
              "        vertical-align: middle;\n",
              "    }\n",
              "\n",
              "    .dataframe tbody tr th {\n",
              "        vertical-align: top;\n",
              "    }\n",
              "\n",
              "    .dataframe thead th {\n",
              "        text-align: right;\n",
              "    }\n",
              "</style>\n",
              "<table border=\"1\" class=\"dataframe\">\n",
              "  <thead>\n",
              "    <tr style=\"text-align: right;\">\n",
              "      <th></th>\n",
              "      <th>litros</th>\n",
              "      <th>custo</th>\n",
              "    </tr>\n",
              "  </thead>\n",
              "  <tbody>\n",
              "    <tr>\n",
              "      <th>litros</th>\n",
              "      <td>1.000000</td>\n",
              "      <td>0.969993</td>\n",
              "    </tr>\n",
              "    <tr>\n",
              "      <th>custo</th>\n",
              "      <td>0.969993</td>\n",
              "      <td>1.000000</td>\n",
              "    </tr>\n",
              "  </tbody>\n",
              "</table>\n",
              "</div>"
            ],
            "text/plain": [
              "          litros     custo\n",
              "litros  1.000000  0.969993\n",
              "custo   0.969993  1.000000"
            ]
          },
          "metadata": {
            "tags": []
          },
          "execution_count": 64
        }
      ]
    },
    {
      "cell_type": "code",
      "metadata": {
        "id": "IbU2un8uUJ_a",
        "outputId": "24959c79-21fc-4de0-b875-8aecff3f0ab5",
        "colab": {
          "base_uri": "https://localhost:8080/",
          "height": 279
        }
      },
      "source": [
        "sns.scatterplot(df['litros'], df['custo'])\n",
        "plt.show()"
      ],
      "execution_count": null,
      "outputs": [
        {
          "output_type": "display_data",
          "data": {
            "image/png": "[encoded data removed]",
            "text/plain": [
              "<Figure size 432x288 with 1 Axes>"
            ]
          },
          "metadata": {
            "tags": [],
            "needs_background": "light"
          }
        }
      ]
    },
    {
      "cell_type": "code",
      "metadata": {
        "id": "ejvfbMuXUJ_c",
        "outputId": "1129b3ff-b5e3-4a86-f8df-5a3fdf78c95a",
        "colab": {
          "base_uri": "https://localhost:8080/",
          "height": 279
        }
      },
      "source": [
        "sns.regplot(df['litros'], df['custo'])\n",
        "plt.show()"
      ],
      "execution_count": null,
      "outputs": [
        {
          "output_type": "display_data",
          "data": {
            "image/png": "[encoded data removed]",
            "text/plain": [
              "<Figure size 432x288 with 1 Axes>"
            ]
          },
          "metadata": {
            "tags": [],
            "needs_background": "light"
          }
        }
      ]
    },
    {
      "cell_type": "code",
      "metadata": {
        "id": "yo_aQtDzUJ_e",
        "outputId": "bbc7dc2b-8e4b-4276-f039-17de7f8e2afd",
        "colab": {
          "base_uri": "https://localhost:8080/",
          "height": 474
        }
      },
      "source": [
        "# Exemplo onde a correlação não funciona\n",
        "x = np.linspace(-np.pi, 5*np.pi, 201) # Criando 200 pontos que variam de -pi a pi\n",
        "y = np.sin(x)\n",
        "g = sns.jointplot(x=x, y=y, kind='reg')\n",
        "g.annotate(stats.pearsonr)\n",
        "plt.show()"
      ],
      "execution_count": null,
      "outputs": [
        {
          "output_type": "stream",
          "text": [
            "/usr/local/lib/python3.6/dist-packages/seaborn/axisgrid.py:1840: UserWarning: JointGrid annotation is deprecated and will be removed in a future release.\n",
            "  warnings.warn(UserWarning(msg))\n"
          ],
          "name": "stderr"
        },
        {
          "output_type": "display_data",
          "data": {
            "image/png": "[encoded data removed]",
            "text/plain": [
              "<Figure size 432x432 with 3 Axes>"
            ]
          },
          "metadata": {
            "tags": [],
            "needs_background": "light"
          }
        }
      ]
    },
    {
      "cell_type": "code",
      "metadata": {
        "id": "s_C6V-lvUJ_h",
        "outputId": "e2b405ea-a0bb-4381-8127-d64fb01e9d90",
        "colab": {
          "base_uri": "https://localhost:8080/",
          "height": 106
        }
      },
      "source": [
        "df.corr(method = 'spearman') # Valores muito próximos a pearson"
      ],
      "execution_count": null,
      "outputs": [
        {
          "output_type": "execute_result",
          "data": {
            "text/html": [
              "<div>\n",
              "<style scoped>\n",
              "    .dataframe tbody tr th:only-of-type {\n",
              "        vertical-align: middle;\n",
              "    }\n",
              "\n",
              "    .dataframe tbody tr th {\n",
              "        vertical-align: top;\n",
              "    }\n",
              "\n",
              "    .dataframe thead th {\n",
              "        text-align: right;\n",
              "    }\n",
              "</style>\n",
              "<table border=\"1\" class=\"dataframe\">\n",
              "  <thead>\n",
              "    <tr style=\"text-align: right;\">\n",
              "      <th></th>\n",
              "      <th>litros</th>\n",
              "      <th>custo</th>\n",
              "    </tr>\n",
              "  </thead>\n",
              "  <tbody>\n",
              "    <tr>\n",
              "      <th>litros</th>\n",
              "      <td>1.000000</td>\n",
              "      <td>0.970137</td>\n",
              "    </tr>\n",
              "    <tr>\n",
              "      <th>custo</th>\n",
              "      <td>0.970137</td>\n",
              "      <td>1.000000</td>\n",
              "    </tr>\n",
              "  </tbody>\n",
              "</table>\n",
              "</div>"
            ],
            "text/plain": [
              "          litros     custo\n",
              "litros  1.000000  0.970137\n",
              "custo   0.970137  1.000000"
            ]
          },
          "metadata": {
            "tags": []
          },
          "execution_count": 68
        }
      ]
    },
    {
      "cell_type": "code",
      "metadata": {
        "id": "94Wd77YUUJ_l"
      },
      "source": [
        "# Relação entre variáveis categóricas\n",
        "df = pd.read_csv('http://www.ppgia.pucpr.br/~jean.barddal/datascience/titanic.csv')"
      ],
      "execution_count": null,
      "outputs": []
    },
    {
      "cell_type": "code",
      "metadata": {
        "id": "ZfRyA2p6UJ_n",
        "outputId": "1e52ab84-cfd8-42a2-d5e9-5be6f148f30f",
        "colab": {
          "base_uri": "https://localhost:8080/",
          "height": 195
        }
      },
      "source": [
        "df.head()"
      ],
      "execution_count": null,
      "outputs": [
        {
          "output_type": "execute_result",
          "data": {
            "text/html": [
              "<div>\n",
              "<style scoped>\n",
              "    .dataframe tbody tr th:only-of-type {\n",
              "        vertical-align: middle;\n",
              "    }\n",
              "\n",
              "    .dataframe tbody tr th {\n",
              "        vertical-align: top;\n",
              "    }\n",
              "\n",
              "    .dataframe thead th {\n",
              "        text-align: right;\n",
              "    }\n",
              "</style>\n",
              "<table border=\"1\" class=\"dataframe\">\n",
              "  <thead>\n",
              "    <tr style=\"text-align: right;\">\n",
              "      <th></th>\n",
              "      <th>PassengerId</th>\n",
              "      <th>Survived</th>\n",
              "      <th>Pclass</th>\n",
              "      <th>Name</th>\n",
              "      <th>Sex</th>\n",
              "      <th>Age</th>\n",
              "      <th>SibSp</th>\n",
              "      <th>Parch</th>\n",
              "      <th>Ticket</th>\n",
              "      <th>Fare</th>\n",
              "      <th>Cabin</th>\n",
              "      <th>Embarked</th>\n",
              "    </tr>\n",
              "  </thead>\n",
              "  <tbody>\n",
              "    <tr>\n",
              "      <th>0</th>\n",
              "      <td>1</td>\n",
              "      <td>0</td>\n",
              "      <td>3</td>\n",
              "      <td>Braund, Mr. Owen Harris</td>\n",
              "      <td>male</td>\n",
              "      <td>22.0</td>\n",
              "      <td>1</td>\n",
              "      <td>0</td>\n",
              "      <td>A/5 21171</td>\n",
              "      <td>7.2500</td>\n",
              "      <td>NaN</td>\n",
              "      <td>S</td>\n",
              "    </tr>\n",
              "    <tr>\n",
              "      <th>1</th>\n",
              "      <td>2</td>\n",
              "      <td>1</td>\n",
              "      <td>1</td>\n",
              "      <td>Cumings, Mrs. John Bradley (Florence Briggs Th...</td>\n",
              "      <td>female</td>\n",
              "      <td>38.0</td>\n",
              "      <td>1</td>\n",
              "      <td>0</td>\n",
              "      <td>PC 17599</td>\n",
              "      <td>71.2833</td>\n",
              "      <td>C85</td>\n",
              "      <td>C</td>\n",
              "    </tr>\n",
              "    <tr>\n",
              "      <th>2</th>\n",
              "      <td>3</td>\n",
              "      <td>1</td>\n",
              "      <td>3</td>\n",
              "      <td>Heikkinen, Miss. Laina</td>\n",
              "      <td>female</td>\n",
              "      <td>26.0</td>\n",
              "      <td>0</td>\n",
              "      <td>0</td>\n",
              "      <td>STON/O2. 3101282</td>\n",
              "      <td>7.9250</td>\n",
              "      <td>NaN</td>\n",
              "      <td>S</td>\n",
              "    </tr>\n",
              "    <tr>\n",
              "      <th>3</th>\n",
              "      <td>4</td>\n",
              "      <td>1</td>\n",
              "      <td>1</td>\n",
              "      <td>Futrelle, Mrs. Jacques Heath (Lily May Peel)</td>\n",
              "      <td>female</td>\n",
              "      <td>35.0</td>\n",
              "      <td>1</td>\n",
              "      <td>0</td>\n",
              "      <td>113803</td>\n",
              "      <td>53.1000</td>\n",
              "      <td>C123</td>\n",
              "      <td>S</td>\n",
              "    </tr>\n",
              "    <tr>\n",
              "      <th>4</th>\n",
              "      <td>5</td>\n",
              "      <td>0</td>\n",
              "      <td>3</td>\n",
              "      <td>Allen, Mr. William Henry</td>\n",
              "      <td>male</td>\n",
              "      <td>35.0</td>\n",
              "      <td>0</td>\n",
              "      <td>0</td>\n",
              "      <td>373450</td>\n",
              "      <td>8.0500</td>\n",
              "      <td>NaN</td>\n",
              "      <td>S</td>\n",
              "    </tr>\n",
              "  </tbody>\n",
              "</table>\n",
              "</div>"
            ],
            "text/plain": [
              "   PassengerId  Survived  Pclass  ...     Fare Cabin  Embarked\n",
              "0            1         0       3  ...   7.2500   NaN         S\n",
              "1            2         1       1  ...  71.2833   C85         C\n",
              "2            3         1       3  ...   7.9250   NaN         S\n",
              "3            4         1       1  ...  53.1000  C123         S\n",
              "4            5         0       3  ...   8.0500   NaN         S\n",
              "\n",
              "[5 rows x 12 columns]"
            ]
          },
          "metadata": {
            "tags": []
          },
          "execution_count": 70
        }
      ]
    },
    {
      "cell_type": "code",
      "metadata": {
        "id": "6ztTlp_zUJ_p",
        "outputId": "0c4469a1-0987-42c8-d4ca-c676f4aa7ea8",
        "colab": {
          "base_uri": "https://localhost:8080/",
          "height": 279
        }
      },
      "source": [
        "# existe relação entre sexo e porto de embarque?\n",
        "ctab = pd.crosstab(df['Sex'], df['Embarked'], normalize='columns' )\n",
        "sns.heatmap(ctab, annot=True, fmt='.2%')\n",
        "plt.show()"
      ],
      "execution_count": null,
      "outputs": [
        {
          "output_type": "display_data",
          "data": {
            "image/png": "[encoded data removed]",
            "text/plain": [
              "<Figure size 432x288 with 2 Axes>"
            ]
          },
          "metadata": {
            "tags": [],
            "needs_background": "light"
          }
        }
      ]
    },
    {
      "cell_type": "code",
      "metadata": {
        "id": "zTFAumsnUJ_r",
        "outputId": "cb73e059-640a-4f03-909a-c5e6d5159d2f",
        "colab": {
          "base_uri": "https://localhost:8080/",
          "height": 279
        }
      },
      "source": [
        "# existe relação entre o porto de embarque para cada um dos sexos?\n",
        "ctab = pd.crosstab(df['Sex'], df['Embarked'], normalize='index' )\n",
        "sns.heatmap(ctab, annot=True, fmt='.2%')\n",
        "plt.show()"
      ],
      "execution_count": null,
      "outputs": [
        {
          "output_type": "display_data",
          "data": {
            "image/png": "[encoded data removed]",
            "text/plain": [
              "<Figure size 432x288 with 2 Axes>"
            ]
          },
          "metadata": {
            "tags": [],
            "needs_background": "light"
          }
        }
      ]
    },
    {
      "cell_type": "code",
      "metadata": {
        "id": "znYM0lXvUJ_t",
        "outputId": "70809389-94d4-4c54-8e01-502b62e4c702",
        "colab": {
          "base_uri": "https://localhost:8080/",
          "height": 279
        }
      },
      "source": [
        "# Relação entre Pclass e Porto\n",
        "ctab = pd.crosstab(df['Pclass'], df['Embarked'], normalize = 'columns')\n",
        "sns.heatmap(ctab, annot=True, fmt='g')\n",
        "plt.show()"
      ],
      "execution_count": null,
      "outputs": [
        {
          "output_type": "display_data",
          "data": {
            "image/png": "[encoded data removed]",
            "text/plain": [
              "<Figure size 432x288 with 2 Axes>"
            ]
          },
          "metadata": {
            "tags": [],
            "needs_background": "light"
          }
        }
      ]
    },
    {
      "cell_type": "code",
      "metadata": {
        "id": "SUPfK7xpUJ_v",
        "outputId": "87d36669-ee50-4f5b-821d-d917841b8dc5",
        "colab": {
          "base_uri": "https://localhost:8080/",
          "height": 84
        }
      },
      "source": [
        "df['Pclass'].value_counts()"
      ],
      "execution_count": null,
      "outputs": [
        {
          "output_type": "execute_result",
          "data": {
            "text/plain": [
              "3    491\n",
              "1    216\n",
              "2    184\n",
              "Name: Pclass, dtype: int64"
            ]
          },
          "metadata": {
            "tags": []
          },
          "execution_count": 74
        }
      ]
    },
    {
      "cell_type": "code",
      "metadata": {
        "id": "jsuiLdclUJ_x",
        "outputId": "bc8e2afc-62eb-4927-91e1-8f25ca376bf2",
        "colab": {
          "base_uri": "https://localhost:8080/",
          "height": 34
        }
      },
      "source": [
        "df['Pclass'].isna().sum()"
      ],
      "execution_count": null,
      "outputs": [
        {
          "output_type": "execute_result",
          "data": {
            "text/plain": [
              "0"
            ]
          },
          "metadata": {
            "tags": []
          },
          "execution_count": 75
        }
      ]
    },
    {
      "cell_type": "code",
      "metadata": {
        "id": "FAQn_hZtUJ_z",
        "outputId": "f3e79027-2b39-4eee-90e9-47220164489a",
        "colab": {
          "base_uri": "https://localhost:8080/",
          "height": 279
        }
      },
      "source": [
        "# Há relação entre sexo e sobrevivência?\n",
        "ctab = pd.crosstab(df['Sex'], df['Survived'], normalize='index')\n",
        "sns.heatmap(ctab, annot=True, fmt='.2%')\n",
        "plt.show()"
      ],
      "execution_count": null,
      "outputs": [
        {
          "output_type": "display_data",
          "data": {
            "image/png": "[encoded data removed]",
            "text/plain": [
              "<Figure size 432x288 with 2 Axes>"
            ]
          },
          "metadata": {
            "tags": [],
            "needs_background": "light"
          }
        }
      ]
    },
    {
      "cell_type": "code",
      "metadata": {
        "id": "yPDUpFcmUJ_2",
        "outputId": "73f9459d-4b50-4e14-b850-66bf4c44b8cc",
        "colab": {
          "base_uri": "https://localhost:8080/",
          "height": 279
        }
      },
      "source": [
        "# Como podemos visualizar se dentre os homens, os que mais sobreviveram eram crianças?\n",
        "# sugestão: criar coluna nova(criança = sim/não)\n",
        "\n",
        "df_crianca = df[(df['Sex']=='male')]\n",
        "ctab = pd.crosstab(df_crianca['Survived']==1, df_crianca['Age']<=13,  normalize='columns')\n",
        "sns.heatmap(ctab, annot=True, fmt='.2%')\n",
        "plt.show()"
      ],
      "execution_count": null,
      "outputs": [
        {
          "output_type": "display_data",
          "data": {
            "image/png": "[encoded data removed]",
            "text/plain": [
              "<Figure size 432x288 with 2 Axes>"
            ]
          },
          "metadata": {
            "tags": [],
            "needs_background": "light"
          }
        }
      ]
    },
    {
      "cell_type": "markdown",
      "metadata": {
        "id": "7YDO9sw7UJ_3"
      },
      "source": [
        "## Multicolinearidade"
      ]
    },
    {
      "cell_type": "code",
      "metadata": {
        "id": "gBuohH4xUJ_4"
      },
      "source": [
        "from statsmodels.stats.outliers_influence import variance_inflation_factor"
      ],
      "execution_count": null,
      "outputs": []
    },
    {
      "cell_type": "code",
      "metadata": {
        "id": "dC-s3cJDUJ_6"
      },
      "source": [
        "df = pd.read_csv('http://www.ppgia.pucpr.br/~jean.barddal/datascience/ommlbd_familiar.csv',na_values=-9999)"
      ],
      "execution_count": null,
      "outputs": []
    },
    {
      "cell_type": "code",
      "metadata": {
        "id": "Qqc2OfsPUJ_7",
        "outputId": "432bf6e7-87e0-495e-ab32-e5f32c097d92",
        "colab": {
          "base_uri": "https://localhost:8080/"
        }
      },
      "source": [
        "df.head(2)"
      ],
      "execution_count": null,
      "outputs": [
        {
          "output_type": "execute_result",
          "data": {
            "text/html": [
              "<div>\n",
              "<style scoped>\n",
              "    .dataframe tbody tr th:only-of-type {\n",
              "        vertical-align: middle;\n",
              "    }\n",
              "\n",
              "    .dataframe tbody tr th {\n",
              "        vertical-align: top;\n",
              "    }\n",
              "\n",
              "    .dataframe thead th {\n",
              "        text-align: right;\n",
              "    }\n",
              "</style>\n",
              "<table border=\"1\" class=\"dataframe\">\n",
              "  <thead>\n",
              "    <tr style=\"text-align: right;\">\n",
              "      <th></th>\n",
              "      <th>HS_CPF</th>\n",
              "      <th>QTDPESSOASCASA</th>\n",
              "      <th>MENORRENDACASA</th>\n",
              "      <th>MAIORRENDACASA</th>\n",
              "      <th>SOMARENDACASA</th>\n",
              "      <th>MEDIARENDACASA</th>\n",
              "      <th>MAIORIDADECASA</th>\n",
              "      <th>MENORIDADECASA</th>\n",
              "      <th>MEDIAIDADECASA</th>\n",
              "      <th>INDICMENORDEIDADE</th>\n",
              "      <th>COBRANCABAIXOCASA</th>\n",
              "      <th>COBRANCAMEDIOCASA</th>\n",
              "      <th>COBRANCAALTACASA</th>\n",
              "      <th>SEGMENTACAOFINBAIXACASA</th>\n",
              "      <th>SEGMENTACAOFINMEDIACASA</th>\n",
              "      <th>SEGMENTACAOALTACASA</th>\n",
              "      <th>BOLSAFAMILIACASA</th>\n",
              "      <th>FUNCIONARIOPUBLICOCASA</th>\n",
              "    </tr>\n",
              "  </thead>\n",
              "  <tbody>\n",
              "    <tr>\n",
              "      <th>0</th>\n",
              "      <td>23325</td>\n",
              "      <td>NaN</td>\n",
              "      <td>NaN</td>\n",
              "      <td>NaN</td>\n",
              "      <td>NaN</td>\n",
              "      <td>NaN</td>\n",
              "      <td>NaN</td>\n",
              "      <td>NaN</td>\n",
              "      <td>NaN</td>\n",
              "      <td>NaN</td>\n",
              "      <td>NaN</td>\n",
              "      <td>NaN</td>\n",
              "      <td>NaN</td>\n",
              "      <td>NaN</td>\n",
              "      <td>NaN</td>\n",
              "      <td>NaN</td>\n",
              "      <td>NaN</td>\n",
              "      <td>NaN</td>\n",
              "    </tr>\n",
              "    <tr>\n",
              "      <th>1</th>\n",
              "      <td>667198</td>\n",
              "      <td>NaN</td>\n",
              "      <td>NaN</td>\n",
              "      <td>NaN</td>\n",
              "      <td>NaN</td>\n",
              "      <td>NaN</td>\n",
              "      <td>NaN</td>\n",
              "      <td>NaN</td>\n",
              "      <td>NaN</td>\n",
              "      <td>NaN</td>\n",
              "      <td>NaN</td>\n",
              "      <td>NaN</td>\n",
              "      <td>NaN</td>\n",
              "      <td>NaN</td>\n",
              "      <td>NaN</td>\n",
              "      <td>NaN</td>\n",
              "      <td>NaN</td>\n",
              "      <td>NaN</td>\n",
              "    </tr>\n",
              "  </tbody>\n",
              "</table>\n",
              "</div>"
            ],
            "text/plain": [
              "   HS_CPF  QTDPESSOASCASA  ...  BOLSAFAMILIACASA  FUNCIONARIOPUBLICOCASA\n",
              "0   23325             NaN  ...               NaN                     NaN\n",
              "1  667198             NaN  ...               NaN                     NaN\n",
              "\n",
              "[2 rows x 18 columns]"
            ]
          },
          "metadata": {
            "tags": []
          },
          "execution_count": 80
        }
      ]
    },
    {
      "cell_type": "code",
      "metadata": {
        "id": "3QYhbcvOUJ_9",
        "outputId": "b7915dfc-405b-47fe-becc-d331e9da0b56",
        "colab": {
          "base_uri": "https://localhost:8080/"
        }
      },
      "source": [
        "df.corr()"
      ],
      "execution_count": null,
      "outputs": [
        {
          "output_type": "execute_result",
          "data": {
            "text/html": [
              "<div>\n",
              "<style scoped>\n",
              "    .dataframe tbody tr th:only-of-type {\n",
              "        vertical-align: middle;\n",
              "    }\n",
              "\n",
              "    .dataframe tbody tr th {\n",
              "        vertical-align: top;\n",
              "    }\n",
              "\n",
              "    .dataframe thead th {\n",
              "        text-align: right;\n",
              "    }\n",
              "</style>\n",
              "<table border=\"1\" class=\"dataframe\">\n",
              "  <thead>\n",
              "    <tr style=\"text-align: right;\">\n",
              "      <th></th>\n",
              "      <th>HS_CPF</th>\n",
              "      <th>QTDPESSOASCASA</th>\n",
              "      <th>MENORRENDACASA</th>\n",
              "      <th>MAIORRENDACASA</th>\n",
              "      <th>SOMARENDACASA</th>\n",
              "      <th>MEDIARENDACASA</th>\n",
              "      <th>MAIORIDADECASA</th>\n",
              "      <th>MENORIDADECASA</th>\n",
              "      <th>MEDIAIDADECASA</th>\n",
              "      <th>INDICMENORDEIDADE</th>\n",
              "      <th>COBRANCABAIXOCASA</th>\n",
              "      <th>COBRANCAMEDIOCASA</th>\n",
              "      <th>COBRANCAALTACASA</th>\n",
              "      <th>SEGMENTACAOFINBAIXACASA</th>\n",
              "      <th>SEGMENTACAOFINMEDIACASA</th>\n",
              "      <th>SEGMENTACAOALTACASA</th>\n",
              "      <th>BOLSAFAMILIACASA</th>\n",
              "      <th>FUNCIONARIOPUBLICOCASA</th>\n",
              "    </tr>\n",
              "  </thead>\n",
              "  <tbody>\n",
              "    <tr>\n",
              "      <th>HS_CPF</th>\n",
              "      <td>1.000000</td>\n",
              "      <td>0.019929</td>\n",
              "      <td>-0.024549</td>\n",
              "      <td>-0.020831</td>\n",
              "      <td>-0.018844</td>\n",
              "      <td>-0.027608</td>\n",
              "      <td>0.041364</td>\n",
              "      <td>0.026502</td>\n",
              "      <td>0.035755</td>\n",
              "      <td>-0.034576</td>\n",
              "      <td>0.072836</td>\n",
              "      <td>0.014370</td>\n",
              "      <td>0.035500</td>\n",
              "      <td>0.127453</td>\n",
              "      <td>0.001258</td>\n",
              "      <td>0.001693</td>\n",
              "      <td>0.060586</td>\n",
              "      <td>0.000733</td>\n",
              "    </tr>\n",
              "    <tr>\n",
              "      <th>QTDPESSOASCASA</th>\n",
              "      <td>0.019929</td>\n",
              "      <td>1.000000</td>\n",
              "      <td>-0.183627</td>\n",
              "      <td>0.053948</td>\n",
              "      <td>0.252608</td>\n",
              "      <td>-0.103643</td>\n",
              "      <td>0.259603</td>\n",
              "      <td>-0.166085</td>\n",
              "      <td>-0.033299</td>\n",
              "      <td>0.115711</td>\n",
              "      <td>0.109687</td>\n",
              "      <td>0.033187</td>\n",
              "      <td>0.031315</td>\n",
              "      <td>0.078343</td>\n",
              "      <td>0.010212</td>\n",
              "      <td>0.002181</td>\n",
              "      <td>0.248071</td>\n",
              "      <td>0.078393</td>\n",
              "    </tr>\n",
              "    <tr>\n",
              "      <th>MENORRENDACASA</th>\n",
              "      <td>-0.024549</td>\n",
              "      <td>-0.183627</td>\n",
              "      <td>1.000000</td>\n",
              "      <td>0.352656</td>\n",
              "      <td>0.433097</td>\n",
              "      <td>0.615976</td>\n",
              "      <td>0.106155</td>\n",
              "      <td>0.269575</td>\n",
              "      <td>0.232897</td>\n",
              "      <td>-0.074302</td>\n",
              "      <td>0.012774</td>\n",
              "      <td>0.004359</td>\n",
              "      <td>-0.006413</td>\n",
              "      <td>-0.010084</td>\n",
              "      <td>-0.000067</td>\n",
              "      <td>0.008744</td>\n",
              "      <td>-0.226525</td>\n",
              "      <td>0.106405</td>\n",
              "    </tr>\n",
              "    <tr>\n",
              "      <th>MAIORRENDACASA</th>\n",
              "      <td>-0.020831</td>\n",
              "      <td>0.053948</td>\n",
              "      <td>0.352656</td>\n",
              "      <td>1.000000</td>\n",
              "      <td>0.923269</td>\n",
              "      <td>0.917403</td>\n",
              "      <td>0.219026</td>\n",
              "      <td>0.144396</td>\n",
              "      <td>0.218736</td>\n",
              "      <td>-0.040999</td>\n",
              "      <td>0.045489</td>\n",
              "      <td>0.015623</td>\n",
              "      <td>0.003079</td>\n",
              "      <td>0.004508</td>\n",
              "      <td>0.008445</td>\n",
              "      <td>0.004686</td>\n",
              "      <td>-0.208776</td>\n",
              "      <td>0.200532</td>\n",
              "    </tr>\n",
              "    <tr>\n",
              "      <th>SOMARENDACASA</th>\n",
              "      <td>-0.018844</td>\n",
              "      <td>0.252608</td>\n",
              "      <td>0.433097</td>\n",
              "      <td>0.923269</td>\n",
              "      <td>1.000000</td>\n",
              "      <td>0.880107</td>\n",
              "      <td>0.285825</td>\n",
              "      <td>0.145600</td>\n",
              "      <td>0.244595</td>\n",
              "      <td>-0.036681</td>\n",
              "      <td>0.073351</td>\n",
              "      <td>0.025266</td>\n",
              "      <td>0.010955</td>\n",
              "      <td>0.023593</td>\n",
              "      <td>0.011624</td>\n",
              "      <td>0.006083</td>\n",
              "      <td>-0.189434</td>\n",
              "      <td>0.230712</td>\n",
              "    </tr>\n",
              "    <tr>\n",
              "      <th>MEDIARENDACASA</th>\n",
              "      <td>-0.027608</td>\n",
              "      <td>-0.103643</td>\n",
              "      <td>0.615976</td>\n",
              "      <td>0.917403</td>\n",
              "      <td>0.880107</td>\n",
              "      <td>1.000000</td>\n",
              "      <td>0.198684</td>\n",
              "      <td>0.230392</td>\n",
              "      <td>0.269323</td>\n",
              "      <td>-0.072104</td>\n",
              "      <td>0.032249</td>\n",
              "      <td>0.011203</td>\n",
              "      <td>-0.002031</td>\n",
              "      <td>-0.006555</td>\n",
              "      <td>0.006487</td>\n",
              "      <td>0.006899</td>\n",
              "      <td>-0.257195</td>\n",
              "      <td>0.195284</td>\n",
              "    </tr>\n",
              "    <tr>\n",
              "      <th>MAIORIDADECASA</th>\n",
              "      <td>0.041364</td>\n",
              "      <td>0.259603</td>\n",
              "      <td>0.106155</td>\n",
              "      <td>0.219026</td>\n",
              "      <td>0.285825</td>\n",
              "      <td>0.198684</td>\n",
              "      <td>1.000000</td>\n",
              "      <td>0.489634</td>\n",
              "      <td>0.836517</td>\n",
              "      <td>-0.121856</td>\n",
              "      <td>0.064165</td>\n",
              "      <td>0.014462</td>\n",
              "      <td>0.016789</td>\n",
              "      <td>0.028294</td>\n",
              "      <td>0.007349</td>\n",
              "      <td>0.002348</td>\n",
              "      <td>-0.056346</td>\n",
              "      <td>0.083808</td>\n",
              "    </tr>\n",
              "    <tr>\n",
              "      <th>MENORIDADECASA</th>\n",
              "      <td>0.026502</td>\n",
              "      <td>-0.166085</td>\n",
              "      <td>0.269575</td>\n",
              "      <td>0.144396</td>\n",
              "      <td>0.145600</td>\n",
              "      <td>0.230392</td>\n",
              "      <td>0.489634</td>\n",
              "      <td>1.000000</td>\n",
              "      <td>0.844348</td>\n",
              "      <td>-0.227301</td>\n",
              "      <td>0.032271</td>\n",
              "      <td>0.008302</td>\n",
              "      <td>0.009470</td>\n",
              "      <td>0.001591</td>\n",
              "      <td>0.003308</td>\n",
              "      <td>-0.000865</td>\n",
              "      <td>-0.091464</td>\n",
              "      <td>0.031671</td>\n",
              "    </tr>\n",
              "    <tr>\n",
              "      <th>MEDIAIDADECASA</th>\n",
              "      <td>0.035755</td>\n",
              "      <td>-0.033299</td>\n",
              "      <td>0.232897</td>\n",
              "      <td>0.218736</td>\n",
              "      <td>0.244595</td>\n",
              "      <td>0.269323</td>\n",
              "      <td>0.836517</td>\n",
              "      <td>0.844348</td>\n",
              "      <td>1.000000</td>\n",
              "      <td>-0.218414</td>\n",
              "      <td>0.046645</td>\n",
              "      <td>0.010607</td>\n",
              "      <td>0.011476</td>\n",
              "      <td>0.009690</td>\n",
              "      <td>0.005007</td>\n",
              "      <td>0.001161</td>\n",
              "      <td>-0.121059</td>\n",
              "      <td>0.063364</td>\n",
              "    </tr>\n",
              "    <tr>\n",
              "      <th>INDICMENORDEIDADE</th>\n",
              "      <td>-0.034576</td>\n",
              "      <td>0.115711</td>\n",
              "      <td>-0.074302</td>\n",
              "      <td>-0.040999</td>\n",
              "      <td>-0.036681</td>\n",
              "      <td>-0.072104</td>\n",
              "      <td>-0.121856</td>\n",
              "      <td>-0.227301</td>\n",
              "      <td>-0.218414</td>\n",
              "      <td>1.000000</td>\n",
              "      <td>-0.017177</td>\n",
              "      <td>-0.003565</td>\n",
              "      <td>-0.004737</td>\n",
              "      <td>-0.014751</td>\n",
              "      <td>-0.003264</td>\n",
              "      <td>-0.002418</td>\n",
              "      <td>0.057522</td>\n",
              "      <td>-0.013577</td>\n",
              "    </tr>\n",
              "    <tr>\n",
              "      <th>COBRANCABAIXOCASA</th>\n",
              "      <td>0.072836</td>\n",
              "      <td>0.109687</td>\n",
              "      <td>0.012774</td>\n",
              "      <td>0.045489</td>\n",
              "      <td>0.073351</td>\n",
              "      <td>0.032249</td>\n",
              "      <td>0.064165</td>\n",
              "      <td>0.032271</td>\n",
              "      <td>0.046645</td>\n",
              "      <td>-0.017177</td>\n",
              "      <td>1.000000</td>\n",
              "      <td>0.020509</td>\n",
              "      <td>0.009353</td>\n",
              "      <td>0.035332</td>\n",
              "      <td>0.002501</td>\n",
              "      <td>0.003210</td>\n",
              "      <td>0.019529</td>\n",
              "      <td>0.036508</td>\n",
              "    </tr>\n",
              "    <tr>\n",
              "      <th>COBRANCAMEDIOCASA</th>\n",
              "      <td>0.014370</td>\n",
              "      <td>0.033187</td>\n",
              "      <td>0.004359</td>\n",
              "      <td>0.015623</td>\n",
              "      <td>0.025266</td>\n",
              "      <td>0.011203</td>\n",
              "      <td>0.014462</td>\n",
              "      <td>0.008302</td>\n",
              "      <td>0.010607</td>\n",
              "      <td>-0.003565</td>\n",
              "      <td>0.020509</td>\n",
              "      <td>1.000000</td>\n",
              "      <td>0.008935</td>\n",
              "      <td>0.011154</td>\n",
              "      <td>0.004628</td>\n",
              "      <td>-0.000683</td>\n",
              "      <td>0.006306</td>\n",
              "      <td>0.008356</td>\n",
              "    </tr>\n",
              "    <tr>\n",
              "      <th>COBRANCAALTACASA</th>\n",
              "      <td>0.035500</td>\n",
              "      <td>0.031315</td>\n",
              "      <td>-0.006413</td>\n",
              "      <td>0.003079</td>\n",
              "      <td>0.010955</td>\n",
              "      <td>-0.002031</td>\n",
              "      <td>0.016789</td>\n",
              "      <td>0.009470</td>\n",
              "      <td>0.011476</td>\n",
              "      <td>-0.004737</td>\n",
              "      <td>0.009353</td>\n",
              "      <td>0.008935</td>\n",
              "      <td>1.000000</td>\n",
              "      <td>0.012684</td>\n",
              "      <td>0.001218</td>\n",
              "      <td>-0.000518</td>\n",
              "      <td>0.015108</td>\n",
              "      <td>0.004518</td>\n",
              "    </tr>\n",
              "    <tr>\n",
              "      <th>SEGMENTACAOFINBAIXACASA</th>\n",
              "      <td>0.127453</td>\n",
              "      <td>0.078343</td>\n",
              "      <td>-0.010084</td>\n",
              "      <td>0.004508</td>\n",
              "      <td>0.023593</td>\n",
              "      <td>-0.006555</td>\n",
              "      <td>0.028294</td>\n",
              "      <td>0.001591</td>\n",
              "      <td>0.009690</td>\n",
              "      <td>-0.014751</td>\n",
              "      <td>0.035332</td>\n",
              "      <td>0.011154</td>\n",
              "      <td>0.012684</td>\n",
              "      <td>1.000000</td>\n",
              "      <td>0.022916</td>\n",
              "      <td>0.013758</td>\n",
              "      <td>0.033430</td>\n",
              "      <td>0.018393</td>\n",
              "    </tr>\n",
              "    <tr>\n",
              "      <th>SEGMENTACAOFINMEDIACASA</th>\n",
              "      <td>0.001258</td>\n",
              "      <td>0.010212</td>\n",
              "      <td>-0.000067</td>\n",
              "      <td>0.008445</td>\n",
              "      <td>0.011624</td>\n",
              "      <td>0.006487</td>\n",
              "      <td>0.007349</td>\n",
              "      <td>0.003308</td>\n",
              "      <td>0.005007</td>\n",
              "      <td>-0.003264</td>\n",
              "      <td>0.002501</td>\n",
              "      <td>0.004628</td>\n",
              "      <td>0.001218</td>\n",
              "      <td>0.022916</td>\n",
              "      <td>1.000000</td>\n",
              "      <td>0.018885</td>\n",
              "      <td>0.001256</td>\n",
              "      <td>0.006513</td>\n",
              "    </tr>\n",
              "    <tr>\n",
              "      <th>SEGMENTACAOALTACASA</th>\n",
              "      <td>0.001693</td>\n",
              "      <td>0.002181</td>\n",
              "      <td>0.008744</td>\n",
              "      <td>0.004686</td>\n",
              "      <td>0.006083</td>\n",
              "      <td>0.006899</td>\n",
              "      <td>0.002348</td>\n",
              "      <td>-0.000865</td>\n",
              "      <td>0.001161</td>\n",
              "      <td>-0.002418</td>\n",
              "      <td>0.003210</td>\n",
              "      <td>-0.000683</td>\n",
              "      <td>-0.000518</td>\n",
              "      <td>0.013758</td>\n",
              "      <td>0.018885</td>\n",
              "      <td>1.000000</td>\n",
              "      <td>0.000170</td>\n",
              "      <td>0.002038</td>\n",
              "    </tr>\n",
              "    <tr>\n",
              "      <th>BOLSAFAMILIACASA</th>\n",
              "      <td>0.060586</td>\n",
              "      <td>0.248071</td>\n",
              "      <td>-0.226525</td>\n",
              "      <td>-0.208776</td>\n",
              "      <td>-0.189434</td>\n",
              "      <td>-0.257195</td>\n",
              "      <td>-0.056346</td>\n",
              "      <td>-0.091464</td>\n",
              "      <td>-0.121059</td>\n",
              "      <td>0.057522</td>\n",
              "      <td>0.019529</td>\n",
              "      <td>0.006306</td>\n",
              "      <td>0.015108</td>\n",
              "      <td>0.033430</td>\n",
              "      <td>0.001256</td>\n",
              "      <td>0.000170</td>\n",
              "      <td>1.000000</td>\n",
              "      <td>-0.083346</td>\n",
              "    </tr>\n",
              "    <tr>\n",
              "      <th>FUNCIONARIOPUBLICOCASA</th>\n",
              "      <td>0.000733</td>\n",
              "      <td>0.078393</td>\n",
              "      <td>0.106405</td>\n",
              "      <td>0.200532</td>\n",
              "      <td>0.230712</td>\n",
              "      <td>0.195284</td>\n",
              "      <td>0.083808</td>\n",
              "      <td>0.031671</td>\n",
              "      <td>0.063364</td>\n",
              "      <td>-0.013577</td>\n",
              "      <td>0.036508</td>\n",
              "      <td>0.008356</td>\n",
              "      <td>0.004518</td>\n",
              "      <td>0.018393</td>\n",
              "      <td>0.006513</td>\n",
              "      <td>0.002038</td>\n",
              "      <td>-0.083346</td>\n",
              "      <td>1.000000</td>\n",
              "    </tr>\n",
              "  </tbody>\n",
              "</table>\n",
              "</div>"
            ],
            "text/plain": [
              "                           HS_CPF  ...  FUNCIONARIOPUBLICOCASA\n",
              "HS_CPF                   1.000000  ...                0.000733\n",
              "QTDPESSOASCASA           0.019929  ...                0.078393\n",
              "MENORRENDACASA          -0.024549  ...                0.106405\n",
              "MAIORRENDACASA          -0.020831  ...                0.200532\n",
              "SOMARENDACASA           -0.018844  ...                0.230712\n",
              "MEDIARENDACASA          -0.027608  ...                0.195284\n",
              "MAIORIDADECASA           0.041364  ...                0.083808\n",
              "MENORIDADECASA           0.026502  ...                0.031671\n",
              "MEDIAIDADECASA           0.035755  ...                0.063364\n",
              "INDICMENORDEIDADE       -0.034576  ...               -0.013577\n",
              "COBRANCABAIXOCASA        0.072836  ...                0.036508\n",
              "COBRANCAMEDIOCASA        0.014370  ...                0.008356\n",
              "COBRANCAALTACASA         0.035500  ...                0.004518\n",
              "SEGMENTACAOFINBAIXACASA  0.127453  ...                0.018393\n",
              "SEGMENTACAOFINMEDIACASA  0.001258  ...                0.006513\n",
              "SEGMENTACAOALTACASA      0.001693  ...                0.002038\n",
              "BOLSAFAMILIACASA         0.060586  ...               -0.083346\n",
              "FUNCIONARIOPUBLICOCASA   0.000733  ...                1.000000\n",
              "\n",
              "[18 rows x 18 columns]"
            ]
          },
          "metadata": {
            "tags": []
          },
          "execution_count": 81
        }
      ]
    },
    {
      "cell_type": "code",
      "metadata": {
        "id": "EhOOp8iaUJ__",
        "outputId": "f41f3827-1359-4aa9-c3be-311cb3ecb5dd",
        "colab": {
          "base_uri": "https://localhost:8080/"
        }
      },
      "source": [
        "plt.rcParams['figure.figsize'] = (12, 12)\n",
        "plt.rcParams['font.size'] = 10\n",
        "\n",
        "cor = df.corr()\n",
        "sns.heatmap(cor, annot=True, fmt='.0%')\n",
        "plt.show()"
      ],
      "execution_count": null,
      "outputs": [
        {
          "output_type": "display_data",
          "data": {
            "image/png": "[encoded data removed]",
            "text/plain": [
              "<Figure size 864x864 with 2 Axes>"
            ]
          },
          "metadata": {
            "tags": [],
            "needs_background": "light"
          }
        }
      ]
    },
    {
      "cell_type": "markdown",
      "metadata": {
        "id": "CmVBfsTeUKAB"
      },
      "source": [
        "## VIF\n",
        "- Se o VIF = 1, significa que a variável não possui correlação com as demais\n",
        "- Se o VIF > 5, então há uma correlação com várias outras variáveis\n",
        "\n",
        "DETALHE: O VIF só é calculado se não houverem valores faltantes\n",
        "\n",
        "Redes neurais, arvores de decisão, regressão logística -> NÃO se beneficiam de poucas variáveis correlacionadas entre si\n",
        "\n",
        "Ensembles -> random forest, xgboost: se beneficiam de variáveis correlacionadas\n",
        "\n",
        "(componente aleatoria -> ignoram correlações altas entre atributos)."
      ]
    },
    {
      "cell_type": "code",
      "metadata": {
        "id": "97jdABklUKAC"
      },
      "source": [
        "# Imputação\n",
        "\n",
        "# -> Substituir os valores faltantes pela média de cada coluna\n",
        "df.fillna(df.mean(), inplace=True)"
      ],
      "execution_count": null,
      "outputs": []
    },
    {
      "cell_type": "code",
      "metadata": {
        "id": "Rvj6cSN6UKAG"
      },
      "source": [
        "# Função para cálculo do VIF\n",
        "\n",
        "def calc_vif(tabela):\n",
        "    vif = pd.DataFrame()\n",
        "    vif['variaveis'] = tabela.columns\n",
        "    vif['vif'] = [variance_inflation_factor(tabela.values, i) for i in range(tabela.shape[1])]\n",
        "    return vif"
      ],
      "execution_count": null,
      "outputs": []
    },
    {
      "cell_type": "code",
      "metadata": {
        "id": "xT-Nxm_BUKAJ",
        "outputId": "6a437276-f5cf-410f-ba63-abbf0faf13f1",
        "colab": {
          "base_uri": "https://localhost:8080/",
          "height": 550
        }
      },
      "source": [
        "calc_vif(df)\n",
        "\n",
        "# Regressão logística\n",
        "# VIF -> n impacta  o resultado  da regressão logística \n",
        "# Mas, ao mesmo tempo, remover as variáveis com VIF alto, torna a equação mais simples "
      ],
      "execution_count": null,
      "outputs": [
        {
          "output_type": "execute_result",
          "data": {
            "text/html": [
              "<div>\n",
              "<style scoped>\n",
              "    .dataframe tbody tr th:only-of-type {\n",
              "        vertical-align: middle;\n",
              "    }\n",
              "\n",
              "    .dataframe tbody tr th {\n",
              "        vertical-align: top;\n",
              "    }\n",
              "\n",
              "    .dataframe thead th {\n",
              "        text-align: right;\n",
              "    }\n",
              "</style>\n",
              "<table border=\"1\" class=\"dataframe\">\n",
              "  <thead>\n",
              "    <tr style=\"text-align: right;\">\n",
              "      <th></th>\n",
              "      <th>variaveis</th>\n",
              "      <th>vif</th>\n",
              "    </tr>\n",
              "  </thead>\n",
              "  <tbody>\n",
              "    <tr>\n",
              "      <th>0</th>\n",
              "      <td>HS_CPF</td>\n",
              "      <td>3.409110</td>\n",
              "    </tr>\n",
              "    <tr>\n",
              "      <th>1</th>\n",
              "      <td>QTDPESSOASCASA</td>\n",
              "      <td>29.264081</td>\n",
              "    </tr>\n",
              "    <tr>\n",
              "      <th>2</th>\n",
              "      <td>MENORRENDACASA</td>\n",
              "      <td>9.105509</td>\n",
              "    </tr>\n",
              "    <tr>\n",
              "      <th>3</th>\n",
              "      <td>MAIORRENDACASA</td>\n",
              "      <td>53.887563</td>\n",
              "    </tr>\n",
              "    <tr>\n",
              "      <th>4</th>\n",
              "      <td>SOMARENDACASA</td>\n",
              "      <td>40.016857</td>\n",
              "    </tr>\n",
              "    <tr>\n",
              "      <th>5</th>\n",
              "      <td>MEDIARENDACASA</td>\n",
              "      <td>66.597892</td>\n",
              "    </tr>\n",
              "    <tr>\n",
              "      <th>6</th>\n",
              "      <td>MAIORIDADECASA</td>\n",
              "      <td>49.771072</td>\n",
              "    </tr>\n",
              "    <tr>\n",
              "      <th>7</th>\n",
              "      <td>MENORIDADECASA</td>\n",
              "      <td>22.550378</td>\n",
              "    </tr>\n",
              "    <tr>\n",
              "      <th>8</th>\n",
              "      <td>INDICMENORDEIDADE</td>\n",
              "      <td>1.245695</td>\n",
              "    </tr>\n",
              "    <tr>\n",
              "      <th>9</th>\n",
              "      <td>COBRANCABAIXOCASA</td>\n",
              "      <td>1.190981</td>\n",
              "    </tr>\n",
              "    <tr>\n",
              "      <th>10</th>\n",
              "      <td>COBRANCAMEDIOCASA</td>\n",
              "      <td>1.016700</td>\n",
              "    </tr>\n",
              "    <tr>\n",
              "      <th>11</th>\n",
              "      <td>COBRANCAALTACASA</td>\n",
              "      <td>1.010209</td>\n",
              "    </tr>\n",
              "    <tr>\n",
              "      <th>12</th>\n",
              "      <td>SEGMENTACAOFINBAIXACASA</td>\n",
              "      <td>1.197175</td>\n",
              "    </tr>\n",
              "    <tr>\n",
              "      <th>13</th>\n",
              "      <td>SEGMENTACAOFINMEDIACASA</td>\n",
              "      <td>1.004217</td>\n",
              "    </tr>\n",
              "    <tr>\n",
              "      <th>14</th>\n",
              "      <td>SEGMENTACAOALTACASA</td>\n",
              "      <td>1.000881</td>\n",
              "    </tr>\n",
              "    <tr>\n",
              "      <th>15</th>\n",
              "      <td>BOLSAFAMILIACASA</td>\n",
              "      <td>1.986836</td>\n",
              "    </tr>\n",
              "    <tr>\n",
              "      <th>16</th>\n",
              "      <td>FUNCIONARIOPUBLICOCASA</td>\n",
              "      <td>1.749914</td>\n",
              "    </tr>\n",
              "  </tbody>\n",
              "</table>\n",
              "</div>"
            ],
            "text/plain": [
              "                  variaveis        vif\n",
              "0                    HS_CPF   3.409110\n",
              "1            QTDPESSOASCASA  29.264081\n",
              "2            MENORRENDACASA   9.105509\n",
              "3            MAIORRENDACASA  53.887563\n",
              "4             SOMARENDACASA  40.016857\n",
              "5            MEDIARENDACASA  66.597892\n",
              "6            MAIORIDADECASA  49.771072\n",
              "7            MENORIDADECASA  22.550378\n",
              "8         INDICMENORDEIDADE   1.245695\n",
              "9         COBRANCABAIXOCASA   1.190981\n",
              "10        COBRANCAMEDIOCASA   1.016700\n",
              "11         COBRANCAALTACASA   1.010209\n",
              "12  SEGMENTACAOFINBAIXACASA   1.197175\n",
              "13  SEGMENTACAOFINMEDIACASA   1.004217\n",
              "14      SEGMENTACAOALTACASA   1.000881\n",
              "15         BOLSAFAMILIACASA   1.986836\n",
              "16   FUNCIONARIOPUBLICOCASA   1.749914"
            ]
          },
          "metadata": {
            "tags": []
          },
          "execution_count": 90
        }
      ]
    },
    {
      "cell_type": "code",
      "metadata": {
        "id": "tFB2oB_aUKAL",
        "outputId": "0985f816-a70c-4cac-951c-79f6502bf7e3",
        "colab": {
          "base_uri": "https://localhost:8080/",
          "height": 320
        }
      },
      "source": [
        "# Remoção da coluna com maior VIF\n",
        "df.drop('MEDIAIDADECASA', axis=1, inplace=True)"
      ],
      "execution_count": null,
      "outputs": [
        {
          "output_type": "error",
          "ename": "KeyError",
          "evalue": "ignored",
          "traceback": [
            "\u001b[0;31m---------------------------------------------------------------------------\u001b[0m",
            "\u001b[0;31mKeyError\u001b[0m                                  Traceback (most recent call last)",
            "\u001b[0;32m<ipython-input-92-81962d400b03>\u001b[0m in \u001b[0;36m<module>\u001b[0;34m()\u001b[0m\n\u001b[1;32m      1\u001b[0m \u001b[0;31m# Remoção da coluna com maior VIF\u001b[0m\u001b[0;34m\u001b[0m\u001b[0;34m\u001b[0m\u001b[0;34m\u001b[0m\u001b[0m\n\u001b[0;32m----> 2\u001b[0;31m \u001b[0mdf\u001b[0m\u001b[0;34m.\u001b[0m\u001b[0mdrop\u001b[0m\u001b[0;34m(\u001b[0m\u001b[0;34m'MEDIAIDADECASA'\u001b[0m\u001b[0;34m,\u001b[0m \u001b[0maxis\u001b[0m\u001b[0;34m=\u001b[0m\u001b[0;36m1\u001b[0m\u001b[0;34m,\u001b[0m \u001b[0minplace\u001b[0m\u001b[0;34m=\u001b[0m\u001b[0;32mTrue\u001b[0m\u001b[0;34m)\u001b[0m\u001b[0;34m\u001b[0m\u001b[0;34m\u001b[0m\u001b[0m\n\u001b[0m",
            "\u001b[0;32m/usr/local/lib/python3.6/dist-packages/pandas/core/frame.py\u001b[0m in \u001b[0;36mdrop\u001b[0;34m(self, labels, axis, index, columns, level, inplace, errors)\u001b[0m\n\u001b[1;32m   3995\u001b[0m             \u001b[0mlevel\u001b[0m\u001b[0;34m=\u001b[0m\u001b[0mlevel\u001b[0m\u001b[0;34m,\u001b[0m\u001b[0;34m\u001b[0m\u001b[0;34m\u001b[0m\u001b[0m\n\u001b[1;32m   3996\u001b[0m             \u001b[0minplace\u001b[0m\u001b[0;34m=\u001b[0m\u001b[0minplace\u001b[0m\u001b[0;34m,\u001b[0m\u001b[0;34m\u001b[0m\u001b[0;34m\u001b[0m\u001b[0m\n\u001b[0;32m-> 3997\u001b[0;31m             \u001b[0merrors\u001b[0m\u001b[0;34m=\u001b[0m\u001b[0merrors\u001b[0m\u001b[0;34m,\u001b[0m\u001b[0;34m\u001b[0m\u001b[0;34m\u001b[0m\u001b[0m\n\u001b[0m\u001b[1;32m   3998\u001b[0m         )\n\u001b[1;32m   3999\u001b[0m \u001b[0;34m\u001b[0m\u001b[0m\n",
            "\u001b[0;32m/usr/local/lib/python3.6/dist-packages/pandas/core/generic.py\u001b[0m in \u001b[0;36mdrop\u001b[0;34m(self, labels, axis, index, columns, level, inplace, errors)\u001b[0m\n\u001b[1;32m   3934\u001b[0m         \u001b[0;32mfor\u001b[0m \u001b[0maxis\u001b[0m\u001b[0;34m,\u001b[0m \u001b[0mlabels\u001b[0m \u001b[0;32min\u001b[0m \u001b[0maxes\u001b[0m\u001b[0;34m.\u001b[0m\u001b[0mitems\u001b[0m\u001b[0;34m(\u001b[0m\u001b[0;34m)\u001b[0m\u001b[0;34m:\u001b[0m\u001b[0;34m\u001b[0m\u001b[0;34m\u001b[0m\u001b[0m\n\u001b[1;32m   3935\u001b[0m             \u001b[0;32mif\u001b[0m \u001b[0mlabels\u001b[0m \u001b[0;32mis\u001b[0m \u001b[0;32mnot\u001b[0m \u001b[0;32mNone\u001b[0m\u001b[0;34m:\u001b[0m\u001b[0;34m\u001b[0m\u001b[0;34m\u001b[0m\u001b[0m\n\u001b[0;32m-> 3936\u001b[0;31m                 \u001b[0mobj\u001b[0m \u001b[0;34m=\u001b[0m \u001b[0mobj\u001b[0m\u001b[0;34m.\u001b[0m\u001b[0m_drop_axis\u001b[0m\u001b[0;34m(\u001b[0m\u001b[0mlabels\u001b[0m\u001b[0;34m,\u001b[0m \u001b[0maxis\u001b[0m\u001b[0;34m,\u001b[0m \u001b[0mlevel\u001b[0m\u001b[0;34m=\u001b[0m\u001b[0mlevel\u001b[0m\u001b[0;34m,\u001b[0m \u001b[0merrors\u001b[0m\u001b[0;34m=\u001b[0m\u001b[0merrors\u001b[0m\u001b[0;34m)\u001b[0m\u001b[0;34m\u001b[0m\u001b[0;34m\u001b[0m\u001b[0m\n\u001b[0m\u001b[1;32m   3937\u001b[0m \u001b[0;34m\u001b[0m\u001b[0m\n\u001b[1;32m   3938\u001b[0m         \u001b[0;32mif\u001b[0m \u001b[0minplace\u001b[0m\u001b[0;34m:\u001b[0m\u001b[0;34m\u001b[0m\u001b[0;34m\u001b[0m\u001b[0m\n",
            "\u001b[0;32m/usr/local/lib/python3.6/dist-packages/pandas/core/generic.py\u001b[0m in \u001b[0;36m_drop_axis\u001b[0;34m(self, labels, axis, level, errors)\u001b[0m\n\u001b[1;32m   3968\u001b[0m                 \u001b[0mnew_axis\u001b[0m \u001b[0;34m=\u001b[0m \u001b[0maxis\u001b[0m\u001b[0;34m.\u001b[0m\u001b[0mdrop\u001b[0m\u001b[0;34m(\u001b[0m\u001b[0mlabels\u001b[0m\u001b[0;34m,\u001b[0m \u001b[0mlevel\u001b[0m\u001b[0;34m=\u001b[0m\u001b[0mlevel\u001b[0m\u001b[0;34m,\u001b[0m \u001b[0merrors\u001b[0m\u001b[0;34m=\u001b[0m\u001b[0merrors\u001b[0m\u001b[0;34m)\u001b[0m\u001b[0;34m\u001b[0m\u001b[0;34m\u001b[0m\u001b[0m\n\u001b[1;32m   3969\u001b[0m             \u001b[0;32melse\u001b[0m\u001b[0;34m:\u001b[0m\u001b[0;34m\u001b[0m\u001b[0;34m\u001b[0m\u001b[0m\n\u001b[0;32m-> 3970\u001b[0;31m                 \u001b[0mnew_axis\u001b[0m \u001b[0;34m=\u001b[0m \u001b[0maxis\u001b[0m\u001b[0;34m.\u001b[0m\u001b[0mdrop\u001b[0m\u001b[0;34m(\u001b[0m\u001b[0mlabels\u001b[0m\u001b[0;34m,\u001b[0m \u001b[0merrors\u001b[0m\u001b[0;34m=\u001b[0m\u001b[0merrors\u001b[0m\u001b[0;34m)\u001b[0m\u001b[0;34m\u001b[0m\u001b[0;34m\u001b[0m\u001b[0m\n\u001b[0m\u001b[1;32m   3971\u001b[0m             \u001b[0mresult\u001b[0m \u001b[0;34m=\u001b[0m \u001b[0mself\u001b[0m\u001b[0;34m.\u001b[0m\u001b[0mreindex\u001b[0m\u001b[0;34m(\u001b[0m\u001b[0;34m**\u001b[0m\u001b[0;34m{\u001b[0m\u001b[0maxis_name\u001b[0m\u001b[0;34m:\u001b[0m \u001b[0mnew_axis\u001b[0m\u001b[0;34m}\u001b[0m\u001b[0;34m)\u001b[0m\u001b[0;34m\u001b[0m\u001b[0;34m\u001b[0m\u001b[0m\n\u001b[1;32m   3972\u001b[0m \u001b[0;34m\u001b[0m\u001b[0m\n",
            "\u001b[0;32m/usr/local/lib/python3.6/dist-packages/pandas/core/indexes/base.py\u001b[0m in \u001b[0;36mdrop\u001b[0;34m(self, labels, errors)\u001b[0m\n\u001b[1;32m   5016\u001b[0m         \u001b[0;32mif\u001b[0m \u001b[0mmask\u001b[0m\u001b[0;34m.\u001b[0m\u001b[0many\u001b[0m\u001b[0;34m(\u001b[0m\u001b[0;34m)\u001b[0m\u001b[0;34m:\u001b[0m\u001b[0;34m\u001b[0m\u001b[0;34m\u001b[0m\u001b[0m\n\u001b[1;32m   5017\u001b[0m             \u001b[0;32mif\u001b[0m \u001b[0merrors\u001b[0m \u001b[0;34m!=\u001b[0m \u001b[0;34m\"ignore\"\u001b[0m\u001b[0;34m:\u001b[0m\u001b[0;34m\u001b[0m\u001b[0;34m\u001b[0m\u001b[0m\n\u001b[0;32m-> 5018\u001b[0;31m                 \u001b[0;32mraise\u001b[0m \u001b[0mKeyError\u001b[0m\u001b[0;34m(\u001b[0m\u001b[0;34mf\"{labels[mask]} not found in axis\"\u001b[0m\u001b[0;34m)\u001b[0m\u001b[0;34m\u001b[0m\u001b[0;34m\u001b[0m\u001b[0m\n\u001b[0m\u001b[1;32m   5019\u001b[0m             \u001b[0mindexer\u001b[0m \u001b[0;34m=\u001b[0m \u001b[0mindexer\u001b[0m\u001b[0;34m[\u001b[0m\u001b[0;34m~\u001b[0m\u001b[0mmask\u001b[0m\u001b[0;34m]\u001b[0m\u001b[0;34m\u001b[0m\u001b[0;34m\u001b[0m\u001b[0m\n\u001b[1;32m   5020\u001b[0m         \u001b[0;32mreturn\u001b[0m \u001b[0mself\u001b[0m\u001b[0;34m.\u001b[0m\u001b[0mdelete\u001b[0m\u001b[0;34m(\u001b[0m\u001b[0mindexer\u001b[0m\u001b[0;34m)\u001b[0m\u001b[0;34m\u001b[0m\u001b[0;34m\u001b[0m\u001b[0m\n",
            "\u001b[0;31mKeyError\u001b[0m: \"['MEDIAIDADECASA'] not found in axis\""
          ]
        }
      ]
    },
    {
      "cell_type": "code",
      "metadata": {
        "id": "dn0Bb-kEUKAM",
        "outputId": "1da9e24c-fe80-46ba-b7da-9a4243889a87",
        "colab": {
          "base_uri": "https://localhost:8080/",
          "height": 550
        }
      },
      "source": [
        "calc_vif(df)"
      ],
      "execution_count": null,
      "outputs": [
        {
          "output_type": "execute_result",
          "data": {
            "text/html": [
              "<div>\n",
              "<style scoped>\n",
              "    .dataframe tbody tr th:only-of-type {\n",
              "        vertical-align: middle;\n",
              "    }\n",
              "\n",
              "    .dataframe tbody tr th {\n",
              "        vertical-align: top;\n",
              "    }\n",
              "\n",
              "    .dataframe thead th {\n",
              "        text-align: right;\n",
              "    }\n",
              "</style>\n",
              "<table border=\"1\" class=\"dataframe\">\n",
              "  <thead>\n",
              "    <tr style=\"text-align: right;\">\n",
              "      <th></th>\n",
              "      <th>variaveis</th>\n",
              "      <th>vif</th>\n",
              "    </tr>\n",
              "  </thead>\n",
              "  <tbody>\n",
              "    <tr>\n",
              "      <th>0</th>\n",
              "      <td>HS_CPF</td>\n",
              "      <td>3.409110</td>\n",
              "    </tr>\n",
              "    <tr>\n",
              "      <th>1</th>\n",
              "      <td>QTDPESSOASCASA</td>\n",
              "      <td>29.264081</td>\n",
              "    </tr>\n",
              "    <tr>\n",
              "      <th>2</th>\n",
              "      <td>MENORRENDACASA</td>\n",
              "      <td>9.105509</td>\n",
              "    </tr>\n",
              "    <tr>\n",
              "      <th>3</th>\n",
              "      <td>MAIORRENDACASA</td>\n",
              "      <td>53.887563</td>\n",
              "    </tr>\n",
              "    <tr>\n",
              "      <th>4</th>\n",
              "      <td>SOMARENDACASA</td>\n",
              "      <td>40.016857</td>\n",
              "    </tr>\n",
              "    <tr>\n",
              "      <th>5</th>\n",
              "      <td>MEDIARENDACASA</td>\n",
              "      <td>66.597892</td>\n",
              "    </tr>\n",
              "    <tr>\n",
              "      <th>6</th>\n",
              "      <td>MAIORIDADECASA</td>\n",
              "      <td>49.771072</td>\n",
              "    </tr>\n",
              "    <tr>\n",
              "      <th>7</th>\n",
              "      <td>MENORIDADECASA</td>\n",
              "      <td>22.550378</td>\n",
              "    </tr>\n",
              "    <tr>\n",
              "      <th>8</th>\n",
              "      <td>INDICMENORDEIDADE</td>\n",
              "      <td>1.245695</td>\n",
              "    </tr>\n",
              "    <tr>\n",
              "      <th>9</th>\n",
              "      <td>COBRANCABAIXOCASA</td>\n",
              "      <td>1.190981</td>\n",
              "    </tr>\n",
              "    <tr>\n",
              "      <th>10</th>\n",
              "      <td>COBRANCAMEDIOCASA</td>\n",
              "      <td>1.016700</td>\n",
              "    </tr>\n",
              "    <tr>\n",
              "      <th>11</th>\n",
              "      <td>COBRANCAALTACASA</td>\n",
              "      <td>1.010209</td>\n",
              "    </tr>\n",
              "    <tr>\n",
              "      <th>12</th>\n",
              "      <td>SEGMENTACAOFINBAIXACASA</td>\n",
              "      <td>1.197175</td>\n",
              "    </tr>\n",
              "    <tr>\n",
              "      <th>13</th>\n",
              "      <td>SEGMENTACAOFINMEDIACASA</td>\n",
              "      <td>1.004217</td>\n",
              "    </tr>\n",
              "    <tr>\n",
              "      <th>14</th>\n",
              "      <td>SEGMENTACAOALTACASA</td>\n",
              "      <td>1.000881</td>\n",
              "    </tr>\n",
              "    <tr>\n",
              "      <th>15</th>\n",
              "      <td>BOLSAFAMILIACASA</td>\n",
              "      <td>1.986836</td>\n",
              "    </tr>\n",
              "    <tr>\n",
              "      <th>16</th>\n",
              "      <td>FUNCIONARIOPUBLICOCASA</td>\n",
              "      <td>1.749914</td>\n",
              "    </tr>\n",
              "  </tbody>\n",
              "</table>\n",
              "</div>"
            ],
            "text/plain": [
              "                  variaveis        vif\n",
              "0                    HS_CPF   3.409110\n",
              "1            QTDPESSOASCASA  29.264081\n",
              "2            MENORRENDACASA   9.105509\n",
              "3            MAIORRENDACASA  53.887563\n",
              "4             SOMARENDACASA  40.016857\n",
              "5            MEDIARENDACASA  66.597892\n",
              "6            MAIORIDADECASA  49.771072\n",
              "7            MENORIDADECASA  22.550378\n",
              "8         INDICMENORDEIDADE   1.245695\n",
              "9         COBRANCABAIXOCASA   1.190981\n",
              "10        COBRANCAMEDIOCASA   1.016700\n",
              "11         COBRANCAALTACASA   1.010209\n",
              "12  SEGMENTACAOFINBAIXACASA   1.197175\n",
              "13  SEGMENTACAOFINMEDIACASA   1.004217\n",
              "14      SEGMENTACAOALTACASA   1.000881\n",
              "15         BOLSAFAMILIACASA   1.986836\n",
              "16   FUNCIONARIOPUBLICOCASA   1.749914"
            ]
          },
          "metadata": {
            "tags": []
          },
          "execution_count": 93
        }
      ]
    },
    {
      "cell_type": "markdown",
      "metadata": {
        "id": "pk0bW0uPVnvo"
      },
      "source": [
        "# Aula 31/08 - Anotações de aula\n",
        "\n"
      ]
    },
    {
      "cell_type": "markdown",
      "metadata": {
        "id": "_q__jCFjWD5d"
      },
      "source": [
        "### I have a dataset and I need to present it to someone else\n",
        "  How can I do so, effectively?\n",
        "  \n",
        "  "
      ]
    },
    {
      "cell_type": "markdown",
      "metadata": {
        "id": "__oGR3TyXqEJ"
      },
      "source": [
        "- Usar cores apropriadas, que facilitem o entendimento\n",
        "- Seguir o checklist proposto\n",
        "- Escolher um gráfico adequado\n",
        "- Não deixar o valor total passar de 100%\n",
        "- Usar a escala correta"
      ]
    },
    {
      "cell_type": "markdown",
      "metadata": {
        "id": "XWGGCUlWfZWq"
      },
      "source": [
        "### Analysis\n"
      ]
    },
    {
      "cell_type": "markdown",
      "metadata": {
        "id": "cvNkpFkAgU5D"
      },
      "source": [
        "- Utilizar cores apenas para colocar ênfase, mas normalmente evitar\n",
        "- Cuidar com a perspectiva utilizada\n",
        "- Cuidar com formatos ruins ao fazer o gráfico\n",
        "- Não colocar muitos dados, e colocar dados que fazem sentido\n",
        "- Cuidar com a quantidade de informações no gráfico (excesso delas)\n",
        "- Não sobrepor gráficos\n",
        "- Cuidar com significado\n",
        "- Cuidar com o contexto\n",
        "- Cuidar com o formato dos gráficos\n",
        "- Cuidar com os que os eixos possuam algum sentido\n",
        "- Ver se a escala possui datas consistentes e se tem quantidade\n"
      ]
    },
    {
      "cell_type": "markdown",
      "metadata": {
        "id": "OrihIwb8YAwn"
      },
      "source": [
        "### Gestalt principles "
      ]
    },
    {
      "cell_type": "markdown",
      "metadata": {
        "id": "cTBwB222ZJgo"
      },
      "source": [
        "- Proximity: demostra quais objetos próximos pertencem ao mesmo grupo\n",
        "- Similarity: objetos pertencentes ao mesmo grupo com mesma cor, tamanho,      formato, orientação \n",
        "- Enclosure: objetos em estado \"enclosed\" pertencentes ao mesmo grupo\n",
        "- Closure: tendemos a perceber objetos como um todo, mesmo quando algumas partes estão faltando\n",
        "- Continuity: caminho mais \"natural\" e \"refinado\" entre objetos que nossos olhos procuram, mesmo podendo não existir\n",
        "- Connection: tendemos a perceber objetos conectados como um grupo, sendo que a proximidade tende ser mais forte do que a cor, formato ou tamanho"
      ]
    },
    {
      "cell_type": "markdown",
      "metadata": {
        "id": "a6juR6xMj7mq"
      },
      "source": [
        "### Which visual components would you change in the following visualization?"
      ]
    },
    {
      "cell_type": "markdown",
      "metadata": {
        "id": "HlGiNwGokYlz"
      },
      "source": [
        "- Utilizar números inteiros, retirando o índice após o ponto\n",
        "- Mudar a cor das linhas de referência atrás das barras para não juntar cores\n",
        "- Colocar apenas os meses sem o dia, pois é o mesmo dia de todo mês\n"
      ]
    },
    {
      "cell_type": "markdown",
      "metadata": {
        "id": "tWM7qIHqjAlk"
      },
      "source": [
        "### Colors"
      ]
    },
    {
      "cell_type": "markdown",
      "metadata": {
        "id": "LsoaU18Bjits"
      },
      "source": [
        "- Utilizar cores que não apresentem problemas de visualização para daltônicos\n",
        "- Utilizar níveis de cinza, ou seja, escurecimento da cor\n",
        "- Evitar cores muito intensas, uma vez que elas podem atrapalhar a visuaização"
      ]
    },
    {
      "cell_type": "markdown",
      "metadata": {
        "id": "9Mew4huat5I1"
      },
      "source": [
        "# Aula 21/09 - Análise de outliers\n",
        "\n",
        "\n"
      ]
    },
    {
      "cell_type": "code",
      "metadata": {
        "id": "nHxBvfsnu6yq",
        "outputId": "36a42268-f1b8-4e0d-d526-4ea8709ce7ce",
        "colab": {
          "base_uri": "https://localhost:8080/",
          "height": 299
        }
      },
      "source": [
        "df = pd.read_csv('http://www.ppgia.pucpr.br/~jean.barddal/datascience/enron.csv')\n",
        "df.head(5)"
      ],
      "execution_count": 15,
      "outputs": [
        {
          "output_type": "execute_result",
          "data": {
            "text/html": [
              "<div>\n",
              "<style scoped>\n",
              "    .dataframe tbody tr th:only-of-type {\n",
              "        vertical-align: middle;\n",
              "    }\n",
              "\n",
              "    .dataframe tbody tr th {\n",
              "        vertical-align: top;\n",
              "    }\n",
              "\n",
              "    .dataframe thead th {\n",
              "        text-align: right;\n",
              "    }\n",
              "</style>\n",
              "<table border=\"1\" class=\"dataframe\">\n",
              "  <thead>\n",
              "    <tr style=\"text-align: right;\">\n",
              "      <th></th>\n",
              "      <th>bonus</th>\n",
              "      <th>deferral_payments</th>\n",
              "      <th>deferred_income</th>\n",
              "      <th>director_fees</th>\n",
              "      <th>email_address</th>\n",
              "      <th>exercised_stock_options</th>\n",
              "      <th>expenses</th>\n",
              "      <th>from_messages</th>\n",
              "      <th>from_poi_to_this_person</th>\n",
              "      <th>from_this_person_to_poi</th>\n",
              "      <th>loan_advances</th>\n",
              "      <th>long_term_incentive</th>\n",
              "      <th>other</th>\n",
              "      <th>poi</th>\n",
              "      <th>restricted_stock</th>\n",
              "      <th>restricted_stock_deferred</th>\n",
              "      <th>salary</th>\n",
              "      <th>shared_receipt_with_poi</th>\n",
              "      <th>to_messages</th>\n",
              "      <th>total_payments</th>\n",
              "      <th>total_stock_value</th>\n",
              "      <th>name</th>\n",
              "    </tr>\n",
              "  </thead>\n",
              "  <tbody>\n",
              "    <tr>\n",
              "      <th>0</th>\n",
              "      <td>4175000.0</td>\n",
              "      <td>2869717.0</td>\n",
              "      <td>-3081055.0</td>\n",
              "      <td>NaN</td>\n",
              "      <td>phillip.allen@enron.com</td>\n",
              "      <td>1729541.0</td>\n",
              "      <td>13868.0</td>\n",
              "      <td>2195.0</td>\n",
              "      <td>47.0</td>\n",
              "      <td>65.0</td>\n",
              "      <td>NaN</td>\n",
              "      <td>304805.0</td>\n",
              "      <td>152.0</td>\n",
              "      <td>False</td>\n",
              "      <td>126027.0</td>\n",
              "      <td>-126027.0</td>\n",
              "      <td>201955.0</td>\n",
              "      <td>1407.0</td>\n",
              "      <td>2902.0</td>\n",
              "      <td>4484442.0</td>\n",
              "      <td>1729541.0</td>\n",
              "      <td>ALLEN PHILLIP K</td>\n",
              "    </tr>\n",
              "    <tr>\n",
              "      <th>1</th>\n",
              "      <td>NaN</td>\n",
              "      <td>178980.0</td>\n",
              "      <td>NaN</td>\n",
              "      <td>NaN</td>\n",
              "      <td>NaN</td>\n",
              "      <td>257817.0</td>\n",
              "      <td>3486.0</td>\n",
              "      <td>NaN</td>\n",
              "      <td>NaN</td>\n",
              "      <td>NaN</td>\n",
              "      <td>NaN</td>\n",
              "      <td>NaN</td>\n",
              "      <td>NaN</td>\n",
              "      <td>False</td>\n",
              "      <td>NaN</td>\n",
              "      <td>NaN</td>\n",
              "      <td>NaN</td>\n",
              "      <td>NaN</td>\n",
              "      <td>NaN</td>\n",
              "      <td>182466.0</td>\n",
              "      <td>257817.0</td>\n",
              "      <td>BADUM JAMES P</td>\n",
              "    </tr>\n",
              "    <tr>\n",
              "      <th>2</th>\n",
              "      <td>NaN</td>\n",
              "      <td>NaN</td>\n",
              "      <td>-5104.0</td>\n",
              "      <td>NaN</td>\n",
              "      <td>james.bannantine@enron.com</td>\n",
              "      <td>4046157.0</td>\n",
              "      <td>56301.0</td>\n",
              "      <td>29.0</td>\n",
              "      <td>39.0</td>\n",
              "      <td>0.0</td>\n",
              "      <td>NaN</td>\n",
              "      <td>NaN</td>\n",
              "      <td>864523.0</td>\n",
              "      <td>False</td>\n",
              "      <td>1757552.0</td>\n",
              "      <td>-560222.0</td>\n",
              "      <td>477.0</td>\n",
              "      <td>465.0</td>\n",
              "      <td>566.0</td>\n",
              "      <td>916197.0</td>\n",
              "      <td>5243487.0</td>\n",
              "      <td>BANNANTINE JAMES M</td>\n",
              "    </tr>\n",
              "    <tr>\n",
              "      <th>3</th>\n",
              "      <td>1200000.0</td>\n",
              "      <td>1295738.0</td>\n",
              "      <td>-1386055.0</td>\n",
              "      <td>NaN</td>\n",
              "      <td>NaN</td>\n",
              "      <td>6680544.0</td>\n",
              "      <td>11200.0</td>\n",
              "      <td>NaN</td>\n",
              "      <td>NaN</td>\n",
              "      <td>NaN</td>\n",
              "      <td>NaN</td>\n",
              "      <td>1586055.0</td>\n",
              "      <td>2660303.0</td>\n",
              "      <td>False</td>\n",
              "      <td>3942714.0</td>\n",
              "      <td>NaN</td>\n",
              "      <td>267102.0</td>\n",
              "      <td>NaN</td>\n",
              "      <td>NaN</td>\n",
              "      <td>5634343.0</td>\n",
              "      <td>10623258.0</td>\n",
              "      <td>BAXTER JOHN C</td>\n",
              "    </tr>\n",
              "    <tr>\n",
              "      <th>4</th>\n",
              "      <td>400000.0</td>\n",
              "      <td>260455.0</td>\n",
              "      <td>-201641.0</td>\n",
              "      <td>NaN</td>\n",
              "      <td>frank.bay@enron.com</td>\n",
              "      <td>NaN</td>\n",
              "      <td>129142.0</td>\n",
              "      <td>NaN</td>\n",
              "      <td>NaN</td>\n",
              "      <td>NaN</td>\n",
              "      <td>NaN</td>\n",
              "      <td>NaN</td>\n",
              "      <td>69.0</td>\n",
              "      <td>False</td>\n",
              "      <td>145796.0</td>\n",
              "      <td>-82782.0</td>\n",
              "      <td>239671.0</td>\n",
              "      <td>NaN</td>\n",
              "      <td>NaN</td>\n",
              "      <td>827696.0</td>\n",
              "      <td>63014.0</td>\n",
              "      <td>BAY FRANKLIN R</td>\n",
              "    </tr>\n",
              "  </tbody>\n",
              "</table>\n",
              "</div>"
            ],
            "text/plain": [
              "       bonus  deferral_payments  ...  total_stock_value                name\n",
              "0  4175000.0          2869717.0  ...          1729541.0     ALLEN PHILLIP K\n",
              "1        NaN           178980.0  ...           257817.0       BADUM JAMES P\n",
              "2        NaN                NaN  ...          5243487.0  BANNANTINE JAMES M\n",
              "3  1200000.0          1295738.0  ...         10623258.0       BAXTER JOHN C\n",
              "4   400000.0           260455.0  ...            63014.0      BAY FRANKLIN R\n",
              "\n",
              "[5 rows x 22 columns]"
            ]
          },
          "metadata": {
            "tags": []
          },
          "execution_count": 15
        }
      ]
    },
    {
      "cell_type": "code",
      "metadata": {
        "id": "slOMrW5Iu9eE"
      },
      "source": [
        "outliers_global = []\n",
        "\n",
        "for col in df.select_dtypes(include='number').columns.values:\n",
        "\n",
        "  q1 = df[col].quantile(0.25)\n",
        "  q3 = df[col].quantile(0.75)\n",
        "  iqr = q3-q1\n",
        "\n",
        "  upp = q3 + 1.5 * iqr\n",
        "  low = q1 - 1.5 * iqr\n",
        "\n",
        "  ix_outliers_col = list( df[(df[col]> upp)| (df[col]< low)].index)\n",
        "  outliers_global.extend(ix_outliers_col)"
      ],
      "execution_count": 16,
      "outputs": []
    },
    {
      "cell_type": "code",
      "metadata": {
        "id": "PoAH1_I9vS7Q",
        "outputId": "6c5d4ddd-2067-41f2-8855-0a52b46c3d6c",
        "colab": {
          "base_uri": "https://localhost:8080/",
          "height": 185
        }
      },
      "source": [
        "from collections import Counter\n",
        "for ix,contagem in Counter(outliers_global).most_common(10):\n",
        "    print(f\"{ix} \\t {contagem} \\t {df.loc[ix]['name']}\" )\n"
      ],
      "execution_count": 10,
      "outputs": [
        {
          "output_type": "stream",
          "text": [
            "130 \t 13 \t TOTAL\n",
            "47 \t 9 \t FREVERT MARK A\n",
            "7 \t 8 \t BELDEN TIMOTHY N\n",
            "79 \t 8 \t LAY KENNETH L\n",
            "78 \t 7 \t LAVORATO JOHN J\n",
            "139 \t 7 \t WHALLEY LAWRENCE G\n",
            "122 \t 6 \t SKILLING JEFFREY K\n",
            "0 \t 5 \t ALLEN PHILLIP K\n",
            "75 \t 5 \t KITCHEN LOUISE\n",
            "3 \t 5 \t BAXTER JOHN C\n"
          ],
          "name": "stdout"
        }
      ]
    },
    {
      "cell_type": "code",
      "metadata": {
        "id": "2j31-F_ivWcz",
        "outputId": "9486d012-2b94-4bac-ec8c-76309daf0e17",
        "colab": {
          "base_uri": "https://localhost:8080/",
          "height": 151
        }
      },
      "source": [
        "from sklearn.ensemble import IsolationForest\n",
        "\n",
        "df_num = df.select_dtypes(include='number')\n",
        "df_num.fillna(df.mean(), inplace=True)\n",
        "\n",
        "isof = IsolationForest(random_state=101)\n",
        "isof.fit(df_num)"
      ],
      "execution_count": 17,
      "outputs": [
        {
          "output_type": "stream",
          "text": [
            "/usr/local/lib/python3.6/dist-packages/pandas/core/series.py:4523: SettingWithCopyWarning: \n",
            "A value is trying to be set on a copy of a slice from a DataFrame\n",
            "\n",
            "See the caveats in the documentation: https://pandas.pydata.org/pandas-docs/stable/user_guide/indexing.html#returning-a-view-versus-a-copy\n",
            "  downcast=downcast,\n"
          ],
          "name": "stderr"
        },
        {
          "output_type": "execute_result",
          "data": {
            "text/plain": [
              "IsolationForest(behaviour='deprecated', bootstrap=False, contamination='auto',\n",
              "                max_features=1.0, max_samples='auto', n_estimators=100,\n",
              "                n_jobs=None, random_state=101, verbose=0, warm_start=False)"
            ]
          },
          "metadata": {
            "tags": []
          },
          "execution_count": 17
        }
      ]
    },
    {
      "cell_type": "markdown",
      "metadata": {
        "id": "DbwQPea6v4w0"
      },
      "source": [
        "# Aula 28/09\n"
      ]
    },
    {
      "cell_type": "code",
      "metadata": {
        "id": "Jere6HNimzaA"
      },
      "source": [
        "df = pd.read_csv('http://www.ppgia.pucpr.br/~jean.barddal/datascience/california_housing_train.csv')"
      ],
      "execution_count": 12,
      "outputs": []
    },
    {
      "cell_type": "code",
      "metadata": {
        "id": "vZ0u0AiXvP8x",
        "outputId": "81b66b28-671e-4b93-a837-5fb133bacc7a",
        "colab": {
          "base_uri": "https://localhost:8080/",
          "height": 419
        }
      },
      "source": [
        "df"
      ],
      "execution_count": null,
      "outputs": [
        {
          "output_type": "execute_result",
          "data": {
            "text/html": [
              "<div>\n",
              "<style scoped>\n",
              "    .dataframe tbody tr th:only-of-type {\n",
              "        vertical-align: middle;\n",
              "    }\n",
              "\n",
              "    .dataframe tbody tr th {\n",
              "        vertical-align: top;\n",
              "    }\n",
              "\n",
              "    .dataframe thead th {\n",
              "        text-align: right;\n",
              "    }\n",
              "</style>\n",
              "<table border=\"1\" class=\"dataframe\">\n",
              "  <thead>\n",
              "    <tr style=\"text-align: right;\">\n",
              "      <th></th>\n",
              "      <th>longitude</th>\n",
              "      <th>latitude</th>\n",
              "      <th>housing_median_age</th>\n",
              "      <th>total_rooms</th>\n",
              "      <th>total_bedrooms</th>\n",
              "      <th>population</th>\n",
              "      <th>households</th>\n",
              "      <th>median_income</th>\n",
              "      <th>median_house_value</th>\n",
              "    </tr>\n",
              "  </thead>\n",
              "  <tbody>\n",
              "    <tr>\n",
              "      <th>0</th>\n",
              "      <td>-114.31</td>\n",
              "      <td>34.19</td>\n",
              "      <td>15.0</td>\n",
              "      <td>5612.0</td>\n",
              "      <td>1283.0</td>\n",
              "      <td>1015.0</td>\n",
              "      <td>472.0</td>\n",
              "      <td>1.4936</td>\n",
              "      <td>66900.0</td>\n",
              "    </tr>\n",
              "    <tr>\n",
              "      <th>1</th>\n",
              "      <td>-114.47</td>\n",
              "      <td>34.40</td>\n",
              "      <td>19.0</td>\n",
              "      <td>7650.0</td>\n",
              "      <td>1901.0</td>\n",
              "      <td>1129.0</td>\n",
              "      <td>463.0</td>\n",
              "      <td>1.8200</td>\n",
              "      <td>80100.0</td>\n",
              "    </tr>\n",
              "    <tr>\n",
              "      <th>2</th>\n",
              "      <td>-114.56</td>\n",
              "      <td>33.69</td>\n",
              "      <td>17.0</td>\n",
              "      <td>720.0</td>\n",
              "      <td>174.0</td>\n",
              "      <td>333.0</td>\n",
              "      <td>117.0</td>\n",
              "      <td>1.6509</td>\n",
              "      <td>85700.0</td>\n",
              "    </tr>\n",
              "    <tr>\n",
              "      <th>3</th>\n",
              "      <td>-114.57</td>\n",
              "      <td>33.64</td>\n",
              "      <td>14.0</td>\n",
              "      <td>1501.0</td>\n",
              "      <td>337.0</td>\n",
              "      <td>515.0</td>\n",
              "      <td>226.0</td>\n",
              "      <td>3.1917</td>\n",
              "      <td>73400.0</td>\n",
              "    </tr>\n",
              "    <tr>\n",
              "      <th>4</th>\n",
              "      <td>-114.57</td>\n",
              "      <td>33.57</td>\n",
              "      <td>20.0</td>\n",
              "      <td>1454.0</td>\n",
              "      <td>326.0</td>\n",
              "      <td>624.0</td>\n",
              "      <td>262.0</td>\n",
              "      <td>1.9250</td>\n",
              "      <td>65500.0</td>\n",
              "    </tr>\n",
              "    <tr>\n",
              "      <th>...</th>\n",
              "      <td>...</td>\n",
              "      <td>...</td>\n",
              "      <td>...</td>\n",
              "      <td>...</td>\n",
              "      <td>...</td>\n",
              "      <td>...</td>\n",
              "      <td>...</td>\n",
              "      <td>...</td>\n",
              "      <td>...</td>\n",
              "    </tr>\n",
              "    <tr>\n",
              "      <th>16995</th>\n",
              "      <td>-124.26</td>\n",
              "      <td>40.58</td>\n",
              "      <td>52.0</td>\n",
              "      <td>2217.0</td>\n",
              "      <td>394.0</td>\n",
              "      <td>907.0</td>\n",
              "      <td>369.0</td>\n",
              "      <td>2.3571</td>\n",
              "      <td>111400.0</td>\n",
              "    </tr>\n",
              "    <tr>\n",
              "      <th>16996</th>\n",
              "      <td>-124.27</td>\n",
              "      <td>40.69</td>\n",
              "      <td>36.0</td>\n",
              "      <td>2349.0</td>\n",
              "      <td>528.0</td>\n",
              "      <td>1194.0</td>\n",
              "      <td>465.0</td>\n",
              "      <td>2.5179</td>\n",
              "      <td>79000.0</td>\n",
              "    </tr>\n",
              "    <tr>\n",
              "      <th>16997</th>\n",
              "      <td>-124.30</td>\n",
              "      <td>41.84</td>\n",
              "      <td>17.0</td>\n",
              "      <td>2677.0</td>\n",
              "      <td>531.0</td>\n",
              "      <td>1244.0</td>\n",
              "      <td>456.0</td>\n",
              "      <td>3.0313</td>\n",
              "      <td>103600.0</td>\n",
              "    </tr>\n",
              "    <tr>\n",
              "      <th>16998</th>\n",
              "      <td>-124.30</td>\n",
              "      <td>41.80</td>\n",
              "      <td>19.0</td>\n",
              "      <td>2672.0</td>\n",
              "      <td>552.0</td>\n",
              "      <td>1298.0</td>\n",
              "      <td>478.0</td>\n",
              "      <td>1.9797</td>\n",
              "      <td>85800.0</td>\n",
              "    </tr>\n",
              "    <tr>\n",
              "      <th>16999</th>\n",
              "      <td>-124.35</td>\n",
              "      <td>40.54</td>\n",
              "      <td>52.0</td>\n",
              "      <td>1820.0</td>\n",
              "      <td>300.0</td>\n",
              "      <td>806.0</td>\n",
              "      <td>270.0</td>\n",
              "      <td>3.0147</td>\n",
              "      <td>94600.0</td>\n",
              "    </tr>\n",
              "  </tbody>\n",
              "</table>\n",
              "<p>17000 rows × 9 columns</p>\n",
              "</div>"
            ],
            "text/plain": [
              "       longitude  latitude  ...  median_income  median_house_value\n",
              "0        -114.31     34.19  ...         1.4936             66900.0\n",
              "1        -114.47     34.40  ...         1.8200             80100.0\n",
              "2        -114.56     33.69  ...         1.6509             85700.0\n",
              "3        -114.57     33.64  ...         3.1917             73400.0\n",
              "4        -114.57     33.57  ...         1.9250             65500.0\n",
              "...          ...       ...  ...            ...                 ...\n",
              "16995    -124.26     40.58  ...         2.3571            111400.0\n",
              "16996    -124.27     40.69  ...         2.5179             79000.0\n",
              "16997    -124.30     41.84  ...         3.0313            103600.0\n",
              "16998    -124.30     41.80  ...         1.9797             85800.0\n",
              "16999    -124.35     40.54  ...         3.0147             94600.0\n",
              "\n",
              "[17000 rows x 9 columns]"
            ]
          },
          "metadata": {
            "tags": []
          },
          "execution_count": 15
        }
      ]
    },
    {
      "cell_type": "code",
      "metadata": {
        "id": "YvTzrLR-vWyB",
        "outputId": "5f1f7b14-d811-4824-a6e8-28eef5533d6c",
        "colab": {
          "base_uri": "https://localhost:8080/",
          "height": 297
        }
      },
      "source": [
        "sns.distplot(df['total_bedrooms'],kde=False)"
      ],
      "execution_count": null,
      "outputs": [
        {
          "output_type": "execute_result",
          "data": {
            "text/plain": [
              "<matplotlib.axes._subplots.AxesSubplot at 0x7f5850602f28>"
            ]
          },
          "metadata": {
            "tags": []
          },
          "execution_count": 16
        },
        {
          "output_type": "display_data",
          "data": {
            "image/png": "[encoded data removed]",
            "text/plain": [
              "<Figure size 432x288 with 1 Axes>"
            ]
          },
          "metadata": {
            "tags": [],
            "needs_background": "light"
          }
        }
      ]
    },
    {
      "cell_type": "code",
      "metadata": {
        "id": "RefcqCC3vweo"
      },
      "source": [
        "ss = StandardScaler()\n",
        "df['total_bedrooms_ss'] = ss.fit_transform(np.array(df['total_bedrooms']).reshape(-1,1))\n"
      ],
      "execution_count": null,
      "outputs": []
    },
    {
      "cell_type": "code",
      "metadata": {
        "id": "mTqA9jOOxBfB"
      },
      "source": [
        "mm = MinMaxScaler()\n",
        "df['total_bedrooms_mm'] = mm.fit_transform(np.array(df['total_bedrooms']).reshape(-1,1))"
      ],
      "execution_count": null,
      "outputs": []
    },
    {
      "cell_type": "code",
      "metadata": {
        "id": "5nL56RCjy3FX"
      },
      "source": [
        "rs = RobustScaler()\n",
        "df['total_bedrooms_rs'] = rs.fit_transform(np.array(df['total_bedrooms']).reshape(-1,1))"
      ],
      "execution_count": null,
      "outputs": []
    },
    {
      "cell_type": "code",
      "metadata": {
        "id": "kJWCacwg0GjW",
        "outputId": "6d164c90-c957-4c11-d1c2-fc2eb2aad0a0",
        "colab": {
          "base_uri": "https://localhost:8080/",
          "height": 297
        }
      },
      "source": [
        "sns.distplot(df['total_bedrooms_rs'],kde=False)"
      ],
      "execution_count": null,
      "outputs": [
        {
          "output_type": "execute_result",
          "data": {
            "text/plain": [
              "<matplotlib.axes._subplots.AxesSubplot at 0x7f58468df710>"
            ]
          },
          "metadata": {
            "tags": []
          },
          "execution_count": 24
        },
        {
          "output_type": "display_data",
          "data": {
            "image/png": "[encoded data removed]",
            "text/plain": [
              "<Figure size 432x288 with 1 Axes>"
            ]
          },
          "metadata": {
            "tags": [],
            "needs_background": "light"
          }
        }
      ]
    },
    {
      "cell_type": "code",
      "metadata": {
        "id": "C85RvNRt2C6d"
      },
      "source": [
        "bc = PowerTransformer(method='box-cox')\n",
        "df['total_bedrooms_bc'] = bc.fit_transform(np.array(df['total_bedrooms']).reshape(-1,1))"
      ],
      "execution_count": null,
      "outputs": []
    },
    {
      "cell_type": "code",
      "metadata": {
        "id": "ce1TqCXP3wxC",
        "outputId": "fb1e28a9-69d5-42ea-e6a2-cf714fd6858f",
        "colab": {
          "base_uri": "https://localhost:8080/",
          "height": 297
        }
      },
      "source": [
        "sns.distplot(df['total_bedrooms_bc'],kde=False)"
      ],
      "execution_count": null,
      "outputs": [
        {
          "output_type": "execute_result",
          "data": {
            "text/plain": [
              "<matplotlib.axes._subplots.AxesSubplot at 0x7f584683ff60>"
            ]
          },
          "metadata": {
            "tags": []
          },
          "execution_count": 27
        },
        {
          "output_type": "display_data",
          "data": {
            "image/png": "[encoded data removed]",
            "text/plain": [
              "<Figure size 432x288 with 1 Axes>"
            ]
          },
          "metadata": {
            "tags": [],
            "needs_background": "light"
          }
        }
      ]
    },
    {
      "cell_type": "code",
      "metadata": {
        "id": "3XIh98zl0N3k",
        "outputId": "abb08b2c-6dc8-43b2-c546-6a5f58cc28b4",
        "colab": {
          "base_uri": "https://localhost:8080/",
          "height": 136
        }
      },
      "source": [
        "bc.inverse_transform(np.array(df['total_bedrooms_bc']).reshape(-1,1))"
      ],
      "execution_count": null,
      "outputs": [
        {
          "output_type": "execute_result",
          "data": {
            "text/plain": [
              "array([[1283.],\n",
              "       [1901.],\n",
              "       [ 174.],\n",
              "       ...,\n",
              "       [ 531.],\n",
              "       [ 552.],\n",
              "       [ 300.]])"
            ]
          },
          "metadata": {
            "tags": []
          },
          "execution_count": 26
        }
      ]
    },
    {
      "cell_type": "code",
      "metadata": {
        "id": "1CCxcEMS2EQ7",
        "outputId": "8a8126e8-3f31-470d-a5b0-b66e02a272e1",
        "colab": {
          "base_uri": "https://localhost:8080/",
          "height": 238
        }
      },
      "source": [
        "mm_tudo = MinMaxScaler(feature_range=(0.00001,1.0))\n",
        "dados = mm_tudo.fit_transform(df)\n",
        "\n",
        "bc_tudo = PowerTransformer(method='box-cox')\n",
        "dados = bc_tudo.fit_transform(dados)\n",
        "dados"
      ],
      "execution_count": null,
      "outputs": [
        {
          "output_type": "execute_result",
          "data": {
            "text/plain": [
              "array([[ 2.66776194, -0.51415475, -1.07178653, ...,  1.69805924,\n",
              "         1.69805924,  1.70369092],\n",
              "       [ 2.58516237, -0.38606105, -0.7255969 , ...,  2.44500851,\n",
              "         2.44500851,  2.45556913],\n",
              "       [ 2.53872369, -0.86543403, -0.89656139, ..., -1.23850879,\n",
              "        -1.23850879, -1.24056992],\n",
              "       ...,\n",
              "       [-2.29653389,  2.07656862, -0.89656139, ...,  0.24104972,\n",
              "         0.24104972,  0.23970039],\n",
              "       [-2.29653389,  2.06766248, -0.7255969 , ...,  0.29931   ,\n",
              "         0.29931   ,  0.29815102],\n",
              "       [-2.31660005,  1.77427042,  1.75296184, ..., -0.56136024,\n",
              "        -0.56136024, -0.56425358]])"
            ]
          },
          "metadata": {
            "tags": []
          },
          "execution_count": 29
        }
      ]
    },
    {
      "cell_type": "code",
      "metadata": {
        "id": "2xWMPGIW58Sh"
      },
      "source": [
        "inv_bc_tudo = bc_tudo.inverse_transform(dados)\n",
        "inv_mm_tudo = mm_tudo.inverse_transform(inv_bc_tudo)"
      ],
      "execution_count": null,
      "outputs": []
    },
    {
      "cell_type": "code",
      "metadata": {
        "id": "52AjDaZR6LfQ"
      },
      "source": [
        "df_invertido = pd.DataFrame(data=inv_mm_tudo, columns=df.columns.values)"
      ],
      "execution_count": null,
      "outputs": []
    },
    {
      "cell_type": "code",
      "metadata": {
        "id": "an_4GTMD6ejI",
        "outputId": "f2619b27-a539-49b9-bb78-767155b470c2",
        "colab": {
          "base_uri": "https://localhost:8080/",
          "height": 419
        }
      },
      "source": [
        "df_invertido"
      ],
      "execution_count": null,
      "outputs": [
        {
          "output_type": "execute_result",
          "data": {
            "text/html": [
              "<div>\n",
              "<style scoped>\n",
              "    .dataframe tbody tr th:only-of-type {\n",
              "        vertical-align: middle;\n",
              "    }\n",
              "\n",
              "    .dataframe tbody tr th {\n",
              "        vertical-align: top;\n",
              "    }\n",
              "\n",
              "    .dataframe thead th {\n",
              "        text-align: right;\n",
              "    }\n",
              "</style>\n",
              "<table border=\"1\" class=\"dataframe\">\n",
              "  <thead>\n",
              "    <tr style=\"text-align: right;\">\n",
              "      <th></th>\n",
              "      <th>longitude</th>\n",
              "      <th>latitude</th>\n",
              "      <th>housing_median_age</th>\n",
              "      <th>total_rooms</th>\n",
              "      <th>total_bedrooms</th>\n",
              "      <th>population</th>\n",
              "      <th>households</th>\n",
              "      <th>median_income</th>\n",
              "      <th>median_house_value</th>\n",
              "      <th>total_bedrooms_ss</th>\n",
              "      <th>total_bedrooms_mm</th>\n",
              "      <th>total_bedrooms_rr</th>\n",
              "      <th>total_bedrooms_rs</th>\n",
              "      <th>total_bedrooms_bc</th>\n",
              "    </tr>\n",
              "  </thead>\n",
              "  <tbody>\n",
              "    <tr>\n",
              "      <th>0</th>\n",
              "      <td>-114.31</td>\n",
              "      <td>34.19</td>\n",
              "      <td>15.0</td>\n",
              "      <td>5612.0</td>\n",
              "      <td>1283.0</td>\n",
              "      <td>1015.0</td>\n",
              "      <td>472.0</td>\n",
              "      <td>1.4936</td>\n",
              "      <td>66900.0</td>\n",
              "      <td>1.764204</td>\n",
              "      <td>0.198945</td>\n",
              "      <td>2.417082</td>\n",
              "      <td>2.417082</td>\n",
              "      <td>1.696275</td>\n",
              "    </tr>\n",
              "    <tr>\n",
              "      <th>1</th>\n",
              "      <td>-114.47</td>\n",
              "      <td>34.40</td>\n",
              "      <td>19.0</td>\n",
              "      <td>7650.0</td>\n",
              "      <td>1901.0</td>\n",
              "      <td>1129.0</td>\n",
              "      <td>463.0</td>\n",
              "      <td>1.8200</td>\n",
              "      <td>80100.0</td>\n",
              "      <td>3.230441</td>\n",
              "      <td>0.294848</td>\n",
              "      <td>4.176512</td>\n",
              "      <td>4.176512</td>\n",
              "      <td>2.437964</td>\n",
              "    </tr>\n",
              "    <tr>\n",
              "      <th>2</th>\n",
              "      <td>-114.56</td>\n",
              "      <td>33.69</td>\n",
              "      <td>17.0</td>\n",
              "      <td>720.0</td>\n",
              "      <td>174.0</td>\n",
              "      <td>333.0</td>\n",
              "      <td>117.0</td>\n",
              "      <td>1.6509</td>\n",
              "      <td>85700.0</td>\n",
              "      <td>-0.866956</td>\n",
              "      <td>0.026847</td>\n",
              "      <td>-0.740214</td>\n",
              "      <td>-0.740214</td>\n",
              "      <td>-1.241779</td>\n",
              "    </tr>\n",
              "    <tr>\n",
              "      <th>3</th>\n",
              "      <td>-114.57</td>\n",
              "      <td>33.64</td>\n",
              "      <td>14.0</td>\n",
              "      <td>1501.0</td>\n",
              "      <td>337.0</td>\n",
              "      <td>515.0</td>\n",
              "      <td>226.0</td>\n",
              "      <td>3.1917</td>\n",
              "      <td>73400.0</td>\n",
              "      <td>-0.480230</td>\n",
              "      <td>0.052142</td>\n",
              "      <td>-0.276157</td>\n",
              "      <td>-0.276157</td>\n",
              "      <td>-0.405203</td>\n",
              "    </tr>\n",
              "    <tr>\n",
              "      <th>4</th>\n",
              "      <td>-114.57</td>\n",
              "      <td>33.57</td>\n",
              "      <td>20.0</td>\n",
              "      <td>1454.0</td>\n",
              "      <td>326.0</td>\n",
              "      <td>624.0</td>\n",
              "      <td>262.0</td>\n",
              "      <td>1.9250</td>\n",
              "      <td>65500.0</td>\n",
              "      <td>-0.506328</td>\n",
              "      <td>0.050435</td>\n",
              "      <td>-0.307473</td>\n",
              "      <td>-0.307473</td>\n",
              "      <td>-0.450088</td>\n",
              "    </tr>\n",
              "    <tr>\n",
              "      <th>...</th>\n",
              "      <td>...</td>\n",
              "      <td>...</td>\n",
              "      <td>...</td>\n",
              "      <td>...</td>\n",
              "      <td>...</td>\n",
              "      <td>...</td>\n",
              "      <td>...</td>\n",
              "      <td>...</td>\n",
              "      <td>...</td>\n",
              "      <td>...</td>\n",
              "      <td>...</td>\n",
              "      <td>...</td>\n",
              "      <td>...</td>\n",
              "      <td>...</td>\n",
              "    </tr>\n",
              "    <tr>\n",
              "      <th>16995</th>\n",
              "      <td>-124.26</td>\n",
              "      <td>40.58</td>\n",
              "      <td>52.0</td>\n",
              "      <td>2217.0</td>\n",
              "      <td>394.0</td>\n",
              "      <td>907.0</td>\n",
              "      <td>369.0</td>\n",
              "      <td>2.3571</td>\n",
              "      <td>111400.0</td>\n",
              "      <td>-0.344995</td>\n",
              "      <td>0.060987</td>\n",
              "      <td>-0.113879</td>\n",
              "      <td>-0.113879</td>\n",
              "      <td>-0.189494</td>\n",
              "    </tr>\n",
              "    <tr>\n",
              "      <th>16996</th>\n",
              "      <td>-124.27</td>\n",
              "      <td>40.69</td>\n",
              "      <td>36.0</td>\n",
              "      <td>2349.0</td>\n",
              "      <td>528.0</td>\n",
              "      <td>1194.0</td>\n",
              "      <td>465.0</td>\n",
              "      <td>2.5179</td>\n",
              "      <td>79000.0</td>\n",
              "      <td>-0.027073</td>\n",
              "      <td>0.081782</td>\n",
              "      <td>0.267616</td>\n",
              "      <td>0.267616</td>\n",
              "      <td>0.234584</td>\n",
              "    </tr>\n",
              "    <tr>\n",
              "      <th>16997</th>\n",
              "      <td>-124.30</td>\n",
              "      <td>41.84</td>\n",
              "      <td>17.0</td>\n",
              "      <td>2677.0</td>\n",
              "      <td>531.0</td>\n",
              "      <td>1244.0</td>\n",
              "      <td>456.0</td>\n",
              "      <td>3.0313</td>\n",
              "      <td>103600.0</td>\n",
              "      <td>-0.019955</td>\n",
              "      <td>0.082247</td>\n",
              "      <td>0.276157</td>\n",
              "      <td>0.276157</td>\n",
              "      <td>0.243057</td>\n",
              "    </tr>\n",
              "    <tr>\n",
              "      <th>16998</th>\n",
              "      <td>-124.30</td>\n",
              "      <td>41.80</td>\n",
              "      <td>19.0</td>\n",
              "      <td>2672.0</td>\n",
              "      <td>552.0</td>\n",
              "      <td>1298.0</td>\n",
              "      <td>478.0</td>\n",
              "      <td>1.9797</td>\n",
              "      <td>85800.0</td>\n",
              "      <td>0.029868</td>\n",
              "      <td>0.085506</td>\n",
              "      <td>0.335943</td>\n",
              "      <td>0.335943</td>\n",
              "      <td>0.301337</td>\n",
              "    </tr>\n",
              "    <tr>\n",
              "      <th>16999</th>\n",
              "      <td>-124.35</td>\n",
              "      <td>40.54</td>\n",
              "      <td>52.0</td>\n",
              "      <td>1820.0</td>\n",
              "      <td>300.0</td>\n",
              "      <td>806.0</td>\n",
              "      <td>270.0</td>\n",
              "      <td>3.0147</td>\n",
              "      <td>94600.0</td>\n",
              "      <td>-0.568015</td>\n",
              "      <td>0.046400</td>\n",
              "      <td>-0.381495</td>\n",
              "      <td>-0.381495</td>\n",
              "      <td>-0.561114</td>\n",
              "    </tr>\n",
              "  </tbody>\n",
              "</table>\n",
              "<p>17000 rows × 14 columns</p>\n",
              "</div>"
            ],
            "text/plain": [
              "       longitude  latitude  ...  total_bedrooms_rs  total_bedrooms_bc\n",
              "0        -114.31     34.19  ...           2.417082           1.696275\n",
              "1        -114.47     34.40  ...           4.176512           2.437964\n",
              "2        -114.56     33.69  ...          -0.740214          -1.241779\n",
              "3        -114.57     33.64  ...          -0.276157          -0.405203\n",
              "4        -114.57     33.57  ...          -0.307473          -0.450088\n",
              "...          ...       ...  ...                ...                ...\n",
              "16995    -124.26     40.58  ...          -0.113879          -0.189494\n",
              "16996    -124.27     40.69  ...           0.267616           0.234584\n",
              "16997    -124.30     41.84  ...           0.276157           0.243057\n",
              "16998    -124.30     41.80  ...           0.335943           0.301337\n",
              "16999    -124.35     40.54  ...          -0.381495          -0.561114\n",
              "\n",
              "[17000 rows x 14 columns]"
            ]
          },
          "metadata": {
            "tags": []
          },
          "execution_count": 35
        }
      ]
    },
    {
      "cell_type": "code",
      "metadata": {
        "id": "e2q7AkZD6n2R"
      },
      "source": [
        "df_treino = df[:10000]\n",
        "df_teste = df[10001:]"
      ],
      "execution_count": null,
      "outputs": []
    },
    {
      "cell_type": "code",
      "metadata": {
        "id": "8gLhMcnp7lvA"
      },
      "source": [
        "mm = MinMaxScaler(feature_range=(0.00001,1.0))\n",
        "bc = PowerTransformer(method='box-cox')\n",
        "\n",
        "mm.fit(df_treino)\n",
        "df_treino_mm = mm.transform(df_treino)\n",
        "\n",
        "bc.fit(df_treino_mm)\n",
        "df_treino_mm_bc = bc.transform(df_treino_mm)\n"
      ],
      "execution_count": null,
      "outputs": []
    },
    {
      "cell_type": "code",
      "metadata": {
        "id": "nV2SOb7J7uJv"
      },
      "source": [
        "df_teste_mm = mm.transform(df_teste)\n",
        "df_teste_mm = pd.DataFrame(data=df_teste_mm, columns=df.columns.values)\n",
        "df_teste_mm[df_teste_mm <= 0] = 0.0001\n",
        "df_teste_mm_bc = mm.transform(df_teste_mm)"
      ],
      "execution_count": null,
      "outputs": []
    },
    {
      "cell_type": "code",
      "metadata": {
        "id": "jZadlTHg-V90"
      },
      "source": [
        "df_titanic = pd.read_csv('http://www.ppgia.pucpr.br/~jean.barddal/datascience/titanic.csv')\n"
      ],
      "execution_count": null,
      "outputs": []
    },
    {
      "cell_type": "code",
      "metadata": {
        "id": "HRJIaMJdIUkB",
        "outputId": "4fb62615-8174-44e5-ba6d-830e71160d78",
        "colab": {
          "base_uri": "https://localhost:8080/",
          "height": 419
        }
      },
      "source": [
        "df_titanic"
      ],
      "execution_count": null,
      "outputs": [
        {
          "output_type": "execute_result",
          "data": {
            "text/html": [
              "<div>\n",
              "<style scoped>\n",
              "    .dataframe tbody tr th:only-of-type {\n",
              "        vertical-align: middle;\n",
              "    }\n",
              "\n",
              "    .dataframe tbody tr th {\n",
              "        vertical-align: top;\n",
              "    }\n",
              "\n",
              "    .dataframe thead th {\n",
              "        text-align: right;\n",
              "    }\n",
              "</style>\n",
              "<table border=\"1\" class=\"dataframe\">\n",
              "  <thead>\n",
              "    <tr style=\"text-align: right;\">\n",
              "      <th></th>\n",
              "      <th>PassengerId</th>\n",
              "      <th>Survived</th>\n",
              "      <th>Pclass</th>\n",
              "      <th>Name</th>\n",
              "      <th>Sex</th>\n",
              "      <th>Age</th>\n",
              "      <th>SibSp</th>\n",
              "      <th>Parch</th>\n",
              "      <th>Ticket</th>\n",
              "      <th>Fare</th>\n",
              "      <th>Cabin</th>\n",
              "      <th>Embarked</th>\n",
              "    </tr>\n",
              "  </thead>\n",
              "  <tbody>\n",
              "    <tr>\n",
              "      <th>0</th>\n",
              "      <td>1</td>\n",
              "      <td>0</td>\n",
              "      <td>3</td>\n",
              "      <td>Braund, Mr. Owen Harris</td>\n",
              "      <td>male</td>\n",
              "      <td>22.0</td>\n",
              "      <td>1</td>\n",
              "      <td>0</td>\n",
              "      <td>A/5 21171</td>\n",
              "      <td>7.2500</td>\n",
              "      <td>NaN</td>\n",
              "      <td>S</td>\n",
              "    </tr>\n",
              "    <tr>\n",
              "      <th>1</th>\n",
              "      <td>2</td>\n",
              "      <td>1</td>\n",
              "      <td>1</td>\n",
              "      <td>Cumings, Mrs. John Bradley (Florence Briggs Th...</td>\n",
              "      <td>female</td>\n",
              "      <td>38.0</td>\n",
              "      <td>1</td>\n",
              "      <td>0</td>\n",
              "      <td>PC 17599</td>\n",
              "      <td>71.2833</td>\n",
              "      <td>C85</td>\n",
              "      <td>C</td>\n",
              "    </tr>\n",
              "    <tr>\n",
              "      <th>2</th>\n",
              "      <td>3</td>\n",
              "      <td>1</td>\n",
              "      <td>3</td>\n",
              "      <td>Heikkinen, Miss. Laina</td>\n",
              "      <td>female</td>\n",
              "      <td>26.0</td>\n",
              "      <td>0</td>\n",
              "      <td>0</td>\n",
              "      <td>STON/O2. 3101282</td>\n",
              "      <td>7.9250</td>\n",
              "      <td>NaN</td>\n",
              "      <td>S</td>\n",
              "    </tr>\n",
              "    <tr>\n",
              "      <th>3</th>\n",
              "      <td>4</td>\n",
              "      <td>1</td>\n",
              "      <td>1</td>\n",
              "      <td>Futrelle, Mrs. Jacques Heath (Lily May Peel)</td>\n",
              "      <td>female</td>\n",
              "      <td>35.0</td>\n",
              "      <td>1</td>\n",
              "      <td>0</td>\n",
              "      <td>113803</td>\n",
              "      <td>53.1000</td>\n",
              "      <td>C123</td>\n",
              "      <td>S</td>\n",
              "    </tr>\n",
              "    <tr>\n",
              "      <th>4</th>\n",
              "      <td>5</td>\n",
              "      <td>0</td>\n",
              "      <td>3</td>\n",
              "      <td>Allen, Mr. William Henry</td>\n",
              "      <td>male</td>\n",
              "      <td>35.0</td>\n",
              "      <td>0</td>\n",
              "      <td>0</td>\n",
              "      <td>373450</td>\n",
              "      <td>8.0500</td>\n",
              "      <td>NaN</td>\n",
              "      <td>S</td>\n",
              "    </tr>\n",
              "    <tr>\n",
              "      <th>...</th>\n",
              "      <td>...</td>\n",
              "      <td>...</td>\n",
              "      <td>...</td>\n",
              "      <td>...</td>\n",
              "      <td>...</td>\n",
              "      <td>...</td>\n",
              "      <td>...</td>\n",
              "      <td>...</td>\n",
              "      <td>...</td>\n",
              "      <td>...</td>\n",
              "      <td>...</td>\n",
              "      <td>...</td>\n",
              "    </tr>\n",
              "    <tr>\n",
              "      <th>886</th>\n",
              "      <td>887</td>\n",
              "      <td>0</td>\n",
              "      <td>2</td>\n",
              "      <td>Montvila, Rev. Juozas</td>\n",
              "      <td>male</td>\n",
              "      <td>27.0</td>\n",
              "      <td>0</td>\n",
              "      <td>0</td>\n",
              "      <td>211536</td>\n",
              "      <td>13.0000</td>\n",
              "      <td>NaN</td>\n",
              "      <td>S</td>\n",
              "    </tr>\n",
              "    <tr>\n",
              "      <th>887</th>\n",
              "      <td>888</td>\n",
              "      <td>1</td>\n",
              "      <td>1</td>\n",
              "      <td>Graham, Miss. Margaret Edith</td>\n",
              "      <td>female</td>\n",
              "      <td>19.0</td>\n",
              "      <td>0</td>\n",
              "      <td>0</td>\n",
              "      <td>112053</td>\n",
              "      <td>30.0000</td>\n",
              "      <td>B42</td>\n",
              "      <td>S</td>\n",
              "    </tr>\n",
              "    <tr>\n",
              "      <th>888</th>\n",
              "      <td>889</td>\n",
              "      <td>0</td>\n",
              "      <td>3</td>\n",
              "      <td>Johnston, Miss. Catherine Helen \"Carrie\"</td>\n",
              "      <td>female</td>\n",
              "      <td>NaN</td>\n",
              "      <td>1</td>\n",
              "      <td>2</td>\n",
              "      <td>W./C. 6607</td>\n",
              "      <td>23.4500</td>\n",
              "      <td>NaN</td>\n",
              "      <td>S</td>\n",
              "    </tr>\n",
              "    <tr>\n",
              "      <th>889</th>\n",
              "      <td>890</td>\n",
              "      <td>1</td>\n",
              "      <td>1</td>\n",
              "      <td>Behr, Mr. Karl Howell</td>\n",
              "      <td>male</td>\n",
              "      <td>26.0</td>\n",
              "      <td>0</td>\n",
              "      <td>0</td>\n",
              "      <td>111369</td>\n",
              "      <td>30.0000</td>\n",
              "      <td>C148</td>\n",
              "      <td>C</td>\n",
              "    </tr>\n",
              "    <tr>\n",
              "      <th>890</th>\n",
              "      <td>891</td>\n",
              "      <td>0</td>\n",
              "      <td>3</td>\n",
              "      <td>Dooley, Mr. Patrick</td>\n",
              "      <td>male</td>\n",
              "      <td>32.0</td>\n",
              "      <td>0</td>\n",
              "      <td>0</td>\n",
              "      <td>370376</td>\n",
              "      <td>7.7500</td>\n",
              "      <td>NaN</td>\n",
              "      <td>Q</td>\n",
              "    </tr>\n",
              "  </tbody>\n",
              "</table>\n",
              "<p>891 rows × 12 columns</p>\n",
              "</div>"
            ],
            "text/plain": [
              "     PassengerId  Survived  Pclass  ...     Fare Cabin  Embarked\n",
              "0              1         0       3  ...   7.2500   NaN         S\n",
              "1              2         1       1  ...  71.2833   C85         C\n",
              "2              3         1       3  ...   7.9250   NaN         S\n",
              "3              4         1       1  ...  53.1000  C123         S\n",
              "4              5         0       3  ...   8.0500   NaN         S\n",
              "..           ...       ...     ...  ...      ...   ...       ...\n",
              "886          887         0       2  ...  13.0000   NaN         S\n",
              "887          888         1       1  ...  30.0000   B42         S\n",
              "888          889         0       3  ...  23.4500   NaN         S\n",
              "889          890         1       1  ...  30.0000  C148         C\n",
              "890          891         0       3  ...   7.7500   NaN         Q\n",
              "\n",
              "[891 rows x 12 columns]"
            ]
          },
          "metadata": {
            "tags": []
          },
          "execution_count": 43
        }
      ]
    },
    {
      "cell_type": "code",
      "metadata": {
        "id": "HViDHb1HkUab",
        "outputId": "24f22d84-073b-4f25-a860-d18c15d0851d",
        "colab": {
          "base_uri": "https://localhost:8080/",
          "height": 238
        }
      },
      "source": [
        "df_titanic.isnull().sum()"
      ],
      "execution_count": null,
      "outputs": [
        {
          "output_type": "execute_result",
          "data": {
            "text/plain": [
              "PassengerId      0\n",
              "Survived         0\n",
              "Pclass           0\n",
              "Name             0\n",
              "Sex              0\n",
              "Age            177\n",
              "SibSp            0\n",
              "Parch            0\n",
              "Ticket           0\n",
              "Fare             0\n",
              "Cabin          687\n",
              "Embarked         2\n",
              "dtype: int64"
            ]
          },
          "metadata": {
            "tags": []
          },
          "execution_count": 46
        }
      ]
    },
    {
      "cell_type": "code",
      "metadata": {
        "id": "i0Nfn35UkRxO",
        "outputId": "1ddd9dbb-9349-44b9-abde-2431a00eec99",
        "colab": {
          "base_uri": "https://localhost:8080/",
          "height": 221
        }
      },
      "source": [
        "df_titanic.isnull().sum(axis=1)"
      ],
      "execution_count": null,
      "outputs": [
        {
          "output_type": "execute_result",
          "data": {
            "text/plain": [
              "0      1\n",
              "1      0\n",
              "2      1\n",
              "3      0\n",
              "4      1\n",
              "      ..\n",
              "886    1\n",
              "887    0\n",
              "888    2\n",
              "889    0\n",
              "890    1\n",
              "Length: 891, dtype: int64"
            ]
          },
          "metadata": {
            "tags": []
          },
          "execution_count": 45
        }
      ]
    },
    {
      "cell_type": "code",
      "metadata": {
        "id": "236wAv9NIWEz",
        "outputId": "a71d36e7-e212-4aa2-df5d-250c4de7e3ca",
        "colab": {
          "base_uri": "https://localhost:8080/",
          "height": 170
        }
      },
      "source": [
        "media = df_titanic['Age'].mean()\n",
        "df_titanic['Age_media'] = df_titanic['Age'].fillna(media)\n",
        "\n",
        "df_titanic['Age_media'].describe()"
      ],
      "execution_count": null,
      "outputs": [
        {
          "output_type": "execute_result",
          "data": {
            "text/plain": [
              "count    891.000000\n",
              "mean      29.699118\n",
              "std       13.002015\n",
              "min        0.420000\n",
              "25%       22.000000\n",
              "50%       29.699118\n",
              "75%       35.000000\n",
              "max       80.000000\n",
              "Name: Age_media, dtype: float64"
            ]
          },
          "metadata": {
            "tags": []
          },
          "execution_count": 47
        }
      ]
    }
  ]
}